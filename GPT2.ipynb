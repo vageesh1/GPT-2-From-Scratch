{
  "nbformat": 4,
  "nbformat_minor": 0,
  "metadata": {
    "colab": {
      "provenance": [],
      "toc_visible": true,
      "gpuType": "T4"
    },
    "kernelspec": {
      "name": "python3",
      "display_name": "Python 3"
    },
    "language_info": {
      "name": "python"
    },
    "widgets": {
      "application/vnd.jupyter.widget-state+json": {
        "087cd54676ed4b02af3234a80d30d820": {
          "model_module": "@jupyter-widgets/controls",
          "model_name": "HBoxModel",
          "model_module_version": "1.5.0",
          "state": {
            "_dom_classes": [],
            "_model_module": "@jupyter-widgets/controls",
            "_model_module_version": "1.5.0",
            "_model_name": "HBoxModel",
            "_view_count": null,
            "_view_module": "@jupyter-widgets/controls",
            "_view_module_version": "1.5.0",
            "_view_name": "HBoxView",
            "box_style": "",
            "children": [
              "IPY_MODEL_ae394a0764be455e9646a443263be335",
              "IPY_MODEL_476642d09e53403ca5ab783f403fd5ef",
              "IPY_MODEL_c93a9504a6ce45958fddc01d1192e5c5"
            ],
            "layout": "IPY_MODEL_94eba0bf09dd46a0bddfeb5499f650b5"
          }
        },
        "ae394a0764be455e9646a443263be335": {
          "model_module": "@jupyter-widgets/controls",
          "model_name": "HTMLModel",
          "model_module_version": "1.5.0",
          "state": {
            "_dom_classes": [],
            "_model_module": "@jupyter-widgets/controls",
            "_model_module_version": "1.5.0",
            "_model_name": "HTMLModel",
            "_view_count": null,
            "_view_module": "@jupyter-widgets/controls",
            "_view_module_version": "1.5.0",
            "_view_name": "HTMLView",
            "description": "",
            "description_tooltip": null,
            "layout": "IPY_MODEL_ec424304d0d7473ca75990733e2182cd",
            "placeholder": "​",
            "style": "IPY_MODEL_d38d767dbb8e47ce95162639e4755135",
            "value": "vocab.json: 100%"
          }
        },
        "476642d09e53403ca5ab783f403fd5ef": {
          "model_module": "@jupyter-widgets/controls",
          "model_name": "FloatProgressModel",
          "model_module_version": "1.5.0",
          "state": {
            "_dom_classes": [],
            "_model_module": "@jupyter-widgets/controls",
            "_model_module_version": "1.5.0",
            "_model_name": "FloatProgressModel",
            "_view_count": null,
            "_view_module": "@jupyter-widgets/controls",
            "_view_module_version": "1.5.0",
            "_view_name": "ProgressView",
            "bar_style": "success",
            "description": "",
            "description_tooltip": null,
            "layout": "IPY_MODEL_b872a5b9ba6241de88ae4fede8d8781c",
            "max": 1042301,
            "min": 0,
            "orientation": "horizontal",
            "style": "IPY_MODEL_ec24c4224dc343a696f4928f1bc97f19",
            "value": 1042301
          }
        },
        "c93a9504a6ce45958fddc01d1192e5c5": {
          "model_module": "@jupyter-widgets/controls",
          "model_name": "HTMLModel",
          "model_module_version": "1.5.0",
          "state": {
            "_dom_classes": [],
            "_model_module": "@jupyter-widgets/controls",
            "_model_module_version": "1.5.0",
            "_model_name": "HTMLModel",
            "_view_count": null,
            "_view_module": "@jupyter-widgets/controls",
            "_view_module_version": "1.5.0",
            "_view_name": "HTMLView",
            "description": "",
            "description_tooltip": null,
            "layout": "IPY_MODEL_222b4fb5f72f4f75b8c7d94875cb711e",
            "placeholder": "​",
            "style": "IPY_MODEL_30b4eefadfe242b98085c3bbd5ed31ca",
            "value": " 1.04M/1.04M [00:00&lt;00:00, 5.25MB/s]"
          }
        },
        "94eba0bf09dd46a0bddfeb5499f650b5": {
          "model_module": "@jupyter-widgets/base",
          "model_name": "LayoutModel",
          "model_module_version": "1.2.0",
          "state": {
            "_model_module": "@jupyter-widgets/base",
            "_model_module_version": "1.2.0",
            "_model_name": "LayoutModel",
            "_view_count": null,
            "_view_module": "@jupyter-widgets/base",
            "_view_module_version": "1.2.0",
            "_view_name": "LayoutView",
            "align_content": null,
            "align_items": null,
            "align_self": null,
            "border": null,
            "bottom": null,
            "display": null,
            "flex": null,
            "flex_flow": null,
            "grid_area": null,
            "grid_auto_columns": null,
            "grid_auto_flow": null,
            "grid_auto_rows": null,
            "grid_column": null,
            "grid_gap": null,
            "grid_row": null,
            "grid_template_areas": null,
            "grid_template_columns": null,
            "grid_template_rows": null,
            "height": null,
            "justify_content": null,
            "justify_items": null,
            "left": null,
            "margin": null,
            "max_height": null,
            "max_width": null,
            "min_height": null,
            "min_width": null,
            "object_fit": null,
            "object_position": null,
            "order": null,
            "overflow": null,
            "overflow_x": null,
            "overflow_y": null,
            "padding": null,
            "right": null,
            "top": null,
            "visibility": null,
            "width": null
          }
        },
        "ec424304d0d7473ca75990733e2182cd": {
          "model_module": "@jupyter-widgets/base",
          "model_name": "LayoutModel",
          "model_module_version": "1.2.0",
          "state": {
            "_model_module": "@jupyter-widgets/base",
            "_model_module_version": "1.2.0",
            "_model_name": "LayoutModel",
            "_view_count": null,
            "_view_module": "@jupyter-widgets/base",
            "_view_module_version": "1.2.0",
            "_view_name": "LayoutView",
            "align_content": null,
            "align_items": null,
            "align_self": null,
            "border": null,
            "bottom": null,
            "display": null,
            "flex": null,
            "flex_flow": null,
            "grid_area": null,
            "grid_auto_columns": null,
            "grid_auto_flow": null,
            "grid_auto_rows": null,
            "grid_column": null,
            "grid_gap": null,
            "grid_row": null,
            "grid_template_areas": null,
            "grid_template_columns": null,
            "grid_template_rows": null,
            "height": null,
            "justify_content": null,
            "justify_items": null,
            "left": null,
            "margin": null,
            "max_height": null,
            "max_width": null,
            "min_height": null,
            "min_width": null,
            "object_fit": null,
            "object_position": null,
            "order": null,
            "overflow": null,
            "overflow_x": null,
            "overflow_y": null,
            "padding": null,
            "right": null,
            "top": null,
            "visibility": null,
            "width": null
          }
        },
        "d38d767dbb8e47ce95162639e4755135": {
          "model_module": "@jupyter-widgets/controls",
          "model_name": "DescriptionStyleModel",
          "model_module_version": "1.5.0",
          "state": {
            "_model_module": "@jupyter-widgets/controls",
            "_model_module_version": "1.5.0",
            "_model_name": "DescriptionStyleModel",
            "_view_count": null,
            "_view_module": "@jupyter-widgets/base",
            "_view_module_version": "1.2.0",
            "_view_name": "StyleView",
            "description_width": ""
          }
        },
        "b872a5b9ba6241de88ae4fede8d8781c": {
          "model_module": "@jupyter-widgets/base",
          "model_name": "LayoutModel",
          "model_module_version": "1.2.0",
          "state": {
            "_model_module": "@jupyter-widgets/base",
            "_model_module_version": "1.2.0",
            "_model_name": "LayoutModel",
            "_view_count": null,
            "_view_module": "@jupyter-widgets/base",
            "_view_module_version": "1.2.0",
            "_view_name": "LayoutView",
            "align_content": null,
            "align_items": null,
            "align_self": null,
            "border": null,
            "bottom": null,
            "display": null,
            "flex": null,
            "flex_flow": null,
            "grid_area": null,
            "grid_auto_columns": null,
            "grid_auto_flow": null,
            "grid_auto_rows": null,
            "grid_column": null,
            "grid_gap": null,
            "grid_row": null,
            "grid_template_areas": null,
            "grid_template_columns": null,
            "grid_template_rows": null,
            "height": null,
            "justify_content": null,
            "justify_items": null,
            "left": null,
            "margin": null,
            "max_height": null,
            "max_width": null,
            "min_height": null,
            "min_width": null,
            "object_fit": null,
            "object_position": null,
            "order": null,
            "overflow": null,
            "overflow_x": null,
            "overflow_y": null,
            "padding": null,
            "right": null,
            "top": null,
            "visibility": null,
            "width": null
          }
        },
        "ec24c4224dc343a696f4928f1bc97f19": {
          "model_module": "@jupyter-widgets/controls",
          "model_name": "ProgressStyleModel",
          "model_module_version": "1.5.0",
          "state": {
            "_model_module": "@jupyter-widgets/controls",
            "_model_module_version": "1.5.0",
            "_model_name": "ProgressStyleModel",
            "_view_count": null,
            "_view_module": "@jupyter-widgets/base",
            "_view_module_version": "1.2.0",
            "_view_name": "StyleView",
            "bar_color": null,
            "description_width": ""
          }
        },
        "222b4fb5f72f4f75b8c7d94875cb711e": {
          "model_module": "@jupyter-widgets/base",
          "model_name": "LayoutModel",
          "model_module_version": "1.2.0",
          "state": {
            "_model_module": "@jupyter-widgets/base",
            "_model_module_version": "1.2.0",
            "_model_name": "LayoutModel",
            "_view_count": null,
            "_view_module": "@jupyter-widgets/base",
            "_view_module_version": "1.2.0",
            "_view_name": "LayoutView",
            "align_content": null,
            "align_items": null,
            "align_self": null,
            "border": null,
            "bottom": null,
            "display": null,
            "flex": null,
            "flex_flow": null,
            "grid_area": null,
            "grid_auto_columns": null,
            "grid_auto_flow": null,
            "grid_auto_rows": null,
            "grid_column": null,
            "grid_gap": null,
            "grid_row": null,
            "grid_template_areas": null,
            "grid_template_columns": null,
            "grid_template_rows": null,
            "height": null,
            "justify_content": null,
            "justify_items": null,
            "left": null,
            "margin": null,
            "max_height": null,
            "max_width": null,
            "min_height": null,
            "min_width": null,
            "object_fit": null,
            "object_position": null,
            "order": null,
            "overflow": null,
            "overflow_x": null,
            "overflow_y": null,
            "padding": null,
            "right": null,
            "top": null,
            "visibility": null,
            "width": null
          }
        },
        "30b4eefadfe242b98085c3bbd5ed31ca": {
          "model_module": "@jupyter-widgets/controls",
          "model_name": "DescriptionStyleModel",
          "model_module_version": "1.5.0",
          "state": {
            "_model_module": "@jupyter-widgets/controls",
            "_model_module_version": "1.5.0",
            "_model_name": "DescriptionStyleModel",
            "_view_count": null,
            "_view_module": "@jupyter-widgets/base",
            "_view_module_version": "1.2.0",
            "_view_name": "StyleView",
            "description_width": ""
          }
        },
        "22492ee55c0f45588409ce01b9ed53e6": {
          "model_module": "@jupyter-widgets/controls",
          "model_name": "HBoxModel",
          "model_module_version": "1.5.0",
          "state": {
            "_dom_classes": [],
            "_model_module": "@jupyter-widgets/controls",
            "_model_module_version": "1.5.0",
            "_model_name": "HBoxModel",
            "_view_count": null,
            "_view_module": "@jupyter-widgets/controls",
            "_view_module_version": "1.5.0",
            "_view_name": "HBoxView",
            "box_style": "",
            "children": [
              "IPY_MODEL_c7664e569d674af78af0a87ef949420e",
              "IPY_MODEL_aa02331f72274c3a864c834b217db458",
              "IPY_MODEL_dbcb8c3ffeb54c9f8878d1ea7882c61f"
            ],
            "layout": "IPY_MODEL_5807ea647a644f3d8cc7b7fb161993ec"
          }
        },
        "c7664e569d674af78af0a87ef949420e": {
          "model_module": "@jupyter-widgets/controls",
          "model_name": "HTMLModel",
          "model_module_version": "1.5.0",
          "state": {
            "_dom_classes": [],
            "_model_module": "@jupyter-widgets/controls",
            "_model_module_version": "1.5.0",
            "_model_name": "HTMLModel",
            "_view_count": null,
            "_view_module": "@jupyter-widgets/controls",
            "_view_module_version": "1.5.0",
            "_view_name": "HTMLView",
            "description": "",
            "description_tooltip": null,
            "layout": "IPY_MODEL_b0d912a8bbbb4b3086033b8fe5930534",
            "placeholder": "​",
            "style": "IPY_MODEL_2a19b91875d64951a99aaed00a6761d6",
            "value": "merges.txt: 100%"
          }
        },
        "aa02331f72274c3a864c834b217db458": {
          "model_module": "@jupyter-widgets/controls",
          "model_name": "FloatProgressModel",
          "model_module_version": "1.5.0",
          "state": {
            "_dom_classes": [],
            "_model_module": "@jupyter-widgets/controls",
            "_model_module_version": "1.5.0",
            "_model_name": "FloatProgressModel",
            "_view_count": null,
            "_view_module": "@jupyter-widgets/controls",
            "_view_module_version": "1.5.0",
            "_view_name": "ProgressView",
            "bar_style": "success",
            "description": "",
            "description_tooltip": null,
            "layout": "IPY_MODEL_7637bce874314a2db1038aae9c06f673",
            "max": 456318,
            "min": 0,
            "orientation": "horizontal",
            "style": "IPY_MODEL_0b58881ba89541a38d200eb7d7963643",
            "value": 456318
          }
        },
        "dbcb8c3ffeb54c9f8878d1ea7882c61f": {
          "model_module": "@jupyter-widgets/controls",
          "model_name": "HTMLModel",
          "model_module_version": "1.5.0",
          "state": {
            "_dom_classes": [],
            "_model_module": "@jupyter-widgets/controls",
            "_model_module_version": "1.5.0",
            "_model_name": "HTMLModel",
            "_view_count": null,
            "_view_module": "@jupyter-widgets/controls",
            "_view_module_version": "1.5.0",
            "_view_name": "HTMLView",
            "description": "",
            "description_tooltip": null,
            "layout": "IPY_MODEL_43856704d8c246449e1047cb90ed985b",
            "placeholder": "​",
            "style": "IPY_MODEL_9cb38ed7a3164f148d7d961c072a1704",
            "value": " 456k/456k [00:00&lt;00:00, 2.27MB/s]"
          }
        },
        "5807ea647a644f3d8cc7b7fb161993ec": {
          "model_module": "@jupyter-widgets/base",
          "model_name": "LayoutModel",
          "model_module_version": "1.2.0",
          "state": {
            "_model_module": "@jupyter-widgets/base",
            "_model_module_version": "1.2.0",
            "_model_name": "LayoutModel",
            "_view_count": null,
            "_view_module": "@jupyter-widgets/base",
            "_view_module_version": "1.2.0",
            "_view_name": "LayoutView",
            "align_content": null,
            "align_items": null,
            "align_self": null,
            "border": null,
            "bottom": null,
            "display": null,
            "flex": null,
            "flex_flow": null,
            "grid_area": null,
            "grid_auto_columns": null,
            "grid_auto_flow": null,
            "grid_auto_rows": null,
            "grid_column": null,
            "grid_gap": null,
            "grid_row": null,
            "grid_template_areas": null,
            "grid_template_columns": null,
            "grid_template_rows": null,
            "height": null,
            "justify_content": null,
            "justify_items": null,
            "left": null,
            "margin": null,
            "max_height": null,
            "max_width": null,
            "min_height": null,
            "min_width": null,
            "object_fit": null,
            "object_position": null,
            "order": null,
            "overflow": null,
            "overflow_x": null,
            "overflow_y": null,
            "padding": null,
            "right": null,
            "top": null,
            "visibility": null,
            "width": null
          }
        },
        "b0d912a8bbbb4b3086033b8fe5930534": {
          "model_module": "@jupyter-widgets/base",
          "model_name": "LayoutModel",
          "model_module_version": "1.2.0",
          "state": {
            "_model_module": "@jupyter-widgets/base",
            "_model_module_version": "1.2.0",
            "_model_name": "LayoutModel",
            "_view_count": null,
            "_view_module": "@jupyter-widgets/base",
            "_view_module_version": "1.2.0",
            "_view_name": "LayoutView",
            "align_content": null,
            "align_items": null,
            "align_self": null,
            "border": null,
            "bottom": null,
            "display": null,
            "flex": null,
            "flex_flow": null,
            "grid_area": null,
            "grid_auto_columns": null,
            "grid_auto_flow": null,
            "grid_auto_rows": null,
            "grid_column": null,
            "grid_gap": null,
            "grid_row": null,
            "grid_template_areas": null,
            "grid_template_columns": null,
            "grid_template_rows": null,
            "height": null,
            "justify_content": null,
            "justify_items": null,
            "left": null,
            "margin": null,
            "max_height": null,
            "max_width": null,
            "min_height": null,
            "min_width": null,
            "object_fit": null,
            "object_position": null,
            "order": null,
            "overflow": null,
            "overflow_x": null,
            "overflow_y": null,
            "padding": null,
            "right": null,
            "top": null,
            "visibility": null,
            "width": null
          }
        },
        "2a19b91875d64951a99aaed00a6761d6": {
          "model_module": "@jupyter-widgets/controls",
          "model_name": "DescriptionStyleModel",
          "model_module_version": "1.5.0",
          "state": {
            "_model_module": "@jupyter-widgets/controls",
            "_model_module_version": "1.5.0",
            "_model_name": "DescriptionStyleModel",
            "_view_count": null,
            "_view_module": "@jupyter-widgets/base",
            "_view_module_version": "1.2.0",
            "_view_name": "StyleView",
            "description_width": ""
          }
        },
        "7637bce874314a2db1038aae9c06f673": {
          "model_module": "@jupyter-widgets/base",
          "model_name": "LayoutModel",
          "model_module_version": "1.2.0",
          "state": {
            "_model_module": "@jupyter-widgets/base",
            "_model_module_version": "1.2.0",
            "_model_name": "LayoutModel",
            "_view_count": null,
            "_view_module": "@jupyter-widgets/base",
            "_view_module_version": "1.2.0",
            "_view_name": "LayoutView",
            "align_content": null,
            "align_items": null,
            "align_self": null,
            "border": null,
            "bottom": null,
            "display": null,
            "flex": null,
            "flex_flow": null,
            "grid_area": null,
            "grid_auto_columns": null,
            "grid_auto_flow": null,
            "grid_auto_rows": null,
            "grid_column": null,
            "grid_gap": null,
            "grid_row": null,
            "grid_template_areas": null,
            "grid_template_columns": null,
            "grid_template_rows": null,
            "height": null,
            "justify_content": null,
            "justify_items": null,
            "left": null,
            "margin": null,
            "max_height": null,
            "max_width": null,
            "min_height": null,
            "min_width": null,
            "object_fit": null,
            "object_position": null,
            "order": null,
            "overflow": null,
            "overflow_x": null,
            "overflow_y": null,
            "padding": null,
            "right": null,
            "top": null,
            "visibility": null,
            "width": null
          }
        },
        "0b58881ba89541a38d200eb7d7963643": {
          "model_module": "@jupyter-widgets/controls",
          "model_name": "ProgressStyleModel",
          "model_module_version": "1.5.0",
          "state": {
            "_model_module": "@jupyter-widgets/controls",
            "_model_module_version": "1.5.0",
            "_model_name": "ProgressStyleModel",
            "_view_count": null,
            "_view_module": "@jupyter-widgets/base",
            "_view_module_version": "1.2.0",
            "_view_name": "StyleView",
            "bar_color": null,
            "description_width": ""
          }
        },
        "43856704d8c246449e1047cb90ed985b": {
          "model_module": "@jupyter-widgets/base",
          "model_name": "LayoutModel",
          "model_module_version": "1.2.0",
          "state": {
            "_model_module": "@jupyter-widgets/base",
            "_model_module_version": "1.2.0",
            "_model_name": "LayoutModel",
            "_view_count": null,
            "_view_module": "@jupyter-widgets/base",
            "_view_module_version": "1.2.0",
            "_view_name": "LayoutView",
            "align_content": null,
            "align_items": null,
            "align_self": null,
            "border": null,
            "bottom": null,
            "display": null,
            "flex": null,
            "flex_flow": null,
            "grid_area": null,
            "grid_auto_columns": null,
            "grid_auto_flow": null,
            "grid_auto_rows": null,
            "grid_column": null,
            "grid_gap": null,
            "grid_row": null,
            "grid_template_areas": null,
            "grid_template_columns": null,
            "grid_template_rows": null,
            "height": null,
            "justify_content": null,
            "justify_items": null,
            "left": null,
            "margin": null,
            "max_height": null,
            "max_width": null,
            "min_height": null,
            "min_width": null,
            "object_fit": null,
            "object_position": null,
            "order": null,
            "overflow": null,
            "overflow_x": null,
            "overflow_y": null,
            "padding": null,
            "right": null,
            "top": null,
            "visibility": null,
            "width": null
          }
        },
        "9cb38ed7a3164f148d7d961c072a1704": {
          "model_module": "@jupyter-widgets/controls",
          "model_name": "DescriptionStyleModel",
          "model_module_version": "1.5.0",
          "state": {
            "_model_module": "@jupyter-widgets/controls",
            "_model_module_version": "1.5.0",
            "_model_name": "DescriptionStyleModel",
            "_view_count": null,
            "_view_module": "@jupyter-widgets/base",
            "_view_module_version": "1.2.0",
            "_view_name": "StyleView",
            "description_width": ""
          }
        },
        "6c529dad99da4c3d8ffc2328d0b433fc": {
          "model_module": "@jupyter-widgets/controls",
          "model_name": "HBoxModel",
          "model_module_version": "1.5.0",
          "state": {
            "_dom_classes": [],
            "_model_module": "@jupyter-widgets/controls",
            "_model_module_version": "1.5.0",
            "_model_name": "HBoxModel",
            "_view_count": null,
            "_view_module": "@jupyter-widgets/controls",
            "_view_module_version": "1.5.0",
            "_view_name": "HBoxView",
            "box_style": "",
            "children": [
              "IPY_MODEL_c32502bcec3340e682beb36385236f9b",
              "IPY_MODEL_f26e48572ff8484a9deec1f5e043d5ae",
              "IPY_MODEL_7d71bad039b84bb0b9564f570a78d6a5"
            ],
            "layout": "IPY_MODEL_718285e0ed3b480f83aad9ecf794aed4"
          }
        },
        "c32502bcec3340e682beb36385236f9b": {
          "model_module": "@jupyter-widgets/controls",
          "model_name": "HTMLModel",
          "model_module_version": "1.5.0",
          "state": {
            "_dom_classes": [],
            "_model_module": "@jupyter-widgets/controls",
            "_model_module_version": "1.5.0",
            "_model_name": "HTMLModel",
            "_view_count": null,
            "_view_module": "@jupyter-widgets/controls",
            "_view_module_version": "1.5.0",
            "_view_name": "HTMLView",
            "description": "",
            "description_tooltip": null,
            "layout": "IPY_MODEL_5db9b518f2e7427da063569e4fd6e5cc",
            "placeholder": "​",
            "style": "IPY_MODEL_127a5519003b44278c7f04307169e4c7",
            "value": "tokenizer.json: 100%"
          }
        },
        "f26e48572ff8484a9deec1f5e043d5ae": {
          "model_module": "@jupyter-widgets/controls",
          "model_name": "FloatProgressModel",
          "model_module_version": "1.5.0",
          "state": {
            "_dom_classes": [],
            "_model_module": "@jupyter-widgets/controls",
            "_model_module_version": "1.5.0",
            "_model_name": "FloatProgressModel",
            "_view_count": null,
            "_view_module": "@jupyter-widgets/controls",
            "_view_module_version": "1.5.0",
            "_view_name": "ProgressView",
            "bar_style": "success",
            "description": "",
            "description_tooltip": null,
            "layout": "IPY_MODEL_eaf1ed8ab2e247be944b3f9c0f140f80",
            "max": 1355256,
            "min": 0,
            "orientation": "horizontal",
            "style": "IPY_MODEL_af91489c3e9c4a5c9dae284ba005cd16",
            "value": 1355256
          }
        },
        "7d71bad039b84bb0b9564f570a78d6a5": {
          "model_module": "@jupyter-widgets/controls",
          "model_name": "HTMLModel",
          "model_module_version": "1.5.0",
          "state": {
            "_dom_classes": [],
            "_model_module": "@jupyter-widgets/controls",
            "_model_module_version": "1.5.0",
            "_model_name": "HTMLModel",
            "_view_count": null,
            "_view_module": "@jupyter-widgets/controls",
            "_view_module_version": "1.5.0",
            "_view_name": "HTMLView",
            "description": "",
            "description_tooltip": null,
            "layout": "IPY_MODEL_b73b3742037e4d7793d8a313b3cc0731",
            "placeholder": "​",
            "style": "IPY_MODEL_d7c350e3a07c40f783ce1eae1ab07244",
            "value": " 1.36M/1.36M [00:00&lt;00:00, 6.26MB/s]"
          }
        },
        "718285e0ed3b480f83aad9ecf794aed4": {
          "model_module": "@jupyter-widgets/base",
          "model_name": "LayoutModel",
          "model_module_version": "1.2.0",
          "state": {
            "_model_module": "@jupyter-widgets/base",
            "_model_module_version": "1.2.0",
            "_model_name": "LayoutModel",
            "_view_count": null,
            "_view_module": "@jupyter-widgets/base",
            "_view_module_version": "1.2.0",
            "_view_name": "LayoutView",
            "align_content": null,
            "align_items": null,
            "align_self": null,
            "border": null,
            "bottom": null,
            "display": null,
            "flex": null,
            "flex_flow": null,
            "grid_area": null,
            "grid_auto_columns": null,
            "grid_auto_flow": null,
            "grid_auto_rows": null,
            "grid_column": null,
            "grid_gap": null,
            "grid_row": null,
            "grid_template_areas": null,
            "grid_template_columns": null,
            "grid_template_rows": null,
            "height": null,
            "justify_content": null,
            "justify_items": null,
            "left": null,
            "margin": null,
            "max_height": null,
            "max_width": null,
            "min_height": null,
            "min_width": null,
            "object_fit": null,
            "object_position": null,
            "order": null,
            "overflow": null,
            "overflow_x": null,
            "overflow_y": null,
            "padding": null,
            "right": null,
            "top": null,
            "visibility": null,
            "width": null
          }
        },
        "5db9b518f2e7427da063569e4fd6e5cc": {
          "model_module": "@jupyter-widgets/base",
          "model_name": "LayoutModel",
          "model_module_version": "1.2.0",
          "state": {
            "_model_module": "@jupyter-widgets/base",
            "_model_module_version": "1.2.0",
            "_model_name": "LayoutModel",
            "_view_count": null,
            "_view_module": "@jupyter-widgets/base",
            "_view_module_version": "1.2.0",
            "_view_name": "LayoutView",
            "align_content": null,
            "align_items": null,
            "align_self": null,
            "border": null,
            "bottom": null,
            "display": null,
            "flex": null,
            "flex_flow": null,
            "grid_area": null,
            "grid_auto_columns": null,
            "grid_auto_flow": null,
            "grid_auto_rows": null,
            "grid_column": null,
            "grid_gap": null,
            "grid_row": null,
            "grid_template_areas": null,
            "grid_template_columns": null,
            "grid_template_rows": null,
            "height": null,
            "justify_content": null,
            "justify_items": null,
            "left": null,
            "margin": null,
            "max_height": null,
            "max_width": null,
            "min_height": null,
            "min_width": null,
            "object_fit": null,
            "object_position": null,
            "order": null,
            "overflow": null,
            "overflow_x": null,
            "overflow_y": null,
            "padding": null,
            "right": null,
            "top": null,
            "visibility": null,
            "width": null
          }
        },
        "127a5519003b44278c7f04307169e4c7": {
          "model_module": "@jupyter-widgets/controls",
          "model_name": "DescriptionStyleModel",
          "model_module_version": "1.5.0",
          "state": {
            "_model_module": "@jupyter-widgets/controls",
            "_model_module_version": "1.5.0",
            "_model_name": "DescriptionStyleModel",
            "_view_count": null,
            "_view_module": "@jupyter-widgets/base",
            "_view_module_version": "1.2.0",
            "_view_name": "StyleView",
            "description_width": ""
          }
        },
        "eaf1ed8ab2e247be944b3f9c0f140f80": {
          "model_module": "@jupyter-widgets/base",
          "model_name": "LayoutModel",
          "model_module_version": "1.2.0",
          "state": {
            "_model_module": "@jupyter-widgets/base",
            "_model_module_version": "1.2.0",
            "_model_name": "LayoutModel",
            "_view_count": null,
            "_view_module": "@jupyter-widgets/base",
            "_view_module_version": "1.2.0",
            "_view_name": "LayoutView",
            "align_content": null,
            "align_items": null,
            "align_self": null,
            "border": null,
            "bottom": null,
            "display": null,
            "flex": null,
            "flex_flow": null,
            "grid_area": null,
            "grid_auto_columns": null,
            "grid_auto_flow": null,
            "grid_auto_rows": null,
            "grid_column": null,
            "grid_gap": null,
            "grid_row": null,
            "grid_template_areas": null,
            "grid_template_columns": null,
            "grid_template_rows": null,
            "height": null,
            "justify_content": null,
            "justify_items": null,
            "left": null,
            "margin": null,
            "max_height": null,
            "max_width": null,
            "min_height": null,
            "min_width": null,
            "object_fit": null,
            "object_position": null,
            "order": null,
            "overflow": null,
            "overflow_x": null,
            "overflow_y": null,
            "padding": null,
            "right": null,
            "top": null,
            "visibility": null,
            "width": null
          }
        },
        "af91489c3e9c4a5c9dae284ba005cd16": {
          "model_module": "@jupyter-widgets/controls",
          "model_name": "ProgressStyleModel",
          "model_module_version": "1.5.0",
          "state": {
            "_model_module": "@jupyter-widgets/controls",
            "_model_module_version": "1.5.0",
            "_model_name": "ProgressStyleModel",
            "_view_count": null,
            "_view_module": "@jupyter-widgets/base",
            "_view_module_version": "1.2.0",
            "_view_name": "StyleView",
            "bar_color": null,
            "description_width": ""
          }
        },
        "b73b3742037e4d7793d8a313b3cc0731": {
          "model_module": "@jupyter-widgets/base",
          "model_name": "LayoutModel",
          "model_module_version": "1.2.0",
          "state": {
            "_model_module": "@jupyter-widgets/base",
            "_model_module_version": "1.2.0",
            "_model_name": "LayoutModel",
            "_view_count": null,
            "_view_module": "@jupyter-widgets/base",
            "_view_module_version": "1.2.0",
            "_view_name": "LayoutView",
            "align_content": null,
            "align_items": null,
            "align_self": null,
            "border": null,
            "bottom": null,
            "display": null,
            "flex": null,
            "flex_flow": null,
            "grid_area": null,
            "grid_auto_columns": null,
            "grid_auto_flow": null,
            "grid_auto_rows": null,
            "grid_column": null,
            "grid_gap": null,
            "grid_row": null,
            "grid_template_areas": null,
            "grid_template_columns": null,
            "grid_template_rows": null,
            "height": null,
            "justify_content": null,
            "justify_items": null,
            "left": null,
            "margin": null,
            "max_height": null,
            "max_width": null,
            "min_height": null,
            "min_width": null,
            "object_fit": null,
            "object_position": null,
            "order": null,
            "overflow": null,
            "overflow_x": null,
            "overflow_y": null,
            "padding": null,
            "right": null,
            "top": null,
            "visibility": null,
            "width": null
          }
        },
        "d7c350e3a07c40f783ce1eae1ab07244": {
          "model_module": "@jupyter-widgets/controls",
          "model_name": "DescriptionStyleModel",
          "model_module_version": "1.5.0",
          "state": {
            "_model_module": "@jupyter-widgets/controls",
            "_model_module_version": "1.5.0",
            "_model_name": "DescriptionStyleModel",
            "_view_count": null,
            "_view_module": "@jupyter-widgets/base",
            "_view_module_version": "1.2.0",
            "_view_name": "StyleView",
            "description_width": ""
          }
        },
        "9dc89f54ad0a496398ae8a5b5e88fdd7": {
          "model_module": "@jupyter-widgets/controls",
          "model_name": "HBoxModel",
          "model_module_version": "1.5.0",
          "state": {
            "_dom_classes": [],
            "_model_module": "@jupyter-widgets/controls",
            "_model_module_version": "1.5.0",
            "_model_name": "HBoxModel",
            "_view_count": null,
            "_view_module": "@jupyter-widgets/controls",
            "_view_module_version": "1.5.0",
            "_view_name": "HBoxView",
            "box_style": "",
            "children": [
              "IPY_MODEL_c1f4a2e6a5e64d579068acc71d6659c1",
              "IPY_MODEL_825572586d984859ac1e391537fc0eae",
              "IPY_MODEL_d88b7d25dab84ce4a56634f1694b5054"
            ],
            "layout": "IPY_MODEL_09743bfb25e04f578e684ec6aff85ee6"
          }
        },
        "c1f4a2e6a5e64d579068acc71d6659c1": {
          "model_module": "@jupyter-widgets/controls",
          "model_name": "HTMLModel",
          "model_module_version": "1.5.0",
          "state": {
            "_dom_classes": [],
            "_model_module": "@jupyter-widgets/controls",
            "_model_module_version": "1.5.0",
            "_model_name": "HTMLModel",
            "_view_count": null,
            "_view_module": "@jupyter-widgets/controls",
            "_view_module_version": "1.5.0",
            "_view_name": "HTMLView",
            "description": "",
            "description_tooltip": null,
            "layout": "IPY_MODEL_5220f0505f1445259260b7a6d39b5238",
            "placeholder": "​",
            "style": "IPY_MODEL_cb7c25109d9d42e3978a5a7322c1f0f5",
            "value": "config.json: 100%"
          }
        },
        "825572586d984859ac1e391537fc0eae": {
          "model_module": "@jupyter-widgets/controls",
          "model_name": "FloatProgressModel",
          "model_module_version": "1.5.0",
          "state": {
            "_dom_classes": [],
            "_model_module": "@jupyter-widgets/controls",
            "_model_module_version": "1.5.0",
            "_model_name": "FloatProgressModel",
            "_view_count": null,
            "_view_module": "@jupyter-widgets/controls",
            "_view_module_version": "1.5.0",
            "_view_name": "ProgressView",
            "bar_style": "success",
            "description": "",
            "description_tooltip": null,
            "layout": "IPY_MODEL_0a54c5fb62ce4aa9a1b4e8e64949126e",
            "max": 665,
            "min": 0,
            "orientation": "horizontal",
            "style": "IPY_MODEL_c45cbbfc8e4540b6a5eb05b969f450f0",
            "value": 665
          }
        },
        "d88b7d25dab84ce4a56634f1694b5054": {
          "model_module": "@jupyter-widgets/controls",
          "model_name": "HTMLModel",
          "model_module_version": "1.5.0",
          "state": {
            "_dom_classes": [],
            "_model_module": "@jupyter-widgets/controls",
            "_model_module_version": "1.5.0",
            "_model_name": "HTMLModel",
            "_view_count": null,
            "_view_module": "@jupyter-widgets/controls",
            "_view_module_version": "1.5.0",
            "_view_name": "HTMLView",
            "description": "",
            "description_tooltip": null,
            "layout": "IPY_MODEL_5750639d27134fb2b58ee28415803932",
            "placeholder": "​",
            "style": "IPY_MODEL_d0db9c221e674b398eac2e44ba156904",
            "value": " 665/665 [00:00&lt;00:00, 9.93kB/s]"
          }
        },
        "09743bfb25e04f578e684ec6aff85ee6": {
          "model_module": "@jupyter-widgets/base",
          "model_name": "LayoutModel",
          "model_module_version": "1.2.0",
          "state": {
            "_model_module": "@jupyter-widgets/base",
            "_model_module_version": "1.2.0",
            "_model_name": "LayoutModel",
            "_view_count": null,
            "_view_module": "@jupyter-widgets/base",
            "_view_module_version": "1.2.0",
            "_view_name": "LayoutView",
            "align_content": null,
            "align_items": null,
            "align_self": null,
            "border": null,
            "bottom": null,
            "display": null,
            "flex": null,
            "flex_flow": null,
            "grid_area": null,
            "grid_auto_columns": null,
            "grid_auto_flow": null,
            "grid_auto_rows": null,
            "grid_column": null,
            "grid_gap": null,
            "grid_row": null,
            "grid_template_areas": null,
            "grid_template_columns": null,
            "grid_template_rows": null,
            "height": null,
            "justify_content": null,
            "justify_items": null,
            "left": null,
            "margin": null,
            "max_height": null,
            "max_width": null,
            "min_height": null,
            "min_width": null,
            "object_fit": null,
            "object_position": null,
            "order": null,
            "overflow": null,
            "overflow_x": null,
            "overflow_y": null,
            "padding": null,
            "right": null,
            "top": null,
            "visibility": null,
            "width": null
          }
        },
        "5220f0505f1445259260b7a6d39b5238": {
          "model_module": "@jupyter-widgets/base",
          "model_name": "LayoutModel",
          "model_module_version": "1.2.0",
          "state": {
            "_model_module": "@jupyter-widgets/base",
            "_model_module_version": "1.2.0",
            "_model_name": "LayoutModel",
            "_view_count": null,
            "_view_module": "@jupyter-widgets/base",
            "_view_module_version": "1.2.0",
            "_view_name": "LayoutView",
            "align_content": null,
            "align_items": null,
            "align_self": null,
            "border": null,
            "bottom": null,
            "display": null,
            "flex": null,
            "flex_flow": null,
            "grid_area": null,
            "grid_auto_columns": null,
            "grid_auto_flow": null,
            "grid_auto_rows": null,
            "grid_column": null,
            "grid_gap": null,
            "grid_row": null,
            "grid_template_areas": null,
            "grid_template_columns": null,
            "grid_template_rows": null,
            "height": null,
            "justify_content": null,
            "justify_items": null,
            "left": null,
            "margin": null,
            "max_height": null,
            "max_width": null,
            "min_height": null,
            "min_width": null,
            "object_fit": null,
            "object_position": null,
            "order": null,
            "overflow": null,
            "overflow_x": null,
            "overflow_y": null,
            "padding": null,
            "right": null,
            "top": null,
            "visibility": null,
            "width": null
          }
        },
        "cb7c25109d9d42e3978a5a7322c1f0f5": {
          "model_module": "@jupyter-widgets/controls",
          "model_name": "DescriptionStyleModel",
          "model_module_version": "1.5.0",
          "state": {
            "_model_module": "@jupyter-widgets/controls",
            "_model_module_version": "1.5.0",
            "_model_name": "DescriptionStyleModel",
            "_view_count": null,
            "_view_module": "@jupyter-widgets/base",
            "_view_module_version": "1.2.0",
            "_view_name": "StyleView",
            "description_width": ""
          }
        },
        "0a54c5fb62ce4aa9a1b4e8e64949126e": {
          "model_module": "@jupyter-widgets/base",
          "model_name": "LayoutModel",
          "model_module_version": "1.2.0",
          "state": {
            "_model_module": "@jupyter-widgets/base",
            "_model_module_version": "1.2.0",
            "_model_name": "LayoutModel",
            "_view_count": null,
            "_view_module": "@jupyter-widgets/base",
            "_view_module_version": "1.2.0",
            "_view_name": "LayoutView",
            "align_content": null,
            "align_items": null,
            "align_self": null,
            "border": null,
            "bottom": null,
            "display": null,
            "flex": null,
            "flex_flow": null,
            "grid_area": null,
            "grid_auto_columns": null,
            "grid_auto_flow": null,
            "grid_auto_rows": null,
            "grid_column": null,
            "grid_gap": null,
            "grid_row": null,
            "grid_template_areas": null,
            "grid_template_columns": null,
            "grid_template_rows": null,
            "height": null,
            "justify_content": null,
            "justify_items": null,
            "left": null,
            "margin": null,
            "max_height": null,
            "max_width": null,
            "min_height": null,
            "min_width": null,
            "object_fit": null,
            "object_position": null,
            "order": null,
            "overflow": null,
            "overflow_x": null,
            "overflow_y": null,
            "padding": null,
            "right": null,
            "top": null,
            "visibility": null,
            "width": null
          }
        },
        "c45cbbfc8e4540b6a5eb05b969f450f0": {
          "model_module": "@jupyter-widgets/controls",
          "model_name": "ProgressStyleModel",
          "model_module_version": "1.5.0",
          "state": {
            "_model_module": "@jupyter-widgets/controls",
            "_model_module_version": "1.5.0",
            "_model_name": "ProgressStyleModel",
            "_view_count": null,
            "_view_module": "@jupyter-widgets/base",
            "_view_module_version": "1.2.0",
            "_view_name": "StyleView",
            "bar_color": null,
            "description_width": ""
          }
        },
        "5750639d27134fb2b58ee28415803932": {
          "model_module": "@jupyter-widgets/base",
          "model_name": "LayoutModel",
          "model_module_version": "1.2.0",
          "state": {
            "_model_module": "@jupyter-widgets/base",
            "_model_module_version": "1.2.0",
            "_model_name": "LayoutModel",
            "_view_count": null,
            "_view_module": "@jupyter-widgets/base",
            "_view_module_version": "1.2.0",
            "_view_name": "LayoutView",
            "align_content": null,
            "align_items": null,
            "align_self": null,
            "border": null,
            "bottom": null,
            "display": null,
            "flex": null,
            "flex_flow": null,
            "grid_area": null,
            "grid_auto_columns": null,
            "grid_auto_flow": null,
            "grid_auto_rows": null,
            "grid_column": null,
            "grid_gap": null,
            "grid_row": null,
            "grid_template_areas": null,
            "grid_template_columns": null,
            "grid_template_rows": null,
            "height": null,
            "justify_content": null,
            "justify_items": null,
            "left": null,
            "margin": null,
            "max_height": null,
            "max_width": null,
            "min_height": null,
            "min_width": null,
            "object_fit": null,
            "object_position": null,
            "order": null,
            "overflow": null,
            "overflow_x": null,
            "overflow_y": null,
            "padding": null,
            "right": null,
            "top": null,
            "visibility": null,
            "width": null
          }
        },
        "d0db9c221e674b398eac2e44ba156904": {
          "model_module": "@jupyter-widgets/controls",
          "model_name": "DescriptionStyleModel",
          "model_module_version": "1.5.0",
          "state": {
            "_model_module": "@jupyter-widgets/controls",
            "_model_module_version": "1.5.0",
            "_model_name": "DescriptionStyleModel",
            "_view_count": null,
            "_view_module": "@jupyter-widgets/base",
            "_view_module_version": "1.2.0",
            "_view_name": "StyleView",
            "description_width": ""
          }
        },
        "0e695676330d4bbc9428a687b60ccea7": {
          "model_module": "@jupyter-widgets/controls",
          "model_name": "HBoxModel",
          "model_module_version": "1.5.0",
          "state": {
            "_dom_classes": [],
            "_model_module": "@jupyter-widgets/controls",
            "_model_module_version": "1.5.0",
            "_model_name": "HBoxModel",
            "_view_count": null,
            "_view_module": "@jupyter-widgets/controls",
            "_view_module_version": "1.5.0",
            "_view_name": "HBoxView",
            "box_style": "",
            "children": [
              "IPY_MODEL_914c750f6464447e8d6402c015b4f16f",
              "IPY_MODEL_c07a1602a53d494883ecf3a65b6bef8c",
              "IPY_MODEL_980503e556fa4b10a8599692a7584f0d"
            ],
            "layout": "IPY_MODEL_ef896a13e55b4084aaa3e60d88fa7551"
          }
        },
        "914c750f6464447e8d6402c015b4f16f": {
          "model_module": "@jupyter-widgets/controls",
          "model_name": "HTMLModel",
          "model_module_version": "1.5.0",
          "state": {
            "_dom_classes": [],
            "_model_module": "@jupyter-widgets/controls",
            "_model_module_version": "1.5.0",
            "_model_name": "HTMLModel",
            "_view_count": null,
            "_view_module": "@jupyter-widgets/controls",
            "_view_module_version": "1.5.0",
            "_view_name": "HTMLView",
            "description": "",
            "description_tooltip": null,
            "layout": "IPY_MODEL_e0d48ecbffbc44d88bd740d9e5afbbd8",
            "placeholder": "​",
            "style": "IPY_MODEL_8f9d7c4d7ded42c5886226ea25bc6788",
            "value": "vocab.json: 100%"
          }
        },
        "c07a1602a53d494883ecf3a65b6bef8c": {
          "model_module": "@jupyter-widgets/controls",
          "model_name": "FloatProgressModel",
          "model_module_version": "1.5.0",
          "state": {
            "_dom_classes": [],
            "_model_module": "@jupyter-widgets/controls",
            "_model_module_version": "1.5.0",
            "_model_name": "FloatProgressModel",
            "_view_count": null,
            "_view_module": "@jupyter-widgets/controls",
            "_view_module_version": "1.5.0",
            "_view_name": "ProgressView",
            "bar_style": "success",
            "description": "",
            "description_tooltip": null,
            "layout": "IPY_MODEL_dbe72b847e1b4c1aa9c76e604600e575",
            "max": 1042301,
            "min": 0,
            "orientation": "horizontal",
            "style": "IPY_MODEL_1f6f6f4ac31b4c3985a42858b07c6017",
            "value": 1042301
          }
        },
        "980503e556fa4b10a8599692a7584f0d": {
          "model_module": "@jupyter-widgets/controls",
          "model_name": "HTMLModel",
          "model_module_version": "1.5.0",
          "state": {
            "_dom_classes": [],
            "_model_module": "@jupyter-widgets/controls",
            "_model_module_version": "1.5.0",
            "_model_name": "HTMLModel",
            "_view_count": null,
            "_view_module": "@jupyter-widgets/controls",
            "_view_module_version": "1.5.0",
            "_view_name": "HTMLView",
            "description": "",
            "description_tooltip": null,
            "layout": "IPY_MODEL_9eabbab596c1485dafd0abf435f7f7fb",
            "placeholder": "​",
            "style": "IPY_MODEL_648c00c5adeb456c8be5fe5328af0e94",
            "value": " 1.04M/1.04M [00:00&lt;00:00, 1.38MB/s]"
          }
        },
        "ef896a13e55b4084aaa3e60d88fa7551": {
          "model_module": "@jupyter-widgets/base",
          "model_name": "LayoutModel",
          "model_module_version": "1.2.0",
          "state": {
            "_model_module": "@jupyter-widgets/base",
            "_model_module_version": "1.2.0",
            "_model_name": "LayoutModel",
            "_view_count": null,
            "_view_module": "@jupyter-widgets/base",
            "_view_module_version": "1.2.0",
            "_view_name": "LayoutView",
            "align_content": null,
            "align_items": null,
            "align_self": null,
            "border": null,
            "bottom": null,
            "display": null,
            "flex": null,
            "flex_flow": null,
            "grid_area": null,
            "grid_auto_columns": null,
            "grid_auto_flow": null,
            "grid_auto_rows": null,
            "grid_column": null,
            "grid_gap": null,
            "grid_row": null,
            "grid_template_areas": null,
            "grid_template_columns": null,
            "grid_template_rows": null,
            "height": null,
            "justify_content": null,
            "justify_items": null,
            "left": null,
            "margin": null,
            "max_height": null,
            "max_width": null,
            "min_height": null,
            "min_width": null,
            "object_fit": null,
            "object_position": null,
            "order": null,
            "overflow": null,
            "overflow_x": null,
            "overflow_y": null,
            "padding": null,
            "right": null,
            "top": null,
            "visibility": null,
            "width": null
          }
        },
        "e0d48ecbffbc44d88bd740d9e5afbbd8": {
          "model_module": "@jupyter-widgets/base",
          "model_name": "LayoutModel",
          "model_module_version": "1.2.0",
          "state": {
            "_model_module": "@jupyter-widgets/base",
            "_model_module_version": "1.2.0",
            "_model_name": "LayoutModel",
            "_view_count": null,
            "_view_module": "@jupyter-widgets/base",
            "_view_module_version": "1.2.0",
            "_view_name": "LayoutView",
            "align_content": null,
            "align_items": null,
            "align_self": null,
            "border": null,
            "bottom": null,
            "display": null,
            "flex": null,
            "flex_flow": null,
            "grid_area": null,
            "grid_auto_columns": null,
            "grid_auto_flow": null,
            "grid_auto_rows": null,
            "grid_column": null,
            "grid_gap": null,
            "grid_row": null,
            "grid_template_areas": null,
            "grid_template_columns": null,
            "grid_template_rows": null,
            "height": null,
            "justify_content": null,
            "justify_items": null,
            "left": null,
            "margin": null,
            "max_height": null,
            "max_width": null,
            "min_height": null,
            "min_width": null,
            "object_fit": null,
            "object_position": null,
            "order": null,
            "overflow": null,
            "overflow_x": null,
            "overflow_y": null,
            "padding": null,
            "right": null,
            "top": null,
            "visibility": null,
            "width": null
          }
        },
        "8f9d7c4d7ded42c5886226ea25bc6788": {
          "model_module": "@jupyter-widgets/controls",
          "model_name": "DescriptionStyleModel",
          "model_module_version": "1.5.0",
          "state": {
            "_model_module": "@jupyter-widgets/controls",
            "_model_module_version": "1.5.0",
            "_model_name": "DescriptionStyleModel",
            "_view_count": null,
            "_view_module": "@jupyter-widgets/base",
            "_view_module_version": "1.2.0",
            "_view_name": "StyleView",
            "description_width": ""
          }
        },
        "dbe72b847e1b4c1aa9c76e604600e575": {
          "model_module": "@jupyter-widgets/base",
          "model_name": "LayoutModel",
          "model_module_version": "1.2.0",
          "state": {
            "_model_module": "@jupyter-widgets/base",
            "_model_module_version": "1.2.0",
            "_model_name": "LayoutModel",
            "_view_count": null,
            "_view_module": "@jupyter-widgets/base",
            "_view_module_version": "1.2.0",
            "_view_name": "LayoutView",
            "align_content": null,
            "align_items": null,
            "align_self": null,
            "border": null,
            "bottom": null,
            "display": null,
            "flex": null,
            "flex_flow": null,
            "grid_area": null,
            "grid_auto_columns": null,
            "grid_auto_flow": null,
            "grid_auto_rows": null,
            "grid_column": null,
            "grid_gap": null,
            "grid_row": null,
            "grid_template_areas": null,
            "grid_template_columns": null,
            "grid_template_rows": null,
            "height": null,
            "justify_content": null,
            "justify_items": null,
            "left": null,
            "margin": null,
            "max_height": null,
            "max_width": null,
            "min_height": null,
            "min_width": null,
            "object_fit": null,
            "object_position": null,
            "order": null,
            "overflow": null,
            "overflow_x": null,
            "overflow_y": null,
            "padding": null,
            "right": null,
            "top": null,
            "visibility": null,
            "width": null
          }
        },
        "1f6f6f4ac31b4c3985a42858b07c6017": {
          "model_module": "@jupyter-widgets/controls",
          "model_name": "ProgressStyleModel",
          "model_module_version": "1.5.0",
          "state": {
            "_model_module": "@jupyter-widgets/controls",
            "_model_module_version": "1.5.0",
            "_model_name": "ProgressStyleModel",
            "_view_count": null,
            "_view_module": "@jupyter-widgets/base",
            "_view_module_version": "1.2.0",
            "_view_name": "StyleView",
            "bar_color": null,
            "description_width": ""
          }
        },
        "9eabbab596c1485dafd0abf435f7f7fb": {
          "model_module": "@jupyter-widgets/base",
          "model_name": "LayoutModel",
          "model_module_version": "1.2.0",
          "state": {
            "_model_module": "@jupyter-widgets/base",
            "_model_module_version": "1.2.0",
            "_model_name": "LayoutModel",
            "_view_count": null,
            "_view_module": "@jupyter-widgets/base",
            "_view_module_version": "1.2.0",
            "_view_name": "LayoutView",
            "align_content": null,
            "align_items": null,
            "align_self": null,
            "border": null,
            "bottom": null,
            "display": null,
            "flex": null,
            "flex_flow": null,
            "grid_area": null,
            "grid_auto_columns": null,
            "grid_auto_flow": null,
            "grid_auto_rows": null,
            "grid_column": null,
            "grid_gap": null,
            "grid_row": null,
            "grid_template_areas": null,
            "grid_template_columns": null,
            "grid_template_rows": null,
            "height": null,
            "justify_content": null,
            "justify_items": null,
            "left": null,
            "margin": null,
            "max_height": null,
            "max_width": null,
            "min_height": null,
            "min_width": null,
            "object_fit": null,
            "object_position": null,
            "order": null,
            "overflow": null,
            "overflow_x": null,
            "overflow_y": null,
            "padding": null,
            "right": null,
            "top": null,
            "visibility": null,
            "width": null
          }
        },
        "648c00c5adeb456c8be5fe5328af0e94": {
          "model_module": "@jupyter-widgets/controls",
          "model_name": "DescriptionStyleModel",
          "model_module_version": "1.5.0",
          "state": {
            "_model_module": "@jupyter-widgets/controls",
            "_model_module_version": "1.5.0",
            "_model_name": "DescriptionStyleModel",
            "_view_count": null,
            "_view_module": "@jupyter-widgets/base",
            "_view_module_version": "1.2.0",
            "_view_name": "StyleView",
            "description_width": ""
          }
        },
        "810684e4b2bd4c17beeea8cbcf0bcb9b": {
          "model_module": "@jupyter-widgets/controls",
          "model_name": "HBoxModel",
          "model_module_version": "1.5.0",
          "state": {
            "_dom_classes": [],
            "_model_module": "@jupyter-widgets/controls",
            "_model_module_version": "1.5.0",
            "_model_name": "HBoxModel",
            "_view_count": null,
            "_view_module": "@jupyter-widgets/controls",
            "_view_module_version": "1.5.0",
            "_view_name": "HBoxView",
            "box_style": "",
            "children": [
              "IPY_MODEL_e9125cb4349a4511903648e9fcc36bec",
              "IPY_MODEL_c2e91bbfb0c8452c9250b70177b93cca",
              "IPY_MODEL_9e648c025ad3473299acace85695f6ef"
            ],
            "layout": "IPY_MODEL_e5ee114e07484a3681878cb30eaf0397"
          }
        },
        "e9125cb4349a4511903648e9fcc36bec": {
          "model_module": "@jupyter-widgets/controls",
          "model_name": "HTMLModel",
          "model_module_version": "1.5.0",
          "state": {
            "_dom_classes": [],
            "_model_module": "@jupyter-widgets/controls",
            "_model_module_version": "1.5.0",
            "_model_name": "HTMLModel",
            "_view_count": null,
            "_view_module": "@jupyter-widgets/controls",
            "_view_module_version": "1.5.0",
            "_view_name": "HTMLView",
            "description": "",
            "description_tooltip": null,
            "layout": "IPY_MODEL_db740faf976440acb74e8fba8b029811",
            "placeholder": "​",
            "style": "IPY_MODEL_90953e940adf4e07af87bd60a1cf9a7c",
            "value": "merges.txt: 100%"
          }
        },
        "c2e91bbfb0c8452c9250b70177b93cca": {
          "model_module": "@jupyter-widgets/controls",
          "model_name": "FloatProgressModel",
          "model_module_version": "1.5.0",
          "state": {
            "_dom_classes": [],
            "_model_module": "@jupyter-widgets/controls",
            "_model_module_version": "1.5.0",
            "_model_name": "FloatProgressModel",
            "_view_count": null,
            "_view_module": "@jupyter-widgets/controls",
            "_view_module_version": "1.5.0",
            "_view_name": "ProgressView",
            "bar_style": "success",
            "description": "",
            "description_tooltip": null,
            "layout": "IPY_MODEL_a06764d04abe4754ac3d87b99ce44b3e",
            "max": 456318,
            "min": 0,
            "orientation": "horizontal",
            "style": "IPY_MODEL_a6e231199bf845a899bb56fe6047cc1e",
            "value": 456318
          }
        },
        "9e648c025ad3473299acace85695f6ef": {
          "model_module": "@jupyter-widgets/controls",
          "model_name": "HTMLModel",
          "model_module_version": "1.5.0",
          "state": {
            "_dom_classes": [],
            "_model_module": "@jupyter-widgets/controls",
            "_model_module_version": "1.5.0",
            "_model_name": "HTMLModel",
            "_view_count": null,
            "_view_module": "@jupyter-widgets/controls",
            "_view_module_version": "1.5.0",
            "_view_name": "HTMLView",
            "description": "",
            "description_tooltip": null,
            "layout": "IPY_MODEL_af0dcdb7641c40c6b98b03e2ec6f2520",
            "placeholder": "​",
            "style": "IPY_MODEL_e10ebd05fcba4b6481cd9d8f12241188",
            "value": " 456k/456k [00:00&lt;00:00, 782kB/s]"
          }
        },
        "e5ee114e07484a3681878cb30eaf0397": {
          "model_module": "@jupyter-widgets/base",
          "model_name": "LayoutModel",
          "model_module_version": "1.2.0",
          "state": {
            "_model_module": "@jupyter-widgets/base",
            "_model_module_version": "1.2.0",
            "_model_name": "LayoutModel",
            "_view_count": null,
            "_view_module": "@jupyter-widgets/base",
            "_view_module_version": "1.2.0",
            "_view_name": "LayoutView",
            "align_content": null,
            "align_items": null,
            "align_self": null,
            "border": null,
            "bottom": null,
            "display": null,
            "flex": null,
            "flex_flow": null,
            "grid_area": null,
            "grid_auto_columns": null,
            "grid_auto_flow": null,
            "grid_auto_rows": null,
            "grid_column": null,
            "grid_gap": null,
            "grid_row": null,
            "grid_template_areas": null,
            "grid_template_columns": null,
            "grid_template_rows": null,
            "height": null,
            "justify_content": null,
            "justify_items": null,
            "left": null,
            "margin": null,
            "max_height": null,
            "max_width": null,
            "min_height": null,
            "min_width": null,
            "object_fit": null,
            "object_position": null,
            "order": null,
            "overflow": null,
            "overflow_x": null,
            "overflow_y": null,
            "padding": null,
            "right": null,
            "top": null,
            "visibility": null,
            "width": null
          }
        },
        "db740faf976440acb74e8fba8b029811": {
          "model_module": "@jupyter-widgets/base",
          "model_name": "LayoutModel",
          "model_module_version": "1.2.0",
          "state": {
            "_model_module": "@jupyter-widgets/base",
            "_model_module_version": "1.2.0",
            "_model_name": "LayoutModel",
            "_view_count": null,
            "_view_module": "@jupyter-widgets/base",
            "_view_module_version": "1.2.0",
            "_view_name": "LayoutView",
            "align_content": null,
            "align_items": null,
            "align_self": null,
            "border": null,
            "bottom": null,
            "display": null,
            "flex": null,
            "flex_flow": null,
            "grid_area": null,
            "grid_auto_columns": null,
            "grid_auto_flow": null,
            "grid_auto_rows": null,
            "grid_column": null,
            "grid_gap": null,
            "grid_row": null,
            "grid_template_areas": null,
            "grid_template_columns": null,
            "grid_template_rows": null,
            "height": null,
            "justify_content": null,
            "justify_items": null,
            "left": null,
            "margin": null,
            "max_height": null,
            "max_width": null,
            "min_height": null,
            "min_width": null,
            "object_fit": null,
            "object_position": null,
            "order": null,
            "overflow": null,
            "overflow_x": null,
            "overflow_y": null,
            "padding": null,
            "right": null,
            "top": null,
            "visibility": null,
            "width": null
          }
        },
        "90953e940adf4e07af87bd60a1cf9a7c": {
          "model_module": "@jupyter-widgets/controls",
          "model_name": "DescriptionStyleModel",
          "model_module_version": "1.5.0",
          "state": {
            "_model_module": "@jupyter-widgets/controls",
            "_model_module_version": "1.5.0",
            "_model_name": "DescriptionStyleModel",
            "_view_count": null,
            "_view_module": "@jupyter-widgets/base",
            "_view_module_version": "1.2.0",
            "_view_name": "StyleView",
            "description_width": ""
          }
        },
        "a06764d04abe4754ac3d87b99ce44b3e": {
          "model_module": "@jupyter-widgets/base",
          "model_name": "LayoutModel",
          "model_module_version": "1.2.0",
          "state": {
            "_model_module": "@jupyter-widgets/base",
            "_model_module_version": "1.2.0",
            "_model_name": "LayoutModel",
            "_view_count": null,
            "_view_module": "@jupyter-widgets/base",
            "_view_module_version": "1.2.0",
            "_view_name": "LayoutView",
            "align_content": null,
            "align_items": null,
            "align_self": null,
            "border": null,
            "bottom": null,
            "display": null,
            "flex": null,
            "flex_flow": null,
            "grid_area": null,
            "grid_auto_columns": null,
            "grid_auto_flow": null,
            "grid_auto_rows": null,
            "grid_column": null,
            "grid_gap": null,
            "grid_row": null,
            "grid_template_areas": null,
            "grid_template_columns": null,
            "grid_template_rows": null,
            "height": null,
            "justify_content": null,
            "justify_items": null,
            "left": null,
            "margin": null,
            "max_height": null,
            "max_width": null,
            "min_height": null,
            "min_width": null,
            "object_fit": null,
            "object_position": null,
            "order": null,
            "overflow": null,
            "overflow_x": null,
            "overflow_y": null,
            "padding": null,
            "right": null,
            "top": null,
            "visibility": null,
            "width": null
          }
        },
        "a6e231199bf845a899bb56fe6047cc1e": {
          "model_module": "@jupyter-widgets/controls",
          "model_name": "ProgressStyleModel",
          "model_module_version": "1.5.0",
          "state": {
            "_model_module": "@jupyter-widgets/controls",
            "_model_module_version": "1.5.0",
            "_model_name": "ProgressStyleModel",
            "_view_count": null,
            "_view_module": "@jupyter-widgets/base",
            "_view_module_version": "1.2.0",
            "_view_name": "StyleView",
            "bar_color": null,
            "description_width": ""
          }
        },
        "af0dcdb7641c40c6b98b03e2ec6f2520": {
          "model_module": "@jupyter-widgets/base",
          "model_name": "LayoutModel",
          "model_module_version": "1.2.0",
          "state": {
            "_model_module": "@jupyter-widgets/base",
            "_model_module_version": "1.2.0",
            "_model_name": "LayoutModel",
            "_view_count": null,
            "_view_module": "@jupyter-widgets/base",
            "_view_module_version": "1.2.0",
            "_view_name": "LayoutView",
            "align_content": null,
            "align_items": null,
            "align_self": null,
            "border": null,
            "bottom": null,
            "display": null,
            "flex": null,
            "flex_flow": null,
            "grid_area": null,
            "grid_auto_columns": null,
            "grid_auto_flow": null,
            "grid_auto_rows": null,
            "grid_column": null,
            "grid_gap": null,
            "grid_row": null,
            "grid_template_areas": null,
            "grid_template_columns": null,
            "grid_template_rows": null,
            "height": null,
            "justify_content": null,
            "justify_items": null,
            "left": null,
            "margin": null,
            "max_height": null,
            "max_width": null,
            "min_height": null,
            "min_width": null,
            "object_fit": null,
            "object_position": null,
            "order": null,
            "overflow": null,
            "overflow_x": null,
            "overflow_y": null,
            "padding": null,
            "right": null,
            "top": null,
            "visibility": null,
            "width": null
          }
        },
        "e10ebd05fcba4b6481cd9d8f12241188": {
          "model_module": "@jupyter-widgets/controls",
          "model_name": "DescriptionStyleModel",
          "model_module_version": "1.5.0",
          "state": {
            "_model_module": "@jupyter-widgets/controls",
            "_model_module_version": "1.5.0",
            "_model_name": "DescriptionStyleModel",
            "_view_count": null,
            "_view_module": "@jupyter-widgets/base",
            "_view_module_version": "1.2.0",
            "_view_name": "StyleView",
            "description_width": ""
          }
        },
        "261ce5859f6d467f86c2662467d24e94": {
          "model_module": "@jupyter-widgets/controls",
          "model_name": "HBoxModel",
          "model_module_version": "1.5.0",
          "state": {
            "_dom_classes": [],
            "_model_module": "@jupyter-widgets/controls",
            "_model_module_version": "1.5.0",
            "_model_name": "HBoxModel",
            "_view_count": null,
            "_view_module": "@jupyter-widgets/controls",
            "_view_module_version": "1.5.0",
            "_view_name": "HBoxView",
            "box_style": "",
            "children": [
              "IPY_MODEL_78b045dac8044123bd70a96f907c337d",
              "IPY_MODEL_0d68efff0f7c4ff2a2b037ac78dad051",
              "IPY_MODEL_1f3e886efee445ffa236d0cc1e496c8a"
            ],
            "layout": "IPY_MODEL_2c13ab99da5d492496fb44f5e2be3cb7"
          }
        },
        "78b045dac8044123bd70a96f907c337d": {
          "model_module": "@jupyter-widgets/controls",
          "model_name": "HTMLModel",
          "model_module_version": "1.5.0",
          "state": {
            "_dom_classes": [],
            "_model_module": "@jupyter-widgets/controls",
            "_model_module_version": "1.5.0",
            "_model_name": "HTMLModel",
            "_view_count": null,
            "_view_module": "@jupyter-widgets/controls",
            "_view_module_version": "1.5.0",
            "_view_name": "HTMLView",
            "description": "",
            "description_tooltip": null,
            "layout": "IPY_MODEL_94a875b068e546f689b087e9360d87c3",
            "placeholder": "​",
            "style": "IPY_MODEL_5306de79279c400fb742778a0b822c58",
            "value": "tokenizer.json: 100%"
          }
        },
        "0d68efff0f7c4ff2a2b037ac78dad051": {
          "model_module": "@jupyter-widgets/controls",
          "model_name": "FloatProgressModel",
          "model_module_version": "1.5.0",
          "state": {
            "_dom_classes": [],
            "_model_module": "@jupyter-widgets/controls",
            "_model_module_version": "1.5.0",
            "_model_name": "FloatProgressModel",
            "_view_count": null,
            "_view_module": "@jupyter-widgets/controls",
            "_view_module_version": "1.5.0",
            "_view_name": "ProgressView",
            "bar_style": "success",
            "description": "",
            "description_tooltip": null,
            "layout": "IPY_MODEL_218b2b9cb9af410eb3a127b18b5808f3",
            "max": 1355256,
            "min": 0,
            "orientation": "horizontal",
            "style": "IPY_MODEL_928d65c579e94d82bc0d3f651e3fbcb8",
            "value": 1355256
          }
        },
        "1f3e886efee445ffa236d0cc1e496c8a": {
          "model_module": "@jupyter-widgets/controls",
          "model_name": "HTMLModel",
          "model_module_version": "1.5.0",
          "state": {
            "_dom_classes": [],
            "_model_module": "@jupyter-widgets/controls",
            "_model_module_version": "1.5.0",
            "_model_name": "HTMLModel",
            "_view_count": null,
            "_view_module": "@jupyter-widgets/controls",
            "_view_module_version": "1.5.0",
            "_view_name": "HTMLView",
            "description": "",
            "description_tooltip": null,
            "layout": "IPY_MODEL_cdbbf0d161d14538b7bf8cd8fc4fa292",
            "placeholder": "​",
            "style": "IPY_MODEL_540a1b89260640efa1322f0825e127a9",
            "value": " 1.36M/1.36M [00:00&lt;00:00, 1.39MB/s]"
          }
        },
        "2c13ab99da5d492496fb44f5e2be3cb7": {
          "model_module": "@jupyter-widgets/base",
          "model_name": "LayoutModel",
          "model_module_version": "1.2.0",
          "state": {
            "_model_module": "@jupyter-widgets/base",
            "_model_module_version": "1.2.0",
            "_model_name": "LayoutModel",
            "_view_count": null,
            "_view_module": "@jupyter-widgets/base",
            "_view_module_version": "1.2.0",
            "_view_name": "LayoutView",
            "align_content": null,
            "align_items": null,
            "align_self": null,
            "border": null,
            "bottom": null,
            "display": null,
            "flex": null,
            "flex_flow": null,
            "grid_area": null,
            "grid_auto_columns": null,
            "grid_auto_flow": null,
            "grid_auto_rows": null,
            "grid_column": null,
            "grid_gap": null,
            "grid_row": null,
            "grid_template_areas": null,
            "grid_template_columns": null,
            "grid_template_rows": null,
            "height": null,
            "justify_content": null,
            "justify_items": null,
            "left": null,
            "margin": null,
            "max_height": null,
            "max_width": null,
            "min_height": null,
            "min_width": null,
            "object_fit": null,
            "object_position": null,
            "order": null,
            "overflow": null,
            "overflow_x": null,
            "overflow_y": null,
            "padding": null,
            "right": null,
            "top": null,
            "visibility": null,
            "width": null
          }
        },
        "94a875b068e546f689b087e9360d87c3": {
          "model_module": "@jupyter-widgets/base",
          "model_name": "LayoutModel",
          "model_module_version": "1.2.0",
          "state": {
            "_model_module": "@jupyter-widgets/base",
            "_model_module_version": "1.2.0",
            "_model_name": "LayoutModel",
            "_view_count": null,
            "_view_module": "@jupyter-widgets/base",
            "_view_module_version": "1.2.0",
            "_view_name": "LayoutView",
            "align_content": null,
            "align_items": null,
            "align_self": null,
            "border": null,
            "bottom": null,
            "display": null,
            "flex": null,
            "flex_flow": null,
            "grid_area": null,
            "grid_auto_columns": null,
            "grid_auto_flow": null,
            "grid_auto_rows": null,
            "grid_column": null,
            "grid_gap": null,
            "grid_row": null,
            "grid_template_areas": null,
            "grid_template_columns": null,
            "grid_template_rows": null,
            "height": null,
            "justify_content": null,
            "justify_items": null,
            "left": null,
            "margin": null,
            "max_height": null,
            "max_width": null,
            "min_height": null,
            "min_width": null,
            "object_fit": null,
            "object_position": null,
            "order": null,
            "overflow": null,
            "overflow_x": null,
            "overflow_y": null,
            "padding": null,
            "right": null,
            "top": null,
            "visibility": null,
            "width": null
          }
        },
        "5306de79279c400fb742778a0b822c58": {
          "model_module": "@jupyter-widgets/controls",
          "model_name": "DescriptionStyleModel",
          "model_module_version": "1.5.0",
          "state": {
            "_model_module": "@jupyter-widgets/controls",
            "_model_module_version": "1.5.0",
            "_model_name": "DescriptionStyleModel",
            "_view_count": null,
            "_view_module": "@jupyter-widgets/base",
            "_view_module_version": "1.2.0",
            "_view_name": "StyleView",
            "description_width": ""
          }
        },
        "218b2b9cb9af410eb3a127b18b5808f3": {
          "model_module": "@jupyter-widgets/base",
          "model_name": "LayoutModel",
          "model_module_version": "1.2.0",
          "state": {
            "_model_module": "@jupyter-widgets/base",
            "_model_module_version": "1.2.0",
            "_model_name": "LayoutModel",
            "_view_count": null,
            "_view_module": "@jupyter-widgets/base",
            "_view_module_version": "1.2.0",
            "_view_name": "LayoutView",
            "align_content": null,
            "align_items": null,
            "align_self": null,
            "border": null,
            "bottom": null,
            "display": null,
            "flex": null,
            "flex_flow": null,
            "grid_area": null,
            "grid_auto_columns": null,
            "grid_auto_flow": null,
            "grid_auto_rows": null,
            "grid_column": null,
            "grid_gap": null,
            "grid_row": null,
            "grid_template_areas": null,
            "grid_template_columns": null,
            "grid_template_rows": null,
            "height": null,
            "justify_content": null,
            "justify_items": null,
            "left": null,
            "margin": null,
            "max_height": null,
            "max_width": null,
            "min_height": null,
            "min_width": null,
            "object_fit": null,
            "object_position": null,
            "order": null,
            "overflow": null,
            "overflow_x": null,
            "overflow_y": null,
            "padding": null,
            "right": null,
            "top": null,
            "visibility": null,
            "width": null
          }
        },
        "928d65c579e94d82bc0d3f651e3fbcb8": {
          "model_module": "@jupyter-widgets/controls",
          "model_name": "ProgressStyleModel",
          "model_module_version": "1.5.0",
          "state": {
            "_model_module": "@jupyter-widgets/controls",
            "_model_module_version": "1.5.0",
            "_model_name": "ProgressStyleModel",
            "_view_count": null,
            "_view_module": "@jupyter-widgets/base",
            "_view_module_version": "1.2.0",
            "_view_name": "StyleView",
            "bar_color": null,
            "description_width": ""
          }
        },
        "cdbbf0d161d14538b7bf8cd8fc4fa292": {
          "model_module": "@jupyter-widgets/base",
          "model_name": "LayoutModel",
          "model_module_version": "1.2.0",
          "state": {
            "_model_module": "@jupyter-widgets/base",
            "_model_module_version": "1.2.0",
            "_model_name": "LayoutModel",
            "_view_count": null,
            "_view_module": "@jupyter-widgets/base",
            "_view_module_version": "1.2.0",
            "_view_name": "LayoutView",
            "align_content": null,
            "align_items": null,
            "align_self": null,
            "border": null,
            "bottom": null,
            "display": null,
            "flex": null,
            "flex_flow": null,
            "grid_area": null,
            "grid_auto_columns": null,
            "grid_auto_flow": null,
            "grid_auto_rows": null,
            "grid_column": null,
            "grid_gap": null,
            "grid_row": null,
            "grid_template_areas": null,
            "grid_template_columns": null,
            "grid_template_rows": null,
            "height": null,
            "justify_content": null,
            "justify_items": null,
            "left": null,
            "margin": null,
            "max_height": null,
            "max_width": null,
            "min_height": null,
            "min_width": null,
            "object_fit": null,
            "object_position": null,
            "order": null,
            "overflow": null,
            "overflow_x": null,
            "overflow_y": null,
            "padding": null,
            "right": null,
            "top": null,
            "visibility": null,
            "width": null
          }
        },
        "540a1b89260640efa1322f0825e127a9": {
          "model_module": "@jupyter-widgets/controls",
          "model_name": "DescriptionStyleModel",
          "model_module_version": "1.5.0",
          "state": {
            "_model_module": "@jupyter-widgets/controls",
            "_model_module_version": "1.5.0",
            "_model_name": "DescriptionStyleModel",
            "_view_count": null,
            "_view_module": "@jupyter-widgets/base",
            "_view_module_version": "1.2.0",
            "_view_name": "StyleView",
            "description_width": ""
          }
        },
        "710c5a1d88314a4ab188a326850a7305": {
          "model_module": "@jupyter-widgets/controls",
          "model_name": "HBoxModel",
          "model_module_version": "1.5.0",
          "state": {
            "_dom_classes": [],
            "_model_module": "@jupyter-widgets/controls",
            "_model_module_version": "1.5.0",
            "_model_name": "HBoxModel",
            "_view_count": null,
            "_view_module": "@jupyter-widgets/controls",
            "_view_module_version": "1.5.0",
            "_view_name": "HBoxView",
            "box_style": "",
            "children": [
              "IPY_MODEL_554d74aba39a4b68bed83d9bc10d8380",
              "IPY_MODEL_1c368cf45a0545948b7fed40183e11c4",
              "IPY_MODEL_a460b70e0704459c8db31ae6ef70418c"
            ],
            "layout": "IPY_MODEL_ae83d13d34a44152a71aba04ed430dcb"
          }
        },
        "554d74aba39a4b68bed83d9bc10d8380": {
          "model_module": "@jupyter-widgets/controls",
          "model_name": "HTMLModel",
          "model_module_version": "1.5.0",
          "state": {
            "_dom_classes": [],
            "_model_module": "@jupyter-widgets/controls",
            "_model_module_version": "1.5.0",
            "_model_name": "HTMLModel",
            "_view_count": null,
            "_view_module": "@jupyter-widgets/controls",
            "_view_module_version": "1.5.0",
            "_view_name": "HTMLView",
            "description": "",
            "description_tooltip": null,
            "layout": "IPY_MODEL_185bce18979d4bcb9c5173d58f898313",
            "placeholder": "​",
            "style": "IPY_MODEL_13118531a65c4f72beaa3c4e686ad1d6",
            "value": "config.json: 100%"
          }
        },
        "1c368cf45a0545948b7fed40183e11c4": {
          "model_module": "@jupyter-widgets/controls",
          "model_name": "FloatProgressModel",
          "model_module_version": "1.5.0",
          "state": {
            "_dom_classes": [],
            "_model_module": "@jupyter-widgets/controls",
            "_model_module_version": "1.5.0",
            "_model_name": "FloatProgressModel",
            "_view_count": null,
            "_view_module": "@jupyter-widgets/controls",
            "_view_module_version": "1.5.0",
            "_view_name": "ProgressView",
            "bar_style": "success",
            "description": "",
            "description_tooltip": null,
            "layout": "IPY_MODEL_f45e4a3b21f7414e924a69855997b259",
            "max": 665,
            "min": 0,
            "orientation": "horizontal",
            "style": "IPY_MODEL_5e2d9aeda0ec479abbf5001f2583f0ef",
            "value": 665
          }
        },
        "a460b70e0704459c8db31ae6ef70418c": {
          "model_module": "@jupyter-widgets/controls",
          "model_name": "HTMLModel",
          "model_module_version": "1.5.0",
          "state": {
            "_dom_classes": [],
            "_model_module": "@jupyter-widgets/controls",
            "_model_module_version": "1.5.0",
            "_model_name": "HTMLModel",
            "_view_count": null,
            "_view_module": "@jupyter-widgets/controls",
            "_view_module_version": "1.5.0",
            "_view_name": "HTMLView",
            "description": "",
            "description_tooltip": null,
            "layout": "IPY_MODEL_b0377f5487354af7b84f37a447c67fa3",
            "placeholder": "​",
            "style": "IPY_MODEL_a09d721adc904bc2b02bc57590c12063",
            "value": " 665/665 [00:00&lt;00:00, 26.1kB/s]"
          }
        },
        "ae83d13d34a44152a71aba04ed430dcb": {
          "model_module": "@jupyter-widgets/base",
          "model_name": "LayoutModel",
          "model_module_version": "1.2.0",
          "state": {
            "_model_module": "@jupyter-widgets/base",
            "_model_module_version": "1.2.0",
            "_model_name": "LayoutModel",
            "_view_count": null,
            "_view_module": "@jupyter-widgets/base",
            "_view_module_version": "1.2.0",
            "_view_name": "LayoutView",
            "align_content": null,
            "align_items": null,
            "align_self": null,
            "border": null,
            "bottom": null,
            "display": null,
            "flex": null,
            "flex_flow": null,
            "grid_area": null,
            "grid_auto_columns": null,
            "grid_auto_flow": null,
            "grid_auto_rows": null,
            "grid_column": null,
            "grid_gap": null,
            "grid_row": null,
            "grid_template_areas": null,
            "grid_template_columns": null,
            "grid_template_rows": null,
            "height": null,
            "justify_content": null,
            "justify_items": null,
            "left": null,
            "margin": null,
            "max_height": null,
            "max_width": null,
            "min_height": null,
            "min_width": null,
            "object_fit": null,
            "object_position": null,
            "order": null,
            "overflow": null,
            "overflow_x": null,
            "overflow_y": null,
            "padding": null,
            "right": null,
            "top": null,
            "visibility": null,
            "width": null
          }
        },
        "185bce18979d4bcb9c5173d58f898313": {
          "model_module": "@jupyter-widgets/base",
          "model_name": "LayoutModel",
          "model_module_version": "1.2.0",
          "state": {
            "_model_module": "@jupyter-widgets/base",
            "_model_module_version": "1.2.0",
            "_model_name": "LayoutModel",
            "_view_count": null,
            "_view_module": "@jupyter-widgets/base",
            "_view_module_version": "1.2.0",
            "_view_name": "LayoutView",
            "align_content": null,
            "align_items": null,
            "align_self": null,
            "border": null,
            "bottom": null,
            "display": null,
            "flex": null,
            "flex_flow": null,
            "grid_area": null,
            "grid_auto_columns": null,
            "grid_auto_flow": null,
            "grid_auto_rows": null,
            "grid_column": null,
            "grid_gap": null,
            "grid_row": null,
            "grid_template_areas": null,
            "grid_template_columns": null,
            "grid_template_rows": null,
            "height": null,
            "justify_content": null,
            "justify_items": null,
            "left": null,
            "margin": null,
            "max_height": null,
            "max_width": null,
            "min_height": null,
            "min_width": null,
            "object_fit": null,
            "object_position": null,
            "order": null,
            "overflow": null,
            "overflow_x": null,
            "overflow_y": null,
            "padding": null,
            "right": null,
            "top": null,
            "visibility": null,
            "width": null
          }
        },
        "13118531a65c4f72beaa3c4e686ad1d6": {
          "model_module": "@jupyter-widgets/controls",
          "model_name": "DescriptionStyleModel",
          "model_module_version": "1.5.0",
          "state": {
            "_model_module": "@jupyter-widgets/controls",
            "_model_module_version": "1.5.0",
            "_model_name": "DescriptionStyleModel",
            "_view_count": null,
            "_view_module": "@jupyter-widgets/base",
            "_view_module_version": "1.2.0",
            "_view_name": "StyleView",
            "description_width": ""
          }
        },
        "f45e4a3b21f7414e924a69855997b259": {
          "model_module": "@jupyter-widgets/base",
          "model_name": "LayoutModel",
          "model_module_version": "1.2.0",
          "state": {
            "_model_module": "@jupyter-widgets/base",
            "_model_module_version": "1.2.0",
            "_model_name": "LayoutModel",
            "_view_count": null,
            "_view_module": "@jupyter-widgets/base",
            "_view_module_version": "1.2.0",
            "_view_name": "LayoutView",
            "align_content": null,
            "align_items": null,
            "align_self": null,
            "border": null,
            "bottom": null,
            "display": null,
            "flex": null,
            "flex_flow": null,
            "grid_area": null,
            "grid_auto_columns": null,
            "grid_auto_flow": null,
            "grid_auto_rows": null,
            "grid_column": null,
            "grid_gap": null,
            "grid_row": null,
            "grid_template_areas": null,
            "grid_template_columns": null,
            "grid_template_rows": null,
            "height": null,
            "justify_content": null,
            "justify_items": null,
            "left": null,
            "margin": null,
            "max_height": null,
            "max_width": null,
            "min_height": null,
            "min_width": null,
            "object_fit": null,
            "object_position": null,
            "order": null,
            "overflow": null,
            "overflow_x": null,
            "overflow_y": null,
            "padding": null,
            "right": null,
            "top": null,
            "visibility": null,
            "width": null
          }
        },
        "5e2d9aeda0ec479abbf5001f2583f0ef": {
          "model_module": "@jupyter-widgets/controls",
          "model_name": "ProgressStyleModel",
          "model_module_version": "1.5.0",
          "state": {
            "_model_module": "@jupyter-widgets/controls",
            "_model_module_version": "1.5.0",
            "_model_name": "ProgressStyleModel",
            "_view_count": null,
            "_view_module": "@jupyter-widgets/base",
            "_view_module_version": "1.2.0",
            "_view_name": "StyleView",
            "bar_color": null,
            "description_width": ""
          }
        },
        "b0377f5487354af7b84f37a447c67fa3": {
          "model_module": "@jupyter-widgets/base",
          "model_name": "LayoutModel",
          "model_module_version": "1.2.0",
          "state": {
            "_model_module": "@jupyter-widgets/base",
            "_model_module_version": "1.2.0",
            "_model_name": "LayoutModel",
            "_view_count": null,
            "_view_module": "@jupyter-widgets/base",
            "_view_module_version": "1.2.0",
            "_view_name": "LayoutView",
            "align_content": null,
            "align_items": null,
            "align_self": null,
            "border": null,
            "bottom": null,
            "display": null,
            "flex": null,
            "flex_flow": null,
            "grid_area": null,
            "grid_auto_columns": null,
            "grid_auto_flow": null,
            "grid_auto_rows": null,
            "grid_column": null,
            "grid_gap": null,
            "grid_row": null,
            "grid_template_areas": null,
            "grid_template_columns": null,
            "grid_template_rows": null,
            "height": null,
            "justify_content": null,
            "justify_items": null,
            "left": null,
            "margin": null,
            "max_height": null,
            "max_width": null,
            "min_height": null,
            "min_width": null,
            "object_fit": null,
            "object_position": null,
            "order": null,
            "overflow": null,
            "overflow_x": null,
            "overflow_y": null,
            "padding": null,
            "right": null,
            "top": null,
            "visibility": null,
            "width": null
          }
        },
        "a09d721adc904bc2b02bc57590c12063": {
          "model_module": "@jupyter-widgets/controls",
          "model_name": "DescriptionStyleModel",
          "model_module_version": "1.5.0",
          "state": {
            "_model_module": "@jupyter-widgets/controls",
            "_model_module_version": "1.5.0",
            "_model_name": "DescriptionStyleModel",
            "_view_count": null,
            "_view_module": "@jupyter-widgets/base",
            "_view_module_version": "1.2.0",
            "_view_name": "StyleView",
            "description_width": ""
          }
        }
      }
    },
    "accelerator": "GPU"
  },
  "cells": [
    {
      "cell_type": "markdown",
      "source": [
        "In this notebook I will try to implement GPT-2, do certian modifications and parallely training them<br>\n",
        "Report Link- https://docs.google.com/document/d/1GFmy-Myz6E8zoJ6kK4BI3HyFjZS65bu74RLucI5sfJU/edit?usp=sharing"
      ],
      "metadata": {
        "id": "-nVu2v4VHr-R"
      }
    },
    {
      "cell_type": "markdown",
      "source": [
        "# Subjective  Questions"
      ],
      "metadata": {
        "id": "nqZdLFYRcI74"
      }
    },
    {
      "cell_type": "markdown",
      "source": [
        "## Q.1\n",
        "Given a logistic regression that learns particular weights given n features, there would be n weights w0,w1,.......wn. So, in the new condition, nth feature gets duplicated to (n+1)th quality, so we now have n+1 total elements, and the model was retrained, so new weights were wnew(0),wnew(1),...........,wnew(n+1). The task was to find the relations between these unknown weights. There are chances the new weights are similar to the previous weights, but certainly, there would be changes due to further redundancy introduced; the weights upto wnew(n) would be identical to the original consequences, and as the new weight is also for the duplicated feature so the extent of its difference from the original weight depends mainly on the extent of the feature that was duplicated."
      ],
      "metadata": {
        "id": "wKJo00iYcNSd"
      }
    },
    {
      "cell_type": "markdown",
      "source": [
        "## Q.2\n",
        "Given the original template, A. New templates were introduced: B, C, D, and E for each email template, and 1000 copies were sent.\n",
        "These are the CTR details. <br>  \n",
        "A:10% <br>\n",
        "B:7%<br>\n",
        "C:8.5%<br>\n",
        "D:12%<br>\n",
        "E:14%<br>\n",
        "So from this, what we conclude is that.<br>\n",
        "As E is more clicked than A, and if the difference is statistically significant, we can conclude that E is 95% more significant than A\n",
        "The same goes for B and A; A is more clicked than B, and if their difference is statistically significant, then A is 95% more significant than A. <br>\n",
        " But as the difference between C and D between A is lesser than previously, we may need some tests to conclude the significance.\n",
        "So, option 2 is correct.\n"
      ],
      "metadata": {
        "id": "cFQl2IepcS2y"
      }
    },
    {
      "cell_type": "markdown",
      "source": [
        "## Q.3\n",
        "Given m training examples and n features. The feature vectors are given as sparse; sparse vectors mean the vectors that contain much fewer non-zero entries as given k non-zero entries and k<<n. So, we need to find the gradient descent for logistic regression in any well-maintained package. The gradient descent calculation involves computing the gradient and updating the weights.\n",
        "The gradient vector computation would involve a dot product between the feature and weight vector as most of them are zeros so the time complexity would be around O(n.k)  n for vectors and k for the weights(an approximation). <br>\n",
        "The single-time weight updation would take O(n) time so that the total time would be around.<br>\n",
        "O(m.k.n+n) m for the number of training examples, and m.k.n would be more than n so that the time complexity would be around O(m.k.n)\n"
      ],
      "metadata": {
        "id": "vtjfj3ZMccSb"
      }
    },
    {
      "cell_type": "markdown",
      "source": [
        "## Q.4\n",
        "Given V1, a text classifier trained on 10,000 stories from the New York Times, which was a part of 1000  sources from which data can be collected, now we need to train. V2, with these 10,000 stories and new 10,000 stories.\n",
        "The 10K stories from random sources out of the 1000 we want is a good option as we get the data from only trusted sources.  \n",
        "The training of V1 on 1 million stories from data sources captures examples near the decision boundary, potentially addressing ambiguous cases that the current classifier struggles with. This leads to some complex examples for V2 to learn that provide better examples.\n",
        "A balance between these would be an excellent option, like getting a balance of both 5000, which makes 5000 complex examples, and the other 5000 examples will provide diversity in our dataset from different sources. This 1:1 ratio can be changed accordingly if needed.\n"
      ],
      "metadata": {
        "id": "OAHN3aT9cjp8"
      }
    },
    {
      "cell_type": "markdown",
      "source": [
        "## Q.5\n",
        "Given an unfair coin, where p is the probability of coming of heads. The coin was tossed n times, and heads came up k times\n",
        "1. MLE(Maximum Likelihood Estimation)-\n",
        "\t As the heads come up k in the time toss, the MLE would be\n",
        "\tn/k\n",
        "2. The Bayesian estimate involves incorporating prior information. In this case, assuming a uniform prior between 0 and 1, the posterior distribution is a Beta distribution. The posterior distribution's expected value (mean) is the Bayesian estimate.\n",
        "\n",
        "Bayesian estimate of p=(k+1)/(n+2)\n",
        "3.\n",
        "Maximum a posteriori (MAP) Estimate:\n",
        "The MAP estimate is the mode of the posterior distribution. For a Beta distribution with a uniform prior, the mode is given by:\n",
        "\n",
        "MAP estimate of p=k/n\n"
      ],
      "metadata": {
        "id": "zOCRw-pLcqGL"
      }
    },
    {
      "cell_type": "markdown",
      "source": [
        "# Importing Libraries"
      ],
      "metadata": {
        "id": "50UrPWoPH54Z"
      }
    },
    {
      "cell_type": "code",
      "source": [
        "!pip install einops xformers"
      ],
      "metadata": {
        "colab": {
          "base_uri": "https://localhost:8080/"
        },
        "id": "xW8m7zp085-v",
        "outputId": "7af9a3e4-ec08-4775-bd15-390960667e47"
      },
      "execution_count": null,
      "outputs": [
        {
          "output_type": "stream",
          "name": "stdout",
          "text": [
            "Collecting einops\n",
            "  Downloading einops-0.7.0-py3-none-any.whl (44 kB)\n",
            "\u001b[2K     \u001b[90m━━━━━━━━━━━━━━━━━━━━━━━━━━━━━━━━━━━━━━━━\u001b[0m \u001b[32m44.6/44.6 kB\u001b[0m \u001b[31m1.6 MB/s\u001b[0m eta \u001b[36m0:00:00\u001b[0m\n",
            "\u001b[?25hCollecting xformers\n",
            "  Downloading xformers-0.0.22.post7-cp310-cp310-manylinux2014_x86_64.whl (211.8 MB)\n",
            "\u001b[2K     \u001b[90m━━━━━━━━━━━━━━━━━━━━━━━━━━━━━━━━━━━━━━━━\u001b[0m \u001b[32m211.8/211.8 MB\u001b[0m \u001b[31m6.5 MB/s\u001b[0m eta \u001b[36m0:00:00\u001b[0m\n",
            "\u001b[?25hRequirement already satisfied: numpy in /usr/local/lib/python3.10/dist-packages (from xformers) (1.23.5)\n",
            "Requirement already satisfied: torch==2.1.0 in /usr/local/lib/python3.10/dist-packages (from xformers) (2.1.0+cu118)\n",
            "Requirement already satisfied: filelock in /usr/local/lib/python3.10/dist-packages (from torch==2.1.0->xformers) (3.13.1)\n",
            "Requirement already satisfied: typing-extensions in /usr/local/lib/python3.10/dist-packages (from torch==2.1.0->xformers) (4.5.0)\n",
            "Requirement already satisfied: sympy in /usr/local/lib/python3.10/dist-packages (from torch==2.1.0->xformers) (1.12)\n",
            "Requirement already satisfied: networkx in /usr/local/lib/python3.10/dist-packages (from torch==2.1.0->xformers) (3.2.1)\n",
            "Requirement already satisfied: jinja2 in /usr/local/lib/python3.10/dist-packages (from torch==2.1.0->xformers) (3.1.2)\n",
            "Requirement already satisfied: fsspec in /usr/local/lib/python3.10/dist-packages (from torch==2.1.0->xformers) (2023.6.0)\n",
            "Requirement already satisfied: triton==2.1.0 in /usr/local/lib/python3.10/dist-packages (from torch==2.1.0->xformers) (2.1.0)\n",
            "Requirement already satisfied: MarkupSafe>=2.0 in /usr/local/lib/python3.10/dist-packages (from jinja2->torch==2.1.0->xformers) (2.1.3)\n",
            "Requirement already satisfied: mpmath>=0.19 in /usr/local/lib/python3.10/dist-packages (from sympy->torch==2.1.0->xformers) (1.3.0)\n",
            "Installing collected packages: einops, xformers\n",
            "Successfully installed einops-0.7.0 xformers-0.0.22.post7\n"
          ]
        }
      ]
    },
    {
      "cell_type": "code",
      "execution_count": null,
      "metadata": {
        "id": "yEPcpmeoHbYk",
        "colab": {
          "base_uri": "https://localhost:8080/"
        },
        "outputId": "83f24723-4064-4c4c-f38c-b5cb4d9b90aa"
      },
      "outputs": [
        {
          "output_type": "stream",
          "name": "stderr",
          "text": [
            "WARNING:xformers:WARNING[XFORMERS]: xFormers can't load C++/CUDA extensions. xFormers was built for:\n",
            "    PyTorch 2.1.0+cu121 with CUDA 1201 (you have 2.1.0+cu118)\n",
            "    Python  3.10.13 (you have 3.10.12)\n",
            "  Please reinstall xformers (see https://github.com/facebookresearch/xformers#installing-xformers)\n",
            "  Memory-efficient attention, SwiGLU, sparse and more won't be available.\n",
            "  Set XFORMERS_MORE_DETAILS=1 for more details\n"
          ]
        }
      ],
      "source": [
        "import numpy as np\n",
        "import pandas as pd\n",
        "import matplotlib.pyplot as plt\n",
        "import seaborn as sns\n",
        "\n",
        "import torch\n",
        "import torch.nn as nn\n",
        "import torch.nn.functional as F\n",
        "from torch.nn.modules import ModuleList\n",
        "from torch.nn.modules.normalization import LayerNorm\n",
        "from torch import nn, einsum, broadcast_tensors\n",
        "import torch\n",
        "import torch.optim as optim\n",
        "from torch.optim.lr_scheduler import LambdaLR\n",
        "from torch.utils.data.dataloader import DataLoader\n",
        "from torch.utils.data import Dataset\n",
        "import torch.distributed as dist\n",
        "import torch.multiprocessing as mp\n",
        "from torch.nn.parallel import DistributedDataParallel as DDP\n",
        "from torch.utils.data.distributed import DistributedSampler\n",
        "from torch.distributed.fsdp import (\n",
        "   FullyShardedDataParallel,\n",
        "   CPUOffload,\n",
        ")\n",
        "\n",
        "from torch.distributed.fsdp import FullyShardedDataParallel as FSDP\n",
        "from torch.distributed.fsdp.fully_sharded_data_parallel import (\n",
        "    CPUOffload,\n",
        "    BackwardPrefetch,\n",
        ")\n",
        "from torch.distributed.fsdp.wrap import (\n",
        "    size_based_auto_wrap_policy,\n",
        "    enable_wrap,\n",
        "    wrap,\n",
        ")\n",
        "\n",
        "\n",
        "from einops import rearrange, repeat\n",
        "from einops import rearrange, repeat, pack, unpack\n",
        "\n",
        "import os\n",
        "import copy\n",
        "import glob\n",
        "import shutil\n",
        "from math import pi, log\n",
        "import math\n",
        "import time\n",
        "from dataclasses import dataclass\n",
        "from typing import Optional, Union\n",
        "import logging\n",
        "from tqdm import tqdm\n",
        "\n",
        "from transformers import GPT2Tokenizer\n",
        "from xformers.components.attention import (\n",
        "    Attention,\n",
        "    AttentionConfig,\n",
        "    AttentionMask,\n",
        "    maybe_sparsify,\n",
        "    register_attention,\n",
        "    sparsify,\n",
        ")\n",
        "from xformers.components.attention.attention_patterns import (\n",
        "    causal_1d_pattern,\n",
        "    local_1d_pattern,\n",
        ")\n",
        "\n",
        "from tqdm import tqdm_notebook, trange\n",
        "import logging\n",
        "logging.basicConfig(level = logging.INFO)\n",
        "logger = logging.getLogger()"
      ]
    },
    {
      "cell_type": "markdown",
      "source": [
        "setting up random seed"
      ],
      "metadata": {
        "id": "hGuNn4XAIfZa"
      }
    },
    {
      "cell_type": "code",
      "source": [
        "seed = 42\n",
        "np.random.seed(seed)\n",
        "torch.manual_seed(seed)\n",
        "torch.cuda.manual_seed(seed)"
      ],
      "metadata": {
        "id": "VeohzL4rIegY"
      },
      "execution_count": null,
      "outputs": []
    },
    {
      "cell_type": "markdown",
      "source": [
        "checking for device"
      ],
      "metadata": {
        "id": "9gVfkx3YIhmx"
      }
    },
    {
      "cell_type": "code",
      "source": [
        "device = torch.device(\"cuda\" if torch.cuda.is_available() else \"cpu\")"
      ],
      "metadata": {
        "id": "4DW2_Q5jIkN_"
      },
      "execution_count": null,
      "outputs": []
    },
    {
      "cell_type": "markdown",
      "source": [
        "# Transformer Decoder\n",
        "The GPT-X series is a decoder only models, so there needs to a be transformer blocks that we need to define our self attention layers and layers\n",
        "![image.png](data:image/png;base64,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)"
      ],
      "metadata": {
        "id": "KBsKxqNXMUQF"
      }
    },
    {
      "cell_type": "markdown",
      "source": [
        "This is the self attention formula as defined in the paper of attention is all you need which contains three variables as qeury, key and value and then the attemtion value is Q dot k(Transpose)/sqrt(dK*dimensions*) whole by V"
      ],
      "metadata": {
        "id": "OUY3rYTGRrqn"
      }
    },
    {
      "cell_type": "markdown",
      "source": [
        "## Conv1d\n",
        "This is a layer that takes input and then return the output with 3 times dimension of original layer because we are dot multiplying 3 matrcies of same size, these can also be retrieved using split function"
      ],
      "metadata": {
        "id": "NquW0cihSp_y"
      }
    },
    {
      "cell_type": "code",
      "source": [
        "class Conv1D(nn.Module):\n",
        "    def __init__(self, nx, nf):\n",
        "        '''\n",
        "        nx: Number of input features.\n",
        "        nf: Number of filters (output channels).\n",
        "        '''\n",
        "        super().__init__()\n",
        "        self.nf = nf\n",
        "        #intialising an empty matrix as weights for size of (nx)X(nf)\n",
        "        w = torch.empty(nx, nf)\n",
        "        #initialising these weights as normal distribution\n",
        "        nn.init.normal_(w, std=0.02)\n",
        "        #calculating the weights and biases by encoding them using nn.Parameter\n",
        "        self.weight = nn.Parameter(w)\n",
        "        self.bias = nn.Parameter(torch.zeros(nf))\n",
        "\n",
        "    def forward(self, x):\n",
        "        '''x:The input tensor'''\n",
        "        #this size output is summation of x second dimension and the nf dimension\n",
        "        size_out = x.size()[:-1] + (self.nf,)\n",
        "        # dot multiplying Q,K(transpose) and V\n",
        "        x = torch.addmm(self.bias, x.view(-1, x.size(-1)), self.weight)#x.view helps in taking the transpose out\n",
        "        x = x.view(*size_out)\n",
        "        return x"
      ],
      "metadata": {
        "id": "L8mU45rjMjkI"
      },
      "execution_count": null,
      "outputs": []
    },
    {
      "cell_type": "markdown",
      "source": [
        "Here is a demo code for running it"
      ],
      "metadata": {
        "id": "ydTFpOl0VOYA"
      }
    },
    {
      "cell_type": "code",
      "source": [
        "d_model = 768\n",
        "conv1d  = Conv1D(d_model, d_model*3)\n",
        "x = torch.rand(1,4,d_model) # A random input tensor for testing out our model\n",
        "x = conv1d(x)\n",
        "x.shape"
      ],
      "metadata": {
        "colab": {
          "base_uri": "https://localhost:8080/"
        },
        "id": "RD7dXDBAVRBu",
        "outputId": "4f4f6b24-82cd-4a41-b960-54612730427e"
      },
      "execution_count": null,
      "outputs": [
        {
          "output_type": "execute_result",
          "data": {
            "text/plain": [
              "torch.Size([1, 4, 2304])"
            ]
          },
          "metadata": {},
          "execution_count": 6
        }
      ]
    },
    {
      "cell_type": "code",
      "source": [
        "query, key, value = x.split(d_model, dim=-1)# here we can split our output attention into quey, key and value\n",
        "\n",
        "query.shape, key.shape, value.shape"
      ],
      "metadata": {
        "colab": {
          "base_uri": "https://localhost:8080/"
        },
        "id": "uz3eDJQhVmhF",
        "outputId": "ee5d6465-4e99-4357-a88a-7d833c4fec8a"
      },
      "execution_count": null,
      "outputs": [
        {
          "output_type": "execute_result",
          "data": {
            "text/plain": [
              "(torch.Size([1, 4, 768]), torch.Size([1, 4, 768]), torch.Size([1, 4, 768]))"
            ]
          },
          "metadata": {},
          "execution_count": 7
        }
      ]
    },
    {
      "cell_type": "markdown",
      "source": [
        "## Feed Forward Layer\n",
        "In the GPT paper they mentioned the use of feed forward layer that takes a input then casting them to a 4x dimeniosn and then returning them back to original output shape with GELU as an activation function with a dropout value of 0.1\n",
        "Here is an excpert from GPT-1 Paper\n",
        "![image.png](data:image/png;base64,iVBORw0KGgoAAAANSUhEUgAAA2QAAAAjCAYAAAD7XcmBAAAAAXNSR0IArs4c6QAAAARnQU1BAACxjwv8YQUAAAAJcEhZcwAAEnQAABJ0Ad5mH3gAADwLSURBVHhe7Z0JXJTV18d/s4IgiCBuoIgiCoiiaO7+xdwSN9IyFBVTM8QlIytbzNwqtVwyzdx3UckVLXclU1xT1MANVMQVIRCcgXnmvPeZGWAGBphhcXl9vp/PFD7Lfe4959xzzp25z70iYuAVRXEjEot+jUS8vD46BY5AQCMb3RkBAQEBAQEBAQEBAYGXn1d6QCYgICAgICAgICAgIPAqI9b9X0BAQEBAQEBAQEBAQOA5IwzIBAQEBAQEBAQEBAQEXhDCgExAQEBAQEBAQEBAQOAFIZnC0P1tBA6cSg212owPEcTil2icp36K+OMR2HRGhKYeVV/LEagq4Q/M/ykcN+2aoHENS93R4inpfa8eKiT8MR8/hd+EXZPGeFmayiVfwp71K7Fu804cPBMPhaMb6lWxhEh3/rmRcRsntq/BX5lN4O0k1R00j5emLS8jZSBfAQXu/fMHNu+6CXsfN9gJXzW+ImTg9ontWPNXJpp4O8F068/E/SuncPRgFC4kZkBaqRqqWEt05wqBS8HV4/vw5+FoXElSomJNZ9jJdecMMCHvKSzPUT5C3OkjOPjXv3gCGzhUsYW8rGyxED/x+sRpHaoE/DH/J4TftEOTxjXw0rc46xEuH9iKiCuWaNqgSvE56KvWPoGyg1/UozAyopfShCFdqaGdmFjixC/+QRBJSGZhQRY5H7mMpBJR3nmLnrQiVVfAiyT1b1r4QQ9q5mRNEpGYKg+MoGe6U68XGRQx0J7EEJGsxTS6pNIdLpaS3vcKkhFBA+3FzLZl1GLaJXrxTeXo8cHJ5NeiP83esZfWfdyWWIJJYttWNP1ctu6a8oaj+wfn0Ah/X3KuKGH924L8l6fozpnDy9CWl5Gyku/rDXfvEM0LDaAWtWxIKgJJ3cPouFJ3UuClhbt/kOaM8Cdf54osPoMs/JeTqdafdmk9TejoRHJ2nybnYB+RVV3q9X0UPeF0F+Uj9Z8VNOqNWuTu/wnNW76MfhrfhdycW1LI+th8eYGCjox3IzbcyS3b2Edc/X3d9Tq4h3R0Vj/yqMT3Zd11LO+wce9LMw7dZ729pBTnJ16jOK0jI2Ig2bMYIpK1oGkvbYM5urv/Rwrt15bq2cmY3iTkNGIPs67ieTXaJ1AeFDkg08JR0lJ/qqRxfjLy/TaGCqRRnIKSr0fRig99ydayGy15qDv+osm+S2v6V2XO6nUekGVTzE+dqIrUihqGRlKy7mjxlPS+V5DsGPqpUxWSWjWk0MiXoKVPttOwWhbUdPI/2r7GJVL40Hpkad2MJkc/32yTe7iNgmtJWN8v4YDhJWrLy0ip5SvAUFDMtJaaBF0YkL1CsEHMtuBaJGGDF1MHZNlXFtJbdRtS708X0dZ9R+jg9mX0VV93subzE4kzDd1W0H9nX/uV/KtKqUqPX+l6bvKioIvftycbmQsN3HQ7b8CUtp2Ca7KBj8yKKlerSTVr5vvUqEyWbKDl8F647gaeVDr2RXOyrehK7QKG0ojhA+itlq5kKxFpB2+2rWjqqdJlH4X7idcoTuvIjvmJOlWRklXDUHoZwnWRqOJpYRcbswZkr1T7BMoUEwZkRMq/PiZ3KT8gk5PfgsTCv+1RHKFxnl3o57sl/z6opHDJB2jh8tNkGIuz6fQXjUj2Wg/ItGQrlYXojaPkAwtp+WnjWUzh9/1/I5uUypehpRwl/dqNJRgW1P03fW+spKdPX0CmqYqlma1kJRwwvGRteRkplXzLB+O+9OXm2e9B5CAWBmSvFiqKndmKxWcTB2RcEq0e3I0+O/DQMCZxt2hpLwfNF6/2gyIoQ3dYA5dAv3a3I7G0IX1yPF86nLaL3neSkLh6IIU/5Evk6MHqfuT51vd07J5xI1IcHUdussrUf8MT3REWOc5/Q81d+9Liy091R3iUdGtHKPlY84MyMdn1XkH3ShNeivETr0+c1pGtpJciXBeLko6Mq0dSMwZkGl6Z9j0Pis5RTaesyik/TJrdLJbJwZxm8Vi0woBRnVDHpIvLEPUdhI8ZiQUXMnQH8hCJhLdUeKRyudG5y+o74RgzcgGMiE5DYff9/0MKeZlN9i8NWThz8jyesdArkejXRw5ra6MvPJQzolK85/WyteVlpDTyLQeK8KUvNWKWjuv+FHh1MCc8qx8cxd2WszD1TUdDXYtro1/fVpCzsU+2QqmZL5iD6sJy/HrwP4jrdEOv5ha6ozpsOqJnJwfgwe+YuywWHJJx6FJd/LB6ItpXN+afsnBq217csu6I3l0r5x47seYg3GcuwQee1rpjPHLU7v0jFo1uyCKLGmnHD+FElu5UiSjaT7w+cVqHVF527+aVMyVaU+EVal95U1yOaiplVU55UsYqt0CbcZ+jp+PztCQFLs4Nxpjw21Dpe2KB4lFcxNzgMQi/rTIIYgIvkgzcv/8fC+H/H/j/1JbXAcGXCry8iGu8h0mhjdlQJz9qZGVlsRhWES07ttJbBEGF81u24XI2YNmoGRoXuNEKzZp6QEpZOLdjB65yjnhv1qzC85es09i+JwEVOvRCt5zxGJeIWFkffPy2sQXDLNCsmx+c+DmZmU/xlNMdFhAQMI2yylFfkVxXxP9Mpvu7UFSnJsGn7fe4rJLDb8FNHBjrVMD5KPaGYfz9iVg8rLrBucz4/Vi1ZAP+PJeAx2lZsKzpgbY9g/FhUDvUzOcg1f/FYf/GFViX2AYLp7ZBzM9fYEb4JaBlGBbP6Y86+RdRUj/Eke+GYPC3+5CYLYKdTx+826oaxFI39JsyAZ0d1Dj7VTO0nnEZFQduQdLa/+HC6tn4OfwvxD0Gqvr0xkffhqEL7zHzk34Jm39egl3RMbh6Tw1Hr454d/R4BLVwMGEUq8T9s7uxfvVm/Nd9Naa0uIBVP/6MzX9dR6Z9Q7zh9w4+HOUPNyvd5XqYIy9WSVzeMg+L/rwFlUiNzKwKqOfbEE5uvfF+DxfktIpLjcWBLeux+bwzwhaMgqeUF90RfDdkML7dl4hskR18+ryLVtXEkLr1w5QJneHAGmnsPgMy47F/1RJs+PMcEh6nIcuyJjza9kTwh0Fol6+y6vSb+GtnOMK3P0GnJT+gj+IYFs2Yj4gzDyB3aYG+479ESFtTV8FU41HUIvyw8TIyNNYrgtyxNYI/G4T6sWvx/epoJGdrzVoksoBj22B8NsiHhV8O17fPxMJ9SUxDcri9/QUmdGb2wo6nxh7AlvWbcd45DAtGeRqs9pV+eQvmLfoTt1QiqDOzUKGeLxo6uaH3+z3gks900i9txs9LdiE65iruqR3h1fFdjB4fhBa8QAtFjaTIH3D+4l3svv0U/+5eh6OJIri+ORTd6vM/N0tQp89XmNhd17fMss10XNr8M5bsikbM1XtQO3qh47ujMT6ohUbHhigRv38JFizfjXP3ONhU90L3kAFIm+SHL0+K4b/8Pna/b6e7tgjUSYj8YaZpbWGUjY+YgOl9HmLj5rKyCcbTOEQuW4ZtF1NAioe4nSyD25vDEDamZ76+q8Z/cfuxccU6JLZZiKltYvDzFzOgdV2LMad/HV1fLL18S96PirGDonzp5CBYhM/GxssZ2mAmksOxNS+/+ohd+z1WRydDK1oRRBaOaBv8GQb5MAFx17F95kLsS1ICcje8/QXzyczHaMlksliFJRv+xLmEx0jLskRNj7boGfwhgtrVzJd0Fy/f7B1DUfvtNUhxC8PRmDlowwpQXN6J37YcRdzDTKj5tzisHFD7jX4IGeADG77Y9MvYMm8R/rylgkidiawK9eDb0Aluvd9Hj/wd2wTUj6Kw6IeNuKw1QCYmR7TmZVE/Fmu/X43o5Gyd/ESwcGyrsU2tmLZj5sJ90IrpbXzB/G+umMzqv3r8dwbr523E3w/4totRuV0opg5ifo3p+diSefj9UiqUalYbSU10m/gF+uq31wy5mOPvlKyfL1mwHLvP3QNnUx1e3UMwIG0S/L48CbH/ctzf/T5M8C4FUd/Gbz2bYop6MvZuH48mOSMydnxBZ3d8dJhD/QmHEfNTuwKDOcXOYNQOWI3Hlr2w/M5ODLPXnTBC1t8T0bjjEtT75Sp2jTTMcwoj6+SnaNJ+Nq7X/RhHYn5E2/wVMIp5fqLwOM3ykH/+RMSmrTjv9Al+HdsQSYeWYdH6fTh5JRk2Td7Bp1PHoH1V1pL/LiFi8S9Yv+8f3M6sCA//jzB9kj9c8sd8hkk6V6fj5l87ER6+HU86LcEPfRQ4tmgG5kecwQO5C1r0HY8vQ9qCf3QepuUzrMGIPbAF6zefh3PYAowqmJiY7ltKVE8+NERi2bJtuJhCUDy8jWSZG94cFoYxPd1YTNEnC1ETGqHTvJuoNmIXbix9iw3Ti6HQ9qmRfvMv7AwPx/YnnbDkhz5QHFuEGfMjcOaBHC4t+mL8lyFoq1/ZEraPx7S+bWrsM0IxfsaUHJVpAnGRy7Bs20WkkAIPbydD5vYmhoWNQU9dkDatHIbJeZWJdloSNBMXiyE7+nPyKvIdslTa+0ED6mxwTkGxa4PJy64W+X+3n+LTVPQs6QxtnfIWOcskZNd8LG1L0K4gw907SHNDupO7rXY1R4vu8yhyckeqW92OZPzLunI/WpBoZEItl0Rn9m6jmf6OLORIqEbfWbR91y7aFXmcbmgmkmfTmS+9te+QDZhPK4Z4Ux1vP+oX2JdaOMnZs0Rk3WIqncs3pTT179nUt3U3Clu2j05dOEeHVn1MbauwulnWp8Eb4otYhY+jJ8fm0tB2tchSswiKBfWYspDeda9GdXyak7eTdkUpfqXKKn4/0GmDye6my0uLki7M8aNqDUfRrnva48r4CBrhYUXuE6I073/wK5DNHd2Tlald+Unq9TlF615q5ljZe7fNJH9HMUFSg/rO2k67mOwij9+g9CLuy0ERu5aCveyolv93tD8+jVTPmC62TqG3nGUksWtOY7cl6OSkomvbvqGgFlU1q6BB3pm+3z6D/Bt5Ufteb9NbPtU0OhbbvUnzYwuXbAG4h7Q9uLbmhXCxXQCtfaw7znTweP9Y8pSJmJxtqfuiBO1iErmk0LYhNcmq5TS6oOTo3qG5NLqnF9lpXsCWktfn0QbXKy/MIb9qDWnUrnva9ijjKWKEB1m5T6AoA7tJpb9n96XW3cJo2b5TdOHcIVr1cVuqIhaRZf3BtCG+6LalxUVRXFQk7dq5mj5szL8rIKPm4zdqdLJrVyT9dT1dc51Ztpn6N83u25q6hS2jfacu0LlDq+jjtlVILLKk+oM3kEGVuHu055M3qGqdXvT9nn8pOVtFabER9GlHV7KzZjZi1jtOaSa1pcx9xO37ZWAT2iPcvZ0U6m1Dtu2m0WnNqrEquhcZQh4yKTn1X0PaajH7OTiXQrq7ky3TMy+j7vMiaXLHulRds7IWSO63gDSuq9TyLUU/MsUOivGl3MPtFFybX1RATHYBaylPtI9p/1hPzbNFtt1pUUI+R5GyjYbUtKKW0y7kvZOmiKW1wazP1fKn7/bHU5rqGSWd2UpT3nImmcSOmo/dZrZ8n20fQo5G3iFL2R5MzhXrUa9vd9K1HLPjUV6gOX7VqOGoXaR1n0qKjxhBHlbuNMGwY5sBRw/Z82pLmH7EdhSQZ4BMTPtprCdfZxHZdl9EBcU0hGpataRpOQbIY07/NYbiCs3qYMWeKSGnkXv13l/hKOWvT6ixjNVT6kWf6zt3k+Vijr9jetzzCb1RtQ71+n4P/ZucTaq0WIr4tCO52lnz702YtcqiISl08vvO1LDLHDpvEE8Zz3bRsGp835JRq+/iDH2jDuXfE6khn9tIG9AnfxeldyWdmOhBMuuutNiMd+RT1gaQLYv3rqEHTXuH3Qw/UWR8T9xHc0Z1pXpW2rjmPnoFLQ/pRM3b96LBI4dRN3cbJncxOfRaSv+eX0yDWrci/yGjaeyot6mpAytPZE2tZlzI5ydN07nq2jb6JqgFVZXyz5ZT5++30wz/RuTFnv32Wz5UjffDrH+8OT9WTyfF5zO8bA7NHU09Wd6hyaPy2y6Pyb6lpPVktrwzlLxtbKndtNNMIgzVPYoMYbYhdaL+a3LynhyUdOyj+qa9Q1ZU+1TXaNs3QdSiqlTr9zp/T9tn+FMjr/bU6+23yKca71uYb35zPuW4/5K1j8cUPZsR+4xhgp8pKkfVdHUmr52h3mRj246maYM0U0UkhXjISOrUn9bk5A7FlcMwPa8ywU5LgZkDMim59fmcpk2blvuZ+s0XNPa9N6i6zHCwlnZ0IjW2lJH7uMOk/6orn6xFfeJNcpGIbFpNozO5FvqU9oe4apIpiZMvDZt/jtKzE2nfd8NpwLi1FJuv3+WhoH2jnNl9Eqo79kg+geQMyEQks29CwUsvUk5Mzo6dQ//jX7iVutH4o3l3cfc306DaTvTO+nu5bWFqpiszW5IFn/BUH0Rbilv5JuMghdbVJi+23sNpxYUUXVlpdGp2V6rGJ/8ilqRMv5jr8MyW17NIGl5TRnVGHzTo5E+2DaM2oQcMgm/83P9p6l5gYKXYR6OcWT0ldWnskfymVMR9aUdpYmNLkrmPo8OGlaW0qE/IWy4ikU0rmpanXOJuzyc/ObMhcUWq13sGHX2gM3FlDE1vZck6sIwaf3UuXwAomuyYqdScf5a8Hc2+kddl2MPo1+42LKhYUPs5NwydDRvILe/tTH1X6S1FzMXT3P9ZsDrkH5A9o8jhNUlWZzQdNBQyDWsTSgdyj3F0f/Mgqu30Dq3Xf3NbdYVmtuTLFVP1QVtMWwGLu0VzO8o1Dq5bvuVKzbJN7j5tHlSbnN5Zb/AyuerKTGppwTvi6jQo92IVxS3sSvYyNxq9P013TAt3awn1sDNlwGCEItrCUx4+omxsIpvOf+3DBhkScgnR60vZp+kLbxZsZK3p+zi9Ep7upxBXvr+zoOs7jOafS6dslhB9N3wAjVsby0orO/ma3Y/MsoOifWnM1OYancjbzSZD0f5K3W2YzC3a0xz9Ewzu4XLq7dyXVt3PeXgaHZ3YmCxl7jSuoPOgT7zlTEc21GramTy5Fytf4wOylBOzqGeLnjTzWL5FIBjPIodTTVkdGm3YsWnbsDYUmtexzSc7hqY259sgp3az9e2Mo9u/dicbJj+L9nMM5Mefe7i8Nzn3XUW5YjJLb4WhoMNj+P6Sf0DGeLaVBlZmdpcvqTVNLub5O1XcQupqLyO30fuZ9vVg/mFJD7sSDsgUdPf4SvqsZ33tCossntbt9T1FPdarz5Nl1MOCz1v43ORuARvgyb74DTXjB6biajRsVxFDJuVJ+owNqCu8+TPdMlaQUVJoc2BVkth0oDn/GvYL45TETxQRp1n82jPciemf5T9Ob9F3xx7k2qMqfgF1YvmPSGpPzi2H0tpreb099fchVIPvSw0+obwxqpkxjvnb+X687xdTxXq9acbRnGcrKWZ6K80X1rLGX1Huzicm5zOs6Pi59D++DxQYkJXAt5hbz+zz9LUPiwESFwrR8xPZp78gbzbAkbX+nvRDA1+OyQMyHYW3j/mQ+X4kZ/1FXLEe9Z5xlPLc/3RqZcnukTWmr/S3kzG3febq2QTfbAyT/W8ROWr2+a/Jh8lc4hKil4vxC/mxnF8ko9bf630JU0Q5ZuVVZthpSTD8Ja5YCM8eJeDmzZu5nxs3rrFPEtJUukt4uJtY+e1ixKjc0HdgG+i/6grYoE3YeHS1BdJPzcX0TfehfcfEEnVctNMAxNV64qPRTVFR6oQuny/DpvlBaGDkp3NzsO78BX4e4Y2Kun9L3XqimzcrlLuD2H//0x1V4cKimdia3hb9eulPSZCgfudOqM8uVz/ci98PPdUdLwSLmqhZhb9bhnbj52BYYztdWTZo8fE6zH+nKjPrTJxdsxqn+Bd9SyKvzLtISlYh6fg+nNWrTuWugehWnfWPXMSo7uIMFrTMpLD7ONxc+S0Wx6jg1ncg2hhWFjZtwjBeW1nMnb4J93UvEIkdqsBOygqTNMCQGZ+iQ1XdD7vyhujqVw9SJvsbV/6FUnvUJKQeQRjctgKQfQpbN11lNdMhdkLAAD/Y8i9hbw3HNb25++qHu7AzthOG9NVNS+MRV4eLs7WRl6YzcTcpGaqk49hnKGQEdqvOR3otqgtYNHMr0tv2Q6/qeVYDSX107lRf81L3w72/ozizKRrzbFN1YRFmbk1H2369YFilzuikvRh7fz8EzdWpOzF95kGkewZiZEfNZK5cxE7t0aa+TldlSTn5iLKyCZm1NSzE1qjh5JA3BUFkh0pMPKR+wOxCz+FZ1oGLRshiVOv5EUY3rQipUxd8vmwT5gc1gLQM5WtuPzLLDopECo+gwdCKdis2Xc0ToNgpAAP8mLKymMzDr+XJnLf7XTsR22kI+urm4HE3V+LbxTFQufXFwILOA2HjuzIdpePU3OnYlOM8ipOv9io91Lj/5+fo/+lVBG2KwKT2+RaBYGTeTUKyKgnH953Va3tldA3sBgP3aS5SDwQNbosKyGZ2tgl5YhLDKWAAtGLainBDA8SunbHoNKRv7lTFstEbS58kLB3X/csQNkwzYnYmycUsf5eKndNn4mC6JwJHdtROFc2B9cn2beqXYIqPGk+Or8Ivm0/jsXUduDrwX7lm4uauL9DnvV8QlyPa7Gzdu5AiyOSyAjbAI8pZsIye4WmGzt6MoLqwA5HXJGjZsyecjRVkBO7GGvwa+QwtJv6E0IYmtLJEfqKo+C5Flap87iGCTceR+Kh91VxZS5w7oB2zI1JlwOv9HxHkljeRz6bVG5ppj1xCDGJyUyMzY5zYAVXspOzJEjQYMgOfdsh5thwNu/qhHitfdeMK/s1xVCbnM6zo6i5wNtLgEvkWc+vJrMXa2gJi6xpwcsjTh8iuErNtgvoBa4d+LlwCCmsfr2uHKnbQuv8hmPFpB+S5/67w01YWV/Iqa377zNWz2b5ZS5n4X5k1rC3EsK7hhDxViGCnDdJ4wJ5RvCrMzPnNsNOSYKJryUEC9/fmYNmKFVih+6xauxmRJ6PxW7+8ZEZ9fy92ncgASeqgvnvBSdPiqv7o8YYFROoUHNl5EDl9XqRbjUZc1QnOhWmyRIggkkoNjUPiyAyVPY/YIDMjg5kZg7uKyD2XkaU8hsltvOHtnfdpOiwCmTVqoZaTHVLv3NFLOozBnqfrTzJ5vvaLHdEzsLtmzq4q4QxO3VOXTF62TdGMZaDZF+egZ4dhWHj8gbZOVl0w+avOhvOURSVcgczYfer72LvrBDJIgjr13QvMyWeVhX+PN2AhUiPlyE4czFEuQysTXjb6zkYEW1s++BBUSgVLY8xA4oIBgzujkigb5zZvwEW93qdQ8iNdQtbZLdh4KecEh/iN63Cty1C8VUl3SEeO7Rlii6bNmFPJvog5PTtg2MLjeKAVMrpM/gqddULmrkZiz+UsKI9NRhs9m/H2bophEZmoUasWnOxScedO0VZTJGbZJoerkXtwOUuJY5PbGFzr3XQYIjJroFYtJ9il3gFfpdS9G7DrHsHOpzkaFuh3xhO30lJuPqJMbEIKr8/24UbiLUR96aPzG0rcjf4Tp5OY06UMpKfrO1+W+GqqJUZVJ+cCQais5Wt6PzLPDopD4jIAgztXgij7HDZvuKgX7BTQijYLZ7dsRJ5o47Fx3TV0GfoWtKJlA6W9u3AigyCpUx8F1c7k598Db1iIoE45gp25zqNo+RqSjVvhI9H9y1RM2LwEA+oWtC0e26bN2AA+Gxfn9ESHYQtxXNuxmfucjK9yOnaJkMBlwGB0riRC9rnN2GBogNCK6Sy2bLyUKz8ufiPWXeuCobkGWLZ6MwdT5GKWv0vdiw277oHsfNC8oPEz2y+JcxHDvu0ozJj3C5Zt2ocLcX9jYX9XyFjMeXJ4Ln4+pssuK9rBltkS3yc4lUob4/NB7LhGDyI5LFlyZxwV/tmxG3HiFvDvVatgTDQGi5MRk39EXMc5WDXJV2+hkcIpsZ8oIr7n+gh9V8EjroRKttqD+VeiFtvaoqJYxHLaNKSkaPVfohinK5cvX/8JIla+xlOplFDkBHxz8plcf6BPSX0Lw5x6Sr3w2b4bSLwVhS99dEpS3kX0n6ehDQ3pMAgNJcJY+3LQ1ZGvq2FloXX/KihzK6vDjPaZr2dzfHMeZeF/pV6fYd+NRNyK+hJ5qojGn6eTWI8nZKSns/8Wg7k5v1l2aj4m+ZZiEddE7/7/Y0mQ9p/Z1+JwM0srCjbeKYjYHl6ezszFMKElXEOiXsx6fuQYNK86HcoruHxdBYlrMNaejUFMjN7nUhxu3LqN27dvYM8ED1b3klOhSRO48wZET/D4kbpk8pI2Q9i8MPjaEFLOr8I4P2+0GbkYJx7mdJRyIvsa4m7yK1oxjFcW9l6ecGYCoowEXDNBufpOIgdF1E8YPmQIhuT7DJsUrruCR4xqAYPRw5ElP5c3Y300n+4wVOex9LeraNLBDZLsGGzZcFaTCEF1CWs2pKLP0A4mBUg+MW8WNg9hvjaglPNYNc4P3m1GYvGJh9pOqEN55TKuqyRwDV6Ls/o2wz6X4m7g1m1mNzf2YIJHKazGLNtU4srl61BJXBG89qzhtTGXEHfjFrv2Nm7smQAPSRYuRv+DpyRGZXt7Ex2CAlE/DS+gmyFDhmFS+E3dNUVTfj6irGzCClWr20HKgu3xlV/jg8GhmB8tQhU73lpZhY3V2SglkW/JKNiPzLED3S1FIa6GgME94MgGu5c3r0eeaJfit6tN0MFNguyYLdhwVntCdWkNNqT2wdAOOZLNxrW4m9CqXc/v6iG294Kn1nkg4Vqi7qjpUPLvmPjhSlz89zT+ulb4+sbSZmGYF+YLG0rB+VXj4OfdBiMXn0BZuE9xtQAM7uHIBq6XsXl9tNbOWFJ/fulvuNqkA9wk2YjZsgFaMalwac0GpPYZilwxlbXezMAUuZjj77IuRuOfpwRxZXvYl5Pxi+2bY/Tq9ZjQSAYRl4iTUde0JySOcNQ8lKDIzDRqb+rMZ1DwJ8RVUF3/FwF9VDHYsTsWomb+6FVgZTFjcLi1YTy+vTUUG1d/YOLsnufnJ7QYJucGsMSIjccYHDid3ss0xhl7cKnzmXLwLYUJyKoqqttJWfJ/HCu//gCDQ+cjWlQFZoeGMqVQbRaOkVueSy7DKCv/a1W1OuykStw9vhJffzAYofOjIapip2macSvIh7k5fznn3WXW7236LcGakTW0BSq13wRCnYxHRisqhoNDJa09GAzzXzDK/5D2jP/ZOQn3Cp+9UGrE9pV1g1crWFdkf5RIXsxx+83AvgMLMdTHDmLVI5xaFoqOvj0w/Wiy0W8Dywal9ttw9oTkR4YDkxzEDg669hXh9ItBef0w1q9di7X5Put2ntddocOuB4b0ZYm76ga2rj+GTHYodc8v2Gg5Aj/PDUITGYdrERtwQsnK/HslIizfxeBmpn6Pw9pS2Q8z9h3AwqE+sBOr8OjUMoR29EWP6UeRrBOy8r80PON/Ik+6V35yN8s2lfgv7Zlmal1SsRer8egRby/EzNBwD5/CUeL64fUFdLN27TrsPP9Id00xlKePKBObyEL8zq/Qw6crZj3ohCnLl2HWuK5wNVxCywRKIt+ywhw7MA27HkPQlyU1qhtbsf6YRrLY88tGWI74GXODmkDGXUPEhhO8l8DfKyNg+e5g6ItWqXUeTO2PjAdfsQMcdN/slSQ0iBz64uuJrWDz7Dx+DB6H3wtrt7gy/Gbsw4GFQ+FjJ4bq0SksC+0I3x7TcTSnY5cYO/QY0hfOEhVubF0PrZj24JeNlhjx81wENZGBuxaBDVoDxMoIS7w7uJnet8tlrzeTMUEu5vg79aNHGj9JzPaV5Wn8Vm/gw+BW4NcpeJqWpj0m84aPh5z5EMITVg9j5sbX7wmrn8jaS3OtMVSXtmP3FaCJfy82mNYdLIL0v6djxNLqmL11CtqbvGzki/QTxVP+Ma70+Ux5+5ZcsuKx86se8Ok6Cw86TcHyZbMwrqsry+ZefZ5LLsNTRv43K34nvurhg66zHqDTlOVYNmscupoTpM3O+cs37y6zARmkbHCh+8lf4uSknQvP3cSVKwrNsfxwHO9yRKhQy7WMpyeWAouKrA0iqFPP4uRFbec2Ribr8HrTR82G/1aO3yxXXMkNDWpJSiEvZhwtQrAq+iL2zQ6CT2UxshP34Zv+w7H6Tjl1J4kTnLSVxc0rV2C0thynCSiiCrXgWkLlVhq2HRnZ2cjO91FcnKm7Igcr+A0dgPpSDok71mF/agLWLzqCZqHD0ahxIN5raQEuYRvWH3qAP1buhXPgQDQw88sdceUWCFkVjYv7ZiPIpzLE2YnY901/DF99R9MBLSpaa6Zopp49icLNJpMNYEthNWbZpgUqWvPT/VJx9uRF7cDHGJlsMMSqZGFpwf6hxsP4m7lTA4umEoZtzyigm+xsBS7ObKm7pmjK10eU1iY43FgZiA79Z+PBu2sQ/rmfkS0nTMd8+ZYV5tmBSVj5YeiA+pByidixbj9SE9Zj0ZFmCB3eCI0D30NLCw4J29bj0IM/sHKvMwIHNtCbTSCBk5N2ajt38wqMq52DVu0VUMvVWXvILCzQaOIKzOhiz56xBiHDf0VsYb+usqSgRcgqRF/ch9lBPqgszkbivm/Qf/hqlNZ9WvkNxYD6UnCJO7BufyoS1i/CkWahGN6oMQLfawkLLgHb1h/Cgz9WYq9zIAYaGGA56M0cipGLWf7OwlIzjUf9MB43y9X4JahRtw5sRWJUrVFDe0hsj5Zv8O+xcLh365YROaqRwo4/4ZfCadwarXNeMDdAhSvbd+MyGsO/t7ueLRtHcWkxgr+4g5FrfkKPwn5xK4QX5yeK57nEuFLlM8/DtzC4G1gZ2AH9Zz/Au2vC8blf/i06Xm2ej551lNL/cjdWIrBDf8x+8C7WhH8Ov5IE6RLl/OWXd5vkMcx9hNS9EzrUYRmUOgXHD0Uj533BPFS4k3gPnKgiWnXtqHu/oPQQmfQjZeHIPeHFv8WnisW6hbvx0EjD1U/+wJRJm3DX2DcwJqKK/Rc3OTHsOnRHuwollNd/mzF9zgV2hiGvhU5ha3Hy7AYEu8tByX8gfG8yf8ZEmNyMzhszgtQdnTrUYUGOBbPjhxBdsLJQ3UnEPU6Eiq26omOJlcsGqvx7f/k+EklBk5W3GIzAJnKo7+/G6lmzsfRuAMbxG3VK3DAgsD2s1Xexc3EYFkd5I+gdZ9OMXsN/2Dx9Di5ohYxancKw9uRZbAh2h5yS8Uf4XvBSlnt6aV7+VMWuw8LdD430FzWe/DEFkzbdZSGhhJhlm3J4evEv4KoQu24hdhu/GH9MmYRNd8Xw9KgHfmVcZfSf2G+q2UgkBXQjlTKdmSjc8vYRpbIJZRTmTduBRHKFXzdvvamMauPTK4tEVjL5lgnm2IGhZRbuS+VoMTgQTeRq3N+9GrNmL8XdgHF4u6oYErcBCGxvDfXdnVgcthhR3kF4x2AFBCncO3WAVu3Hcci480DiPQ6iiq3QtYTOQyRriJDf5iKgpggP//gMQ6aeKPAF2n+bp2OOtmMz99kJYWtP4uyGYLjLCcl/hMMs92kMeQsMDmwCufo+dq+ehdlL7yJg3NuoKpbAbUAg2lurcXfnYoQtjoJ30Dv5Foooud4KpYAyOaiMDFRNkYs5/k7s6YF6/D4Nymj8Wc7Gn/boMTIknvB7s5buiBRe/frAWwY8jTmHywXyrSz8c+5fJmUrtH27L2obG22p/sX23TGAZw/08WCNLgJV/AaEjDsG/yWL8K6RfewU/+xApN5iOIa8SD9RPOUe40qdzzwf36KMmodpOxJBrn7o5p0XGaAuZe75kvBcchmG+f43f46qRNS8adiRSHD16wZDVRSliXzlmJvzl2neXRDT0ifFM13CRMjW7IhfDPLWGDW6PWxFHO5sW429qbrjOShP40DUI0jqBuHjoNoFK8EEZrqyRbCuaKWZlpCW8qTAfWo1L2GmBI7LZ1yq3PnRat0vOvwKWX17ekPO6n1343iMXHzBIJCrHx3F9PemQvFusMm/spDm+foocHLbn7gtaYBhH/EBmh0qibzoKc5F7sUNvQZbuPbHt6FtmWvPlxiz9mkuUzMZ6FdHZI2KViJWVhpSnhiRuNH75Gg9ajTa24rA3dmG1QUri9MHovBIUhdBHwehtl49CusnHKcrvMiOVARSTwQFtYElPcGOWetgPyIUrTUdVAynfoPwJvO9D3ZtQkz7IejjWMDaNHA6Y1CzuuSJiPD0XCT2GgoZ/b8NRVsW5HMGh1KPvujpLYeIu4uN40di8QUDq8Gjo9Px3lQF3g3W/7WgEEjFEiVeDsT+r2ezZtmmFB59e8JbznR0dyPGj1wMwyo9wtHp72Gq4l0EN5DDpXdftLTkX3aOxJzZx5Guu0yD6jGSU7X1UTx7lq8PFUNhbeEpbx9RGptIi8PVJFa6+jHu3NF7D0lxCwmaeQ0smS3k4UT5T0jKXL6m9yNz7IC3zKJ9aQ5SzyAEtbEEPdmBWevsMSK0tXbQKnZCv0FvssHzA+zaFIP2Q/ogv2jlrUdhdHtb1lfuYNvqvSio9gOIeiRB3aCPEaTvPHQUlK9xJC6D8MuioagrzcCZ74fiox05K3VqoafnELn3hl4bLeDa/1uEajt2rr2pHxzDwrAPMXb6Flwu/JU0I0jhGRSENpaEJztmYZ39CIRqDZCJqR8GaQ0Qm2LaY0if/KtAmqu3whDD1pZfPVaN5OuxBlNynp45gYuaVQWzkZWdd8IUuZjj7+QuvdG3pSX4xXki58zGcUPjx+PkVGZt7Lksx3imryBzUd/G9m0nUTlgIj5snDdwknoNwYhOlaC+/iciL+cbgWYex+5D90HVeiNksKtR36yK245dF4EG/r3RKK/YAqjvR+LjkVvR5KfleJ/5VEPUeBrL9PjFEcidCtNXKfxEYfGdUXhIzRtAqNl9+cl/X4liXOGOSld/vUGMOfkMa602XKvB6TW4xL7FjHqmxV2FNjTcgWFoSND2L47lldpDuZj8ZXcuxtunRU9mBrB7dJcWeJwZ7StNLmOqb+Yx1f8WnqOmIe5qErtfjcd37iBPFQrcStBOt+T0g3Rh5Zib85thp/+dX4cpn07FxosGPblomLEUA0d3Nfun8DqTkPPwXYZ7iRRGdiwtDahFMpEFeYXuydtfhTLowmw/sq/cir4+qr+fhpKiP/Mk5vPy7YtQHBwlsfpVZPWT1OhN845folPhk2nCLxfZOX4fKX4fDn6Tuvl0W3//kOx/aLIPv2mtlDw+PcmeroVLjqQQd36/BdZeUQVybhVA748OpZGBXcjToSp1nBmdu5dZoahiaWZLvmwx2befTEce5jyY1XX3WGpiY0etJkdpNxXMwVx5pSwnfytXCt6mt58WKSh6UiOSV+tPa3M3r2T6W/imbj+FYNqhvz0Hl0S/dq/I2iqhGr3n0fFLpyh88gT65SIv/CLuo2yKXRpAtWQisvAKpT15laWMC7PJz74ytfr6qMG+MtytedSR3z9J5kWTTukrV0EHQlw0OpK1m0M3DfbwMB0uaRn1rCQiSc0htO2J7qAGfi8YRxJL3WjckUL2meHu0sI3dXtsBO/Q2xMrhZb7W5Fr8DY9fbAaR0+iRvJq1H9tzt42HCVHhpA7v3cIa4eogjO1CnifRoeOpMAunuRQtSPNjC7WarQojtJ4NykrR0ZNvj5vsI+HWbbJJVNkiLtGf8wbUQXnVhTw/mgKHRlIXTwdqGrHmZRXpTQ69llTzX4+Iml16jBmAW2NiqErp3fS7MHtyZXfr4iVUdEzgCZ8s47OmbTDKaOItmgoZx9RYptQHKaxmn0EmX279aOZ6yNow4LPaaB/AHV0l5FIJCPPkatpx+rVtJ/f+VIZTZ95attpfC+9spOv2f3ILDsoypfqw65b1pMqiSRUc8g2MhTtZgp0FJPUbRwV1t2yY5dSQC0mRwsvCt2j578yLtBsP3uq3OprMlR7cfIlSl0XoIlRktohtD93M5gUOvRxI60Pq9yWvjqctx9ZynJ/snINpm2GHZsmNZJTtf5rSes+lfT3xIYae4NISi4jdhv4tGJh/nVZz0okktSkIYYGyMQUSI5iKbmNO2J8w2Cz9FY4zw6Nobqajaodqe24RbR56xqaN5HZccBIetudyZTZcv13vqO1h69rrjdNLub5u7Rjn1FTfs9PJsPqHcbQgq1RFHPlNO2cPZjau1bW7EMmquhJARO+oXVFGH92zBzyc6xETs0Dacae+Lw9f7j7dPjbzuTZ4Ws6lKxXbx3Ki+y+ylKq8fZqvT3ElHRlbieyk7lQ0Gbje5TxexFdnt6CZFIPmnjCcO8ifbgnR+mrVnYkkVmStbV1wU8FOUlY2z0/y8szjFMSP1FUnH5Ge0Zo9yGz6bfBMG/JPkNf6Tbt95mcL84kLtDudcja/enJ3MzIvBjH3aJ5mj0oZeQ16ZRB+YoDIeTC26SsHc3JcVQm5zOs6LsL6U2+HuLqFGzYYPN9i5n1VBweq+1PLGa59ZtJ6yM20ILPB5J/QEdyZ/mQSOZJI1fvoNWr92uu5zdZDh9gz2xcRLZvrzPM+Qqh8PZxdGteR80+ZDKvSWTo/g9QiAsfs2TUbs7NvP23zNWDuXo2wTcbwzQ/wyg0R31Kh8fW1cQ7kYUb9Zu5niI2LKDPB/pTQEd3llOISOY5klbvWE2r9ycWUU62eXmVqXaafYGm+DI7ZHqXN59KMSYKpsgBWUb0bzQh+C3y1O0Er1GQrBr5BgynsGWnjAcSfZQ3aOfkAPKuYkPVfXrQsLGjaWBXX2rWeQytPJ/XK7jE/fTTmN7sObzDYc8R21HjfmE0c9Vxg0S4MLjkP+gjb17YrH4SW/IMWkoxd0/Rqs/7k3clbZkiWQ1qN3wqRVxRUvq59fT1IF+y1+wwzgfrZjRo2k5daXy1I2hiF1ey1p3XBESXzjRh1Tl6YkJ98gZkMmo5dCz5eXhTp/6D6J3Ojam2yxs0bOFJMhI3TJaXhpQV9HateuTu7kt9xkylBUt/ox8/6UO+LQJp7vHHGmNRxe+nRVM+JD/eQWnkakNeAWH03dYYne5Y5/vjI/KuyLeTJa62nhS0NIbSir2PR0k3dk6mAO8qZFPdh3oMG0ujB3Yl32adaczK83qJC0eJhxbSuM584s3LUkyOLYbQVytOULLiEoV/+Q552+boyIn8Qn6i/bdz3YkZPKGIwS7kO7mgU3i6ZwTV851M5wt0ChXF719EUz700wwuNbZg40UBYd/R1hi+pSm04u1aVM/dnXz7jKGpC5bSbz9+Qn18W1Dg3OOkvwepRh4RE6mLqzXxKwZr7IZ1bpfOE2jVuSd6ndcYHD04voqOr5pJYf28yU6svV9c2YfeCZtG87blyd0s22T2FDGxC7lai/P6bwUX6jxhFZ3Lf7EqkfZ+04vcbXP6Or+ZelN6f/ku+raVFVVu8CYNm7ycDlxLK6YtDO6BSW3RUK4+oiQ2wcMGHDvGk29lXhb8hsdV2LOm0d5bzyjmh7aaAQvEttR41CY68cdPNKa3Z1477RpTv7CZtOq4vsNmlFq+pehHZtiBUV+aoTupz5MIGuziS5MLjIqfsiSwHpO5kQG4HsobO2lygDdVsalOPj2G0djRA6mrbzPqPGYl5amdtXl/0fLlHhyjXycNI786FbRtE1cm34Gf06wtFyg99TyFf9aZqvNJB98ey1rUIfhr2vBPBnOfb1Oteu7k7tuHxkxdQEt/+5E+6eNLLQLn0vHcjq2im0t6kiO/kT+7X1r/IzpWdEZdgCcRg8mF2VlBMe2hEfWY/IwboBZz+m9hsL548Js3yUmubQO/EbBP8G/0zxOWkPtUIuc3AmjMjJW077J251PT5MJjjr9TUeLeb6iXuy0bmOjaIbOnpu8vp13ftiKryg3ozWGTafmBa5RWRLNUCavoHWe51jbFFalO6940MOg9Cgh4j8b8uI8SCtUNR4//mkP9PWtQw76f0TwWK+eM70r1Xf1o4tY4MmbeGjSb4cpJ6j6BogorWxVHv/aomtuuwj4ii5Y047IJcc0MP5FVRJx+ys798sW7eflPRQ8K+PRH2hWrpOSTa2jK+62oqq5fiB1a0NDJK+iv+0r69/fpNLqzC8k17ZFQtbYj6dvlUbrNyU3TOZd4iBaO65wXUx1b0JCvVtCJZAVdCv+S3vG21QzC+S8DnPxC6Kf9t03KZ1hCQ/sXTaEP/fJ8oI1XAIV9t5U04VqHab6lhPVkif2O8b5UmfcJ/CbvVZg/mraXbj2LoR/aav2m2LYxjdp8g5JPrKIpIaz/8hs2s+OiCvXJ/6MZtPZkcr7+oaOo9mUk0qGF46hzrq4dqcWQr2jFiWRSXAqnL9/xJluNj2T24uRHIT/tL1n7NJii5+J9c1GY7meM56h8n+WSdtB438qavidiA+QqjfvRtL236FnMD9RWc72YbBuPos3xvI8tvBwek/MqU+yUR5VAS3rwXzaJqUrv5SZvJi/i/8MqUL5kJeN6zL9IzJDB0a0RPGpa55uiUQYo7uPy+evIrOaFZnUrF/g51XzUSL99CTEJaajg5AEPVwdYmlppLg7ftfXGF9Fi9FmTjN/7PsL5c/HItK4Nz8b14JB/RkN+TJGXOhMZCktYWxGeJsXhyvXHoKoN4O1eDVZmCldx/zLOX89ENa9mqFvZXMllIfl6DP5NzIDM0Q2NPGrCusyVaxpc0nUk2Lihno3uQA5cEuLirVHfrZKZdqdGZoYCltZWoKesjCvX8ZiqooG3O6oVJmR1Om5fikFCWgU4eXjA1cGy7G3dTNtUp9/GpZgEpFVwgoeHKxyKuFidcReXL1xDMjmgvo83nKwVSEp4Avs6NU3cKqCElJOPKI1NqFITEBObAnuvJnCxybkqHQmnY5BS1RuNXWzM9jMvTL4Mk+3AJF/KIel6Amzc6mn2stGHY/4o3ro+3CoVr8Gs5OuI+TcRGTJHuDXyQM3n5DzUmRlQWFrDip4iKe4Krj8mVG3gDfdqVvnsgUP63QQ8iFuK9762xdpjX5i31Dyzs+sJNnAraIDsufGwru+G4sRkTv8tDMWjq4i5ng6Hhk2Yj+fn3mXg3l0lqjrZG+jXdLnoMMffqTNw9/IFXEsmONT3gbeTNRRJCXhiXwc1TTV+RRLOR53Avw+yYVvbA428PVCncnEBVYf6P1w/cQxnEp7B1tUbvj4NCvfjPOpkxJ2Kw5NK9dHSo+Dm4uXJi/QTxVIeMa4M85kcys+3qJCaEIPYFHt4NXFBXmhIwOmYFFT1bszihbmR4SWkHHMZc/1MoTmqKhUJMbFIsfdCExaP81RxGjEpVeHdmOlH7/Kic10T8ipz7PRpPE6eeYyab7RAbRMXfnw+A7LXDYMB2RNsH/z/YUFUAQEBgdeRTJz5NgDfVf8Vm0cZf9dIQEBAQECgNJTVgFdAQEBAQOD/Gen4Z/EoTHkcggUjhcGYgICAgED5IAzIygPN6nLaP7OURpZfFRAQEBB4+Um/iCu2H2Ht/L5wEqKlgICAgEA5IYSYckBx4xD+vsmvi6lCzOE/cTffarsCAgICAq8ANm0xcJAvKguRUkBAQECgHBHeIStTONza8yPm77qOdM3+SzwiSK0dUK/zB5jQU5jyIiAgICAgICAgICCQhzAgExAQEBAQEBAQEBAQeEEIEzEEBAQEBAQEBAQEBAReEMKATEBAQEBAQEBAQEBA4AUhDMgEBAQEBAQEBAQEBAReEJIpDN3fAgao8SBqKeasOAHOzRd1K5Xz2FX9AFFL52DFCQ5uvnVR3o8zFfWDKCydswInODf41q302ozgFUlnsHv9ATyq6w2XCiLd0dcEjoNKrYZa78O/aSoW55eDCqnx5xB14AjO31PAws4R9hUKW7aGA6cyLLPAR/sQ8E9Rszpw+c4TifnTz53S9IHX2o6eE9x/N/H3zvU4nFIfjWtX0NjPq8tzjjsCJpF55wS2rVmNDVt348i5W8hyrAe3Kpa6s0XBIf1ODE4cOoTom+kQ29rDoaK85DaqZn6RM/SLanUWUi5GIDLeFV615LoLnx+q+ENYGxEHq8ZucCgTczUhVhj9EIgFiJwqvFDfy/2Hm3/vxPrDKajfuDZeddf/uuaBzx1+UQ8BIygO0mgXCZ8hkv3ACMrQHS4vFAdHk4sEBLE9DYwo76eZioIOjnYhlmKT2H4gvTTVKjfS6OTiD6lX89pkIxURZG1p1nWV7tzrwkNa0s2C2b2IZDV8yf+dQAoMDKSgSVsoIVcUHKWcXEiDmzmQVMRsltkH/xHJq1OrUasoJl13WS5KOvGpB0l11xX6kXnTl2eyWfFJtH3yYM1z3+vXmbzspcTiGck7zqVbnK7I50ZJ+oBgR+UOs5GDc8fRgI4NqYqFiNmHjNr/GM8s8xXnOccdgeJQ0OXlg6h5h9G0Ym8k/TayKVVkPk9k3ZymnGa+qgjS/1lBH7SuQXJ9HymxI49+39Hh+yWwVO42/dbDjlgynOczdR+xfQCtLkmZpeXZOZrRxpZEFr1p9VPdsVKhohuz25LMSBuL/1hQz5V3X6Dv5Sjp4FwaN6AjNaxiQSKmd1n7Hyn+1XdKr1ke+KIg+j9RbyV9C0p9lgAAAABJRU5ErkJggg==)"
      ],
      "metadata": {
        "id": "nBaZR04RXlW5"
      }
    },
    {
      "cell_type": "markdown",
      "source": [
        "For the activation function, we used the Gaussian Error Linear Unit (GELU)<br>\n",
        " attention dropouts with a rate of 0.1 for regularization<br>\n",
        "Also an excerpt from GPT-1 Paper"
      ],
      "metadata": {
        "id": "Z2kEWc0latoI"
      }
    },
    {
      "cell_type": "code",
      "source": [
        "class FeedForward(nn.Module):\n",
        "    def __init__(self, dropout, d_model=768, nx=768*4):\n",
        "        super().__init__()\n",
        "        self.c_fc    = Conv1D(d_model, nx)\n",
        "        self.c_proj  = Conv1D(nx, d_model)\n",
        "        self.act     = F.gelu\n",
        "        self.dropout = nn.Dropout(dropout)\n",
        "\n",
        "    def forward(self, x):\n",
        "        return self.dropout(self.c_proj(self.act(self.c_fc(x))))"
      ],
      "metadata": {
        "id": "3MlDiWrBYKjl"
      },
      "execution_count": null,
      "outputs": []
    },
    {
      "cell_type": "markdown",
      "source": [
        "# Attention\n",
        "In the paper they mentione to use the dot product attention that wa slaso mentioned in the paper of attention is all you need which calculate sthe attention based on formula mentioned above <br>\n",
        "There can be multiple heads of attentions which we call multi head attention<br>\n",
        "Multi-head attention enhances neural networks by allowing them to focus on different aspects of input sequences simultaneously, and where multiple attention heads operate in parallel to capture diverse patterns and dependencies."
      ],
      "metadata": {
        "id": "EMZ5eAM7bGXb"
      }
    },
    {
      "cell_type": "code",
      "source": [
        "class Attention(nn.Module):\n",
        "    def __init__(self, d_model=768, n_head=12, n_ctx=1024, d_head=64, bias=True, scale=False):\n",
        "        '''Constructor funtion\n",
        "        Params:\n",
        "        d_model:The dimension that needs to be feed into our model\n",
        "        n_head:The number of heads for attention\n",
        "        n_ctx:a parameters for buffer registry for bias\n",
        "        d_head:the dimension head output\n",
        "        bias:A bool for including or not including bias\n",
        "        scale: Whether to scale the attention scores by the square root of the dimension of the queries(use sqrt(dk) or not) \"\n",
        "        '''\n",
        "        super().__init__()\n",
        "        self.n_head  = n_head\n",
        "        self.d_model = d_model\n",
        "        self.c_attn  = Conv1D(d_model, d_model*3)\n",
        "        self.scale   = scale\n",
        "        self.softmax = nn.Softmax(dim=-1)\n",
        "        self.register_buffer(\"bias\", torch.tril(torch.ones(n_ctx, n_ctx)).view(1, 1, n_ctx, n_ctx))\n",
        "        self.dropout = nn.Dropout(0.1)\n",
        "        self.c_proj  = Conv1D(d_model, d_model)\n",
        "\n",
        "    def split_heads(self, x):\n",
        "        \"\"\"\n",
        "        spliting inyo given number of heads and then returning\n",
        "        return shape [`batch`, `head`, `sequence`, `features`]\n",
        "        \"\"\"\n",
        "        new_shape = x.size()[:-1] + (self.n_head, x.size(-1)//self.n_head)\n",
        "        x = x.view(*new_shape)\n",
        "        return x.permute(0, 2, 1, 3)\n",
        "\n",
        "    def _attn(self, q, k, v, attn_mask=None):\n",
        "        \"\"\"The main attention function\n",
        "        That claculates the attention using our dot product formula\"\"\"\n",
        "        scores  = torch.matmul(q, k.transpose(-2, -1))# dot multiplication between q and k transpose\n",
        "        if self.scale: scores = scores/math.sqrt(v.size(-1))# scaling it by dividing by sqrt(dk)\n",
        "        nd, ns  = scores.size(-2), scores.size(-1)\n",
        "        if attn_mask is not None: scores = scores + attn_mask# adding scores with attention mask values\n",
        "        scores  = self.softmax(scores)# adding softmax values\n",
        "        scores  = self.dropout(scores) #dropout of 0.1 as mentioned\n",
        "        outputs = torch.matmul(scores, v) # now the final matrix multiplication between score and V\n",
        "        return outputs\n",
        "\n",
        "    def merge_heads(self, x):\n",
        "        # merging the attention heads into one\n",
        "        x = x.permute(0, 2, 1, 3).contiguous()\n",
        "        new_shape = x.size()[:-2] + (x.size(-2)*x.size(-1),)\n",
        "        return x.view(*new_shape)\n",
        "\n",
        "    def forward(self, x):\n",
        "        '''The feed forward function that calculates the attention, split the heads, make attention, merge heads and project out the output '''\n",
        "        x        = self.c_attn(x) #new `x` shape - `[1,3,2304]`\n",
        "        q, k, v  = x.split(self.d_model, dim=2)\n",
        "        q, k, v  = self.split_heads(q), self.split_heads(k), self.split_heads(v)\n",
        "        out      = self._attn(q, k, v)\n",
        "        out      = self.merge_heads(out)\n",
        "        out      = self.c_proj(out)\n",
        "        return out"
      ],
      "metadata": {
        "id": "go4SLzqCbhUS"
      },
      "execution_count": null,
      "outputs": []
    },
    {
      "cell_type": "markdown",
      "source": [
        "# GPT-2 Architecture\n",
        "The GPT architetcure consisted of using transformer blocks here is a archietecture from paper itself\n"
      ],
      "metadata": {
        "id": "BSZsr--wiQ64"
      }
    },
    {
      "cell_type": "markdown",
      "source": [
        "![image.png](data:image/png;base64,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)"
      ],
      "metadata": {
        "id": "UaKTeOqeiiet"
      }
    },
    {
      "cell_type": "markdown",
      "source": [
        "As in the image we can see that the trasnformer consists of masked multi self attention which means the use of attention masks with self attention with a skip connection, a layer normalization, the feed forward block following a layer normalization again which is being repeated 12 times<br>\n",
        "The difference between the GPT-1 and GPT-2 was that Layer normalization\n",
        "was moved to the input of each sub-block and skip connections over all"
      ],
      "metadata": {
        "id": "sRiSuu4ZijV0"
      }
    },
    {
      "cell_type": "code",
      "source": [
        "class TransformerBlock(nn.Module):\n",
        "    def __init__(self, d_model=768, n_head=12, dropout=0.1):\n",
        "        super(TransformerBlock, self).__init__()\n",
        "        self.attn        = Attention(d_model=768, n_head=12, d_head=64, n_ctx=1024, bias=True, scale=False)\n",
        "        self.feedforward = FeedForward(dropout=0.1, d_model=768, nx=768*4)\n",
        "        self.ln_1        = LayerNorm(d_model)\n",
        "        self.ln_2        = LayerNorm(d_model)\n",
        "\n",
        "    def forward(self, x):\n",
        "        x = x + self.attn(self.ln_1(x))\n",
        "        x = x + self.feedforward(self.ln_2(x))\n",
        "        return x"
      ],
      "metadata": {
        "id": "fppAMu0TifhB"
      },
      "execution_count": null,
      "outputs": []
    },
    {
      "cell_type": "code",
      "source": [
        "def _get_clones(module, n):\n",
        "    '''Here we can make certain copies of transformers'''\n",
        "    return ModuleList([copy.deepcopy(module) for i in range(n)])"
      ],
      "metadata": {
        "id": "4B-0t1Upn9vu"
      },
      "execution_count": null,
      "outputs": []
    },
    {
      "cell_type": "code",
      "source": [
        "class GPT2(nn.Module):\n",
        "    def __init__(self, nlayers=12, n_ctx=1024, d_model=768, vcb_sz=50257):\n",
        "        '''nlayer:The number of times the tarnsformer needs to get cloned\n",
        "        n_ctx:The highest length that can be these to get teh string positional embeddings\n",
        "        d_model:The dimenionalities for model\n",
        "        vcb_sz:The vocablury size which can be later altered while training'''\n",
        "        super(GPT2, self).__init__()\n",
        "        self.nlayers = nlayers\n",
        "        block        = TransformerBlock(d_model=768, n_head=12, dropout=0.1)\n",
        "        self.h       = _get_clones(block, 12)\n",
        "        self.wte     = nn.Embedding(vcb_sz, d_model)\n",
        "        self.wpe     = nn.Embedding(n_ctx, d_model)\n",
        "        self.drop    = nn.Dropout(0.1)\n",
        "        self.ln_f    = LayerNorm(d_model)\n",
        "        self.out     = nn.Linear(d_model, vcb_sz, bias=False)\n",
        "        self.loss_fn = nn.CrossEntropyLoss()\n",
        "        self.init_weights()\n",
        "\n",
        "    def init_weights(self):\n",
        "        '''Initialization of weights'''\n",
        "        self.out.weight = self.wte.weight\n",
        "        self.apply(self._init_weights)\n",
        "\n",
        "    def _init_weights(self, module):\n",
        "        '''If the Linear, Embedding and Conv1D then nomrally initializing with mean and S.D'''\n",
        "        if isinstance(module, (nn.Linear, nn.Embedding, Conv1D)):\n",
        "            module.weight.data.normal_(mean=0.0, std=0.02)\n",
        "            if isinstance(module, (nn.Linear, Conv1D)) and module.bias is not None:\n",
        "                '''Data Bias zero'''\n",
        "                module.bias.data.zero_()\n",
        "        elif isinstance(module, nn.LayerNorm):\n",
        "            module.bias.data.zero_()\n",
        "            module.weight.data.fill_(1.0)\n",
        "\n",
        "    def forward(self, src, labels=None, pos_ids=None):\n",
        "        '''Adding the positional embedding, dropping, then adding inputs, logits and outputs which are being used for loss function and then adding outputs and loss'''\n",
        "        if pos_ids is None:\n",
        "            pos_ids = torch.arange(0, src.size(-1)).unsqueeze(0)\n",
        "        pos_ids = pos_ids.to(src.device)  # Ensure pos_ids is on the same device as src\n",
        "        inp = self.drop((self.wte(src) + self.wpe(pos_ids)))\n",
        "        for i in range(self.nlayers): inp = self.h[i](inp)\n",
        "        inp     = self.ln_f(inp)\n",
        "        logits  = self.out(inp)\n",
        "        outputs = (logits,) + (inp,)\n",
        "\n",
        "        if labels is not None:\n",
        "            shift_logits = logits[..., :-1, :].contiguous()\n",
        "            shift_labels = labels[..., 1:].contiguous()\n",
        "            loss = self.loss_fn(shift_logits.view(-1, shift_logits.size(-1)), shift_labels.view(-1))\n",
        "            outputs = (loss,) + outputs\n",
        "            return loss.mean()\n",
        "        return logits"
      ],
      "metadata": {
        "id": "CH-Sk4zyn72W"
      },
      "execution_count": null,
      "outputs": []
    },
    {
      "cell_type": "markdown",
      "source": [
        "# Valdiating our loaded model"
      ],
      "metadata": {
        "id": "_wGOKNWewtX7"
      }
    },
    {
      "cell_type": "code",
      "source": [
        "model = GPT2()\n",
        "# load pretrained_weights from hugging face\n",
        "\n",
        "model_dict = model.state_dict() #currently with random initialization\n",
        "state_dict = torch.load(\"/content/drive/MyDrive/gpt2-pytorch_model.bin\") #pretrained weights"
      ],
      "metadata": {
        "id": "Niq_O4gfwuu4"
      },
      "execution_count": null,
      "outputs": []
    },
    {
      "cell_type": "code",
      "source": [
        "old_keys = []\n",
        "new_keys = []\n",
        "for key in state_dict.keys():\n",
        "    if \"mlp\" in key: #The hugging face state dict references the feedforward network as mlp, need to replace to `feedforward` be able to reuse these weights\n",
        "        new_key = key.replace(\"mlp\", \"feedforward\")\n",
        "        new_keys.append(new_key)\n",
        "        old_keys.append(key)\n",
        "\n",
        "for old_key, new_key in zip(old_keys, new_keys):\n",
        "    state_dict[new_key]=state_dict.pop(old_key)\n",
        "\n",
        "pretrained_dict = {k: v for k, v in state_dict.items() if k in model_dict}\n",
        "\n",
        "model_dict.update(pretrained_dict)\n",
        "model.load_state_dict(model_dict)\n",
        "model.eval() #model in inference mode as it's now initialized with pretrained weights"
      ],
      "metadata": {
        "colab": {
          "base_uri": "https://localhost:8080/"
        },
        "id": "YBx7OAlYxx6O",
        "outputId": "e1008708-e4b0-4847-ebf7-3d16ec02a1e1"
      },
      "execution_count": null,
      "outputs": [
        {
          "output_type": "execute_result",
          "data": {
            "text/plain": [
              "GPT2(\n",
              "  (h): ModuleList(\n",
              "    (0-11): 12 x TransformerBlock(\n",
              "      (attn): Attention(\n",
              "        (c_attn): Conv1D()\n",
              "        (softmax): Softmax(dim=-1)\n",
              "        (dropout): Dropout(p=0.1, inplace=False)\n",
              "        (c_proj): Conv1D()\n",
              "      )\n",
              "      (feedforward): FeedForward(\n",
              "        (c_fc): Conv1D()\n",
              "        (c_proj): Conv1D()\n",
              "        (dropout): Dropout(p=0.1, inplace=False)\n",
              "      )\n",
              "      (ln_1): LayerNorm((768,), eps=1e-05, elementwise_affine=True)\n",
              "      (ln_2): LayerNorm((768,), eps=1e-05, elementwise_affine=True)\n",
              "    )\n",
              "  )\n",
              "  (wte): Embedding(50257, 768)\n",
              "  (wpe): Embedding(1024, 768)\n",
              "  (drop): Dropout(p=0.1, inplace=False)\n",
              "  (ln_f): LayerNorm((768,), eps=1e-05, elementwise_affine=True)\n",
              "  (out): Linear(in_features=768, out_features=50257, bias=False)\n",
              "  (loss_fn): CrossEntropyLoss()\n",
              ")"
            ]
          },
          "metadata": {},
          "execution_count": 14
        }
      ]
    },
    {
      "cell_type": "code",
      "source": [
        "total_params = sum(p.numel() for p in model.parameters())\n",
        "\n",
        "# Calculate size in bytes and megabytes\n",
        "size_bytes = total_params * 4  # Assuming float32 parameters, where each parameter is 4 bytes\n",
        "size_mb = size_bytes / (1024 ** 2)\n",
        "\n",
        "print(f\"Total size of the GPT-2 without any altertaions is: {size_bytes} bytes or {size_mb:.2f} MB\")"
      ],
      "metadata": {
        "colab": {
          "base_uri": "https://localhost:8080/"
        },
        "id": "leVm-DyeB9Y8",
        "outputId": "6946f54c-adc5-4421-aab9-fa840a85a4b6"
      },
      "execution_count": null,
      "outputs": [
        {
          "output_type": "stream",
          "name": "stdout",
          "text": [
            "Total size of the GPT-2 without any altertaions is: 497759232 bytes or 474.70 MB\n"
          ]
        }
      ]
    },
    {
      "cell_type": "markdown",
      "source": [
        "# Generating Text\n",
        "This is being used for generating text with the encoder from hugging face, then getting the logits, parsing them through softmax and then getting the context by adding context to our next token, time is also being calculated for inference with the inference time and decoded tetx as output"
      ],
      "metadata": {
        "id": "c38bDuMz8DSD"
      }
    },
    {
      "cell_type": "code",
      "source": [
        "tokenizer = GPT2Tokenizer.from_pretrained(\"gpt2\")\n",
        "context = torch.tensor([tokenizer.encode(\"The planet earth\")])\n",
        "\n",
        "def generate(context, ntok=20):\n",
        "    start_time = time.time()\n",
        "    for _ in range(ntok):\n",
        "        out = model(context)\n",
        "        logits = out[:, -1, :]\n",
        "        indices_to_remove = logits < torch.topk(logits, 10)[0][..., -1, None]\n",
        "        logits[indices_to_remove] = np.NINF\n",
        "        next_tok = torch.multinomial(F.softmax(logits, dim=-1), num_samples=1).squeeze(1)\n",
        "        context = torch.cat([context, next_tok.unsqueeze(-1)], dim=-1)\n",
        "    end_time = time.time()\n",
        "    inference_time = end_time - start_time\n",
        "    return context, inference_time\n",
        "\n",
        "out, inference_time = generate(context, ntok=20)\n",
        "decoded_output = tokenizer.decode(out[0])\n",
        "\n",
        "print(f\"Inference Time: {inference_time:.4f} seconds\")\n",
        "print(f\"Generated Output: {decoded_output}\")"
      ],
      "metadata": {
        "colab": {
          "base_uri": "https://localhost:8080/",
          "height": 180,
          "referenced_widgets": [
            "087cd54676ed4b02af3234a80d30d820",
            "ae394a0764be455e9646a443263be335",
            "476642d09e53403ca5ab783f403fd5ef",
            "c93a9504a6ce45958fddc01d1192e5c5",
            "94eba0bf09dd46a0bddfeb5499f650b5",
            "ec424304d0d7473ca75990733e2182cd",
            "d38d767dbb8e47ce95162639e4755135",
            "b872a5b9ba6241de88ae4fede8d8781c",
            "ec24c4224dc343a696f4928f1bc97f19",
            "222b4fb5f72f4f75b8c7d94875cb711e",
            "30b4eefadfe242b98085c3bbd5ed31ca",
            "22492ee55c0f45588409ce01b9ed53e6",
            "c7664e569d674af78af0a87ef949420e",
            "aa02331f72274c3a864c834b217db458",
            "dbcb8c3ffeb54c9f8878d1ea7882c61f",
            "5807ea647a644f3d8cc7b7fb161993ec",
            "b0d912a8bbbb4b3086033b8fe5930534",
            "2a19b91875d64951a99aaed00a6761d6",
            "7637bce874314a2db1038aae9c06f673",
            "0b58881ba89541a38d200eb7d7963643",
            "43856704d8c246449e1047cb90ed985b",
            "9cb38ed7a3164f148d7d961c072a1704",
            "6c529dad99da4c3d8ffc2328d0b433fc",
            "c32502bcec3340e682beb36385236f9b",
            "f26e48572ff8484a9deec1f5e043d5ae",
            "7d71bad039b84bb0b9564f570a78d6a5",
            "718285e0ed3b480f83aad9ecf794aed4",
            "5db9b518f2e7427da063569e4fd6e5cc",
            "127a5519003b44278c7f04307169e4c7",
            "eaf1ed8ab2e247be944b3f9c0f140f80",
            "af91489c3e9c4a5c9dae284ba005cd16",
            "b73b3742037e4d7793d8a313b3cc0731",
            "d7c350e3a07c40f783ce1eae1ab07244",
            "9dc89f54ad0a496398ae8a5b5e88fdd7",
            "c1f4a2e6a5e64d579068acc71d6659c1",
            "825572586d984859ac1e391537fc0eae",
            "d88b7d25dab84ce4a56634f1694b5054",
            "09743bfb25e04f578e684ec6aff85ee6",
            "5220f0505f1445259260b7a6d39b5238",
            "cb7c25109d9d42e3978a5a7322c1f0f5",
            "0a54c5fb62ce4aa9a1b4e8e64949126e",
            "c45cbbfc8e4540b6a5eb05b969f450f0",
            "5750639d27134fb2b58ee28415803932",
            "d0db9c221e674b398eac2e44ba156904"
          ]
        },
        "id": "xV142khO7-C6",
        "outputId": "4b4651a2-9aa1-4ace-b623-fb551fe80199"
      },
      "execution_count": null,
      "outputs": [
        {
          "output_type": "display_data",
          "data": {
            "text/plain": [
              "vocab.json:   0%|          | 0.00/1.04M [00:00<?, ?B/s]"
            ],
            "application/vnd.jupyter.widget-view+json": {
              "version_major": 2,
              "version_minor": 0,
              "model_id": "087cd54676ed4b02af3234a80d30d820"
            }
          },
          "metadata": {}
        },
        {
          "output_type": "display_data",
          "data": {
            "text/plain": [
              "merges.txt:   0%|          | 0.00/456k [00:00<?, ?B/s]"
            ],
            "application/vnd.jupyter.widget-view+json": {
              "version_major": 2,
              "version_minor": 0,
              "model_id": "22492ee55c0f45588409ce01b9ed53e6"
            }
          },
          "metadata": {}
        },
        {
          "output_type": "display_data",
          "data": {
            "text/plain": [
              "tokenizer.json:   0%|          | 0.00/1.36M [00:00<?, ?B/s]"
            ],
            "application/vnd.jupyter.widget-view+json": {
              "version_major": 2,
              "version_minor": 0,
              "model_id": "6c529dad99da4c3d8ffc2328d0b433fc"
            }
          },
          "metadata": {}
        },
        {
          "output_type": "display_data",
          "data": {
            "text/plain": [
              "config.json:   0%|          | 0.00/665 [00:00<?, ?B/s]"
            ],
            "application/vnd.jupyter.widget-view+json": {
              "version_major": 2,
              "version_minor": 0,
              "model_id": "9dc89f54ad0a496398ae8a5b5e88fdd7"
            }
          },
          "metadata": {}
        },
        {
          "output_type": "stream",
          "name": "stdout",
          "text": [
            "Inference Time: 4.3494 seconds\n",
            "Generated Output: The planet earth is going to do something. about. into something about my own. is the go on is thing\n"
          ]
        }
      ]
    },
    {
      "cell_type": "markdown",
      "source": [
        "# Changing the rotatory transformer\n",
        "The main difference between positional and rortatory embeddings is the rotational component like a circle with a certain radius and a angle to differ between different embeddings, it is helpful as it combines both the positional and rotational embedding like this"
      ],
      "metadata": {
        "id": "eGpKePoB_Htg"
      }
    },
    {
      "cell_type": "markdown",
      "source": [
        "![image.png](data:image/png;base64,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)"
      ],
      "metadata": {
        "id": "HU_hw49maOZq"
      }
    },
    {
      "cell_type": "markdown",
      "source": [
        "![image.png](data:image/png;base64,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)"
      ],
      "metadata": {
        "id": "h8CDhxeWaUR3"
      }
    },
    {
      "cell_type": "markdown",
      "source": [
        "## Helper functions\n",
        "Here are the helper function that we need to implement it in our original implementation"
      ],
      "metadata": {
        "id": "PxpWpVPMaclF"
      }
    },
    {
      "cell_type": "code",
      "source": [
        "def exists(val):\n",
        "    return val is not None\n",
        "\n",
        "def default(val, d):\n",
        "    return val if exists(val) else d\n",
        "\n",
        "def broadcat(tensors, dim = -1):\n",
        "    broadcasted_tensors = broadcast_tensors(*tensors)\n",
        "    return torch.cat(broadcasted_tensors, dim = dim)"
      ],
      "metadata": {
        "id": "JPi0t1Ys9SXn"
      },
      "execution_count": null,
      "outputs": []
    },
    {
      "cell_type": "code",
      "source": [
        "def rotate_half(x):\n",
        "    '''The initial step of our roformer includes use of In order to generalize our results in 2D to any xi ∈ R\n",
        "  d where d is even, we divide the d-dimension space into d/2\n",
        "  sub-spaces and combine them in the merit of the linearity of the inner product, turning f{q,k} into\n",
        "  The above was excerpt from paper which involves splitting into d/2'''\n",
        "    x = rearrange(x, '... (d r) -> ... d r', r = 2)\n",
        "    x1, x2 = x.unbind(dim = -1)\n",
        "    x = torch.stack((-x2, x1), dim = -1)\n",
        "    return rearrange(x, '... d r -> ... (d r)')"
      ],
      "metadata": {
        "id": "iqHXCBep8ISn"
      },
      "execution_count": null,
      "outputs": []
    },
    {
      "cell_type": "code",
      "source": [
        "def apply_rotary_emb(freqs, t, start_index = 0, scale = 1., seq_dim = -2):\n",
        "    '''a function for applying the rotatory embeddings frst getting the rotation dimension and sequence length\n",
        "    getting the end index by adding the start index and rotation dimension as mentioned above,\n",
        "    the t left, t and t right with the before token segment, during token segment and after token segment\n",
        "    Applies the rotational embedding to the central portion of t.\n",
        "    The rotation involves a combination of cosine and sine operations using the specified frequencies and scaling factor.  '''\n",
        "    rot_dim, seq_len = freqs.shape[-1], t.shape[seq_dim]\n",
        "    freqs = freqs[-seq_len:].to(t)\n",
        "    end_index = start_index + rot_dim\n",
        "    t_left, t, t_right = t[..., :start_index], t[..., start_index:end_index], t[..., end_index:]\n",
        "    t = (t * freqs.cos() * scale) + (rotate_half(t) * freqs.sin() * scale)\n",
        "    return torch.cat((t_left, t, t_right), dim = -1)"
      ],
      "metadata": {
        "id": "--2Kgh_IcRzd"
      },
      "execution_count": null,
      "outputs": []
    },
    {
      "cell_type": "code",
      "source": [
        "def apply_learned_rotations(rotations, t, start_index = 0, freq_ranges = None):\n",
        "    '''Learning rotations by frequency handling by scaling out the rotations  this rearrangement helps in combining the rottations into one\n",
        "    now repeating the rotations by replicating the rotations and then applying the rotatory embeddings'''\n",
        "    if exists(freq_ranges):\n",
        "        rotations = einsum('..., f -> ... f', rotations, freq_ranges)\n",
        "        rotations = rearrange(rotations, '... r f -> ... (r f)')\n",
        "\n",
        "    rotations = repeat(rotations, '... n -> ... (n r)', r = 2)\n",
        "    return apply_rotary_emb(rotations, t, start_index = start_index)"
      ],
      "metadata": {
        "id": "arZdgnLbeRa7"
      },
      "execution_count": null,
      "outputs": []
    },
    {
      "cell_type": "code",
      "source": [
        "class RotaryEmbedding(nn.Module):\n",
        "    def __init__(\n",
        "        self,\n",
        "        dim,\n",
        "        theta = 10000,\n",
        "        max_freq = 10,\n",
        "        num_freqs = 1,\n",
        "        interpolate_factor = 1.,\n",
        "        theta_rescale_factor = 1.,\n",
        "    ):\n",
        "        '''This is a constructor class for our rotatory embeddings\n",
        "        theta: the angle for rotation\n",
        "        max_freq:the max frequency for rotation\n",
        "        num_freq:the number of times frequencies need to be iterated\n",
        "        interpolate factor: A factor used to control the value of positional embedding if it is low or high\n",
        "        theta_rescale_factor:As the theta decays with the learning so we need to rescale it for decaying\n",
        "        '''\n",
        "        super().__init__()\n",
        "        theta *= theta_rescale_factor ** (dim / (dim - 2))\n",
        "\n",
        "\n",
        "        freqs = 1. / (theta ** (torch.arange(0, dim, 2)[:(dim // 2)].float() / dim))\n",
        "\n",
        "        self.cache = dict()\n",
        "        self.cache_scale = dict()\n",
        "        self.freqs = nn.Parameter(freqs)\n",
        "\n",
        "\n",
        "        # default sequence dimension\n",
        "\n",
        "        self.default_seq_dim = -2\n",
        "\n",
        "        # interpolation factors\n",
        "\n",
        "        assert interpolate_factor >= 1.\n",
        "        self.interpolate_factor = interpolate_factor\n",
        "\n",
        "        # xpos\n",
        "        self.register_buffer('scale', None)\n",
        "\n",
        "\n",
        "        scale = (torch.arange(0, dim, 2) + 0.4 * dim) / (1.4 * dim)\n",
        "        self.register_buffer('scale', scale)\n",
        "\n",
        "    def get_seq_pos(self, seq_len, device, dtype, offset = 0):\n",
        "        '''\n",
        "        The function to get the seq positonal embedding using torch.arange which uses [end-start]/start dividing by interpolation factor to control its value\n",
        "         '''\n",
        "        return (torch.arange(seq_len, device = device, dtype = dtype) + offset) / self.interpolate_factor\n",
        "\n",
        "    def rotate_queries_or_keys(self, t, seq_dim = None, offset = 0, freq_seq_len = None):\n",
        "        '''A function to operate the rotation over queries and keys'''\n",
        "        seq_dim = default(seq_dim, self.default_seq_dim)\n",
        "\n",
        "\n",
        "        device, dtype, seq_len = t.device, t.dtype, t.shape[seq_dim]#getting device, data type and sequence length\n",
        "\n",
        "        if exists(freq_seq_len):\n",
        "            assert freq_seq_len >= seq_len\n",
        "            seq_len = freq_seq_len\n",
        "\n",
        "        freqs = self.forward(lambda: self.get_seq_pos(seq_len, device = device, dtype = dtype, offset = offset), cache_key = f'freqs:{seq_len}|offset:{offset}')\n",
        "\n",
        "        if seq_dim == -3:\n",
        "            freqs = rearrange(freqs, 'n d -> n 1 d')\n",
        "\n",
        "        return apply_rotary_emb(freqs, t, seq_dim = seq_dim)#applying the final operations over t value\n",
        "\n",
        "    def forward(self, t, cache_key = None):\n",
        "        '''The forward function for porpagting our t value'''\n",
        "        should_cache = exists(cache_key)\n",
        "\n",
        "        if should_cache and cache_key in self.cache:\n",
        "            return self.cache[cache_key]\n",
        "\n",
        "        if callable(t):\n",
        "            t = t()\n",
        "\n",
        "        freqs = self.freqs\n",
        "\n",
        "        freqs = einsum('..., f -> ... f', t.type(freqs.dtype), freqs)# converting the frequency into its transpose\n",
        "        freqs = repeat(freqs, '... n -> ... (n r)', r = 2)\n",
        "\n",
        "        if should_cache:\n",
        "            self.cache[cache_key] = freqs\n",
        "\n",
        "        return freqs"
      ],
      "metadata": {
        "id": "Fj34waQn65Yl"
      },
      "execution_count": null,
      "outputs": []
    },
    {
      "cell_type": "markdown",
      "source": [
        "## Applying in our attention block\n",
        "In the paper it was mentioned that we need to use the rotatory embedding with the query and key value so we need to change our attention block"
      ],
      "metadata": {
        "id": "iQ_qOLUp-Vmr"
      }
    },
    {
      "cell_type": "code",
      "source": [
        "class Attention_rope(nn.Module):\n",
        "    def __init__(self, d_model=768, n_head=12, n_ctx=1024, d_head=64, bias=True, scale=False):\n",
        "        '''Constructor funtion\n",
        "        Params:\n",
        "        d_model:The dimension that needs to be feed into our model\n",
        "        n_head:The number of heads for attention\n",
        "        n_ctx:a parameters for buffer registry for bias\n",
        "        d_head:the dimension head output\n",
        "        bias:A bool for including or not including bias\n",
        "        scale: Whether to scale the attention scores by the square root of the dimension of the queries(use sqrt(dk) or not) \"\n",
        "        '''\n",
        "        super().__init__()\n",
        "        self.n_head  = n_head\n",
        "        self.d_model = d_model\n",
        "        self.c_attn  = Conv1D(d_model, d_model*3)\n",
        "        self.scale   = scale\n",
        "        self.softmax = nn.Softmax(dim=-1)\n",
        "        self.register_buffer(\"bias\", torch.tril(torch.ones(n_ctx, n_ctx)).view(1, 1, n_ctx, n_ctx))\n",
        "        self.dropout = nn.Dropout(0.1)\n",
        "        self.c_proj  = Conv1D(d_model, d_model)\n",
        "        self.rotary_emb = RotaryEmbedding(dim = 32)#intializing the rotatory embedding with dimension 32\n",
        "\n",
        "    def split_heads(self, x):\n",
        "        \"\"\"\n",
        "        spliting inyo given number of heads and then returning\n",
        "        return shape [`batch`, `head`, `sequence`, `features`]\n",
        "        \"\"\"\n",
        "        new_shape = x.size()[:-1] + (self.n_head, x.size(-1)//self.n_head)\n",
        "        x = x.view(*new_shape)\n",
        "        return x.permute(0, 2, 1, 3)\n",
        "\n",
        "    def _attn(self, q, k, v, attn_mask=None):\n",
        "        \"\"\"The main attention function\n",
        "        That claculates the attention using our dot product formula\"\"\"\n",
        "        scores  = torch.matmul(q, k.transpose(-2, -1))# dot multiplication between q and k transpose\n",
        "        if self.scale: scores = scores/math.sqrt(v.size(-1))# scaling it by dividing by sqrt(dk)\n",
        "        nd, ns  = scores.size(-2), scores.size(-1)\n",
        "        if attn_mask is not None: scores = scores + attn_mask# adding scores with attention mask values\n",
        "        scores  = self.softmax(scores)# adding softmax values\n",
        "        scores  = self.dropout(scores) #dropout of 0.1 as mentioned\n",
        "        outputs = torch.matmul(scores, v) # now the final matrix multiplication between score and V\n",
        "        return outputs\n",
        "\n",
        "    def merge_heads(self, x):\n",
        "        # merging the attention heads into one\n",
        "        x = x.permute(0, 2, 1, 3).contiguous()\n",
        "        new_shape = x.size()[:-2] + (x.size(-2)*x.size(-1),)\n",
        "        return x.view(*new_shape)\n",
        "\n",
        "    def forward(self, x):\n",
        "        '''The feed forward function that calculates the attention, split the heads, make attention, merge heads and project out the output '''\n",
        "        x        = self.c_attn(x) #new `x` shape - `[1,3,2304]`\n",
        "        q, k, v  = x.split(self.d_model, dim=2)\n",
        "        q, k, v  = self.split_heads(q), self.split_heads(k), self.split_heads(v)\n",
        "        #applying the rotatory embeddings over query and key\n",
        "        q = self.rotary_emb.rotate_queries_or_keys(q)\n",
        "        k = self.rotary_emb.rotate_queries_or_keys(k)\n",
        "        out      = self._attn(q, k, v)\n",
        "        out      = self.merge_heads(out)\n",
        "        out      = self.c_proj(out)\n",
        "        return out"
      ],
      "metadata": {
        "id": "NsVWEO6F8w85"
      },
      "execution_count": null,
      "outputs": []
    },
    {
      "cell_type": "code",
      "source": [
        "class TransformerBlock_rope(nn.Module):\n",
        "    def __init__(self, d_model=768, n_head=12, dropout=0.1):\n",
        "        super().__init__()\n",
        "        self.attn        = Attention_rope(d_model=768, n_head=12, d_head=64, n_ctx=1024, bias=True, scale=False)\n",
        "        self.feedforward = FeedForward(dropout=0.1, d_model=768, nx=768*4)\n",
        "        self.ln_1        = LayerNorm(d_model)\n",
        "        self.ln_2        = LayerNorm(d_model)\n",
        "\n",
        "    def forward(self, x):\n",
        "        x = x + self.attn(self.ln_1(x))\n",
        "        x = x + self.feedforward(self.ln_2(x))\n",
        "        return x"
      ],
      "metadata": {
        "id": "np4zXFh9_jkt"
      },
      "execution_count": null,
      "outputs": []
    },
    {
      "cell_type": "code",
      "source": [
        "class GPT2_rope(nn.Module):\n",
        "    def __init__(self, nlayers=12, n_ctx=1024, d_model=768, vcb_sz=50257):\n",
        "        super(GPT2_rope, self).__init__()\n",
        "        self.nlayers = nlayers\n",
        "        block        = TransformerBlock_rope(d_model=768, n_head=12, dropout=0.1)\n",
        "        self.h       = _get_clones(block, 12)\n",
        "        self.wte     = nn.Embedding(vcb_sz, d_model)\n",
        "        self.wpe     = nn.Embedding(n_ctx, d_model)\n",
        "        self.drop    = nn.Dropout(0.1)\n",
        "        self.ln_f    = LayerNorm(d_model)\n",
        "        self.out     = nn.Linear(d_model, vcb_sz, bias=False)\n",
        "        self.loss_fn = nn.CrossEntropyLoss()\n",
        "        self.init_weights()\n",
        "\n",
        "    def init_weights(self):\n",
        "        '''Initialization of weights'''\n",
        "        self.out.weight = self.wte.weight\n",
        "        self.apply(self._init_weights)\n",
        "\n",
        "    def _init_weights(self, module):\n",
        "        '''If the Linear, Embedding and Conv1D then nomrally initializing with mean and S.D'''\n",
        "        if isinstance(module, (nn.Linear, nn.Embedding, Conv1D)):\n",
        "            module.weight.data.normal_(mean=0.0, std=0.02)\n",
        "            if isinstance(module, (nn.Linear, Conv1D)) and module.bias is not None:\n",
        "                '''Data Bias zero'''\n",
        "                module.bias.data.zero_()\n",
        "        elif isinstance(module, nn.LayerNorm):\n",
        "            module.bias.data.zero_()\n",
        "            module.weight.data.fill_(1.0)\n",
        "\n",
        "    def forward(self, src, labels=None, pos_ids=None):\n",
        "        '''Adding the positional embedding, dropping, then adding inputs, logits and outputs which are being used for loss function and then adding outputs and loss'''\n",
        "        if pos_ids is None: pos_ids = torch.arange(0, src.size(-1)).unsqueeze(0)\n",
        "        inp = self.drop((self.wte(src)+self.wpe(pos_ids)))\n",
        "        for i in range(self.nlayers): inp = self.h[i](inp)\n",
        "        inp     = self.ln_f(inp)\n",
        "        logits  = self.out(inp)\n",
        "        outputs = (logits,) + (inp,)\n",
        "\n",
        "        if labels is not None:\n",
        "            shift_logits = logits[..., :-1, :].contiguous()\n",
        "            shift_labels = labels[..., 1:].contiguous()\n",
        "            loss = self.loss_fn(shift_logits.view(-1, shift_logits.size(-1)), shift_labels.view(-1))\n",
        "            outputs = (loss,) + outputs\n",
        "            return outputs\n",
        "        return logits"
      ],
      "metadata": {
        "id": "NqVQ-t_2_nqD"
      },
      "execution_count": null,
      "outputs": []
    },
    {
      "cell_type": "markdown",
      "source": [
        "## Generating text and checking model stats"
      ],
      "metadata": {
        "id": "-TtAUi8mHhtO"
      }
    },
    {
      "cell_type": "code",
      "source": [
        "model = GPT2_rope()\n",
        "# load pretrained_weights from hugging face\n",
        "\n",
        "model_dict = model.state_dict() #currently with random initialization\n",
        "state_dict = torch.load(\"/content/drive/MyDrive/gpt2-pytorch_model.bin\") #pretrained weights"
      ],
      "metadata": {
        "id": "MoiaN1lh__4S"
      },
      "execution_count": null,
      "outputs": []
    },
    {
      "cell_type": "code",
      "source": [
        "old_keys = []\n",
        "new_keys = []\n",
        "for key in state_dict.keys():\n",
        "    if \"mlp\" in key: #The hugging face state dict references the feedforward network as mlp, need to replace to `feedforward` be able to reuse these weights\n",
        "        new_key = key.replace(\"mlp\", \"feedforward\")\n",
        "        new_keys.append(new_key)\n",
        "        old_keys.append(key)\n",
        "\n",
        "for old_key, new_key in zip(old_keys, new_keys):\n",
        "    state_dict[new_key]=state_dict.pop(old_key)\n",
        "\n",
        "pretrained_dict = {k: v for k, v in state_dict.items() if k in model_dict}\n",
        "\n",
        "model_dict.update(pretrained_dict)\n",
        "model.load_state_dict(model_dict)\n",
        "model.eval() #model in inference mode as it's now initialized with pretrained weights"
      ],
      "metadata": {
        "colab": {
          "base_uri": "https://localhost:8080/"
        },
        "id": "tC5P3L64ADwR",
        "outputId": "b3e4c003-fe03-42ca-ab04-847e07146507"
      },
      "execution_count": null,
      "outputs": [
        {
          "output_type": "execute_result",
          "data": {
            "text/plain": [
              "GPT2_rope(\n",
              "  (h): ModuleList(\n",
              "    (0-11): 12 x TransformerBlock_rope(\n",
              "      (attn): Attention_rope(\n",
              "        (c_attn): Conv1D()\n",
              "        (softmax): Softmax(dim=-1)\n",
              "        (dropout): Dropout(p=0.1, inplace=False)\n",
              "        (c_proj): Conv1D()\n",
              "        (rotary_emb): RotaryEmbedding()\n",
              "      )\n",
              "      (feedforward): FeedForward(\n",
              "        (c_fc): Conv1D()\n",
              "        (c_proj): Conv1D()\n",
              "        (dropout): Dropout(p=0.1, inplace=False)\n",
              "      )\n",
              "      (ln_1): LayerNorm((768,), eps=1e-05, elementwise_affine=True)\n",
              "      (ln_2): LayerNorm((768,), eps=1e-05, elementwise_affine=True)\n",
              "    )\n",
              "  )\n",
              "  (wte): Embedding(50257, 768)\n",
              "  (wpe): Embedding(1024, 768)\n",
              "  (drop): Dropout(p=0.1, inplace=False)\n",
              "  (ln_f): LayerNorm((768,), eps=1e-05, elementwise_affine=True)\n",
              "  (out): Linear(in_features=768, out_features=50257, bias=False)\n",
              "  (loss_fn): CrossEntropyLoss()\n",
              ")"
            ]
          },
          "metadata": {},
          "execution_count": 26
        }
      ]
    },
    {
      "cell_type": "code",
      "source": [
        "total_params = sum(p.numel() for p in model.parameters())\n",
        "\n",
        "# Calculate size in bytes and megabytes\n",
        "size_bytes = total_params * 4  # Assuming float32 parameters, where each parameter is 4 bytes\n",
        "size_mb = size_bytes / (1024 ** 2)\n",
        "\n",
        "print(f\"Total size of the GPT-2 with rortaory embeddings any is: {size_bytes} bytes or {size_mb:.2f} MB\")"
      ],
      "metadata": {
        "colab": {
          "base_uri": "https://localhost:8080/"
        },
        "id": "PUCyCcNoAloT",
        "outputId": "b0d8cd19-824e-483a-ca76-a90c30c2d091"
      },
      "execution_count": null,
      "outputs": [
        {
          "output_type": "stream",
          "name": "stdout",
          "text": [
            "Total size of the GPT-2 without any altertaions is: 497760000 bytes or 474.70 MB\n"
          ]
        }
      ]
    },
    {
      "cell_type": "markdown",
      "source": [
        "From previous model there is a bit more size there is a negligible in case of even bytes, so use of rotatory embeddings didn't altered much model size as there is no architectural changes in our model we just caclulated the query and keys in a bit different manner"
      ],
      "metadata": {
        "id": "BXSIiQKWCZDY"
      }
    },
    {
      "cell_type": "code",
      "source": [
        "tokenizer = GPT2Tokenizer.from_pretrained(\"gpt2\")\n",
        "context = torch.tensor([tokenizer.encode(\"The planet earth\")])\n",
        "\n",
        "def generate(context, ntok=20):\n",
        "    start_time = time.time()\n",
        "    for _ in range(ntok):\n",
        "        out = model(context)\n",
        "        logits = out[:, -1, :]\n",
        "        indices_to_remove = logits < torch.topk(logits, 10)[0][..., -1, None]\n",
        "        logits[indices_to_remove] = np.NINF\n",
        "        next_tok = torch.multinomial(F.softmax(logits, dim=-1), num_samples=1).squeeze(1)\n",
        "        context = torch.cat([context, next_tok.unsqueeze(-1)], dim=-1)\n",
        "    end_time = time.time()\n",
        "    inference_time = end_time - start_time\n",
        "    return context, inference_time\n",
        "\n",
        "out, inference_time = generate(context, ntok=20)\n",
        "decoded_output = tokenizer.decode(out[0])\n",
        "\n",
        "print(f\"Inference Time: {inference_time:.4f} seconds\")\n",
        "print(f\"Generated Output: {decoded_output}\")"
      ],
      "metadata": {
        "colab": {
          "base_uri": "https://localhost:8080/"
        },
        "id": "nHr-5ZibCRdI",
        "outputId": "723c2b3a-d4ae-4f8e-92f6-c459bcb5a775"
      },
      "execution_count": null,
      "outputs": [
        {
          "output_type": "stream",
          "name": "stdout",
          "text": [
            "Inference Time: 6.9594 seconds\n",
            "Generated Output: The planet earth's most important planet. \" important's important. More than ever. More important enough more! MORE\n"
          ]
        }
      ]
    },
    {
      "cell_type": "markdown",
      "source": [
        "1. Also the inference time is higher beacause in this case we are taking a skort sequence so the O(n) complexity for the self attention is being over compensated by the computataion for rotational embeddings, it is mainliy beneficial for long sequence that we encounter during training time\n",
        "2. Also, the GPT-2 was not trained with the roformer embeddings so during inferencing with it we can get random results like we got in above case, so it is advised to first train, or may be fine tune gpt-2 with roformer before inferencing"
      ],
      "metadata": {
        "id": "kPompP2lGknL"
      }
    },
    {
      "cell_type": "markdown",
      "source": [
        "# Sliding Window Attention\n",
        "Sliding window attention was introduced in longformer paper to make accesibilty for the longer context lengths and less computation so it can be used for longer document size <br>\n",
        "\n"
      ],
      "metadata": {
        "id": "ZUzyffCMVr-M"
      }
    },
    {
      "cell_type": "markdown",
      "source": [
        "![image.png](data:image/png;base64,iVBORw0KGgoAAAANSUhEUgAABN4AAAF0CAYAAAD8TvQJAAAAAXNSR0IArs4c6QAAAARnQU1BAACxjwv8YQUAAAAJcEhZcwAAEnQAABJ0Ad5mH3gAAP+lSURBVHhe7N0HWBVXtz/+r1KlKYLYsGDvir33mtgVazTEEqPRaGwk1igaE1vsvffee+8NFUVBQZrSkSq9+t972PzGc/aY93+9l+ReXZ8887zD2u+BM2fO7Fl7zzgr33sGhBBCCCGEEEIIIYSQ/1H5xf8SQgghhBBCCCGEEEL+B9HEGyGEEEIIIYQQQggheYAm3gghhBBCCCGEEEIIyQM08UYIIYQQQgghhBBCSB6giTdCCCGEEEIIIYQQQvIATbwRQgghhBBCCCGEEJIHaOKNEEIIIYQQQgghhJA8QBNvhBBCCCGEEEIIIYTkAZp4I4QQQgghhBBCCCEkD9DEGyGEEEIIIYQQQggheYAm3gghhBBCCCGEEEIIyQM08UYIIYQQQgghhBBCSB6giTdCCCGEEEIIIYQQQvIATbwRQgghhBBCCCGEEJIHaOKNEEIIIYQQQgghhJA8QBNvhBBCCCGEEEIIIYTkAZp4I4QQQgghhBBCCCEkD9DEGyGEEEIIIYQQQggheYAm3gghhBBCCCGEEEIIyQM08UYIIYQQQgghhBBCSB6giTdCCCGEEEIIIYQQQvIATbwRQgghhBBCCCGEEJIHaOKNEEIIIYQQQgghhJA8QBNvhBBCCCGEEEIIIYTkAZp4I4QQQgghhBBCCCEkD9DEGyGEEEIIIYQQQggheYAm3gghhBBCCCGEEEIIyQM08UYIIYQQQgghhBBCSB6giTdCCCGEEEIIIYQQQvIATbwRQgghhBBCCCGEEJIHaOKNEEIIIYQQQgghhJA8QBNvhBBCCCGEEEIIIYTkAZp4I4QQQgghhBBCCCEkD9DEGyGEEEIIIYQQQggheYAm3gghhBBCCCGEEEIIyQM08UYIIYQQQgghhBBCSB6giTdCCCGEEEIIIYQQQvIATbwRQgghhBBCCCGEEJIHaOKNEEIIIYQQQgghhJA8QBNvhBBCCCGEEEIIIYTkAZp4I4QQQgghhBBCCCEkD9DEGyGEEEIIIYQQQggheYAm3gghhBBCCCGEEEIIyQM08UYIIYQQQgghhBBCSB6giTdCCCGEEEIIIYQQQvIATbwRQgghhBBCCCGEEJIHaOKNEEIIIYQQQgghhJA8QBNvhBBCCCGEEEIIIYTkAZp4I4QQQgghhBBCCCEkD9DEGyGEEEIIIYQQQggheYAm3gghhBBCCCGEEEIIyQM08UYIIYQQQgghhBBCSB6giTdCCCGEEEIIIYQQQvIATbwRQgghhBBCCCGEEJIHaOKNEEIIIYQQQgghhJA8QBNvhBBCCCGEEEIIIYTkAZp4I4QQQgghhBBCCCEkD9DEGyGEEEIIIYQQQggheSDfe0askzy2Y8cOjBkzRvwEVK9eHfny5RM/EfK/R3R0NMLCwpR1a2trBAUFKevk8zB48GAcP35cWTc3N4eDg4OyTsj/Nm/evMG7d++U9RYtWuDs2bPKOvn8ValSBcHBwcq6nZ2dshDyv9GLFy+QlZWlrM+ePRtTpkxR1snnLS4uDvb29uInoFy5cjAzMxM/EfK/R0pKCvz8/MRPwMuXL3W+u+SfQRNv/6BFixZh6tSp4idC/m8wMjJCenq6+Il8Dho2bAg3NzfxEyH/N/CJGD7AJV+GAgUKIDU1VfxEyP8NEyZMwF9//SV+Ip+zyMhIFC1aVPxEyP8dvr6+KF++vPiJ/FPon5oSQsgXJn9+6voJIf+7UT9FCCGEkM8F3fH2D9q9eze++eYb8RNg97X8T00jTj1Hve96i590eew/gypdW8PYXL6N+eWpayjZoCYsi9qIiMr/2gMULF0cNuVKiYgq+OFzGBgboXityiKiinzhj5TYeJRp6igiqrigMLx96Y+KHZqJiCo5Jh4B191QvVd7EVFlpWfA48BZOH7TXUR0ue86gVr9uijvSZ/n0UtwaNUAZoULiojq1cXbKFKlHAqVKi4iqtd33FHAuiDsqpYTEVWYh7fynuzr1xARVbR/EOLfhKFc64YiokqIiEaI2zNlf+hLT0pW9ket/l+JiK5HW4+g7ne9kI/9p+8Z+2wqdWkJE0tzEVF5n7mOEnWrw7KYrYio+OdtZV8UNuVLi4gq5NFz5Dc0RPHaVURE9dY7AMlRsSjTrK6I5Ih84Yege0+V9SJFiihX9cjnY8iQIdi1a5eyblTYDIWb6h4b6dGJyPc6FQ16dhERVXL8Ozw8eQEtv+krIqrs7Gxc2rADHX9wFhFd17buw+gxY2BhYSEiqi0bN6JTl69Q0r6kiKgOHTiAatWrK4u+i+cvwNLSAo2bNhUR1YP79xEbE8N+r7wd3i9f4umTJ+g3YICIqMLDwnDyxAmMHDVKRFTJyclYu2oVJn3k7uU/5s/HpClTYaTRh/HXOfUfANsi8jG8e+dONGnSFOUqyFcgT588ieIlSqBuvXoiorp54wayMjPRum1bEVF5PH2KAH9/9OjVS0RUrwMDcf3aNQx1lvdVXGwcdm7fhnETJoiI6n32e8x3nYsZs2eLiK5lS5Zg+MjvYWllKSKqrZs3o0PHjrAvJZ+Ljhw6hMpVqqB6Dd2++OD+/cq+4jp37kz/1PQLwq/G+7PvL2deqQgsKql3luTPlx/lYq3YcWaM5i1aiKjq4u0bCAkNQfXWco5iEBmPl+5PMeiDfCxXUFgoDh08gOYD5TzMODsfzm3eCZdp00RElZiRhlVLlir9opGJiYiqHh06jV7sOCxarJiIqPbv3QvHunVRqbKch507cxY2NoXRoFEjEVHdvX0bSSzfaN+xg4ioPJ8/x8sXL9HHSe6ng4OCWb95Dt+NGCEiqoSEBGzesAETJk0SEV3z587FrzNmaE6Krly+HEOGDkUha2sRUe3Ytg2tWrVGGYeyIqI6cfSYEq9dp46IqK5duQoDg/xo0aqViKjcHz1CSEgounbvJiIqfz8/3L1zB4PZuU5fdFQU9u/bhzFjx4qIKiMjA0sWLsQv06eLiC7eNvrHsTDTy8MX/fEH0tLSlPUlrA+cOHGisk4+b/yfmvLHseSybuoA48Jq/s7HeMn3wlCtZWMULFpERFVPzl1BsQoOyqLv5e0HMGHfM4c68vjktYcnkt8loGrzxiKiivR/jeCXr1D3K3kM9u5tNJ5fvYWm/XqIiCo9NRW3dh9B2+GDRETXxfU7lDYDNp7Qd2vPETh2aQtz60Iionp44jzKsm2wLS3ndvy9FGKfi301ue/ze/gE2VnZqNhId3zChXr7IiooFLXatxQRVUxIGHzd3NGwpzwGS2Gfmdvxc2g5xElEVHw65MLabeg05jsR0XVt2z40duoOU40x+L3Dp1ClWUMUKiY/DuHJ+asoVr6s5j72vuMG4wKmcHCsKSKq189eIInlYtVaNhERVWTAGwR7+aDu1/I+ToiOgcelG2jWv6eI5HgXGYW7h06Kn9jYMCQEJVheSf5ZNPH2D7p8+TLat1cPkpprnJBPJ3nJB48f9mHk9Z3iZ117+v6E7mtmw8JOnlw7PmYuGo0egGI1K4mI6vKc1crESoX28sH7YP1+GFuYoc5gOXHxOnoJMQHBaD5RHpjxyawXxy+j85+TRUQV4xeEK65r0HfbAhFRpScmY4/TeDif3SgiurZ1GYlBB5cr70nfIedf0XbmGBQuLw/azrksRtUe7TQnCW8t3YbCDvaopjER+GT3SeU9NRzVX0RUvpfu4vXtx2g3+0cRUYU/88H9tfvQY80sEVElRkbjxJg5GHRohYjo2thqCEZc26H5fL+9/Sag6/LpsCwun6BPjnNF/RFOmhNoV13Xwr5RLVTsKA8y3DYegCEbCDgOlU+0L05cQZRPIFpMHiYiOTyPXMCd5Tnfw4oVK8LHx0dZJ5+HGWzgNH/+fGXdvIItyk9up6znSvKORL5bcRizZZmIqN6+CcaGUVMw/exeEVFlskHLLw07YbH7FRHR9VvrXnj69BmKaQw+WzRpjCXLlqOhxgBzUP9+bADphD595WTJZfJkFC9RHBMmygPF1StXwM/XD0vZgFDfiWPHsHPHdhw8clREVO6PH2P09yNx7+EjEVFFsUFb7WpVERL5VkR0Fba0QFB4hPLsPH21q1fD/kOHUaVqVRFRde3SGeMn/IwOnTqJiGrMqFGoV7+eMqGlb8H8eUhLTcNvrq4iotq1cweuXrqMzdu3i4jqxrVrmDd3Di6wga2+wIAAdGrfDt5+OZMeH+LPMbI0NUFyRqaI6CpXyh43791HyZJykt26eTMsWLgITTQmSYcMHIhuPXugX3/didABTn1x/GjOPvr++++xfv16ZZ18/po0aYJ79+4p60W7VmeLOgA1ym+Itn6lYG5hDpdf5Ykwl0Xz8ODRQ/SbLecoRp5vcGLrLpw4fUZEVHceP8SgAf3gcnyHiKgsMvPh5+ZdEBWf88zBD4Ulv0N1+1KYdmYvzAtaiahq48AfsXXbds3JpT7se//dsOHo2l2+IPnzTz+hYqWKGDN2nIioli5ehLesH1qwcKGIqA4e2I/jrG/btW+fiKju3b3L+s1JuH77joioQkND0axhAwQEh4iILnNjI8Qnp8BQY/BdpUJ5nL1wEQ7l5IucHdu1xfQZM9GqTRsRUY1wdkartm0wZOi3IqKaM2uWchFjGnutvi2bNsLtgRvWbtggIqpLFy7gr6VLcPrceRFR8Yl8p9694OEl/7N1fmGlpF0RxCYmiYgu+6J2cH/uqVyQ/FDRwtb/71mU+/fvR79+/ZR18nlLSkrSuZBYfnJbllOp3w1+gSB6hTt6T5+AMjXl8/62ibNQp1MbZdF3fNFqWBWxQRtn+eLgjV0HER0chl6//CQiqmeXb+LB8bMYvuJ3EVHxyZr9sxdi0sFNIqJKjI3DH92GYN4tdXLmQy71O8D15kllokjfH92H4LtlrihaTp5YX/f9JLT+tr8yMaWPv5fS7HNp0lceg15Ytx1ZLKfsMk6+QOB24hx87j7C4AXyBDmfdDu/Zit+3CqPwaKDQrF25M+YcW6/iKiyWW4zxbEdlnhcExFdv7XtjQl71ysThfqWDx6NHlN+VCYY9W2f/JsyQejYWb44enLJWphbF0TbYfJk5809RxAZ8Bp9pv8sIio+YXnv8GmMWCWPs0O8fbFn2nxMObxVRHIEPX+JvwaqF5P5s7wLFy4sfiL/FLqPnxBCCCGEEEIIIYSQPEATb4QQQgghhBBCCCGE5AGaePsX5cuXX2/J+aeH2dlZmgv9m2BCyP+8fMo/h9Bf3rP/sli/o7/w57j9d/DXZ2ks1L8RQj6G90n8n5d+uGS9531SNtKzMqSFP0WFZ1T5WV6lv/A2vuj3QXzh/+X8Pfl1uQ+H0HydeGqL1uv4wn2s76POj5DPAx/LaeVSfAynlU/RwU/Il4We8fYP0n/GW60BXyNffvU5X+/fZ8Nj7xkU6SQ/w4uLue6PSp1bwNisgIioXl24jRKOVWFeRP732vw5ZVYli8K6rPzMnbAnL5Df2AhFq1UQERV/9ldqfALsG8gPfYwPiUD0q9eahQdS4xKUv1n5a/lhuFkZmfA6ehE1+8kPO+d4cYFqvTrAwEh+foj36evKs+pMC8kP7eYFJGwqlkFBtp36gt2ewbSgJWwryc8eiPDyRXZ6BorXkZ+9EBsYgndsO/ULD3BJb2MQ6v5C85lq6ckp8D1/W/OZctzTPadQe1BX8ZMur2OXUKFDU80CGr4Xb6NY7Sqaz/jjz9yzKl4E1g72IqIKe/oS+Q0MULRGRRFRRfu+VophlGpYS0RyRHkHIOSRp7JOz3j7/Pz8889Ytizn+W38gb/1uuo+nJs/nNbz/n0UaigX68hKTkfi4zA0HyA/sJ8/CPfa9v1oO2ygiOi6ufsIGvXqotmHPT5xAV916qL5sNcTx48pD96vXFnj+YZXrsDCwhwNGsrPhnv06CHiYmPRrr388PFX7Dv9/Pkz9OrdR0RUERHhOH/2LIY6yw/ZTU5JVgpBjP1pvIjoWrZ0CX4cNw5GRsYiotq8aSN69uoFGxu5uAJ/JlP9Bg3g4CA/H+n8uXMoVrwYateWnw91985tZGVmoXlL+SHDfPveBL7GV13l/ibozWvcvn0bAwbKzxaJj49THvj+/Q+jRUSVzc5TSxctwuSpLiKia+3qVfhm6LewtJT76d27dqJ1mzYoWVLup06eOI4KrK+pWrWaiOTgz3d79Sqn/6FnvH1ZatSoAU/PnPNQ02bN2NJcWef4pNu6Q1uRzzA/zMvJ58RiCebIl5SJjp06i4jqnudTeD15ijqd5ecqZb5LwvMrtzBsuPxcobjkBGxZtwGtv5Wf32VhaIzz2/ZixKhRKGAq928bNm1AlZaNYWEjFx7wv3oPddixzb//+i5dvIjCha1Rt159EVE9eHAfyUnJyjGl7+XLF3jl7YNuPeRnu/KHal+7chmDhwwVEVViYgJ2bt+uFBDQsnjhn5g4eYpmcYUN69cpz2gsVEh+wPq+vXuUfVi6dBkRUZ05fQqly5Rh+1vONW/dvKHkL02byrmWx9MnCAsLQ6fOcj7Jn1Pp5vYATv3k5/fyZxsdO3JY85mZvLjCqhXL8fMk+dmAHG8bNmIkzMx0c7QV7Hyanp5TXIGe8fbl0H/GW12WS334DDA+xL556CgsqhWDUUH52WjpnrEoxY57u3JyrvXq/mOYsFyJPwNNX5DnS6SwvqpSE7ng0tvAYIS98kOtDvIYLCEqBi9u3kdDlofpy0hNUx6+r1U4i+PFBVp+44T8hgYiorp36BRqtW8Bs0Jy8Tv3s1eU59sVtpeL3/H3UrCIDUpUkcegAe7P8T47C+Xq1RYRVdgrf8SGhKNaa/l5sbFhEQh4/Eyz8EDKu0T2fi6jaX+5X+SFo65u3fvR4hK8gESDHp2Vghf6eAGJio3qsXxazu34+aRI2VIoWk7u+3wfuMPI1ARlaunmPVywpw+S4uNRuWkDEVFFvQ5GiLcfaneU93FidCw8r99Fo966xSV4YQ3+PnPRM97+HXTH27/I2LyAzmIkBqMGpkaaC78jzqiAqfQ6vvAiDYbs4NVsY0mLoYmxZlt+I0MYGBlpthkaGynVMDXb2O/Lb5Bfu62ACb/sq9lmZMZOPGw7tNr4wtv4/0ezjf1O/ru12vh7+eg2sm3g26LVxredfwZabfz38c9Os4191vwz12rj+4gfWVptfOH4vtZq4xOxH93HfBs/so95Ymrwke3nk5i8SqxmG4vzCkVSnP0u8vn6sLAH/+6YmpvrLMam/DucT7Mfym9iqHxP9V+jLBZm/BDWbmMLb+NJi2Yb+37zggSWVpbSwh/kXaBAAc02Y2NjmLD3q9VmyuK8XautADsG+e/VauPvg38uWm2WFpbK56fZxhbO0tJKs40PVs3NLTTb+HvhgzmtNv5wcb4tWm0mJqxPYItWG//MjFgfp9VmZmYOw49sozkbSPD+TavNim2bso0abXzh22hhqb2NBuzv8b+r1WZkaKS5jw01LsKQL8OH/ZT0HWffw/yG+ZVFq58yYucwPvmt8xqxmLBzrAEbPGr1Q3yga/CR7745P/bZe9F6XQF+zPB+gf1/tF7L+zf+UHKt1/JzMO+PtF7H+6+/PfY/1r+xY4kfO1pt5qwP5seiVpvFf+jf/q6N39nHJyG02v62f2N9lOlH+ne+jXzRauOfy8f2Mf9bH99G1r9/ZB/z5T9tv1b/xsKEKLmT7vFtpuRS+Y1Zjq7RT/H+i0+86L4mZzFkx4UhP/412ng1Z358a7ax38fHPVptxuw44+MlrTYTdszw+3q12vjCeuSP529sG/kFVa02nksZSZ9LzsLHJ3yspdXGx238M9Bq45WjP76Npn+zjTnjLK02nr9ymm1s4a/jn5FWG9/Gj/Xv/H1+yj7mn8tHt5/9vo+dw/h+yK+xjXzfk38f3fH2D9K/4234le1K55ArKysTW9p+h1rr5Ct0nM/0s+i1bi5VNaWqpiKioqqm5L/iw6qmDnVrYdz2lcp6Lu+7bti1eCHKT5TvpEiLTEDY2gf47cJhEVH9p6qms1r3xORDm2FlK/dhqwaPwda1G6mqKVU1FZEcVNX0y/VhVdPps2ZhxqzZyjrH/zlphR6OyoWAol3kuwXqhdghX1gqVq9bJyKqhbs3Y++GTfh+3SIRUaW8CcPOyXPg/uy5iKj8I0PhWL4S/nhwTkRUxQpYYkz9tvD0eaV5F0HlGlXg5OqCklXku9rOTP0Do9ixTVVNqaop+b9F/463cTtWwcFRvXOT/3PSWd37ouSAujBzkPOehN0+aNGjB1U1paqmIqKiqqafJ7rjjRBCCCGEEEIIIYSQPEATb4QQQgghhBBCCCGE5AGaeCOEEEIIIYQQQgghJA/QxBshhBBCCCGEEEIIIXmAiiv8g/SLKzSdMFSpHJfr/fts3PlrB2r9ID9kkvPacQFlujWEkYX8YMug049QrlVjWJW0ExGV9+nrSkGCIlXkB94G3nwEQxMj2DesJSKqsCcvkRwVi/IaRRl4AYVwj5eo1quDiKiS38bC+8x1OH7bU0RUWWnpeLDhAJqM+0ZEdN1duQsNv++nWVXTffsxVP6qFcyKyOX4vY5eRLFaVTQLL/hdugszW2sUryMXJQh+4IHMtAyUbaFRkvulv7Kdlb+WyzW/C4lE4A031Br4tYio0hKS4LH3NBqw7dBye+k2NPv5W16yTURUDzceRM1+XWBSUH1Ya65n+88oRTKs7IuJiMrnzA0UKlsSdtXKi4jq9a1HSlWdUo3lktzhHt5IjIhGhQ66DzsPc38B/6v3lXUqrvD5mTx5MpYsWaKs25YqqTz49kPhAa/x7NoN1OzTTkRUKXEJeH7sKqoPkh8U+z4rG082ndV8GCx38q91aP/9EBTQKDxwZcsetOvRFcVK2YuI6vzeg2jWsDEc69YVEdXRw4dhVbAg2n3Qt+a6dvUqot6+RV+NB117PHmK+/fvYeQo9WGzuYLeBGHP7l1w+fVXEVElJiZi3pw5+GOR/GB2btKECfj9z4Uw0ejD5s2dixEjv0ex4vIxvHrlSrRt1w5Vq8kPit+7ew9KlymNZs2bi4jq3NmzyMzIRNfu8nnj/v378HnxEkOc5YeWv2LH9NnTp/HTz/K+io6KxorlyzBHo2BDdvZ7TBg3FitWrxYRXTPYZzbZxQWFChUSEdXSxYvRs1dvlCsvn4u2bt6MWrVro179+iKSY9OGDfB4+lRZp+IKX5ba7Pvg4eGhrDds1xqN2JLrPfvv+qlTyoP3azfX/c5wT+4/RnR4JGp2kIu1ZEek4eXDp+g/QreoEBcZFoajO/fgm5/Hiogqk+UvmxYswqT5c0VElZWdjRWzXTF08niYmsnV4/atWIeuA5xQtGQJEVHt37wN1eo7olw1OUe5e+o8ypS0R6vW6rbnunTxIhITEtGzdy8RUT169Age7k/w3YjhIqIK8A/AkcOHMGnKFBFRxcXFY/Gff2DeAvmh3dz4sWOxdPkKGHxQGCzXbzNnYuz48bC1tRUR1Yply9C5y1eoVFkuALZz+w4l3qhxYxFRnT55UqlO2vmrr0REdef2bQQGBmLQ4MEionrh9QJXLl/Cj+PkohQR4RHYsH4dZs5Wi3XkSk9Pxy/sc9EqyMP9OnUqps2cBUtL3Rxt6qRJSE1NVdapuMKXQ7+4As+leE6VK5v1Uxc2bEP51vVhWUwuruB5iuXu5YvBurzcL0Q/DIRVocKo3Fju3149eISk2HeaRRn4w/UDnz5Hs37yGCw5MgqPTl3Edz/LRRmSE5OwYdESTJgjF43jFv86E+PnzFQqqurbsHAJen87BLZF5THovg2b0bBVC5TTOPbPHDyMEqVKoU5jufDCrYuXlYIHLTt3FBHVs4ePEPjKD90GysfZGz8/3LxwGYNHy8WoYqOjsXvdRnQeK/eL2WwMfmT+MvyySLvvWzn3dziP/xGWLN/Ut2PlGrTt9jXsy5YREdUxdj6pVLM6qtWRx2BXT51R8uHGbeRx5qNbdxDN8teOveTCeD6eXvC474a+w+TcLiI0FKdYzjx80ngRyREWFIztK9S8jYor/Dto4u0fpD/xVrlra6my5cuTV1Glm9yRcj4XbsKqdkmlipe+xGcRKF69EgoUljuEkEeerMO3hVXJoiKiinzhp5RztqkgdxaxgSFIe5eEYrXkzpJP1sQGBqNUI7kj4a8JeeyJcq3ljjQ7MxO+F++gUpeWIqLL5+wNZRKITxTp87/2ACXrVoeJlTxoD7r/FNZl7WFRVD6xhXv4KK+xLitX2Yv2fY0sNmi1qypPWL0LiUBCeBRK1qsuIqqUmHhEePmibHN5wi4jNQ2vbz5k2yFXGOX+bh/7XrqDMk3rwshMnlzlFVb55KmZjTygDX3sBXM7GxS0l/cxn0DkpfNtKsnVhuJehyI1PoHt48oikiM2IBgRz18p6zTx9vmZMGEClouBhaVtYdRoo/tdjWfJGa9+Vb21XH0yhSVnz6/dglV9eZL7PRt8xt4J0KxQxbmdOI/aHVvD2NRERFTPLt1EWccasLSRJ9Z97z1GzUpV4FBOPk7v37sLMzMz1Kwl90Wez58pleaaNJWPxdeBAcr3ukNHuYpoVNRb3LxxA7169xERFR9cHTqwH99oVODjtm3ZzNqGwtDQSERU/HXtO3ZEoULyNp47cxo1atWCvb38ud5i78W2iC2qVJUn5dzdH7N+NQv1GjQQEdWrVz4IDQ7RrCQYxpKzx48f4euu8r5KSHiHM6dOof9AudIWv0C0ZdMmzQqr3N7du9C9Zy/Nqq4njx9DQza4LlpUnnjkg+SyZcuiXPkKIpLj0sULbF8FKus08fZlqVatGl68yKk8aV+tEkpVV89T+dh/Sa/eKNU16zjKE/IX719FRGQ4zCvKA8HSsMHbgFBlIkhfBDv2L1+6iDqd5WPGKDsf7hw/g2+/kyfskjPTcWDXLjh+1V6ZDNT34tIttGbHoY2NPCl17PQJ2JYthcIl5eMi9OkLFLe1Q/XqcrU8j6dPlP6oYSN5wsrf3w+B/gFoq3FBIjIiAvdYv9m9h8bAPDkJx44cwaBvhoiIrs0bN2DYiBEsd5Un3vbv3YOvunaFpaWViKhOnzqJunXrongJOQ+7fu0qSpQogYqVdPMQ7tFDNyV/cawr51reL18gMjISLVrKg9aQ4CBl0rbLV/LF0fi4OFy4cB5O/eRq9pksR921Yzuch8kDc4638Qs5pqa6k6s7tm1DRka6sk4Tb18O/Ym36iyXsmI51Yc8WG7jULcmLAvLubvHjZvIZ20C4yLyxXYEp7JjqSBKVJbznrBX/khNTIYDy5n0xYSEIzLwjWYV0Uw2PvN7+PS/kdt8q1nR+FNzm5s3rsPOzg6Vq8iV3t1ZfpLNcsp69f9nc5uTJ0+gzlfyRWU+HXLv0KlPym1OsNymceMmsCsqj8GuXGK5TTkHlNPIXx/cv8f6ElPUql1HRFRens8Rx/qqps3kC65vXgfi5cuX6Nips4ioYqKjcY31qb379BWRHG/fvsWJY2oVf5p4+3fQxNs/SH/ibfiV7cj/wVVDvis2tR6Kkdd3ioiuHb1Gw2FyGxgXNhMRVdCyu2g+9lsUqylPkl2es1q5U6qCxp1rD9bvh7GFGeoMljsor6OXEBMQjOYTnUVE9fqOO14cv4zOf04WERW/S+yK6xr03SZfNUhnJ4o9TuPhfHajiOja1mUkBh1crrwnfYecf0XbmWM072o757IYVXu0Q5mmjiKiurV0Gwo72KNaLzkBfbL7pPKeGo6SEzDfS3eVya52s38UEVX4Mx/cX7sPPdbIV4YSI6NxYswcDDokl7LmNrYaghHXdkiTrtzefhPQdfl0WBaXy1WfHOeK+iOcULy2fFX8quta2DeqhYod5QkGt40HYGhiAseh8lWTFyeuIMonEC0m6w4kPI9cwJ3lOd9Dmnj7/MyYMQPz589X1h3q1sK47SuV9Vyv7j/GxfU7MGbLMhFRvX0TjBXDx6L8b/JVSD4B5DX+CBY/uSoiuma17onJhzazxFSeIF82cBR6/ToeZWrJk0v7pszFT84j0aevk4ioXCZPZoO54pgwcZKIqFavXAE/Xz/NuxdOHDuGnWwQdfCImojkcn/8GKO/H4l7Dx+JiCoqKgq1q1VFSORbEdFV2NICQeERmslZ7erVsP/QYVSpKieZXbt0xvgJP6NDJ3kicMyoUSz5rKeZEC6YPw9pqWn4TePutF07d+DqpcvYvH27iKhuXLuGeXPn4MIVeV8FBgSgU/t28PbzFxFVVlYWLE1NkJyRKSK6ypWyx81791GypDzAbt28GRYsXIQmTeUJ3SEDB6Jbzx7o13+AiOQY4NQXx4/m7COaePuyNGnSBPfu3VPWO412Rqcx3ynrXH52/gzZeQbmFuZw+XWaiKqcXL7Fnft3YP+NPGj7CrXx6Oh1nDh9RkRUdx4/xKAB/eByfIeIqCwy8+Hn5l0QFf9ORFRhye9QnQ0sp53ZC/OC8sTTxoE/Yuu27ahdRx5gNenQGnV7dUaNNvIA6+riDWjt2ABjxsp3bi1dvAhvWT+0YOFCEVEdZAPh46xv27Vvn4io7t29y/rNSbh++46IqELZoLVZwwYIYINaLebGRohPTtEcfFepUB5nL1yEQzn5jtaO7dpi+oyZmgPlEc7OaNW2DYZoDPjnzJqlTGROY6/Vt2XTRrg9cMPaDRtERHXpwgX8tXQJTp87LyIqbzZgderdCx5eOZO6H0pOTkZJuyKITUwSEV32Re3g/twTRYro5mhFC1srF3k4mnj7cuhPvI3bsQoOjjXFTzn+GjAKvadPQJma8nl/6fejkb9GIRSqJ49rcCkKZcpUQhtn3XMid2PXQUQHh6HXL/Kda88u38SD42cxfMXvIqJK8QvGgd8WfVJuY836Wt7GL3Tq+9TcZjQ7pzdg/c2wESNFRPX7PFdkpGdg9lz5DuNPzW0C/P3Rpl1ruJzZIyIqfnfdFMd2n5TbtGrWFH8uXoLG7Jyl75sBA9CD9TdaE/3TXFxgw/LhSVOmiohq7epVrK/yxrKVuvk5d+rECWzdshmHjx0XERX/FwLDnb+Fm/sTEcnx6OFDNG+s3gFOE2//DnrGGyGEEEIIIYQQQggheYAm3gghhBBCCCGEEEIIyQM08UYIIYQQQgghhBBCSB6giTdCCCGEEEIIIYQQQvIAFVf4B+kXV+j4+8/Il/+D4gq87PQvS9HpD/kh4dzV39eiunMXmBSUH9r9bPNpFG9dA+b28kPL35x0Q6natVC8jvxQfl5F1LCAqWYF0jd3nyAxIgrVempUxXrhh6B7T1Hvu94iouKVQD32nkKzn+WiDJmpabi2YD3az5EfCMpdmr0CrX8dBUONqoe3/9qGWgO7KhVa9T3aegSlGtfWrE7qdewSLIraonQT+aHGvFJqZkqqZpXVsCcvEenli9qDuoqIKvZ1CLxP30DjMQNFRMWrhN5bvQetp40SEV3nf1mCjn9MVKqy6bv+xwal0EMBa7k67YN1e1GhUwulUIQ+j31nYFu5LEo4yg+mf3X+JvIbGaF8W7nyGa8G+y4kEtV7dxCRHLx4xssTV5R1Kq7w+Zk6dSoWLVqkrBctXxbdJv6grOcK9faD+9nL+HqC/DD/+LfROLNyI1pNHCwiquzMbJybsw5Nf5WPC85t2RE4zZgEMytLEVEdX7gKTfr1gF1Z+SHDVzbtRr0mTVCjoVzZ7tzeg3AoVgJOfeTCC6dOnkBYaBhGjpKPRV7V7wrrk6dNnyEiKj8/P6Uww9JlclEG/gDtH38YhZ179oqIrv59+2D77t0wNZErE/84+gf8Mm06SpWSt/G3WTPRo2cvONaVKzSuXrVSOQ61Klgd2L9PeQDx4CFyFcKrVy7j6ZOnmDBxooionj97hn1792De73IRnIiICMycPg0bNm0WERWvMtanZw8cPXFSRHQN+3YoFi39CzY28rnolymT8e2w4aiq8QDmxQsXolGTxmjRQrcv/nPB78rD4DkqrvBl4VUw3d3dlfUufXqhS99eyjrHM9dDu/fAiOUKrbrJ1UnvXbyA0Ndv0Hmw+ppc7o8eweP6A7T6Ti4qlRadjLt7L2D6kj9ERJWYlITZP07AjPVy4SSDfPkwf/QEzFq+GOYfPGw91+9Tp6HnCGcULyMf+/uXr0XTtq1Rq7587O/bsg0F7YqgcYe2IqJ6fOEqkJwG52FyldWbN2/g3p27mOLiIiIqXg1v6+ZN+HPRYhFRRcfEYMrPE7Blu1xcguvdozsOHj0Kg/wGIqIaNWI45sybj2LF5OqsM6b9iv4DBqJmrVoiolr+11+oyXLUtm3lSoN7du2CgaGB8lp9F86fwyufV/hxnFx44on7Yxxl73POXLnoTHBwMBbMc8XqdXJfkpaWhiGDBuLA4SMiomvo4EFYuWYtChbUzdEGD+ivFGbgqLjCl0O/uEJXlksVYznVh479uQpN+2vnNmfXbYVd9bIoXlO3mjfncfIqDMyNUbKxnNdHPvSFSZohmjh1FxFV4FNP+Nx7iI6j5GIl8SHhuLnrMEbPlfOepIRErPl19kdzm359eittJiby+OyTc5uVLLeppJ3b7N+3F1mZWRj0zTciovrU3CY8PBy/TvsFfedMEREVr8q/edy0T8ptXFhu893wEahSRR5nL/rzTzRu2kTKbbjtW7fCkuXD+hVIOV4JOiQ4BN//oJufcw/u38fFC+cxfaZc4C8gIADLly7BspWrRCSH76tXmDJJ/byouMK/gybe/kH6E28lG9bUrWzJ9kTwAw+lOqWWMHcv2FWrCAMTuVR9+DNvGBc1h4GZsYioUoPjYWlbBGa2cinr+DdhyM+SGssScsn9xIhoZCSnwtpBruCSGvtOqd5pW9lBRFT8NdG+b1Csllxh9T3rREPdX6BkA7kENhfi9hwlHKsiH3tP+sI9fGBToTSMzOQBbZR3ACzsbGBqLVcTiw0IUV5jUVTuLBNCI5VKjAVLFxcRVXJUHFLYdtpULC0iqvSEJMSxz86uunyyzErLQKTXKxTXmATjgu+zfdyQ7WN53o3t4xdsH5dn+1jej3wSsKB9cZhYyROvMezzNi1kyfaxXMo7PihcmeC1Kinv4yS2j9OTU9g+1p3MSwyPQtzrUGWdJt4+Pz/99BNWikpJBdhJX7+SaHJcPKKCQlFaowpXekoqgjxfonx9eSKbJy7ed9xgWV0eeHGJ3pEoX7c2DI3l73fgk+fKJGABS3nQGvLiFSyLFNashhrp/xrWFpYor1Gq/U1goDIYqlJNI3GNiEBISIhmMvgu/h08nz9Dk2ZyleD09HTcvnkTbdrJg0SOV9NrwwaQfLCo7xZ7naOjo+bA/JGbG8qUdYBtEfnCgufz58pAz14jqfX39VUmwypUkvvbULZ9PLnSGuzGRMfAz/cVGjRSq1zlSmGfmduDB2jZurWIqHjKcPH8eXTsLCfK3PWrV9GoSROlRL6++/fuoXLlyihkLfdTHk+eKKX4ixXX7YufuLsr+4qjibcvCx/EeHt7K+vlK1RQllz8e/jY85lSGd6mlJyjpEfFKhXLq9WQcw0Pfy+8DQ2HWRl50GGcZYDUoDg0a9FCRFTJaam4ff0GKjeVK6Wa5DeA550HaNGylVKFU9+NmzdQrGI5mFrI5++3L/3YgLU0+/7L52gP1g+9NzaEdQm5T01k+Yth9ntU0hjshYeFKRPoWlVU42Lj4P3yhXKc6ktLTcXdO3fQuq080cddOHcOHTp2YjmFnMDcuH4dDRo0QAGNqoe8PylfvjwKawxan3t4KPESGtUCfX1eKX/rw32fKzgoCPHx8aiusY+jo6KUAWh99n70JSUmKpWrm7eUB8K8avNVnqt3lKt2c7yNfzeM9c5hVy5dQmZmTjVEmnj7cuhPvJVmuZT+hcVPzW3e+HgjK18WjG3lPiMrNhUm7L+i5XQn+bgEdm6Pj3gL+2qVRUSVmpiEsFf+UuVVLisjAwGPPdC2nXyzBafkNizvMTD4Z3IbP5bbvGf9W4VKFUVE9d/Jbe4/uI9yGvkrv5rz8vaDT8tt7t5F5SpVWW4jj7OfstymqEZuw/m89FbOF1qVoN+8fq18v6pq5q+RCAkOgmM9+WJ0wrt3eMb61KbNdatk876Sv89cNPH276CJt3+Q/sTb8CvblaQxF98Vm1oPxcjrO0VE156+P6H7mtnKBJO+AyNcYNujCswr6JY454K3uKF2p86o0F5Osh6s3w9jCzPUGSxf+fU6egkxAcFoPlG+c43fEfXi+GV0/nOyiKhi/IJwxXUN+m6TrzbwRHiP03g4n90oIrq2dRmJQQeXK+9J3yHnX9F25hgULi930OdcFqNqj3Yo09RRRFS3lm5T7hKr1ks+mTzZfVJ5T/wuM32+l+7i9e3HaDf7RxFRhT/zwf21+9BjjXy1gU9InhgzB4MOyVfFuY2thmDEtR3QmXQV9vabgK7Lp8OyuLwfT45zRf0RTiheW06yr7quVSZsK3aUJwrcNh6AoYkJHIf2EBHVixNXEOUTiBaTda+Yex65gDvLc76HNPH2+ZkxYwbmz5+vrDvUrYVx23XLlb+6/xgX1+/AmC3LRET19k0wNoyaguln5auimSxxc2nQETVXy3efcS+mnsD047s1k8xlA0eh16/jpUlAbtvEWajTqY2y6Du+aDWaV66JGS7TRETF71rz8/XD0uXynWsnjh3Dzh3bcfDIURFR8UHZ6O9HflLJ/cIsuQ4Kj4C5uZwsf2rJ/TGjRqFe/XoYPlK+A3HB/HlssJyG31zlOzs+teR+IBuwdmrfDt5+/iKi4gNTS1OTTyq537p5MyxYuAhNmjYVEdWQgQPRrWcP9Os/QERyDHDqi+NHc/YRTbx9WZqwQc69e/eU9emzZmHGrNnKOpeVnY0eY5xhYlYA7UfKd3u+PX8HES/9sXrdOhFROS/6Cad3Hka5n1qJiKpIYgGEbL4P92fPRUTlHxkKx/KV8MeDcyKiKlbAEmPqt4WnzyvNwUzlGlXg5OqCklXkQeSZqX9gFDu2u3aX715xHjUc6UWs0GJwHxFRee09BYvUbHZMLRQR1cED+3Gc9W279u0TERW/g9Rl8iRcv31HRFShoaFo1rABAoJDRESXORskxienwNDQUERUVSqUx9kLFzUHkR3btcX0GTPRqo3ch49wdkartm0wZKh8h84ctt/5wHQae62+LZs2wu2BG9Zu2CAiKj5J8NfSJTh97ryIqLxfvoRT717w8HohIip+oaakXRHEJiaJiC77onZwf+6JIkV0c7Siha2Vu6E5mnj7cuhPvI3bsUqa1PprwCj0nj4BZTQuZP5dbrNmmguSjFNQpIOc8yfdDEYJFEOvX+R/PfTs8k08OH4Ww1f8LiKqYC8f7J+9EJMObhIRVWJsHJb2dEZYZJSI6LK2MFfyHjONifVPzW1Gs3N6A9bfDBsxUkRUv89zVe7mnz13roioPjW3CfD3R5t2reFyZo+IqLJZbjPFsd0n5TatmjXFn4uXoLHGxYxvBgxAD9bfOPWTx5nTXFxgw/LhSVOmiohq7epVrK/yxjJxkfxDp06cwNYtm3H42HERUXk8fYrhzt/Czf2JiOR49PAhmjdWJyNp4u3fQc94I4QQQgghhBBCCCEkD9DEGyGEEEIIIYQQQggheYAm3gghhBBCCCGEEEIIyQM08UYIIYQQQgghhBBCSB4w+I0R6ySP8QpLO3aoJdodWtZHalyCUjkzd+EFCxxaNdCJ5S4+Z2+iWO0qyExNk9p8L9+FWcnCMDIyBZKzdZZ3HsFKJcx8JvmREBWls4Q+9sJ79n8zL2It/c4IT18kRcWiUOniUhuvWhr1KhBFqpST2uKDw5XqrLw6qX5b0ttYvDp/E2Wa1ZXa+PLy1FWUalRbKXig3+Z78Q5sK5VVKifqtwXcfMi2oTAMTYyltqAHz5TKrQWsraS2MA9vpCUkwaqEndT21jtAqfrKK6nqt8W+DkX405coVrOS1JYQHoWAaw+UyqX6bXzh+7hsywZs38ttPufYPq5VGVlp6VKb/7X7KGhfTCnIod/25q47jC3MYWJhJrWFunshOz0T5naFpbZILz+lsmmhMiV04hHPfRHxLKegAi+dPU6jXD/5v+vChQu4ffu2sl6wcCHUalAPGfEJ/2956/sar9w9ULZ2dSTGxOos0cGheH71Fio3qS+1JUTF4O6hkyjVpBoMUtgJRm8Jv+GNEnUqIT4+BlERYTrL8ws3UbxiOaXoiP7v9bx2G+bWBWFqbia1+dx9BNP8BrC2s0NQWKjOcufOHfa7I1GpcmW8jYzUWXilKV75qW7delKbj483Ll+6hJatWkltvJLevj278dXXXaU2vmzeuEFpi42Nldr27N6lVNnLyMiQ2o4dPYIypcvAxNRUauOVBHklLVvbIlLbzRvXkZDwDmXLOkhtjx66KcUlatSsKbW98PTE3bt3lIcB67cFBgYqBQ06dOwotUVERmDj+vXo1buP1MaXHdu2KtVQk5OSpLZDBw6gSpWqyJ8/v9R2+tQpFLYpDCurgjpx/hBhXuyBq1evHrp1kwsBkc8TL6TBH/bPOVSsiMLFi6nHd3gIrl69CmRmoaS9vU7/xZcgjxeIDAlFyfLldPoEvtx9eBfBL/xRvkZlmKcb6iyGcVkIefQKFetXh2+Qv87y6rUfTh04gmad2kl/LyMuEZf2H0HD1i0QGRMt/c3D+/ejQvVqSl+l/9onl6/Dhlc0NTaSXnf54gUgfz4UK1ZUeh2vQJjI8gi70vbS6x49eghfb2+lqumHxxNfeHEBXoG0WfPmUtubN6+V47RTly5SG182rFuHHr16KUVm9Nt2sfy2adNmSE1NldqOHD6kVDU1MjKS2s6dOQ1LS0tYWxeW2nglwZSUFJQqXVpqc7t/X3m/vOqffpvns2dwc3NDw4aNpDZ/Pz+cOX0Kbdu1k9p4NdhtW7age4+eUhtftm3ZjHbt27M+l50nP4hv3bxZqXjNOTk5oXr16so6+bzxc/nvv6tFDHi1d35++zBHeXz2CopVdAAvp/ZhnC9/l9t43r6rVPUsaGcj5VLJfjHITEiHWbFCUi4V/PIVIlkOV6paZel3vg0Mgs+9h8r71G+LC4+E++nLaNa+ndSf8GUXOy6+7toNsTExOt99vnxqbnP+3FkUKFAANra2UttN1kclsuOsTNmyUtsn5zYslzjK3k9Frfw1OhZ3Dhz/pNyGF7OpWrWadm5z8qRSQMHKykpqu3rlMrIyM5WKzvpt99g2hIWGaeavvAq8x9MnqFuvvtTm++oVLrIcvxV7rx/Gfdj54OiRwzlfVMbFxUX57Mk/i6qa/oP0q5ryyY4PK1vyHREXGALrsnLFFC4uKAxWxe2USSR978LeogDrvI1MdUucc7zK5nvjfDAoIJe4z0pIg6GRCQoU1C1/zaW+S1LKS5vbyOWR05NTkZaQCMuicnnozPQMJL2NQcGSRUVExSfN4oLCYc22XQuf0CpUqhjysc5LX3xIRM7kmkap/oSIKJhYWsDYTC7znBQdBwOW7JlayVUGU1jyyt+TGfvs9KUlJSODbacF+5v6MlL5xFg82x9y9dFsNhB4FxbJtkMuHc3Fsn1ciO1juaYp20b22VgUt4WBRsWwBLaPTa2t2D42EREV/7wNC5gqE2/6+PtkHygKFJL3MZ90zExLh7mttYjkSH2XiJQY9jqGqpp+fsaOHYvVq1cr6wXMzFCWJTYf4pW6wiMiYF2ymIioeJ8QGxoB2zL2IvIBdjqJ8H+tlM7XEhn4Bka25uzrKH/7M6KSUMjOTvP7zRNCUwtzZdHHJ/t4n2heSD6Gk+PfwSDrPYprlHHnA6e4uDiU0ihjzweOfMBfTqM6H6/qycvc82RIy8sXL5Q2noDp46/jZfNNTORt5KXj+SS3Vjn+MPZeTFmCZG2te5xyUW/fKhWxi7DPTl882z6+L3lSp09JHtlreVKrj1cSe/06EBXYsS9hJ6oXL7w0S9xzr1hf4eBQjp1X5D6MJ728rD7/zukLCQ5WBt9WBXX3I5/o5PuKo6qmXxZ+7vFlxwxnbl0IFoXVXIT3IBnxicpxZssGbfoiot4iJTUFVkXktnxpGUiIjUPpMmVERJWYnITg4CAYF5GPQ+P8RkgMjdGs3JfJ8ghf9t0vwvpFrfwlNjhMqYbHJ9D1BQQGsvzEAiZs8K0viQ0GzU0LaFafi3gbidSMdFjayG2piUnITkmDvb3cT6ckpyAiIhxlHRxERJXJBoG88l/FSpVERNcLLy9l+7WqsvMBXxn2mRoZy3noa7aNvBKomUa159CQECVeqJCca/IBI/9btnpVRLm42FhlUq54CTmfTEpMVKr2ae3j9LQ0BLF+pXyFCiKiymb7kQ9QtfYxx9vKl6/AcjTdPJxPZvLXclTV9MuhX9XUukQxGLNc/EP8YiWv5P4/mdvwCqSpqckwLCj3J0hj38PULBQqLo/BeL4fHxkFm1LyMcOreka9CYGdQ2kR0RXJcru8yG345E+hfyy3SVf6W838lYnwC/xv5DbFWG4jT2QFs9zGSiO34SJZnm1gYKBMPOqLiYlR+qpiH8tfWf/HL0joU/JX1qeWK19eRHLwvjL3IiZHVU3/HTTx9g/Sn3gbfmW7cvdSLr4rNrUeipHXd4qIrj19f0L3NbNhYWcjIqrjY+ai0egByh1Y+i7MWobs8kawbignIFEnXqKkfWXUGSzfReB19BJiAoLRfKKziKhe33FX7tzq/OdkEVHF+AXhiusa9N22QERU/E62PU7j4Xx2o4jo2tZlJAYdXA5jjQmkQ86/ou3MMShcXh4on3NZjKo92qFMU0cRUd1aug2FHexRrZf62ed6svuk8p4ajpLLPPteuovXtx+j3ewfRUQV/swH99fuQ481s0RExSc6T4yZg0GHVoiIro2thmDEtR2aievefhPQdfl0WGpM6J0c54r6I5xQvLZcWvyq61rYN6qFih2biYjKbeMBGLKToePQHiKienHiCqJ8AtFi8jARyeF55ALuLM/5HtLE2+dnxowZmD9/vrLO73q4dO26sp6L91UTZrhgzJZlIqJ6+yYYG0ZNwfSze0VElZmRgV8adsJi9ysiomtmq+4o7dIKRgXl5CRg4VUMc52DMrXkpOfvSu4fX7SaDa5t0MZ5gIiobuw6BOv4dKxZtUZEVCeOHcPOHdtx8MhREVG5P36M0d+PxL2Hj0RExe/0qF2tqlJWX0thSwsEhUfAXGOA+akl98eMGoV69eth+MjvRUS1YP48pKWm4TdXVxFRfWrJfZ6cdWrfDt5+/iKi4hOPlmwA8Skl91s3b4YFCxehSdOmIqIaMnAguvXsgX79dffjAKe+yt13HE28fVmaNGmCe/fuKeudRjuj05jvlHUuPzt/huw8wwZz5nD5dZqIqlwWzcODRw/Rb7acoxh5vsGJrbtw4vQZEVGdu3MJA/o7ofLsLiKiqmBeEud/WI+o+HciogpLfofq9qUw7cxemBe0ElHVxoE/Yuu27codaPqadGiNur06o0ab5iKiurp4A1o7NsCYsfJd51NdZ+FZoC+6Tx4jIir3c1eQdN8Tu/ftFxHVvbt34TJ5Eq7fviMiKn7BoVnDBggIDhERXebGRohPToGhxsXBKhXK4+yFi3DQuGDRsV1bTJ8xE63ayH34CGdntGrbBkOGfisiqjmzZsGI/c1p7LX6tmzaCLcHbli7YYOIqC5duIC/li7B6XPnRUTFJ8mceveCh9cLEVElJyejpF0RxCYmiYgu+6J2cH/uqUwifqhoYWu8e5fzvaCJty+H/sTbuB2r4OBYU/yU468Bo9B7+gSUqSmf9z81tzm3eTsePb2Jkv3riogq+2UC3j+Nx/AV6p14uYK9fLB/9kJMOrhJRFR8Mu+PbkMw79ZJEdE1rUEnJe8x07hw9qm5zWh2Tm/A+pthI0aKiOr3ea7KRcDZc+eKiOpTcxt+UaFNu9ZwObNHRFR84nGKY7tPym1aNWuKPxcvUe6y0/fNgAHowfobp37yOHOai4tyN9ykKVNFRLV29SrWV3lj2cqVIqLi/xJg65bNOHzsuIioPJ4+xXDnb+Hm/kREcjx6+BDNGzcSP9HE279FnrYmhBBCCCGEEEIIIYT8t9HEGyGEEEIIIYQQQggheYAm3gghhBBCCCGEEEIIyQM08UYIIYQQQgghhBBCSB6gibd/UXpSirR8LM4XXlaaV9nUauMPhcxISdNse5+VDSMYw+R9AWnJl5UPKUnvEBsVJi0pyQnIysjU/J2ZqWlK9U6ttoyUVKVSqFZbejJ7P+/fa7exRWlj/x/NNvY7+e/WauPvhb8nrTa+DbySj2ZbeoZSpVGrjb8mO1N7+/lnzT9zzTa2j/i+0mrjy9/vY7aNn7CP+fv8221ki1Ybf43WPs5My1DeJ/k8fVhTJ5NX4X33TmfhVaHyZwMW7Gugv5hl5lNez6vmaS3/qc0yvyUK5i8oLfmRD5HRYQgJD5SW1LRkpKemav5OXkU5g32Ptdp4PCElCX4RIdISHhfNfm+qtO184RXxeBEBrTZeTYpvh1YbX3hbgkacL/x3JrLfrdXGqwnyB3trtaWnpysVqbTa0tjnkpaWptnGX5ORka7Zxh8Kzf+mVhsv4c8r9Gm18eXvtp+/jn9GWm387/G/q9WWwfrhFI3t53HyZcqtEskZ6/VHZunvEctyl5jEBM3jO4PlA0Yf6cMSWd+QzI59rddFs++ccT4DVDArKS3W+cyQxd7TA/+n0uIT4qtU/DXX+Ht8ycjMQHBMpObfzMd+pynLxbRexwvWvE2I13xdamrKR7fRNIttJ2vXel1IzFtkfeTY58fuf+fYT2T7Q6vtb4/9v+vfWN/G+zitNv4a3jdqtSUn/03/9jf9O18+pX+jKnWES2PjF/08hOfuWnG+8OPwU3IbPm4xyWesmUsZZRkgJTVZM5eKjo1U3o/W70xNSla++5ptbMlmbQGRoZp9Cu/f3kRFaLbxvjaM5VtabTw/i4yP02zjfTvv47Xa3sbHIoFto1ZbSFwUktPTNNv4e8xiY2Kt7eML336t1/Elg31ur6PCNdt4dWner2q18fcZwd6vVltcUgKiE7T7d97vxycnarbx/DWJfW+02oLYeSaNfT/04/z8Q/59VNX0H6Rf1dTQ1ESqbMknloz0SlHnymAHGa9OqVUNM5MlJ/mNjDTLPGeyxCS/gYGy6OOd93v2X74Pqqvmep/F4ux/Ddjv1cc7bj7ZZWgil41//z5bmbjRKp3N/1ZmCkuIP7aNbPsNC7BtVP6yLp5IG5oYse3X2EZ2cuJltz+2jfwzy69RhYuf9Ngb/vg2ssVQozQ+T76y2e/l+0MfP6T4/jAy/fg2/tP7mP1CGGhsP5+w45OEBsa6288/l2xR2Yeqmn5+Ro8ejXXr1inr/PukX6WKD0r4gIaXedfHky8+QaJfMj8XTzBNNEqqc7yNv07r+82TTxjm12x7n5GlHKO87Lo+npzy77dWiXf+Pebfb0O97zfHt5H3YWZa28iOb16SXat6Fz++9SuZfYgP6j7Wxl/HP1OtY5gPIo1ZX6O1jans2DdgrzHS6Kf4fuL4a/VlsO3nn4GpRl/0/2cfa1Vm5f7TNvLPTWs/8olFE9a/aW4j7/tYH6VfLZF/Lvy9clTV9MtSrlw5BAQEKOv8+63/HU9hAzp28Gse++/58c2OfVONc3Q6GyTyCS2jj56/0zWP/SyW26SwwWl+E/nv5Wd5SWZqunLMaH33k5KTlFxC8/zN/h4/trUqhfKLA7x/+9j5m8/48GNKH590Sle2UTt/4RfjPta/8eP0U4/9Aux38oqz+v62f2PHPt8+I41t/Nv+jW0fH0SbauSaf9u/se3n7+dTtpG3ae1jHs9FVU2/HPq5AD/e9PPwdD52YTmI1rHPJ9b42OV/NLdhbfz4z28k/07eX7xneY+xRk7ADn2ks+Pib/M31iYf3fx1bFyjMabllO3nYxeNcSafdOefi1b/xvtojr9WXxbbBj4++1j/xj87Y60xKNtI/n5MPiV/5X0Y+9w+uo3/5D7m5zfWrnUO4+c9Pl7Uz9GzWV+ZweK5qKrpv4Mm3v5B+hNvw69s1+mI+K7Y1HooRl7fKSK69vT9Cd3XzIaFnY2IqI6PmYtGowegWM1KIqK6PGc1yjSriwrt5TLHt1ZtR2xGJOw6yyWgE+6EwDTeBM0nOouI6vUdd7w4fhmd/5RL9cf4BeGK6xr03bZARFTpicnY4zQezmc3ioiubV1GYtDB5TC2kBPCQ86/ou3MMShcvpSIqM65LEbVHu1QpqmjiKhuLd2Gwg72qNZL/exzPdl9UnlPDUfJZZ59L93F69uP0W72jyKiCn/mg/tr96HHmlkiokqMjMaJMXMw6NAKEdG1sdUQjLi2Q7Pz3ttvArounw7L4rql6rmT41xRf4QTiteuIiKqq65rYd+oFip2bCYiKreNB5TJPMehPURE9eLEFUT5BKLF5GEiksPzyAXcWZ7zPaSJt8/PjBkzMH/+fGW9WfPmuHTturKe69qVK1jw+3ycv3RZRFR+vr7o0Kk9ppzaJSIqnij90rATFrtfERFds1r3xORDm2FlK/dhi/oNh3n3sjBzkNvCtzxC537f/JdL7t/YdQhRQSHo/et4EVE9u3wTL85cwdUzF0VE5f74MUZ/PxL3Hj4SEVVUVBRqV6uqlNXXUtjSAkHhEZqDuk8tuT9m1CjUq18Pw0d+LyKqBfPnIY0lfb+5uoqI6lNL7gcGBKBT+3bw9vMXERVP+CxZQvspJfdbN2+GBQsXoUnTpiKiGjJwILr17IF+/XX34wCnvjh+9KiyThNvX5YmTZrg3r17yvr0WbMwY9ZsZZ3jd571GOOsDJLajxwioqq35+8g4qU/VosLDB9auHsz9m7YhO/XLRIRVcqbMOycPAfuz56LiMot4Cla12iIGsv7iIiqVtFKOPXdSnj6vNIczFSuUQVOri4oWaWiiKjOTP0Do9ix3bV7dxFROY8ajvQiVmgxWP6bXntPwSI1mx1TC0VEdfDAfizdvhFDF/8mIqrAJ89xb9UOXL99R0RUoaGhaNawAQKCQ0RElzkbBMazwanWJGGVCuVx9sJFOJQrJyKqju3aYvqMmWjVRu7DRzg7o1XbNhgy9FsRUc1h+92I/c1p7LX6tmzaCLcHbli7YYOIqC5duIC/li7B6XPnRUTl/fIlnHr3gofXCxFR8UnHknZFEJuYJCK67Ivawf25J4oU0c3Riha2Vu5842ji7cuhP/E2bscqODjWFD/l+GvAKPSePgFlasrn/W0TZyl5zX89tzmI6OAw9PrlJxFR3T51Chf37UbZ0S1ERGUalR8hux5i0sFNIqJKjI3DH92GYN6tkyKiy6V+B7jePKl50fWP7kPw3TJXFC1XVkRU676fhNbf9keVZg1FRLV/9kKUZp9Lk77dRER1Yd125caBLuNGiIjK7cQ5+Nx9hMELpouIytfNHefXbMWPW+UxWHRQKNaO/Bkzzu0XERWfyJvi2A5LPK6JiK7f2vbGhL3rUaioPD5bPng0ekz5EWXr1BAR1fbJv6FW+5Zw7NxWRFQnl6yFuXVBtB02SERUN/ccQWTAa/SZ/rOIqJ5fvYV7h09jxCp5nB3i7Ys90+ZjyuGtIpIj6PlL/DVwlPiJJt7+LfLULCGEEEIIIYQQQggh5L+NJt4IIYQQQgghhBBCCMkDNPFGCCGEEEIIIYQQQkgeoIk3QgghhBBCCCGEEELyAE28feF4hVBjowKwKGAtLYb5jZGRmYqE5BhpSUlLUIpBEEK+PPmRD8UKWMqLqaX4f/zX8WIj1mY2sLMsJi2G+Q0RnxKHiHdh0pKcnoTs7Jyql/9VWdnvEZb8TlqiUpOUCoaEkP8dEjPSdI7R8JR3MDc0hoWhiWZfxI/t5Mx0ndfkLoY87zEw1HydhZEpMrOzNV+XkpWlVOzkhRT0l+IWtkqf8TziFZ6Ge0sLr9RuY2Ku+TczWf8Vm5as+TezWJ5lZaS9jfy9JGbqfi65S1xaCkw/so2FTcyQzv6m1uvepiSIT5wQkteM8hugkHEBzeOU91OfwoD9ThNDU81cqoCxGTKyMjRzqbcJEezV//PjOgO2HdYf2UYzQyMUZH2uVpsF6/fMP9K/F2Tj1gLstVpthdk2GrPPQKvN1tRc6Yv/jtbr+MIrV9uZWmi28f3I+1WtNt4PF/rINvJzmOVH+nfe75uxdq02/nl+rH+3ZecZw3zy9tuYykULyT+Pqpr+g/SrmhqayWWJM5JSYGSuXco4IzkVRgVMlNLD+jJT0mBgbIR8GuWas1LTkc/QQClnrI+XlOfvIb9GKePsjAyl/HA+jZLU71liyjJCGGqVa2Zt/G/y7ZOwb1tG8t9sI99+XspZo1/MZNtvYGqMfFrl+FPZ9hsaKtupLyuNbT97jfY2ZioTiPyz05edmaWU3eZ/U9979rnwz86Q7w997PdlsP1hpLX9zH/cx/wzzf9f3Md8Gw3+Zh+z/82vtY18+9n+MtAryZ3F4tm8zDVDVU0/P6NHj8Y6Ue2PlzjXr8CZyb73aWmpmpU5ean2pORkWH5QyetDvLKbqYX8Oi41KVmpQqhV0ZeXcdcqxc/xUvXv2dde67v/PoMNhtlrjIzl45RXWeXfb62S67xUO/+ea1Xo4v0eL8f+YbWyXLy/SExMhKWl9iQj335LKyvN1I6/zszMTLPkPP9MTdg2aFULTElJUfaTscY2pony8CYa25jBtj+TbWeBAnJ/k5nF9nHq3+zjpKS/3UYrto1aEhISYM4+Nz4poI//TlNTU82y+slsG43YthsZ6fZTvMog3waOqpp+WcqVK4eAgABl3ZCdvwz1vv/8/MW/ZVrf/VR2XPAKvMr5VB8/vtmxwY9Fffw1ySm8n5Lb+N9KSUzS/O7zSbekhETkN+XHr8bRn56FAux3Gmgc+4nsuDBg+QnPYfRlsnO74UeOfWUblf5NbuP9G89fPr6NKUpfrI/3b+msL/7kY5/1J5r9G9tGE3bs823Rx/s33u/pH/vc3/Vv6enpyrZo9m9s+9NYu7nG9vP+jfcrmv07WxL+wzby1+mfw3IrmnJU1fTLoV/VlOcT+jnM3+U2GWzsYsy+91rffX6Msi+a0vfp+9TcJisrU/mb+U3k38m//dmpmR/P31jfZ2rOjiet/I3ldvzvaY3PeP5myt7n/6bcxoRvhwa+jf/juQ3f/6x/19rHqex98r7kY/0bf7/89+rj287bNft39poUjf6N95X8feaiqqb/Dpp4+wfpT7x9c3wN64jVTorvip3dRmPoKbn8PXfoWxd0WeICc1v5QDkzeSHqD+sDu2rlRUR1/c9NKNW4Nsq1aiAiqsfbjiqTQDWdOouI6unRM3j9wgMl+zqKiOqdZzgy3GPRce4EEVHFBobgxsLN6LFmloio+KTTQedfMOjgchHRtcdpPJy2/aE5MXV8zFy0nDoc1mVLiojq8m+rUOmrlijVsJaIqO6t2QPr0iVRuWsrEVE9O3hOeU91nXuJiMr/uhuC7j1FKxe5lHWklx8ebjmMrxZPFRFVUlQMzk76E323/ykiunZ0/QFDTq6VEjfu8He/otMfk2FR1EZEVOdcFsFxSE8UrVFRRFQ3F21BifrVUb5NIxFRPd5xTBmw1BrwlYiofM7eQLTfGzQZ+42I5Hh58ioerM8pt00Tb5+f6dOn4/fff1fWGzVujGOnTivruW7duIG/lizG4eMnREQV4O+PAU59cf/RYxFR8UTAoZQ9XG8cFxFdv3cdjLE7VsGqsLWIqNaO+Bldf/4BpapXFhHV1qmzkVreAAXryMd+2DEPVK9cH52dh4iI6vaBE4gJCUU39nv1eV6/i8dnLmHInzNFRBXi7YczC1fj7q27IqLiyUrzRg3xwtdPRHQ52JeEp7cPzDSSvuaNG2Hr9h2oWFnexv59++CH0WPQpl07EVFNmjABdRzrYMi3ziKi+mvxIpagpuMXtk/1Hdi/DzevXcfKtWtFRHXn1i0sXvgnjpw4KSKqN69fo0/PHnBzfyIiKp682Re1Q1hUtIjoqlO9Gs5evITiJUqIiKpr506YPWcuGjSS+6lRw4ej89dfoVfvPiKSY/i33+LM6VPKOk28fVkase/JgwcPlPW2wwah3fBByjrHz59h+y+y48wMEyZOElHVbysW4dGTJ+jlMlZEVIYvg3F29wHsPXBQRFQPnrpjxLDvMGGPfMyYZ+XDtM5O8HsTJCIqfqdbp/rNUXF6RxiayYOolPXPsX7dRtSoWVNEVB16dkXtru1QrUVjEVHdXLUdzWs6Yvj3o0RENXvR7/B844+vxg4XEZXH5ZtIevgCG7dsFRHVQ/aZjpkyAT9sWCIiqoToWGwZMQlPvV6IiK4SRWzxJixccxDdkPVRB48eQ5myZUVE1btHd0yaPAXNWrQQEdVPY8agWcsW6D9goIio/mTnKT5onThFzrV27diOx+w8tHS5nE9eu3IFa1avwoHDR0RE9YrlM85DvsHt+znfrQ/xAWvVihUQyM4bWqqxtht378HW1lZEclRyKKsMzDmaePty6E+8fb92IcrUqiZ+yrFm+M/oNmk0SlWrJCKqc64r8I1Tf3Tv0VNEVCMmjkWWZQG0GNRbRFS3DxxHbGg4uk6Q+4W/y22euz/AkQXLUGGSnGdkJqXh9cLrmHkuJ/fXN7tNL0w/uw/GGhcz/hr4AwYvmAa7sqVFRLV/iit+GT9JM7eZOH486tari2+GfisiqqWLFiIjIxMu06aJiOpTc5vXgYHo1qMrJhzYKCIqfsF1Zsvun5TbfN2pI+a4zkP9hg1FRPX9sGH4qltX9Owl78e5s2ejsE1hjP1pvIiotmzcgFevfLFg4UIRUZ0/exa7d+3Ejt17RETl+fw5xo0ZjSs3bopIjifu7ujSQZ2DoIm3f4c8NU3+MSaW5tLysThf+JUEY5ZkarUpd3yYmWq28Sup/KqvZhu/imxirNnG4/wOKgMzY3kxMVTatF5nbFZAmVDUbLMwy5nd12jjC2/j/x+tNv47+e/WbGPvxajAx7afbaPpx7eRfwZabfwz45+dZhv7rPlnrtXG9xHfV1ptfPnP+/gj2/iJ+1i5U+Bj+1jZRnn7+edFPl8fTvryAVShQoV0Fp5IGrLvhX6cL/xqIL+qp9XGF/67C1hZai78+13AwlyzTTme2LGj1ca/3/lZn6PVF+U3YscF+35rvY4niHzSWauN3+3Bf69WG7+q+7FtLFiwoHJHh1YbX/j2F9SI84X/Tn43nFYbvxrKP3etNn41lF/Z1GozLVBAuSKq1cZfw68ka7Up+1hj3/OF7+P/tI1acb7w11mxz0irjf89C0tLzTb+PvkVav24kcbVfvJl+PDOKf1j3Iwfp+x7z+940P/O8MWExfm578PX/L/Xsu8ZP960Xse/nzzX0Hwda/vYd9+yoJXSZlBA7qOUhR/7H/nuG/I8g/VHWn+T38nL75TTeh2/g0xp13gdv/vko8e+so0Gmq/j/fMnH/vsd/K+Q6tNOfY/0r/x9/nR/o1tI+/jtNr4a3jfqNXG/9bH9vHfncN43/2f+jd+DtCP89cQopXD/F1uw7+jWuc9vhiz7zbP67Ve96m5DR9D8TxMs49ifRf/Hmu9ji9Km6WFZhvvM/mdclptf3fs/1u5jdb7LGCVcyer1uv48j+d2/Dl785hvN//WP/Gf9/H+jd+ntHq3z52FzP5Z9HEGyGEEEIIIYQQQggheYAm3gghhBBCCCGEEEIIyQM08UYIIYQQQgghhBBCSB6giTdCCCGEEEIIIYQQQvIAVTX9B+lXNS3kUFL3gaxsT8QGBMO6nL0I6Ip7HQarknZKIQF970IiYWZTSPOh+EkR0UqVUF60QF9KdDzy8YdiFpIfupgWn4jM9HQUsCkoIqqM5DSkvUuAia38Ol7iPz0mGQVLFRMR1fus94h7Ewprtu1aYgNCUKh0Cfae5AfVvgsKh7mdDQw0ymAnhkXBxMqCbadcdjn5bWxOAYWCcun41LgE9p6yNbcxPTFZqXhqrlFhNDM1HcnRccr+0JedmaXsj0JliouIrlh/to8d2D7WeBZv/JswWBZn+9hI3scJoZEoYF0QhgXkikJJkTFKcQljS419HMP2MfuemVrLJbLT3iUhKy0dZkV0q0ymsn2fwraPo6qmn5+xY8di9erVyjp/SK1DuXLKeq6kxCREvo2Eg4ODiKh45dLAwEBUqiRX6OKnEy9PT1SuplvVK5evtzdsSpeEgaFcES/qTQis2PFtbCofwzFh4crDibVKwCdGxyI7XzYMLeTXZSSmwOC9AQrZFRERFS8bn8z6sMIl5H6Kl9uPi3yLYmXkCl3ZWVkID3iNqh/ZRr79VapW1XkwfC5eTa90mTKapeP5Z2prYwsLS7mfCg0JUR7Aa61RgeptZKTyudsVLSoiqri4OCQmJsLeXj6n8GpskRER0r7nlH0cEIBKGtVX+XnK0/M5qteoIQK6vF++RLny5ZUH/+rz9/NDseLFle+cvqCgIOXBx/zB5R968+YNEt69U9apqumXhZ97fH19lXWbIkVgy5YPhYaHseMsHyw1jotUdmxnpKWx75tcgS7uXTziY2Jhay+3ZbHvfjTrbxzKVxARVWZWJvx9XqFkRbl6PHsbCH7ljzLlHZQHW+sL8PNneYYly0Xkvi+D5UvW1oWVh3PrCw8LRT4jQ1gUKiQiqqTYOOTLfo8iGsd+AtvG2Lh42Gj0b+mpqXj3NhplNPr3zMwM5b2WYNuhJdjHF9WqV9fNXQUf1r+XZb+TP0xcXwDrT+zs7JSHgusLCQ7Oefi4tVztmvdR/G8VYa/VFxsTg+SUFJQsKeeTvN+LiopCWY0Kq2nse8ErN1fUOIdlZ2fj5YsXyjZq4W0V2PeSP0z9Qy+8vJTXclTV9MuhX9XUhvUpvLDJh/4ut3kX/hbW7NjWP+9xYWFhSq5U2EYeg0RHRyE5LRUFi+hW1+X+Lrfhx358BPub9vL4JDs7C9FsfGZeQrvSZVJIDIqVK6MUZ9AXGRjE/l5RpeCDvpgQNq6xLgRTjWM/NiISVuYWmtU18yq3CQjwRxGN6qv8b4X7BvzP5zZvWG5TUM5tuPDwcBiy84X+uY2LiY5W+iqtKqo8J4qNjVXySX2pbB8Hs3yK91MfSmF9JX+fuaiq6b+DJt7+QfoTb702uep0YHxXHB0+A723zBcRXWcn/YFW00fDrLB88F6bvx41+3WGTUX5ILy/bh9K1KmKUo1ri4jq+cHzSqXMyl+3EhGV/+V7iA+JgOPQHiKiCnvyEs/PXUSxfvLvTItMQMxJH3Sc/7OIqDKSU3F28p/ovma2iOg6MWYOuix2Ud6Tvoszl6PR9/1hpTGhd/uv7SjXphGK16kiIir3HcdRsGRRlGsnl+r3Pn1deU81nDqJiCro3lOEPnmBRj8MEBFV9KvXeHbgHFpPl0t5J8fE4/r8teiy5BcR0XVk2HT02jxPM3E9O3khWrmMlCbCuOsLNqB67w6wrSwnxG7rD6BozUoo3bSOiKg8D19QJh6rdGsjIqqAaw8Q+zoUdb/VLWXud/kunu4+pazTxNvn55dffsGff/6prNdxdMSGzVuU9VxuDx5g86aNWLdBLrkeFPQGP40Zg6Mnc74fH8rIyEDLpk1w1+2hiOjq2L4tBiycqTmI3PXLXLQdPhglNAa1xxevRpWmDVC5qVyq/er2fYjIjESBehrJ2YPXsHtviy6jhomI6tWDx3h+9RZ6ufwkIqoI/9c4v2Yrhi7+TURUyQkJ2DJuGq5euwEDjQS0RZPGuHDlqjJRps+pV08sXLJUMyEcO2Y0Bn8zBE2aNhUR1XzXuahWrRp69ekrIqrNGzcoyeToH8eKiOr0qZN4cO8+5sybJyKqRw/dsGHdOqzftFlEVHyi74fvR+LE6TMiospiyXmT+vXx4LG7iOj6qmMHbNu1Wxlk6xv+7VD8NHEiateW+6lpLi5o1bYNOnXqLCI5pk6ehGtXrijrNPH2ZanPvmePHj1S1keOGsWWH5R1Lis7G+Pnz2SDXBM07t1NRFWxd54gOiAY02bOFBHV1tNHcfbwEfSdMVFEVGlsIHxyyTocYO36gmPeot/X3TBh91oRUdmammH+wJE4cuKk5gCr3dftYP11ZZgUky+AWV2OxUCngWjZurWIqGa6zkaGtQXqfqXmjrn8zl6HWfp7jP9ZzrUuXDiPnScOo9vE0SKiCvX2hce+k9iyfYeIqCLYgLX/wH4Ys2mZiOha4jQcdx64aU4u9uj6NdasW4+SGoPhUSNHYOT3o1C/QQMRUf3G9lH9hg3QtVt3EVGtW71aqfo6gr1W37Ejh/H8uSdmzJolIqp7d+9g144dWLV2nYio+EWFyRN/xqGjx0RExQet7Vu3wi3Wb2rp0KY1Dhw5Cmu9ScI2LVsgKTFRWaeJty+H/sTbwHm/omQV3QmPnS5z0W7kNyhRQT7v31i5FT2/6or2HTqKiGrZkiWwtSuCb4YMFRHVlh3bcN/HE+2GDRIR1X8nt1k/ZgrKTZLHCpz/n5cxdttKGGlcONwyfhp6TP0RNhqT4AfnLkb97p3gUKemiKjOr92Krxu1RO++cm6zacN6ZGZk4ocffxQR1afmNnySf/jI4Ri2+g8RUfGJx6X9Rn5SbjOM5TYTJk5CrdrymHja1Klo3b4dOnaUx5krli1DoUIFMdT5OxFRHdi3V7kgO/WXX0VEdePaNRw7dhRLly0XEZWPjzd+mzEDew4cFJEc/KKw85BvxE808fZvoYm3f5D+xNvwK9uVEsy5+K7Y1HooRl7fKSK69vT9SZmwsrCTr34cHzMXjUYPQLGa8hW8y3NWo0yzuqjQvomIqB6s36/cCVdnsJy4eh29hBiWuDaf6Cwiqtd33PFg3yGUHi3/zpSQOETu8EC/HQtFRMXvItvjNB7OZ+UBPbety0gMOrhc8+68Q86/ou3MMShcvpSIqM65LEbVHu1QpqmjiKhuLd2Gwg72qNZLTlyf7D6pvKeGo/qLiMr30l28vv0Y7WbLnX74Mx/cX7sPPdbICV9iZLQygTjo0AoR0bWx1RCMuLZDc+Jtb78J6Lp8OiyLy1c/To5zRf0RTiheW55cvOq6FvaNaqFix2YionLbeACG7ESpNYH64sQVRPkEosVk3YkJzyMXcGd5zveQJt4+PzPYSXn+/JwJ/mbNm+PStevKei4+0bHg9/k4f+myiKj8fH3R7asu8PJ5JSIqPgFkY2WJhNQ0EdFVqkQxjN2/Hla2ch+2bOAo9Pp1PMrUku8k2zZxFup0aqMs+o4vWo3gzBCYt5QHe1FXfFDyfXEMnOUiIqpnl2/iwfGzGL7idxFRBXv5YP/shZh0cJOIqBJj4/BHtyGIfButOfFW2NICQeERmnd21K5eDfsPHVbuiNPXtUtnjJ/wMzp0kpOzMaNGoV79eixh/F5EVAvmz0Ma+7x/c3UVEdWunTtwle3Dzdu3i4iKJ27z5s5RJgn18YFpJ5Yoevv5i4gqKysLlqYmSGYJsZZypexxkyXEWnehtG7eDAsWLtKcXBwycCC69eyBfv11L3QMcOqL40ePKus08fZladKkCe7du6esT581CzNmqRfs+MRbjzHOMDErgPYjh4io6u35O4h46Y/VbACmb+Huzdi7YRO+X7dIRFQpb8Kwc/IcuD97LiIq/8hQOJavhD8enBMRVbEClhhTvy08Wb+oNZgpXr44inxTBwVKyRfVrI9EYewPY9G1uzzx5DxqONKLWKHF4D4iovLaewoWqdnsmJJzrYMH9mPp9o2aA+zAJ89xb9UOXL99R0RUwWxgWre+I+ZczTnm9E2u3QbxySnSHV9clQrlcfbCRc0LCx3btcX0GTPRqo3ch49wdlYm3YcM/VZEVHPYfjcyNsI09lp9WzZthNsDN6zdsEFEVJcuXMBfS5fg9LnzIqLid6449e4FD68XIqJKTk5GSbsiiE1MEhFd9kXt4P7cE0X07lApWtga78SduTTx9uXQn3gbt2MVHBx1J5j+GjAKvadPQJma8nn/1LSFGDZ4CPr0dRIRlcvkySheorgyoaPvzyWLcNnDDb1+kSfX/ju5zdyv+qPaYnmswHmNP4p5N09Kd/Rxf3Qfgu+WuaJoOfkO03XfT0Lrb/ujSjP5wil/L9+074oR7Nyu7/d5rshIz8DsuXNFRPWpuU2Avz/atGsNlzN7RETF/zXDFMd2n5TbtGrWFH8uXoLG7Jyl75sBA9CD9TdO/eRxJr/gaMPy4UlTpoqIau3qVayv8saylStFRHXqxAls3bIZh48dFxGVx9OnGO78Ldzcn4hIjkcPH6J540biJ5p4+7fIowZCCCGEEEIIIYQQQsh/G028EUIIIYQQQgghhBCSB2jijRBCCCGEEEIIIYSQPEATb4QQQgghhBBCCCGE5AEqrvAP0i+uwB+Gr/+AfV5JU6v6KBf62AtFa1RUKlTqi3j+CoXKlICJpfxAb16Bs4B1QZjZypUE496EIb+hAaxKyFVaEsOjkJGSCmsH+aHlKbHvkBDxFjaV5CqqvEpotO8bWFWSq4++z8rGuxehsG9YS0R0BT94hhL1qusUncgV/tRbqdqqVfH07Ut/WBS1ZdspVwyLDQiGUQFTWBSTy26/C41EdmYWCpWWS2snR8Wx7YzXrBSblpCEuNehyv7Ql5WeoeyPEnXlh8Rz/2kf21WvAEMTuSR3pKcvCpYqDhMrjX3MPm/TQpYwt5Uf3BwfFKZUz7UqKVd9TIyIRnpSCgqX093HCWzfxwWGKOtUXOHz89NPP2GleGArr87WSO+BsNFR0fDzfYWGjeVKwMlJSXBzc0MrjQp82dnZuHj+PDp16SIiuq5cuoSGzZrCxFiuinX/7l3YliuNAlbqg4pz8QcCWxWxURZ9EX6vkd/IAIVKaFQ1DYtAUsI7FCgp933p8SnIjEuBQy25dHwqO75DffxQrp7cT2VlZMLX7QlqNmvEzqAi+AGPG3dZP98BBqxf1Xfz+nU41qun8zDmXLySrIODg2ZZ+efPnimVEkuVlkvg+716pXzuFStXFhEVr+DF92WtOnJ/w0vVv2KvbaSxj1OSk3H//n201ngQOk8Zzp89i85ffSUiuq6y81yTZs1gair30/fu3EHlqlWlioDcE3d3FC1aVCqd7/7okVJpkaPiCl+WKlWqwNvbW1mvwM5DfPl/WOb64uULdpwZaj7M3y/QX3nYfanKFURElRGfiPCgEOVY1BfP+otnT56gSsO6IqLKl/0eHrfvo80HeVyujPdZuHXlKqo2qq9U4dT36iH7ndWrwcJS49h3ewATGwuYFJTP7elh71CkkC1KlZHzEF9/XySnpqJEefmB5rGRUUiNjkPNOnIF4fi4OHh5eaJiPblfyEhLh++jp2ihcexzl1n/XqtlU5ZTyJ3fy3uPlP7EzEwujnX/3j0llyhsI/fh/GHgNiyuVQ31lbeP8rd09r0Q9OYN25Z41KglV0uMevsWAQEBaNBQfqA7rz7Kq+W2bCVX8+fFYy5fvIiOnXWrK+fibS1atoKxXo7GizlkZuY8lJ2KK3w59IsrlKldHWYFLcVPOQIeP0OxCg6auU0kG7uUKlkSxYrLY5CXXi9gYmqi2b/xAkiJ7G/z86m+sPAwvAkOQqnqck7wn3Mbd5RrKPcZnO/dx7CuYa957L/zDkeZGlVhbCZXc3/j8QI29sVhXljOw8J82NjNyhI2JeTxYnhgECwMjFluIxcN/NTchhdPuXfvLso3lAvxseQGL27e/6Tc5i7LbaqyfVFIK7d5zHKbYnJuw3m/eKkUjylXXq7m/zowkPVVSahWo7qIqCJZThQUFIR69euLiCqBnfeesj61eYsWIpKD9/v8feai4gr/Dpp4+wfpT7x1mD9BmRD5f9iuuDDtL3RcIJe4564vWI9GYwbBVK9T5+6v3YvKXVqiUFm52srTvadhV7U8iteRq2H6nLsJI96xt5aTk6C7T5AQEY1qPduJiOrtC38E3X+Cus69RUSVGBaFh7sOo8QAOXHNTs9A8I6HaD9HrsTDXf5tJVr98j0M2XvSd3vZdtTu/zUsissTaI+3HUGpRnVQpKp8gvI6dhmWRW1Qqol8Mgm49gAZqWmo1Fm3g+LCnrxE5As/1B74tYio+KSU99kbaDR6oIioUuMTcH/NHrT6VS5/z134dSk6/v4zO/rkk9eNPzeiwch+KFC4oIioHqzfh4odm2tOhD7bdwY2lR1QwlE+Cb86fwsGbCBQrq18Egq+74F3oRGo1quDiOR4c8cdL0/mVASiibfPz9SpU7FoUU5Fv6rVqmHe7wuU9VzPPDyUqnhz5+VUPv1QWFgYXH+bjTXr5UpyfOAxsJ8TDh7RrojHS64vWb4c1oXk5GTSpImo2bMj7BzkyaXLm3bDoW5NlKsrJ4v3D59WEt2a7VuKiMrz6m34+HnAqqk8aE0KiEKm7zv0Hj9WRFTRb0JwY89hzYphqSwROjR3Cb5ZKFc05rb9PBM7du2GqYmcnI37cQxcfv0V9vZyZea57DPt1qMHHB3lfnPt6tUoX6E8OnaSB4N8P/HKX4O+UcvE57p69QqePXmKn35m/Y0ePpm3f99euM6XK5/xia7ZM6Zj3Ua58hmf5OMVAbWqaXEjvnNWqnvxgbS+X12m4tvvvkOVKnI/tYR9Hxs1bsSSRd39uPCPBcqgnaOJty+Lo6MjnjzJqczWb8AA9B+ge77dvXOnMjDt6yRPcmw7sh8+vr5oPqiXiKgMX7/F/UtXMXO2XPHzhZ8vFi/8A31mynlYgax82Dh1NvbsPyAiqpi0ZPzo/B2cfpsCU3N54un8wrWYwI5DBwc5Rxk+aRSMKhWGuYN8zBg+jkXLmk3w9dddRUS1df9uBEaEoVFveaDo/8gDqd6vMXmqXNGZV/X8a90qdJ88RkRUKSx/ObNoDTZvk6sFcn179YTzMlfkN5AvLBydswTz2DmjaFF5ED2T9Sf9+/dHjZpyH75i2TLUrFUTbdrKuebe3buVixj61Y65ixfO45XPK4wZK/fhfCL/+LGjmD1HrojIB+28aveqNWtFRJWWloZvvxmMfQcPiYgu5yHfYDnrjwta6eZoQwYNVAb1HE28fTn0J966/jwKRfUmwo8vXI0m/brDrqx83nfbcRgdWrVB02bNRUS1bcsWWBe2Ro+ech926uQJRIRHYPjIkSKiunrrBk6cP4MOo4aKiOq/k9tsGT8dpYY3Vm7W0Be+7wm+HjMChYrJN3GcXbUZNdu2gH01eQLt5u7DKMI+F62Kp+5nL6OcWWEMHDxYRFSfntuEY9r0X9GH9dP63rPcZstP0z8pt/ll6hR8N2w4KleRx9lLFi5Eo6ZN0Ly5PM7csW0bLK0s0au3XLX6zOlTrK8KwchR8ljS7cF9XLx4kW3LDBFR8UnZ5cv+wl/LV4hIDl/fV0ql3Fw08fbvoIm3f5D+xNvwK9t17uziu2JT66EYeX2niOja0/cndF8zGxZ28kF/fMxcNBo9AMVqyh3b5TmrUaZZXVRoL5c5frB+P4wtzFBncDcRUXkdvYSYgGA0n+gsIqrXd9zx4vhldP5TPYhzxfgF4czMRag4s6OIqLJS0vFy2mkMO7dZRHRt6zISgw4uV96TvkPOv6LtzDEoXF4+eZ1zWYyqPdqhTFP5KsatpdtQ2MEe1XrJV6mf7D6J9MRkNBwll3n2vXQXr28/RrvZP4qIKvyZD+6v3Ycea+QTVGJkNE6MmYNBh3Q7vVwbWw3BiGs7oH+3I7e33wR0XT4dlsXlu15OjnNF/RFOKF5b7tivuq5V7qCs2LGZiKjcNh6AoYkJHIfKJcJfnLiCKJ9AtJg8TERyeB65gDvLc76HNPH2+ZkxYwbmz8+ZVGvWvDkuXbuurOe6duWKMjA5f+myiKj82GC221dd4MUGPPrS09Nhw5KIhNQ0EdFVpkRx3H/sjmLF5IFZ40YN0HriSJSpJd8pum3iLNTp1EZZ9B1ftFq5E66Nszwwu7HrEB48vgrbPvIVw/gnwUh/FIUpW+QJxP9Ucv+PbkMw79ZJEdHl0qAjwiLewtxcvnuldvVq2H/oMKpoXKXu2qUzxk/4GR06dRIR1RiWeNWrX48l2XLJ/QXz5yGNfd6/ubqKiOpTS+7zxK1T+3bw9vMXERW/I8TS1OSTSu63bt4MCxYuQpOmTUVENWTgQHTr2UMaYA9w6ovjR3Mmcmni7cvSpEkT3BOTrtNnzcKMWbOV9Vyzpk+HuYU5XH6dJiIql0Xz8ODRQ/SbLecoRp5vcGLrLpw4fUZEVHceP8SgAf3gcnyHiKgsMvPh5+ZdEBX/TkRUYcnvUN2+FKad2QvzgvKd9xsH/oit27ajtsYdaA6NKsGkYXEUrC0fM8bnwjGwdS+MGTtORFRTXWfhWaCv5gSa+7krSLrvid379ouI6t7du3D+8XuM3y1PPCW8jcbaQWMQwAZ8WsyNjfDno4vKnYb6Fn/9DS5duqJ5h07Hdm0xfcZMtNK4k26EszNatW2DIUO/FRHVHLbf+R0h09hr9W3ZtJENQN2wdoPch/M70P5augSnz50XERWfeOQXDzy8XoiIik+elbQrgtjEJBHRZV/UDu7PPVFE787kooWtlTssOZp4+3LoT7yN27EKDo66d2D+NWAUek+fgDI15fP+qWkLMWzwEPTp6yQiKj5JUpzlTBMmThIR1aoVyxHgH4Aly5aJiGrngb1YvnEthq+QJ57+O7nN5LptUW1JT+Q3lo99f9dL+HHNUhQtJ999u+77SWj9bX/NyTX+Xkqzz6VJX3kMemHddtQpWByz58qT55+a2wT4+6NNu9ZwObNHRFTZLLeZ4tjuk3KbVs2aKpNyjfX+9Qj3zYAB6MH6G6d+8jhzmosLbGxtMGnKVBFRrV29ivVV3lgm/nXKh06dOIGtWzZrThLyO4iHO38LN/eci1a5Hj18iOaNG4mfaOLt30LPeCOEEEIIIYQQQgghJA/QxBshhBBCCCGEEEIIIXmAJt4IIYQQQgghhBBCCMkDNPFGCCGEEEIIIYQQQkgeoOIK/yD94gpVurfVe8D+e7w4fkUpEqCFV6cs27I+jArI1fICbzyEXfUKMLORyzWHPHwOi2K2KGgvP9A80ssX+Y0MYVtRoxx9QDBS3yVqPsw/IfwtYgNDULqx/KDgNPaaNw+eomgTuZR1dmYWwm96oUwHuQQy9/rSQ1Tq2EJ5T/r8r9xDyfo1YKJRkvvNvSewLlsSlsXkogRhT1/ClL1Gqxpo1KtAZGdkwq5aBRFRxQeHIzE8Svmb+pKj4xDp6avsD30ZKanK/qjYSa5SxPGiFFV7tGVrcnGFVxfYPm5eD0YaJbkDb7J9XK0828dyRciQR2wf29mgYCm5JLmyjw0MYFvZQURUsYFsH8cloHgd3Ye+xvgHIeJZTkEFKq7w+ZkwYQKWL1+urPNCB9169FTWc4WGhODx40fo2q27iKjexcfjzJnTGDBwkIiosrOzsGXTJoz4Xrui764d29G7rxPMzOTiKUePHEalenVQqIhcPObR9VsoWLIYbEvJD7UNePIcxqxPLFlZPoZDX/khLuYtrKvIBVmSI2ORGBKDso10H4TMpcQnsn7jFRw78eNUV0ZamlJtq2FP7ZLz9w6fRI+BA5RKwvrOHzmGzp26aJac5xWsatWqBftSclXXG9evo4hdEVStKhee4PuJ96v1G8oPLvbx8UZocDBaa1QLDAsNUR6227W7XHQlIeGd8vDegYPlSqnv32dj04YNGDnqBxHRtXvnDvTs3UezuASvMti4cRMU1SiucfnSRZQtWxblK1QUkRy8ciEv9sBRcYUvS/Xq1eHl5aWs161XH/Xq655veWU3Q0NDONatJyKqRx5P8DbqLWo2biAiqtjQCPi/9EaLjnLBpbiYWNy9dh2tusvHN88VLh46hl5DtPq+9zixdx/a9OwGIxNjEVXdPnUODVo0RyEb+WHWl86egU0pOxQsLvd9oc8DULBgIZSuJJ+/X3sHICM9E1VZv6kvLOAN3gaHoHGbViKiio6MhPt9NzTtolvNnEtLTsHtMxfQdYD8sHfu0NYd6DK4P/Lll/OXa0dPolXnjjC3lCvvXz97Hg0bNESJEnIfzov5lLAviUqV5JzxodsD5M+fX9n/+l6+8EIk25aWrVqLiCo4KAgeHk/xlUY12Li4WFw4dw799Krkcrwy945tWzFshFwtkuNtvMKuqalujrZt6xa2L9KVdSqu8OXQL65Qo21zWNnqHsdPL15HuXq1YFlYPu+/vu+OKux7X65ceRFR3bt7R8mVatWWj+/nzzyUYh5a1VB9/F7Bw8sTVZurD9LPxQso+Lk9Qe2O8jHzn3Kbu4dOoExbR+T7oChgruBbz1GmARufWcq53Zv7z1GqSmXNiqe+bu6wZGMaraIMQV7esMhvhOr15KJ5r31Zbhce+V/PbdhndvzEcTh+Lff9fDrk7sETn5bbHD2Cxk2balZ0vnyR5TblHFC+vJyj3r93l/UlpqhdR95Gz+fPWF8Vh2Ya1VBfBwbi5csX6NS5i4iooqOjlD61j16177esrzzG3mcuKq7w76CJt3+Q/sRb05+GsORF7cDes//uLNuBZhPkyk6c26YDqNX/a9axyQf90/1nULZFfRQsIXdsL89cVyqB2lWWK00F3noEA5YklmogDz75hFVSdBwqtG0sIqpo/yCEe3ijek+580qKioX32RuoO0Tu9DLT0tl2HESxPnJJeS7s8FM0HNEPhhqJ6+Odx1G5S0uY28onL89jl1CsVmXYlJMH2L5X7sHcppDmBGKQ2zNksffEJ7v0RXr7KxVaq3wlJ67xoZHKRFjt/vIJKi0hCR77T6MB2w4tt5dtR9MJQ5FPY+Lt4eZDqOHUCaZWcuL67MBZlG7mqExA6PNhn3ehsiVhV1U+eb++/Qj5DY1QqpH8mYc/80ZiRDQqtNetMhj25AX8rz1Q1mni7fMzefJkLFmyRFkvV748fpowQVnP5ePtgwvnz2HsT3LJ+bdv32Ld6tWY+dtvIqLKzMzC1EkTsVRM6umb8euvmMoWKyu56t/SRYvQ28lJmXzRt2HjBliwPkyrHL3HxRswZX1ipcbyMez7wB1JLNGsrVENNdTbDz6PHsO0UVERUWXEJiPxYSi6/KBb7ZfjA9MLa7ej2yTt5OzYn6vQ9edRMDQ2EhEVr9I19ocxmlVd17LPtE2btqhSTa58tm/PXpQuU5ol2XLV4vNsAJmZkYmvu8kDzAf377N96Y1vhg4VEZWvzyucZQP+cePHi4gqOioaq1auwOw5c0RExScYJo7/SbPSFscrTU6cMhWFChUUEdUy9p3r0auXZtXD7Vu2ombtWmyArbsf+UQur9LF0cTbl6V27drw8PBQ1jt36YLOX+meb0+dOAljlit01KgEfPvWLQQHBaP/QLna8UW3O3h46w6aDewlIqqMmHd4cOQ0fp0xQ0RUUQnxWDB7DnpMlSudWxmZYv+fyzFj9m9sYCYPPufMm4u6XTuioMbFQc+jF9CcDaBr1pLzsPXbNyI0OwbmleTczio4G8WNbdgxpXvhhHv86BGu3L+Nhr2/FhFVTHAYAq7fx8+T5GqJsbyy4Z8L8PUEuYIyd/T35Vj81zIYaAy+Z86cgaaDesPcWj72b+86jL7de6JiJbkP371jJypUroRGjeSJgjOnTrG/ZYBObP/ru3v7Nl6/fo0Bg+SJ0JcvXuAKy7nHjB0rIqqI8AhsYueU6TPlSqm8MjevNLj4r79ERNf0X37Br9NnwMJS9wLwL1OmIDU1VVmnibcvh/7EW6uh/WBTqoT4KceVLXuViuyFNXL358cvoknDRnB0lCdejh05CquCVmjbTp5cun71KqKio9Gnb18RUd1/9BDXbt9Ek37yhdO4sEg8On0R7UYMFhHVf85tVqLbxNGaFxXPrt4My6alYGgl3xiScOsNajVvgaLly4iI6vGpi7Bmn4t+JVju5c37SqXRaq3lKuhvPF6wAUzMJ+Q2UVi2fBk6/PidiKjes9zm6ILln5Tb/MVym569erPcRr5Asm3LFtRi5zL93IY7ceyYMpHXroN8EYRfcI2MiEBfjb7kmcczZWJ25Cj5IndIcIhS9dWF5dofevPmjZJn56KJt38HTbz9g/Qn3oZf2Y78HyQvfFdsaj0UI6/vFBFde/r+hO5rZit3Nuk7PmYuGo0egGI15aTm8pzVKNOsLiq0l8scP1i/H8YWZqgzWC7l7HX0EmICgtF8orOIqF7fcVfu3Or8p1yqn09WXXFdg77bFoiIKj0xGbvZdlT7S04UOc+fj+KbQyuV96TvkPOvaDtzjDKJqO+cy2LlTsEyTeWT162l21DYwR7VesmThE92n1TeU8NRcpln30t38fr2Y7SbLSfZ4c98cH/tPvRYM0tEVImR0TgxZg4GHVohIro2thqCEdd26N3tmGNvvwnounw6LIvLyfnJca6oP8JJcwLxquta2DeqhYod5YG528YDMDQxgeNQeSL0xYkriPIJRIvJuhMMnkcu4M7ynO8hTbx9fmawQeX8+fOV9WbNm+PStevKei5+tWzB7/Nx/tJlEVH5+fqi21dd4MWSG3180GJjZYmE1DQR0VWmRHHcf+yuOfHUokljLFm2HA01Bl+9+/RCkRZ1leRV3/FFq2FVxAZtnOUB9o1dhxAVFILev8oJ2LPLN3H1wEFYDZWPp+Q3MYja+wyzTuwXEdV/Krnv0qAj5l4/DhONu1b/6D4E50+cQZWq8uRa1y6dMX7Cz+igMYkwhiVX9erXw/CR8mB4wfx5SGOf92+uriKi+tSS+/wOs07t28Hbz19EVFksEbY0NfmkkvutmzfDgoWL0KSpnEgPGTgQ3Xr2QL/+uvtxgFNfHD96VFmnibcvS5MmTXDv3j1lffqsWZgxa7aynosPhMwtzNkAY5qIqDZtWA931tesXrdORFQLd2/G3g2b8P06dRCSK+VNGHZOngP3Z89FROUfGQrH8pXwx4NzIqIqVsASY+q3hSfrF7UGM5VrVIGTqwtKVtG9o5M7M/UPjGLHdtfu8kC559A+eJb1GrZt5Nyu6JNMVDcry46phSKiOnhgP5Zu34ihi+ULJIFPnuPeqh24fvuOiKiCg4NRt74j5lzNOeb0Ta7dBvFsgM7vNNRX1qE0RqxfLE08cBuG/4xl8xeiVRu5Dx/h7IxWbdtgyFD5ovMctt+NjI0wbYY8SbZl00a4PXDD2g0bRER16cIF/LV0CU6fOy8iKu+XL+HUuxc8vNjgXU9ycjJK2hVBbGKSiOiyL2oH9+eeKFJEN0crWthauQOJo4m3L4f+xNu4HaukSaS/BoxC7+kTUKamfN4/NW0hhg0egj595TtMXSZPRnGWM02YKE+Qr1qxHAH+ASxnWiYiqp0H9mL5xrUYvuJ3EVEFe/lg/+yFmHRwk4io/mNuU78DXG+eVP6Fgb65X/WD3bC6MC0uX1SNWPcQPX74AVWayXfl8/dSmn0uTfrKY1B+oTIrIwNdxo0QEdXDE+y49nrzX85tAvz90aZda7ic2SMiKj7JN8Wx3SflNq2aNcWfi5egMTtn6ftmwAD0YP2NUz95nMkn+W1sbTBpylQRUa1dvYr1Vd6aE4H8XyRs3bIZh48dFxEVv1A53PlbuLk/EZEc/C7A5o3V/Jom3v4d9Iw3QgghhBBCCCGEEELyAE28EUIIIYQQQgghhBCSB2jijRBCCCGEEEIIIYSQPEATb4QQQgghhBBCCCGE5AEqrvAP0i+uUH9EX52qppzbhgNo8L32Q1l5IYBqPdvBWKNiltexyyjduDYsitmKiMrv8l0UKlMSNhVKi4gq+IEHDIyNULyO/NDPSE9fJMfGa1b8jHsTytr9UKmLXOY4JSZe+Zs1nDqLiCorPYNtxwmU6ysXAeD8Dt5Gxb4tNavm+J28g4rtm8GscCERUfmcvQm76uVRqLT8UF9eudXMuiBrl0s58+qd/D3ZN5Qrfkb7vkHc6xCUbyc/LDMxPApv7j1V9oe+9KRkZX9oFazg/m4fP91zClW6tdGsXMsLIdg3qKlZeMH/yj0ULFUcNhXlqkHBbs+Q38AAJepWExHV2xd+ShVaXhH3QxHPX+HNHXdlnYorfH4mTpyIv0TVtjJly2LE97oP7ff388O1q1cxbIT8UNuY6Ghs27oVEyfLhVX4g/fnzp6NOfPmiYiuP+bPx48/jYelXkU4bt2aNfi6WzeUKiUXT9m9exeKVywHh6qVRUR1/9I1oIAxytaVq2IFuD9Hcnw8qreW+5tw30AEPvdEiRbycZES8w4hd71Qs1dbEVFlpqbj6cFL6DTGWbMy8dlVm9Fx1Leafdi17QfQY4ATCtvK/fTx3fuUqqU1qsrvh1c3K2lfEg0ayg8n5oUweDXZ9h3lqljujx/D39cPffrJD27mDxnmVf+GjxwpIqrYmFjlweWTpsoP/OWVv2bNmA7X3+UHN3MLFyzADz/+qFm5dsPatej81ddKhVZ9+/fuRdXq1VGrlm5fvHf3bnh5eirrVFzhy8K/C8+ePVPW27RrJ1X3u3j+AoxZ/qL1wH63Bw8QGhKiVNHV5/bsKR7dv49O/fuIiCrubQyuHjuBwaPlQia8auW2ZaswdLJc7Tl/vnzYsZS1jf0BpgXkwip71m9Cy66dUbioXJ30yqFjqOboiHKV5cILF06dZP1bfpSuIecvwc/88D4tC3Vayv3CG29/hAWEom0vOQ+JDA6F25XrcBomFzNITEjA/o1bMfAn7cqGW/9YitHTpiK/Xu7KbVuxGl0G9oOlRlXTM7v3o3GrlrAvK+col4+fQtVKleFYt66IqC5fvKjkL23ayn3xQzc3BAcFoWfv3iKi8n31Crdu3oTzMLkyNa/MvXvnTkxg50F9GRkZ+N3VFbPnzhURXQvYue2nn39WKhF+aN6cOUhLyykqRMUVvhz6xRV4JdHCJXSLR93acxQ12jZHIY2Kxi/P30D9Oo6oUVPOX86ePsPOo5Zo1kIeZ/GKvjHsPK1Vzdzd4yluPbiHBt3lQk1JrH/zuHgdPYfL1UBTk1NwcD3LX36Q+wXu7MqcNq3c5sq2vbBvWROmBeWxS8DlxyhRsxIK2ct9X8BNdxQtVUaz8MSr+4+VggeVmzYQEVWIlw9SwqLQoafcv4UEvsbDm7dZviBX/IyNiVGq5Lf6Ti7GxXObMys2flJus57lNl2+ZrlNaY3cZs9eVKtRHTX1chvu/NmzMGN9SYuWLUVEde/uXaWv6qZRdOel1ws8fOimWdU1PCwMhw4exNifdM9TIcHBSp6di4or/Dvojrd/UVpCMluS1OVdooh/EPtgQXa2UoFTq+19FmtjnaZWW1ZGJjJT0jTbMtMy2JKu3Zaahqz0TM22jORUZGdqt6UnpbC3mq3Zxhe8B8xgqblw0ZHBiIoIkpaszIyPbj9/L/w9abXxbeDbotXGt51/Bppt7DPjn51WG/+s+Weu2cbeI99XWm184fi+1mp7/7f7OItt48f3ccZH9nEW20a+aLVlfGQf88+FfL4+vN6SyQYafKLlwyWBDb74AEQ/zpf4uHglGdJq4wv/3VpxvvC2+Djttix2DCe8e6fdxr7fZln5UCgjv7SYZOdDNvu+JscnSEsGGyhnfKSNl85HNmBraCsthQwKKUlYQJC3tLwO8UX2+ywkx73T/L28f0t+J8f58j47C37hIfAMDpSWxNQURMXL284XPqBLZgm+VltKSgpS2aLVxgcFaelpmm0J7D1q7Xu+xMfHIYv1RVptMbExyvdGq40vvO+Pi4vTbMtk+5hX/tNq4xVxkxITNePky8S/S7m0vuOp7Jjh33/9OF/48cKPG602g7RMGLJfrdWfGLG2NHZcaB2jQZHhylS71uvyJ6Wz95uFl6FvNF/LOg1YZGr3YcnsfQZFR2i+Lis9GyVNbVHLqry0ICMbb6JDccXrjrQ8D/GB0Ue20YL1pSmsX9D6e6/CgpWBgdbr+ML7cC+N1/GFb6PVR7YxP2sLfBuu+bp3KUlKX6W1r/j+/dg+Vvq3j+zjvzuHvYv/9HOY0r/Fyv3bh+dU8uVKZfm7/nmff9dSE5OkOF8y2PktUeO8xxc+0c+r7Gq18Xgaa9dq4+dRnk9p/b0sNk4yYL2Y1jFakB277Ius+Tq+8OTmY7lNPvb1L8zyJq18ClnvEfE2SDOfSkiKRzo7vrV+Jx+ffDR/Y6+JS07U7E8Co8KVvEHrs1HyV3YMa/3OZFGVWOt1fPlPuc3H8lf+Xv5uH6f87T7W7t8SE/+uf3un7H8pzvYd+ffRHW//IP073oZf2Y78BurcJ98Vm1oPxcjrO0VE156+P6H7mtmwsLMREdXxMXPRaPQAFKspl5y/PGc1yjSriwrt5Tu3HqzfD2MLM827s7yOXkJMQDCaT3QWEdXrO+54cfwyOv8p3/US4xeEK65r0HfbAhFR8UmlPU7j4Xx2o4jo2tp5BCr//hUMChiLiMp77jl85ToZthXKiojqnMtiVO3RDmWaOoqI6tbSbSjsYI9qvdTPPhe/i5C/p4aj5DLPvpfu4vXtx2g3+0cRUYU/88H9tfvQY80sEVElRkbjxJg5GHRohYjo2thqCEZc24F8+eS7Zfb2m4Cuy6dr3tV2cpwr6o9wQvHaVUREddV1Lewb1ULFjvKdPW4bD8DQxASOQ3uIiIrfRRflE4gWk3WvCnseuYA7y3O+h3TH2+dnxowZmD9/vrLerHlzXLp2XVnPxe+iWvD7fJy/dFlEVH6+vuj2VRd4+bwSERVPMGysLJHAkgUtZUoUx/3H7ihWTPeKMNeiSWMsWbYcDRup5c5zDerfD32cnD5acv+t6Xs0GCzf2XJj1yFEBYWg96/jRUT17PJNPDh+9qMl97dPm4OSU+TjKTMxDd6zz+CPO+dgkN9ARFUuDTpi7vXjMDGT73r5o/sQfLfMFUXLyX3Yuu8nYeyECRjZZ6CIqMaMGoV69eth+Ej5LpwF8+cpydlvrq4iotq1cweusn34Xy25HxgQgE7t28Hbz19EVPyuRktTk08qud+6eTMsWLgITZo2FRHVkIED0a1nD/Trr3sleoBTXxw/elRZpzvevixNmjTBvXv3lPXps2ZhxqzZynquWdOnw9zCHC6/ThMR1aYN6+HO+prV69aJiIrfZbB61UqcOH1GRFR3Hj/EoAH94HJ8h4io+MTZz827IIoNbPSFJb9DdftSmHZmL8wLyndEbBz4I7Zu247adeqIiKpJh9ao26szarRpLiKqq4s3oLVjA4wZO05EVN9N+R6Xnt9CiT7y74x7+Ab1Yktgz/4DIqLid1I4//g9xu9eKyKqhLfRWDtoDAKCQ0REl7mxEf58dBEGhvJdL4u//gaXLl2BQ7lyIqJq26YV6jj3QcWG8l1tR2YuxNDufTBkqHynzRy2343Y35w2Y6aIqPhduW4P3LB2wwYRUV26cAF/LV2C0+fOi4jK++VLOPXuBQ+vFyKi4oPdknZFEJuYc5FUn31RO7g/90SRIro5WtHC1spFBY7uePty6N/xNm7HKjg46t699teAUeg9fYLmXV2npi3EsMFDPprbFGc504SJk0REtWrFcgT4B7CcaZmIqHYe2IvlG9dq5jYpfsE48Nsi3Hv4SERUUVFRqFqlEubePCEiulzqd4DrzZMwLmAqIqq/y22WOo+CUVM7WFYvLiKq4J1uaNOuJ5o5yeOTC+u2IysjA13Gyf/ywu3EOfjcfYTBC6aLiMrXzR33Nu3D7Ru3RUTF7/Rv0641XM7sEREVnyCd4tjuk3KbVs2a4s/FS9CYnbP0fTNgAHqw/sapnzzOnObiAhtbG0yaIv/rgrWrV7G+yhvLVq4UEdWpEyewdctmHD52XERUHk+fYrjzt3BzfyIiOR49fIjmjdX8mu54+3fQHW+EEEIIIYQQQgghhOQBmngjhBBCCCGEEEIIISQP0MQbIYQQQgghhBBCCCF5gCbeCCGEEEIIIYQQQgjJA1Rc4R+kX1yh9fQfkO/DkuxsV1ydtxZtZo4RAV13lm1H3WG9YWqVU/3zQ4+2HEGFDk1QsJT88ErPwxdgW9kBRWvIper9Lt+FoakxyjSrJyKqELdnSHwbg8pftRIRFX8gf8ij56g9UC5lnRQRDc+jF9HwB7lcM68uemf5DrR0GSkiuq7/sQHFB9RBfo1y1WFHnqJOv66wLCoXHni69xRK1qsB20rygz29z1yHRZHCKNlALtf9+vYj9p7SUb6d/EDMiOevEOUdgOp9OoqIKj4oDL4X76Ie2x/6Ut8l4DHbH00naJfkvuq6Bm1mjGZHn1xcgX82db/tCdNC8sOZH287gnJtG6NQ6RIiovJin3fhCqVRrGZlEVH5X7mnfJ5lW9QXEVXoI08khL9F5a9bi0iOYLbvX527qaxTcYXPz5QpU7B48WJlvVLlypg2U/fB1S88PXH82DH8Ml1+cG1keAQWLfwTi5YuFREVr+z0/bBh2LJDfjA599OYMXD9fQEKFiooIir+EG1eGr18hQoiolq1YoVSdEGr8MLeXbvxzvg9yjeTS86/vHUfCdGxaNCjs4iogp6/hO+jp2jzrfzA25iQMNzYdwTWXeViNdlpmQg95I6Bc35B/nzytau9Mxag78xJMDKRC8ScWLwGrYY6oaCd3Idd2rQLnbp0QZuGcuGBrZs2w6GcA1q3bSsiqhNHjyIjIxN9+skPZ7518ya8nj/H96NZf6OHl6M/euQwfp0xQ0RUbyPf4o/f52s+uJlX9hrG9tO2XbtERNeEsWMxe64rrAtbi4jK9bffMGDQIFSsJH+ua1auRN369aWHE69k74E/FJij4gpfljp16uDp06fKes/evZXlQ4f2H4CJqQm69ZAfzH2V5VuBgYH4bvhwEVF5PHmKCxfOY/JU+YHWrwL8sXLlCnSfJB8zpln5sHPOn1i/ebOIqOLSUjCFffd7Th2nWVjlysqt+OGH0ShdtoyIqGb/7oqyDWqjVDX5/O116gqqli2HDp06iYhq/e5NeB7kjUIN5d+ZHBANhyRrjP3pJxFR+fq8wrqtm9B5rG5RJS7lXSIurdqC5atXi4iu74YMwcD503QKg+U6tXA1pk+bgSJF7URENd/VFWVaNUSx8nKO5nbwJFrUbYjmLVuKiOrIwUMwMDRAj15y8RxeBMjfzx/DRsoPX3/u8QxnzpzG1F9+ERFVWGgolrPz1x/iHPih9LR0/PjDKGzculVEdI394QelQIylXh4+euRIpfoqR8UVvhz6xRU6jnaGXdlS4qccZ1ZsRsNenWFbSn4o/+P9J9G6WYuP5jaFrAuhy9dfi4jqwrlz7DwdicHsXKzv1r07OHvlkmZukx4Rg3uHT2GuKK71IV4JePKkiXCaLRfN4/ZO/521TYGhsZGIqP4utzmzbjMMKlrB1L6QiKhibvmjeo36qNRIHoN6XLqhFDyo06mNiKj8WO4W/ioAzQb0FBFVhF8gXl29i99m/yYiqrcRkXCd74ruLmNFRPWe5Ta7f53/abnN7NkYOPgbVKgkj7PXrFiJeg0boFHjxiKi2r9nLywsLfB1N7nAIS8QExYahiHO8ljS/dEjXL92DRMmyYU33rx+gw3r1mLeAt0Ch7ywBM+zc1FxhX8HTbz9g/Qn3hzaNNKrbPke/lfuK5MrWvgkUcn6NZQKlfpCHj6HTcUyMC0oT8rxCSTzItawKGorIqoYvzfIz5KaQmXkE8K74HCkJ6Uok3b6kqNi8S4kAsU0KmzyKqERnq9QqlFtEVFls4E5rxTqwBIwLQHXHyiVSfNrVMwKeuAB07KFYFBA7vQTX0XCtkwZmNnKHSKfPDM2LwAre7mSYtzrEPaeslC4fGkRUSVGRCHpbazmhGVqfAKiX71W9oe+zLQ0ZX9oTWZyfCKsXFt+kpUn3t6wz6ZE3eowLCDvYz5JVrh8Kc1JuUhPX5jZFIRFMfmkx/dxPpYkW5e1FxEV34dpCUkoUkW3Clk82/fRPoHKOk28fX7Gjx+PFStyqu7a2tqiTdt2ynquyMgIeHl5oXVrOeHhZcxvXL+Or76WJ935pMyRw4fQ10l70HHi+DE2gOyMAqZyVaxLly7C0bEubGzkqs137txGqVKl2CIfp0+euMO0QAFUriwPWl+9eoXwmCiUqCofw3ERbxEdEobydWuJiIqXzH/97AUqa0zmZaVn4MXNe7CqU1KpRK0v7nEQarVrCQMDueKpF3tdubo1YWpuLiIqXonLzqE0rIrI2//m2UsUtS2C6pXk/tbLy5Mlp9moUVO+sBAYGIDIiAiW1MvnlEiWtHt5PkfrNvJkXlJSIq5dvYqvu8rJIN/mQwcPaFbo4k6eOI52HTrArICZiKguX76E2rXrKN85fXfv3lGqhZUurTuJcOf2LYSE5FRYpIm3L0vVqlXx8uVLZb1a9eqoXl33fPvsmQcMWa5QtWo1EVH5+fkiNjYW9evLx3BYWBjrG3zQsqV8UTE+Pl75LnbqLE/WJ6al4MKpM6jdUX6daX4jPLxwBZ3ZINnEWJ50P3P2DErXqoYCVuogPVfoEy+UL1cBJUrKF9XuP3TDexMjFNE4f8e/DoVBZjZq1ZZzraCgIDzxfgbzCvKxxiszG0Wko+0H+WguXtXzAhvw1WwnV1jl3M9eQe++TsifX85fTp46ifIN6mhOPPred4djrdqws5Mn5XjlWoOC5ihsL184jnwViEKmZqhWrbqIqPz9/RATHYP6DeR9HB4eDm/vl2jVSveiIvcu4R1u37qFLl2+EhFVZlamUkVZq8okd/zYUXRirzPVy8OPHT2CjIwMZZ0m3r4c+hNvFRvVhYW17gST9x032FevrFntOMTjBcqVKfvR3KaAktvI530f1n8lJSYqOZO+wKDX8Gb9n1Zuk8nGZ/yiY4eO8kR+Wnoazp05g+495cks7vChQ6xfaPFJuU2RsqVhWUSe5AliuU2qURqMbeV+MTU0HgULWKNERblKMs/d+EXVsqxP1ZcQE6tMylVsLH82ackp8H3gjuqt5AucPLd5cv7qp+U2LH+t7egIWxuN3OYOy21K2aO0xj7mF5ZMTIxRpYpc8dbX95VSKbluXXksGRoawvo/fzRv3kJEVHFxcXhw/x46slz7QzExMcr7zEUTb/8Omnj7B+lPvA2/sl3nqiHfFZtaD8XI6ztFRNeevj+h+5rZsLCTB2bHx8xFo9EDUKymfCfB5TmrUaZZXVRoL9/V9WD9fhhbmKHOYHmA5XX0EmICgtF8orOIqF7fcceL45fR+U/5ykiMXxCuuK5B3226s+0cn5Tb4zQezmc3ioiubV1GYtDB5cp70nfI+VcUGcI69hLyyStg1Q00GTxQmbTTd2vpNhR2sEe1XnKS+WT3SeU9NRwld7S+l+4qk4TtZv8oIqrwZz64v3YfeqxRrx7kSoyMxokxczDoUM7Ehr6NrYZgxLUd0J10zbG33wR0XT4dlsXlCbST41xRf4QTimtMdl51XQv7RrVQsWMzEVG5bTygTNY6DpXvCnhx4opy92KLybpXvj2PXMCd5TnfQ5p4+/zMmDED88UVz2bNm+PStevKei5+J8GC3+fj/KXLIqLy8/VFt6+6wMvnlYio0tPTYWNliYTUNBHRVaZEcdx/7I5ixeRJ8BZNGmPJsuWaV34H9e+HPk5O/+WS+6tXrsC5x3fx1VT5GH52+SYeHD+rWXI/2MsH+2cvxKSDm0RElRgbhz+6DUGlhV8j+322iKqejTuE32+d1hx8/l3J/XXfT0Lrb/ujSjP5ogQv/9+uaQvMGC/3twvmz0Ma+7x/c3UVEdWunTtwle3Dzdu3i4jqxrVrmDd3Di5cuSoiqsCAAHRq344l7/4iosrKyoKlqcknldxv3byZcrdIk6Zy0jtk4EB069kD/frr3ik9wKmvMhDmaOLty9KkSRNlUoabPmsWZsyaraznmjV9OswtzOHy6zQRUW3asB7urK9ZvW6diKjOnz2L1atW4sTpMyKi8vL0xOAB/eH+7LmIqPwjQ+FYvhL+eHBORFTFClhiTP228GT9otZgpnKNKnBydUHJKvJFgDNT/8Cokd+ja/fuIqJyHjUc6UWs0GJwHxFRee09BYvUbHZMLRQR1cED+zF+yS8oNVLO+5L8o2BzPRHXb98REVVwcDDq1nfEnKs5x5y+ybXbIJ4NXvmEp76yDqUxYv1i2JSSJxA3DP8Zy+YvRKs28sWcwUMGw6S6g+adyTfW7kRNO3tMm6F7Vza3ZdNGuD1ww9oNG0RExe8W+WvpEpw+d15EVN4vX8Kpdy94eL0QERWfeCxpVwSxiUkiosu+qB3cn3uiSBHdHK1oYWtlkMzRxNuXQ3/ibdyOVXBw1L0I9teAUeg9fQLK1JQnV05NW4hhg4f8l3ObVSuWI8A/QPOu9J0H9mL5xrWauU2KX7CST9x7+EhEVFFRUahdrSpCIt+KiC4rczO43jwB4wLyhdNPzW14nhViFonCzeXJtYjTnqhV3BFdxsl3tLqdOAefu48weIH8rzL4RN/5NVvx41Z5DBYdFIq1I3/GjHP7RUTF766b4tjuk3KbVs2a4s/FS6Q79rlvBgxAD9bfaE3oTXNxgY2tDSZNke++Xrt6FeurvLFs5UoRUZ06cQJbt2zG4WPHRUTl8fQphjt/Czf3JyKSg//LgeaN1fyaJt7+HfSMN0IIIYQQQgghhBBC8gBNvBFCCCGEEEIIIYQQkgdo4o0QQgghhBBCCCGEkDxAE2+EEEIIIYQQQgghhOQBKq7wD9IvrtB1xXTky69bXOHUuHnotkp+iCx3ccYyNJ/0HQpYFxQR1c0lW1G9Z3ul6qW+R1uOoGitSrDXqMDJCyQYFjDVfCh/4I2HeBcaiVoD5MpPvLjA61uP0Gj0QBFR8UqZj7cdRevpP4iIKjMlFRdmLMdXS1xERNeZSX+i47zxynvSd23+OhTqVB7GtnLhhdDDT1GjY3vN4hIe+87AqoQdyrasLyKqVxduK++pag/dqo5c8MPniPDwQb1hvUVExQtIeB67hBZsf+hLiY3HLbY/OsybICK6To51RdeVMzSLK1yauRxNJ3wLMxu57Pbtv7ahSrc2sKmgW/WP45+3XbXysG8oVzHiBRQMjI1QqbNc/Ybvw7igMNQeqFuhMuC6G54fzHmANBVX+Py4uLhgoXggd81atbBs5SplPRcvVb5z5w4sXbZcRFQhIcHKQ3937d0nIqrMzAx81bGj5gP7uT49umPj1m2aD3QdM+p7jBs/AVWryVWq5syaidZt26KVRpVV/gBaG1tb6aH83JFDB3HfxxNNBsvHsN/Dp0p10q4/jxIRVWRAEC5v3o2B834REVVyQiJ2TZ2LUmOasj5bLq7g99c1jFq7CMamcmXinS6u+Hr8CBQuIVfvO/bnSjh2aYcyGlW6/j/2zgK8iqN74y9xooSEYEGCu7sUaylQtGihUIqUQtGWluIOLVaCU6C4e3AIwV2CJVgUEuIJEeLJ/c9sJv/l3tnQwlfg++D8+uzz3LzTe+/Ozs7ZM2eX+3qs2YKalavim65yvN24YT3SUlPRb8BAoagcP3YUN69dx68TJghF5banJ9at/Qt/LJJ/uDc0JAQ/jhiOLTt2CkWFO9d+1qwpTp45KxR9un3ZCctW/glHgx8f5wwbMhjfDxmCipVkB9bpU6agYeNGaN5C3wRn8sQJOH8267vIXOHjombNmrh586byuk/fb/HNt/rX29V//oncLFfo1buPUFS4A93jh4/w488/C0Xl6uXLivvyb3PnCUWFG4tMnTwJazfIJlfPYiLxbbceGLx6gVBU8ppbYn7/4UpctLGVDaB69u6JZgN7IV8xOUe7tGwTOrRrjwaNZCfRmXNnIz2PFaq2lN05/U9cgGWqDoPYnDLklMdJuG5bAad2shtoEncLvJWEJctl44mIiHB82/9bDFgsm2NxlnwzDMdOspxCw9mwS9cv0e7nobDTcNDfP3sRRnw3BNVqyE6D06ZPhalLIZRvLBvr3Np7FCXtndD7G9nk69ABN9y//wCjf5F/mPz61avYvn0b5s6Xx+pJYCAmjh+H9Zs2C0UlJSUZHdu2xZET7kLRp1O7tli7cRPy5NHP0dq3aa380D6HzBU+HgzNFTpPGIVCZUqKv7LgBgJN+nRDgZKy8cCFlZvRtmWr185tdrPcJuTZMwwdPkIoKsc83LHTba9mbpMSHK7kEyvX/CUUFe7o/E2vnth38JBQ9Gn5aQsMXPY7TM1l1+Y3zW14nhVhHgPbKrIhS/Qlf5RyKIN6XWTzv/vnryjurC2//0YoKkH3H+HKnsPoPF5eg8WGRWLv74vQd8E0oahwd/il3w5/o9xm6ODvMfiHoSy3kdfZ0yZPRuMmn6BZc3mduXL5ctjZ2aJHz15CUdm3ZzeLVU8wfNQooahcPH8ehw4dxMzZvwlFhRugcdOt1SzXfhluKsPz7GzIXOH9QIW3d4hh4S1fhVIGxRcdwr184FRRdr3iRD70Q94SRWBkaioUlRi/p7Au4AhTDSe92KAQmNtYw8LORigqCSwIcWdVS0d58iVFP0d6cipsCsn27yls8ZkUHYs8xWR3l/TkFPadoZoFIl1mBuuHP/KVLyUUfSLu+8CxrAtyGclJXZRPIOycC8BEY0H7PDAYuayNYWwpXxBSI18gt5UNcueVi1mJkdFKsLXWSBSTY+OVftppWNynJSYhITQS9mw8DMlMS0M0Gw/HsrJLDyfc6zEbY95/ufAW+chfcWDVHGN/Nsb5HdgYy4XHOHa8uROsRR454edjzAu8VhpW3rxIyAuPNoXyCyWLxKjnrH9ZzkZUePvwGDZsGJYsySq22djYSMkCT8CCg4JQoaK8aEtOTsZ9b29U11hAZWbqFBtzLWcnDndVqlylKszM5PP77t27KF7che2PbCv/6OFDJQF1cJAdnQMDAmBqZoZCheTELSQkRNlfFxcXoahwa/XQsFDkLeYsFJUUNieingZLCTSHu3oG33+MopVkd2FO4B1v5C5mDxjJ8zvpaQwKlSzBElc5hoX6BsDOyRG5Nfof+fSZ4pJq48A+14DnYRHsQg6ULSHva0REBGKfP0cpNocNiWNj/JSNcUXNMU6Bt7cXamiMMU8Zrlz+uzGuwsZYjsX32BgXK15cOecMecxijD1LAh3ZOL8MH3s+VhwqvH1clClTBo8fZ7knOzs7w7mI/vX2yZMnMGbXtsKszZCwsDC8SEhAiZLyvHgeE4OQ0FCULy+7DHJXS34uVq1WTSgqfO7z81vLeTmV5Ta3WFvh8mU0i1Jhj9kislQpWFlZCUXljtc9WLO5bWkrz4vYZ2Gws7JGgYJyHhLw9AkSU5LZYld2iX7xPBYZCUnKMTQkPj4e9x8/gEVh+SYuMnRIexaPmrXkG5Wcy5cuoVjVCix7keMbj4s8nlhYyDdO7927BysnB+S2lvvPnQad7PMin5OcawYEBiI5Mx158suL3fioGORKSVOOqyHPWdzjhQmtGzlJSUnKIrRaddkFPyMzUyna1a1XTyj6XL92TTk3TA1ytGvsPfz84FDh7ePBsPBWoJQLLKz0c/Rnj/zgwNYRWk7nMU/YuZ8v3xvlNikstymukdtEREbiGctt8rsUFYpKZkoqIp8Eo0rVqkJRSWNrl9u3bqFW7dpC0Ydf92vVqaPEXEM8PW/CsXiRfz23eZEcD9O88ponPT4FpunGyFdUjv3JCS8QExqOgmwsDOE3KcPY/jizOG0IL4YE3vb613Mbvn7iBS7D3IYTyOKbqYkJCmk4pfIboEksF3UpoZ2/hoeHo1w5OQ/l5yQvvhmOcQK7HvL9zIYKb+8HKry9QwwLb/091itFr2z4UKxu2gcDz8h3WjlbugxH+2WTYc2SF0P2D5mGuoN7aD7xdXLqUhRrWAOlPpWDydWV25WCTbVe8h0F773uiPYPQqMf5TuNgRc9laflWv0+Wigq/Gkwj+nL0GWdfMc0NSERW7qOQN8jq4Siz7rWA9Fzp6uyT4bs6jsWzScO0Xyq7+iYeTCuYat51yR46w2Uq94QFTrpP0nBubX5gLJPdQbJNs8+7pcQeOEmWkz+QSgq/Im/K8u3ocOySUJRSQiPgtuQqei5S7ay5qxq0hsDTm8wKLpmsbXbSLR1HQ+bgnKSeWDYdNQa0BUFq8qB9tT05XCuW0XzycVrq3bAhF0Mq/fpIBQV/jRc5KMANB7dTyhZeO05jouuWechFd4+PCZMmICZM2cqrxs2agT302eU19mc9vDA7Fkzccz9pFBU+AW9XZvW8H6UtSB+mVSW1DiwxWN8copQ9ClWqCCu3PREgQLyQrFx/XqYv9BVc1Hbs3s3dO7a9bUt95cuXsT21xcLXOUn99z27cOyNSvRYY5sRx/k/Ui5S/3TztVCUUmIeY7f2vXGjPMHhKLPmNotUfb3tjAyNxGKysMphzFy5ZLXttzn9v9FKpZF/a7thaJyfOUGmGZkYsdieV83bdyAU2wM16xfLxSVs6dPY8a0qZpPJ/Knfj7/tAUe+voJRYUvLm0szN/Icr9po4aYPWcu6jdoIBSV3l99hXYdO0h393t07YL9e/cqr6nw9nFRny2ALrPFHmf8pEmYMGmy8jqbSePHw8raCmPGjhOKyuo/V8KTxZqlK+Snuo4dOYKlSxbD7dBhoah4e3mhV4/u8Lx7TygqvGDl4lwYkbFxQlEJSYxDReciGHd4K6zs5Btgq776AWvXrdcs6NX/rClqdGqFSs3kJ95OzfsTTavXxpChw4Si8sv0Sbgb4IP2o+Un3jyPeuDFFS9s3rZdKCq8ePYFywdKjZFzIl1cKiIWXIJ/ULBQ9LEyM8XvN07AmC0WDZn3xddwd/dgC0X5pmPzZk1QrW9nlK4jF/P3TJyDPu07o3cf+emV0WPHwDcxWvPJlku7DsA4IBxr16wVior78eP4Y8F8HDp6TCgqvOjW9ctOuON9XygqvPBa2CkfYtjiXQvn/E7wvOeFfAZPveTPa4+4uKzzggpvHw+GhbdhG5bApbr+E91/9BiEL8ePRLHKcqH/4Lg56Ner92vnNksWucLfz5/lTAuForJxx1a4rlqO/otmCUUlyTdIyScuX78hFJXIyEhUrVAeweFZN90NsWexlrdZatz8L1++DLrPm/TauQ3Ps4qy41Jf46m24yvW46bfZRToID8h//xyIPJF2qLXbDl/87nmiWPL1uKHtfIajBf5lw8chQlH5biYyXKbn6u3eKPcpknDBvh93nzNot3XPXqgA4s3XbvJ68xxY8bAwdEBP/0sP7XLn3h8+OAhFi6W/1XCQTc3rP1rDXbv2y8UlTu3b6N/329wzfOWULLghcNG9dT8mgpv7wf6jTeCIAiCIAiCIAiCIAiCeAtQ4Y0gCIIgCIIgCIIgCIIg3gJUeCMIgiAIgiAIgiAIgiCItwAV3giCIAiCIAiCIAiCIAjiLUCFt/cI/xF+wy0nnW/cffNFZIxmW0ZamuJQqdXGXUa5Q6dWW+qLJKQkJGq2pcS/QFpSsmZb8vN4pKekarYlRj9HZnq6ZtuLiGjoMnWabXzjbfz/0Wrjn8k/W6uN70t6QgrSYpKkLSM5HUlx8YgLDZc27lqaU//5MePHTquNH2t+zLXa+BjxsdJq49urxzgj5zFO5WMcp9mWxsc4LkGzjY8xN5DQakth79Ea45T4RGU/iQ+TzMxM8QpISUnB06dP9baI8HDFDdRQ5xt300pnc1GrLSjoqWISo9XGN/7D/M+eBWu2pbL9CA8L02zjP3gdFRmp2cZ/8Jw72Gm1cffCBNau1cZ/SJi7l8ayOGC4xUdFI53Nb+6MZbjFhkUox0+rjW+8/2nPk5HOYo/hpsvQISY8AlHPQqQtjcUw/r1an5mSmITE2DjNtiQWwxLZxt2xDLeoyCjEv0jQ7D93xOKuaFptISHPch5jtv39GD/TbOPn2ivHOCpK0pNY34mPk2yXSE4cO/8Nzw3+Y/bcgdlQ51tMNMsjErTPfe72m5yUpNkWGhqquPtptXGnZz73tdqeiba48EjNmMLd9Pi80pqnqez6zV1Itd6X9OKF4mCn9b549p4UNm+03pfI2vgPv2u9LzQ0BLr0DOiep8hbHMul2HH3C/DT3Pjc5zFQ6zszWMwIDg7W/E7ulPyC5W9a7+PxjccqrffFxcUimY2j1vt4Xseda7XeF8avYSy+a40Vdwt81Rj/bXxjfTTUM9l7CII77Rpeo3kukdO1ncehN81teLtWWzS7jvI1gdb3PY9gawIWi7Tex89rfn5rtfGNzws+P7Ta0tPSEc/WblrzVFkrsrmvtT9/l9tksvWbVi6V8SKV5W/s2GnkUnEslvB8Susz41j/M1js02p7zjbeR614wjceF//N3IZv8ewaltMYx/D8NSHn/JW7M2u1hbFrmNYYc6dv4v1DrqbvEENXU0vHPHrOlnwgEiNiYJVPtlXmJEY9h0UeWz0n1GySYuJhZp0bxqay01Ry3AuYmJnCxEK2QE5NYIsao1wws5Tt39OSUpDJApS5jYaVc0qaUpSysJPtofl7+Hda5pWdvXhhjRfPrBy1+8iLTpZ52XFh+2RIYnQcLGytYGQiW/Unxyaw/pnDxFzf4p3Di0iZuTJhrOEyyItyfAwsNCzu05NZApqapnynIRnsIsOPXW572TqaF92Sn8fB0iGPUPR5wcbYko2x3EM+xrFsjG20x/g5G2OrNxjjF3zhysbY6p+PMS/GKecGg1xNPzyGDBmC5cuXK6+5NbqhQxtPIuJYUpdPw/6cF2T4RV/LmZTHMJ68abk+cXjRzil/fk07el4IypMnj6ZVexRbeFrmzo3cbDOEL7yNjI1h85KzWDZ84c33l3+uITxp4QmRlo1/Ki+6se+00rC417HFdXxkNGyd5GPD4YtS3qblWszfZ2RpilzGchu/ccBt9c1zy/GWLzC5i6AZazeEW+dztGJYKpvHvGCfT6OPyhizpM9w7Dk8wYyMiHjzMXZygjEbE0N4wcPWzg7mGmPMiwsWbHz5OL8MT1h5EZhDrqYfFyVLloSfX5azro2NDWxt9XOKWHb+GrF5xtsM4UWnVHbu29vLc5+fTzw2OGrEtzR2bY+OjkJ+FqcM4cUVXrQpVEh2T+fwRRmfM0Ya8S2ULXpy29poX79j42FlZYXcFvI1OpotvnQsH+CxwZA0tmg1YhPSjs0pQxJZfEtgx8CS5YyG8JiQ8iIRTjnM/bCwUJjayd/HSXuehEJs7mvlLyGhIbBisVYrR+NFtzx87pubC0WFz32w42KWW+5/CotvpsYmsM1hjBNTkpXjaghf7PM8RusalsauCbw4oTXGfEnEx/F1r2H8PdnLKXI1/XgwdDW1YvGG5+IvkxAVw85Razb35fWJMvctLf/V3OaFMvcT2FyU4wIvuPN8gl+jDclguQ0v2uQU33hRnbdp5Ta8qJOX5RmmGm7HEZERMGX9MzGXr/v/SW6TnJwIE0v5MzPTM6FjazsbB9mxk693uDO9bT45J2ITGLHhkbDLL8dFDi/a5c8htwlnuQ2Pw6+T23CUMWaxROsa9sr8lV3DEtm5p5W/8psK/DsN4xsvxvEcLBtyNX0/UOHtHWJYeOvvsV6vwMKHYnXTPhh4ZqNQ9NnSZTjaL5sMayd5ou0fMg11B/dAgcplhKJycupSFGtYA6U+lW2Or67cDjNrS1TrJVs5e+91R7R/EBr92FcoKoEXPXF//0m0+n20UFSifZ/CY/oydFk3Wygq/MmrLV1HoO+RVULRZ13rgei501XZJ0N29R2L5hOHIG/JIkJROTpmHsp3aIFiDaoLReXc/L8QZxkLx6alhaISfvQ+rI3s0GzEd0JR8XG/hMALN9Fi8g9CUQm9+whXlm9Dh2WThKLCnxhzGzIVPXfJVtacVU16Y8DpDZoXr63dRqKt63jYFJQD/4Fh01FrQFcUrFpOKCqnpi+Hc90qKN2yoVBUrq3awS545qjep4NQVO67eSDyUQAaj+4nlCy89hzHRdes85AKbx8eEyZMwMyZM5XXDRs1gvvpM8rrbE57eGD2rJk45n5SKCq+Pj5o16Y1vB89FooKv7A7sEVQfHKKUPQpVqggrtz01CzoNK5fD/MXuqJOXdXuPJue3buhc9eur225v3TxIra/vljg6ioUFbd9+7Bxw3rs3LNXKCqeN2/i2/59MWjLMqGo8KTtt3a9MeP8AaHoM6Z2S0w7s19zoTy73dew/6YSLArKi2E/19No3LsLPmsnL9i4/X+RimVRv2t7oagcX7lBWWS2GT5AKCrX3I7iydXbcN8t7+vZ06cxY9pUHPc4JRSVAH9/fP5pCzz0zSp6vAy/I25jYf5GlvtNGzXE7DlzUb9BA6Go9P7qK7Tr2AHduvcQShY9unbB/r1ZY0SFt4+L+vXr4/Lly8rr8ZMmYcKkycrrbCaNHw8rtigbM3acUFRW/7mSzWNPLF2xQigqx44cwdIli+F26LBQVLy9vNCrR3d43r0nFBX+hImLc2FExsYJRZ+Cjg7wYnFRazFTtlI5dJ0+BoXLyXnI4V9+w6CB36Fte3l+9x3UH6n5bNG4V2ehqHhvPQjr5Ew2p+YIRWXnju1YsH4V+sybIhSVgFv3cHnJBpy5cFEoKoFPA1GpagVUmCPnC5y7Q3YiLjEJJhoL7OIuRTFg5Tw4FJEX7n/2H4WFM+egSbNmQlHp1bsXzCu6oHaHVkJRObt8Iyo7OWPchIlCUflr9SrsOHkUHSaNEorKw4vX4L39EI4fdxeKysMHD9D1y064431fKCr8Zkxhp3yIEYt+Q5zzO8Hznpd0wyJ/XnvlRgaHCm8fD4aFt2EblsClemXxVxZ/9BiEL8ePRLHK5YWicnDcHPTr1fu1c5sli1zh7+fPcqaFQlHZuGMrXFctR/9Fs4SikuQbpOQTl6/fEIoKv6FatUJ5BIerxZmXsWexlrdZWsrrs6oVK2D7rt0oV17uY9NPm6Fqj3Yo17COUFS2T56Douy41O8ir0GPr1iv/Mui1sPk3ObKvsM4dnAbin5bTygqCQ/DkeT+FD9vWSMUlainz7B84ChMOLpdKCr8Xxz9XL0F5t85LRR9prXojOvXbmrmNk0aNsDv8+ajHrtmGfJ1jx7owOJN127dhaIybswYOLDrxk8//yIUleVLl7BY9RALFy8WispBNzes/WsNdu/bLxSVO7dvo3/fb3DN85ZQsrhx/Toa1VPzayq8vR/k23IEQRAEQRAEQRAEQRAEQfzHUOGNIAiCIAiCIAiCIAiCIN4CVHgjCIIgCIIgCIIgCIIgiLcAFd4IgiAIgiAIgiAIgiAI4i1AhTeCIAiCIAiCIAiCIAiCeAuQq+k7xNDVlCD+FyBX0w+P77//ntwhif85yNX048LFxQUBAQHiL4L434BcTT8eDF1NCeJ/BXI1fT9Q4e0dYlh463dyHYyM1YcO+VCsafYNBpzeIBR9tnQZjvbLJsPayUEoKvuHTEPdwT1QoHIZoaicnLoUxRrWQKlPZZvjqyu3w8zaEtV6yVbO3nvdEe0fhEY/9hWKSuBFT9zffxKtfh8tFJVo36fwmL4MXdbNFopKakIitnQdgb5HVglFn3WtB6LnTldlnwzZ1Xcsmk8cgrwliwhF5eiYeSjfoQWKNaguFJXzC9Yhr4szKnSSi563Nh9AeGgg7NoUF4pKzNVAZD5+gTYzZJvn0LuPcGX5NnRYNkkoKgnhUXAbMhU9dy0Sij6rm/ZB/1PrkStXLqGobO02Em1dx8OmoL5VPefAsOmoNaArClYtJxSVU9OXw7luFZRu2VAoKtdW7YCJuTmq9+kgFJX7bh6IfBSAxqP7CSULrz0ncGnRRuU1Fd4+PCZMmICZM2cqrxs0agT3U/r26ac9PDB71kwccz8pFBVfHx+0a9Ma3o8eC0UlNTUVDrY2iE9OEYo+xQoVxJWbnihQoIBQVBrXr4f5C11Rp65qd55Nz+7d0Llr19e23F+6eBHbX18scHUViorbvn3YuGE9du7ZKxQVz5s3Mfi7ga+03J90dh8yNS6fY2q3xLQz+2FumVsoKr+1741vF05H/hJyvFnx3U/I/1l5xBZKFYpK0KZrqFyrPjr0/04oKsdXbkB6SiraDJct96+5HcWjSzfQa/Z4oaj4XPPEqRUbcPPiNaGoBPj74/NPW+Chr59QVDIyMmBjYY7EtHSh6FOiiDPOXb6iabnftFFDzJ4zF/UbNBCKSu+vvkK7jh3QrXsPoWTxFRv3/fuyxogKbx8X9evXx+XLl5XX4ydOwvhJ+tfbSePHw8raCmPGjhOKyuo/V7J57ImlK1YIReXYkSNYumQx3A4dFoqKt5cXevXoDs+794SiEh8fDxfnwoiMjROKPgUdHeDF4qLWYqZOjepY9ddaVK1WTSgq9T9rihqdWqFSs0ZCUTk17080rV4bQ4YOE4rKL9Mn4W6AD9qPHiIUFc+jHnhxxQubt20XisrlS5fQ94fvMGLzcqGoxEdEYXnPIfAPChaKPpZmJqi0uAtyvZS7ZhMy/QzOnDoHlxIlhKLSvFkTVOvbGaXr1BCKyp6Jc9CnfWf07vONUFRGjx0D38RotPxebru06wCMA8Kxds1aoai4Hz+OX2dMRv+Vc4WiEuYXiE2jJsPnkY9QVBITE1HYKR9iEl4IRR/n/E7wvOeFfPn0c7QCDnkRF5d1XlDh7ePBsPA2dP1iuFSvLP7K4o8eg/Dl+JEoVrm8UFQOjpuDfr16v3Zus2SRK/z9/FnOtFAoKht3bIXrquXov2iWUFSSfIOwY8rcV+Y2weERQtHHnsVa3mZpKa/PqlasgO27dqNcebmPbVu3woiRo/DZ558LRWUwu6YnFs2Lep3bCkXl+Ir1yEhLQ+thr5/b7Jy/EAWHyblkSkQCni29jKkn9ghFJZPlNj9Xb4H5d/Tz4WymNP8SI7euRJ788vpsWe+hWLV4Oeqxa5YhX/fogQ5fdkLXbt2FojJuzBg4sOvGTz/L68zlS5fg4YOHWLh4sVBUDrq5Ye1fa7B7336hqNy5fRv9+36Da563hJLFjevXlTw7Gyq8vR/on5q+R3jhxXDLSaftw9n+N8ZY2U3iI4APtfY5QBtt739TTlCC4KeCxvlBG23/DRtBcLTODdpo+2/ZiPcPFd4IgiAIgiAIgiAIgiAI4i1AhTeCIAiCIAiCIAiCIAiCeAtQ4Y0gCIIgCIIgCIIgCIIg3gJUeCMIgiAIgiAIgiAIgiCItwC5mr5DDF1NLfPllX7s8EV4FKw0XEs5iZExyJ3XFrmMjIWikhQTC3NrSxiZmgpFJSU2HsbmZjCxMBeKSmrCC/Z5RjDVcOBLS0pGZno6zG1kq+yMlFSl3SKPrVBU+HtSYhOQ2yGPUF6CnW4vIqNhlU+7jy8iWP8d8/JfKBWKSlLUc5jbWcPIxEQoKsnP42Ca20LppyEp8QnKe3i7IWmJScjMzGD9l9syUtIUt0BTG/nY6NIzkPYiBZZ55T7q2OclRcfB0tFeKPr87RjbszE21h5j7vZqrDXGcWyMzXIa40TlcJpayU5E6WwMMzTGmB8X/j4OuZp+eAwZMgTLl2c52pmx8yZ//vzK62ySk1MQFxcLJycnoaiksfMlIiIChQoWFIoKv5oEBT1FkSKy8zAnODhYcTQ11ji/w8LCkMfeHuZsfwzhblvcSUvLTSvm+XPl82xtbISiwl0I09n+2rPPNSQxKUlxJMvn6CgUFe7OGh0drem+mpGZidCQEDgp/Zcvn6HPnsHOKZ/mD9nGsfhmbW+nGcMSop/DjMUhIzP52CTHJbL3GMHYQp77aYkpiv+Ala1dlvASqWx+8xhmqRGn01kfk1n8t9foP3cufR4ZhYKsj0YG/eA9Dnr66jHOz46bSU5jnCcPzM3lOBUZFYXcuXPDymCM+dgnsbHikKvpx0WpUqXg6+urvLa1tYWdnf45/jw2Vjk/eZshCQkJyjzWcm1LSk5GAosNhs6UnLS0NOWc4+e+IdzF+Bk7v52dnYWiT1BQEAoWKgRjllMZEhoairwODjDTuH6Hs3iam12fLSzkPCT2eSyMTYxZu5VQVJLY/M1k8cjWTu4/nzPJ7Dpum1eOfWnsuLyIi4ODRv8zMjIRFR4OhwL614RsIp6FsDb2Po34FhPG4rS9jZ5bfzaJMfFsP/PATCNHex4TA1MW9y004vsLltsYGeWCtUZ8T3yRqIyxTR6N2JeSohyfvI5yrsWvCTFR0cjL4rQhfEkUGRL66msYOzcMx5iPffZyilxNPx4MXU2t2ZrAxCCHiWfnmqWtjWbunsjmtwW77pmzzZCE2DhlLlm+9PnZ8HM7IyMd1gYxkZOczOY+mxtW9vL6hK/PEtnn2mvMfR5LosPC4VhQzns4fO7zNq3cJprFDFsWa000cpvn7NrO+2Cmcd2PZ/kbz4fMNNagPD/hGYeFRv//LrdJYuu+3CwWGZLJ4lsSi0UWeeXP5CRFxiFPATnv5cSGR8KGrU+NNOJ7fFQMbFgc5nHMkLjoGDa+FtpjzOIw/zzNMWbnFo9VNhpjnMKuYcmJibDTuL6ls2tYXMxzKb7xuM/zumzI1fT9QIW3d4hh4a3b1vl6E5gPxfYeP6LH9j+Eos/+wZPx2YyRsHSQE6kTE1xRrXc75Csr27hfWLgBzrUqoVgj2cb99pYDStGtQkd1v7J5fOw8Yp+GoNYA2eY6+IYXfE5cQJNfvxOKyvPAZ7i4aCPazB8jFJW0F0nYP2Qquqz/TSj67PrmV3RYNhmmVnKAOvzT72gwvDfyFCskFJUzv/2JUp81ROGaFYWicn31TtgVKYjSn8tW/d773JUiU9We7YSiEnj+Jh5fuAjHzrI9dmJAFCKPP0L7OROEopLIAvCJCQvRYflUoeizrfsodN+2QPPi5fbDVLSYPFSzMHdy8iJU7vEFnMqXFIrKJXa8C1Yvj+KNawlF5c7Wg0pRrmLnlkJR8XG/iBi/INT+Tj9JfHT0HG6uzbLbpsLbh8e4ceMwe/Zs5XXNWrWxmS0UXubyxYtYtnQJNmzeIhSVJwEB6Nf3G7ifPiMUlbS0VFSrWBFejx4LRZ+GdWpj36HDmgverp06YsLkyaharbpQVEb8MAStv/gCrdp8IRSV32bOhFN+J/QbMFAoKhvWrWX7G4gJU6YIRcX9+DHs2b0by1b+KRQVr3v3MGHsr9h74KBQVGKio9Hq0xa4ctNTKPpwO/4R2/+EmUahf3n/Ueg6+Sc4FpUX7pvHzkC9zu1QslZVoagc+mMlUllIyKggL0wjTz2CGUzR7+dJQlG5c+IM/G7eRccxQ4WiEnjbC2c27kSfefKxeR4Sjg2/TMORUyfhYKGfEHLL/QplSuOBr59Q9Glcry527duvFN8M6dGlM34ZOw41atYUisqoYcPwacvP8EW79kLJYtiQwThx7JjymgpvHxd16tTBtWvXlNdDh4/A0BEjlNfZLJg7F5ZWlvh+yA9CUdm+ZTObx16YNmuWUFTOnj6NDevXYfXadUJR8WHXuhHDhuLQseNCUXmRkIBG7Pz2ZJ+rRZ3q1XDi1GnY5ZEXvB2+aIPf5s5D+QoVhKIyeOAAdO3WHc0/+0woKqPH/oI0B2vU7thaKCqP3U7CKkXH5tRYoagcPngAq3dvw5fjRwpFJcj7ITzX78H23VnX+JfhNxW+aNcGo7bJcZEzs1UP3HvwEMYaC+za9WogX5/qMMsrFwnD1t7AwinzULd+faGojBw1Amali6BKyyZCUbm6aQ/KOhTED8OGC0Vlx7atOHThDD4b0V8oKn43buPxgVPYuGmzUFT8fH0xcGB/fPvnXKGopCWnYEG3Abjr/UAo+tSrWQOHj59QiqgvU6taVaWYy6HC28eDYeHtmwVTUaRiOfFXFmuGjkOrof1QuFwpoajsmr4AFT6pjwpN5HlxYuUGWLP1Xv0u8vrk6t5DiGHX6c+HfCsUlYcXruLWidPoPuUXoaiEPvbHgT9WYOCy34Wiwgtyy1iOMnrXGqHo81u7r/HTzjUw1bjB/6a5zUG2L4XKlkKNNvIa9Nym3chIT0PTvj2EovLGuc2zMKwePQHFf/xEKCq6zEw8nHgYE47p58PZLPxqEPotng1b/nCIAWtHjMdng/rAuUJZoajsnrkQ5RrVQcUmDYSicnLVJuS2s0GDbh2EonJt/1FEPg1G66FyfHt06RpuHvFAj2nyOjvMLwD75izBoBXzhJLFs0e++GvYOPEXFd7eF3LZlnhn2OR3hE0B/U3RDbTszcjYGFb58mq2GZuZKk9fabWZ5jaHRR4bzTYzlrSa21hptlnYWitFOa02/lSWibmZZpuVoz2MTU0026zzOyCXUS7NNr7xNv7/aLXxz+SfrdXG94Xvk1Yb7wPvi1Yb7zs/Blpt/JgZm5vCzIH9PwabqV1uGJkaa76PjxEfK602vv1nY2yn2caf5rNgwVurjT8l9+oxttDQ5cSZ+HB4ueBvwZKoYsWK6W38CTj+9IWhzrdChQvD1NRUs61o0WJKQVmrjW/8yTT+tIhWG38KqkCBgpptllZWcMyXT7ONP+3Cn2jTauNJhQ1r12rLl89JeYJOq40/7cKfBNRqcy5SROmHVhvf+LG1L5gfeQsVkDYew+ycHDXbTFn/bViSrdVmzmKUmQ3bNGKRsaUZTCzNNd9nZW8Hcxb/tNr4nVtTFje12uzy51OesnEuWlTqX1G2vWqM+R3vwq8c4wKabVY5jLHWU47Ex8HLT8ba5bGTzg3+BBx/gtJQ5xsvjPCnpLTa+JO8/OlKrTb+xFpO8a0Imw98fmu18Y238fig1cbjCY8rWm252Tmej+2TVpuVjTUs7Ww15yl/EoLHP6338bnEi/9a77N1dFDmotb7+NzleYjW+/jG5z6PAVrv5e8zzZNDnDIzUa4rWu/j8Z3HKq3vs2RjmNMYO7AxtmCxUet9Ng55YcH6r/W+QmyMTdgYa72Px+6/vYZpjLHhk8HExwmfW4bnlAnL3W3zyTrf+BzlT8lptVlYWylPymm18ZjA27XarPPaw4zlb1ptfD9yOvf5k148hmm18Y3Pi389t2Gxz4rFdq223Gx9kpvFP622/yS34U8RasUovvF/PqD1Pr7x+JaHvV+rjT/lqDX2fFPG2P4NxziH+PbqMWZrYo0xttN4+pd491DhjSAIgiAIgiAIgiAIgiDeAlR4IwiCIAiCIAiCIAiCIIi3ABXeCIIgCIIgCIIgCIIgCOItQIU3giAIgiAIgiAIgiAIgngLkKvpO8TQ1dSpUmnlxypfJuzuI+SvXEb8pU/EfT/kLVVE05I62vcJbArk03QDjX0SAnNbK1ho2C4nhEYgl3HWD/obkhj1HOnJKbAtLNvKp8QlIDE6FvbFCwtFhb+Hf6dDmeJCUdFlZCLigS+cKpYWij7hXo+Rr1xJtk9yTTjqUQDsihaEiYajTkxAsGI8YG4rWzLHBYcp77F0kJ3GXkREs33KgDW3xzcg+XmcYvVtXkA+bhlJqUiNTEDekkWFopKRlo7nfkHIp+E+ynnlGD9gY1yCjbGZ9hhbF8gyxDCEu8+aW7Mxttca40jFtELLKTUp+jnSkuQxToyMQXxIhPKaXE0/PIYNG4YlS5Yor7n5QOXKlZXX2cSy8/5p0FNUqlRJKCpJScnw9vZCTQ1nysxMHS5fuogGDRsKRZ9rV6+iarVqyg+NG3Ln9m24lCgBGxvZAv7hgwdwcHSEI9sM8ff3Vz6vcGE5Fj179gzJyckowT7XEO7oFB4ejvLlZdfihIQE+Pr4KPtqSFpaGjxv3kSdunWFos/lS5dQokpFzRgW4PUA+V2KwtRCdjwN8fFHHidH5LaV+x/5JAg6MyMY2chxISUqAbnYf/mc5f6/YDE6OSER+YvLcSqJ9ZG7lxYsLR8bbjsf+tgPlatXh8lLRhwcnjFcv3wZ9Rs0ZNcvIb4EH+MqVavB3FxjjO/cQfHixZUfhDfk4cOHihmGoePtg/v3ER0drbwmV9OPizJlyuDx4yyH5CJFiijmBi8TGBgIY2FoYEhoaKjiQlqylOwkGBMTgxAWGypUlF3QExMTlXhTvYbsAp/BcgV+ftfTcObkXGHzokatWjDVcPy85emJ0qw/3ETEkPve3sifvwDyOsh52GMWh2BmosQGQ+LC2LWd5VRFihcTikp0ZBTCIiNQsITclpzwAtHBoahQWY7vqWzu37t9ByWqyseG8/jGbdSqV09z7ntevw7rIg7KD60bEv80EkWLFoeNnRzfAnz8YGZjBVuN/sc8C4M5O56FnGW3xIiwcDyPi0W+YnJbYlw84sIjUU7DRTaZXcMesTEuWlF2IOTOhr637rE+asd3z2vXUY2dG2YGeTgfe35+cMjV9OPB0NWUX0/5D+a/TPBDHzgWKaQYCRgS7s/WbtwYz15en0Q8faYYM9jnl9cnz8MilOt0viLydT8hJhaxLL/JX0Jeg6UmJSEyMBhFK8hrkIz0DATcu4+S1eS4wPG5eUdpy2WQE3B4blOohAvMcsvrs+BHvqwPTrDUmPthgU9hwY6LXT55fRIdEsbmow4OhWWH9LioGLyIjUO+4nLsf2Vuk5KKZ499Ye0ix1Ow3CbucSiKVNV3pc3mmZcPCpUrpRgXGPKMjXFe50KKGYIhfIwt2fqbGywYEh0ckmWEUMBJKCrPWfxKZetpp6IauR3L0WMjo1GolItQVFISkxAa8ATFDBxWk18k4umDrOsph1xN3w9UeHuHGBbevlg4ziCA6XBw+Ey0XTRB/K2P+8SFaPjTt8idx04oKucXrEOFji2Uoo0hN9btQYHKZVC4phxM77udVBwxS30mL5QDzl1HPAtelbu1EYpK2L1HCDx/A3W+/0ooKvEsUbqxfh+ajh0kFJV0lvCcmLQIrefKNtecIz/PwWfThsOE7ZMhp2evRM1vOsKmkFwIvLpiK4o1qon8leSLyd0dh2FT0AnFG9cSiorPiQtIY/tUvn0LoagE37iH0LuPULPvl0JRifZ7Cq+9x+HQRV60p8cl49nWm2g1a7RQ9Dk4fAYb4/HslZy5npy8CPWH99EsEl5cuA5l2zWDQ0k5kfZkxztfhZJwrq1fQOE8OOChFPJKf95YKCqBF24g9mkoqvT4QihZ+J+9Bq9dx5TXVHj78BgzZgzmzJmjvK5UuTL+WLRYeZ3NrZs3sWnjBsz7Y6FQVJ4FB+PXn0djw5atQlFJT09D21atcNT9pFD06dqpI1au+UvzYj908Pf4YdhwlNdYKE2bMhlNmjZlWzOhqKxYtlRxt+vaXbac37t7F4KDn2Ho8OFCUblw7hyOHTuKaTNmCkXlMTvf58+dgxWrVgtFJTY2Ft/2/hp73A4IRZ8vPm+J3fvdFFdYQ77t0xufDO6tOEwZsm/uUlRv1RzFKssxxWPtVjgVL4pKzeQ4fdXtGBKTEpBYQXWAzCbBKwRpQQnoNfpnoagEsQTs6t7D+HLsCKGoxEZEYe9vi9F3vmzHn8kWpsv6jcRuduxszeQ+9ujSGUtWrICjo7xYGP7DEAwaPAQVNQq6M6ZORcPGjdCsuX4snjppIs6zseJQ4e3jghf3b7JYxOn9TV/06dtXeZ3NX6tWKc6VPb/uLRSVgwfclHk86if5Onz1ymXs3bMHs3/PioEvExDgj+lTpmDNuvVCUUlKTES3zl/iwJGjQtGnU7u2LC5ugY2NXFge1L8ffhk7FiVLyTcdJ44bizZftEV9jRsWS1xd4VzEGR2/7CwUleXr18AvNBiNenQUisqjKzeR7O2PiVOmCkXF28sLsxbMQddJPwlFJfF5HPZNW4Dtu/cIRZ+WzZvh+9UL9Bxns9n6ywz8wa4Z3BnWkKHDBiOuvDlyF9W4yevuj96tu6Pl562EorLszxUITo5DnQ5y273TF2EUGoOxY8YKReXGtWtYseEvtB09WCgq0SxHPb74L2zVuIalpCSjU/v2GPTnPKHos3roWKzfsBF57fX70bHtF0oRhkOFt48Hw8Jb53EjUbCMfsFnx5R5+KRPVxTQKIJf/HMr2nzW8rVzmz0st+E3D3jOZMjxU+7YeWAf2o74TigqKcERSj7xprnNHjc3mJtr5zZTp89QHI8NGcPyxa5du6FWnTpCUVkwdy7KlS+HNm3bCUVl04b1SE9LR9/+/YWicvzoUew/exItB8mx/5W5TXgU9s1ZjG/m5ZzblPipuVD0ebLyInpNH6dZJN05bT4a9fwSBTUKYUeWrUXJmlVRpq58M+fC9n2oWKg4vvm6j1BU9u/dgyeBTzBs5EihqFy6cAGHDx3E9FmzhaLCbxr/PnsW/mS59ss8fPgAQ7//XvxFhbf3BRXe3iGGhbf+HusVW+Ns+FCsbtoHA89sFIo+W7oMR/tlk2Gt8eTS/iHTUHdwD6XAZsjJqUtRrGENlPpUvkt7deV2mFlbolovOeh573VHtH8QGv2on+xyAi964v7+k2j1u5zURvs+hcf0ZeiyTg4IqQmJ2NJ1BPoeWSUUfda1HoieO12VfTJkV9+xaD5xCPKWlIuLR8fMQ/kOLVCsQXWhqPCiZF4XZ1TopB77bG5tPqDsU51B3YWi4uN+CYEXbqLF5B+EosILcpeWbUKh4fKFJDU6EX5zPfDNvhVC0WdVk94YcHoDDJ925GztNhJtXcfDpqC8aD0wbDpqDeiKghp3Y05NXw7nulVQuqWcuF9btQMm5uao3qeDUFTuu3kg8lEAGo/uJ5QsvPYcx0XXrPOQCm8fHhMmTMDMmVkFp4aNGsH99BnldTanPTwwe9ZMHNMooPGLers2reH9SL1zlg1/WsLB1gbxySlC0adYoYK4ctMTBQrIhafG9eth/kJXzSfJenbvhs5du6Jzl65CURkzejRb6BXEyB/lReTSxYvY/vpiAVu8GuK2bx82ssRu5569QlHhT7QN/m4gLl+/IRSVyMhIVK1QHsHhWU+EGpLXxhpPQ8M0n2ypWrECOs0Zp3knesV3P6HpN91RrqEcU3ZMmYsiFcuiftf2QlE5vnID4hOeI76e/JRJzCV/pPrEYsyKP4Wi4nPNE8dYQvjD2kVCUYkKCsGy/iMx8dh2oahkZmTg5+ot8DQ+Fg4Wch9LFHHGuctXNJ9AbNqoIWbPmYv6DRoIRaX3V1+hXccO6GawyOjRtQtLQLPGiApvHxf169fH5cuXldfjJ03ChEmTldfZTBo/HlbWVhgzdpxQVFb/uZLNY08sXSFfh48dOYKlSxbD7dBhoajwolSvHt3hefeeUFTi4+Ph4lwYkbFxQtGnoKMDvFhc1FrM1KlRHav+Wqv5FG1ndt5/268/2raX5/eo4cNRukxpDBk6TCgqv0yfhLsBPmg/eohQVDyPeuDFFS9s3ibPYf5Ubt8fvsOIzcuFohIfEYXlPYfAPyhYKPpYmZni9xsnYKzxVN+8L76Gu7uH8uSyIY0/aYDourlhXVa+cRq31QvjvvkRvft8IxSV0WPHwDcxGi2/l9su7ToA44BwrF2zVigq7seP49cZk9F/5VyhqIT5BWLTqMnweeQjFBX+xGMhp3yYfS3rxqMhExu3xz2v+yiQX78f+fPaIy4u67ygwtvHg2HhbdiGJXCprn8D/I8eg/Dl+JGaN9UOjpuDfr16v3Zus2SRK/z9/FnOJN8c3bhjK1xXLUf/RbOEopLkG6TkE2+S29izWMvbLDWe3OO5zfZdu1FO418QtG3dCiNGjsJnn38uFJXB7Jpeu05t9BswUCgqs2ZMR1pqGiZPmyYUlY3r12Pl3m3oNZs/xKDPK3Obp8+wfOAoTDiqnduMZrlNleXac/fBrwfx6671yKPxBKJrr8Ho8PMPKK7xtOD60VNQ5dNPlBurhhyYvxz1S1bAxLFyP5YvXYKHDx5i4WL9G+Ocg25uWPvXGuzet18oKvxfj/Tv+w2ued4SShY3rl9Ho5ee5KXC2/tBfl6UIAiCIAiCIAiCIAiCIIj/GCq8EQRBEARBEARBEARBEMRbgApvBEEQBEEQBEEQBEEQBPEWoMIbQRAEQRAEQRAEQRAEQbwFyFzhHWJorlCiBbdkf+kH9tlI+J68hJIaJgicgHM34Fy7EkwsZLvmoGv34Fi6GCzyaNg1330Ey3x5YVNAtk+OehwII1MT2BeXfwibu11y44F85eUfyn0REYO4oFAUrC7/kGZqfKLielqkvvwjwplpGQg4fx0lmmlbtfuduoLijWqxfZIds55euqW4lprZyD/sGeJ5H7bOBWCVz14oKhH3/RSzBrsi8g+6xwQEs31KhwM7dobEh0YiMSIa+TUMK5KfxyumBDYV5M/MSElDrFcwijSoKhR9Ak/fQMkWbIw17Pi5Uyx3nzXRsuS+fg95SxZFbnvZMS3s3mPFCVXLlCHK5wmMjIxgX0K23I8LCkNKfAIb45JCySL2aQgiHwYor8lc4cNjxIgRWLQo64dnHfPlQ4sW+sYjYWFh8PK6h+YGDpOc+IR4nDl9Gm01XKi4K9SunTukH8jPZt/ePfi8dWvktsgtFJUTx4+hRs2acHCQ49SFC+dRpGhRFC1SVCgqnp43kTt3bpQrJ8eiR48eIoGd3/xzDQkKCoK/vx8aN/5EKCrRMdG4duUKPm/VWigqKSkpiptUJw2XQQ7vf8cvv4SJsfzj4/x93N0qt436Y8zZeF++hvwuxWDtKP/YbeBdb1jZ2cKxqDyHQ3z8kJ6ejlz5Zaex5Ig4pMUmoUQ12e34RUwswn2foFz92kJR4Xb0j6/cQKVmjYSiwlMGzyMn0aZzJ5gayXH66IGDaP7ZZ7C1kvvofuI4qlWvrul4evHiBRR2dkaxovqx+Pz5cwhmY8Uhc4WPi/Lly+PBgwfKa+6EW6mS/nl8585tmJiYoEKFikJR8fF5jJiYGNSuLZuVhIQ8U65pTZo0FYoKd/a7yOJN6zb6Tt+ctPQ0xeijS1ftH9/mToNftGsHczP5+n306BHUrVcP9nnkHOXc2TMoUbIkCheW5/eNG9dhY2ODMmXKCkXlttddxL1IQLGKsuFSZHAIXoRHoXb9ekJRiY6KUgxkKjeWc83U5GTcO3cZrdq1FYo++3fuQr0vWho48mdx6+RZNGzaRNNY5uypUzAtaA0LO7nt+eNQFCtcFIWLyf1/6PUA6SxXci5TSigqYYFPkRbH4nttOYaFs2vY/fv3Ub6e7GafxK4JD697oiW7FhmSkZGBw/v2oy7roxbXjrE8vlUrmJvrj/GhffsUB0YOmSt8PBiaK5Rh55t1Xn3XywcXrirmSFZ57ISiEnzbGyWKu7xZbpPAzv0acm7j/yQAD1n8K1lLXoOlszXdkzveb5Tb7NyxHZ06d84xt2nUuDFsbeU+nj59CmXLlkPBggWFonL16hXFubVkSXl+8xyU55SVK1cRigrP3fyCnqJ0DbktLjIaTx4+QmmNuZ+SmMhym5uvzG2c6strPk7kDT+UqlcdpgZzn+N39TaKVCgLaw3HUz/PO8hTwAl5C8rrxaD7j2HPciUtUwo/Hx+8YLGqdi05vgUHB8HP1xeNP2kiFJWY5zG4cukSWrVuI5QsoqOjWJ59XPxF5grvCyq8vUMMC29Nxn2nn7ywkTg9cwWaTlDtfl/mkusG1Oj7Jczt5AXNzbV7lYKdVnHJa487HMsUR/5KcmDzO3lZKeQVbSi7gQZf92KJWzTKtGksFJWoR4EIvumFKj30JzbnRVg0vPa5o84gOfHISE7FxUUb0fgX2R6ac27OGjQY3hvGFmZCUbm6cgcqdvwUVvnlQHFn22EUrlERDmXkAtqjw+dg5ZQXhWvJyfmTC55IT05RiqCGhN3zUYprFb+U3VB5UdLX/RJqfNtJKCopsQm4vnYPCnSVF7ucp2uvoOl4NsYahbdLizYp7qNaBVTP9fvg0rQu8hSTL173955E3lJFNIuEvJhpbGKKYo1lK+tnN7wRHxqBsl/oB++ga3fhc+yC8poKbx8eP//8M+bNm6e8Ll2mDMZOmKC8zua+lzfc3PZjzNixQlEJDw3D/Llz8Pv8+UJR4QWg7wcMwOp164Siz8ihQzF1xkzYaSSg06dMQa+ve6NEKf0iMGfZ4sWoXbcuamvY0W/bsgV58uRBqzZyLHI/dgxhYeHo1Ue2nL95/YZS1BmuYdUe6B+AtWtWY8qMGUJR4c6G4375BYuXy46AnEH9+2PR0mUw17hBMm7MGAwbPgIFCxcSisr8OXNQoVE9mBWTY/iVPQeR17kgSteRk+y7HueQwRZ81T5vJhQVv5u38ZQloLlqyslgckgcXtwORafhsmtzQvRznFi1EZ3GyE6KOpYIbxk/C71m658z2eyZtRDfjB6JOi5yLJo5bRq69/gKpcqUForKiiVLUb1WTaU48TJLFi1iY3VdeU2Ft4+LatWq4fbt28rrDp06KdvL7N6xU5lnWm6g3Jk5MCAA3/TTd+zm3GWfyRcgP7I4aEhwUDCWLVmMmb/9JhSV5KRkjBo+DMtXabuyD/3+e/w+b77itGoId2AdwM7fosXkHMV1wQJ80qQpqteUr9GbNmxQXKA/bSkXgo4cOoT4uDh0++oroahcvXwZh8+dQuOe8iI6IvApfE6cx4TJ+i6xnOjoaEyYMB6dx48Sij5bxs1U3FlfduTPZuTIEWjWvyes88rFRY9Vm9C7Ww+Uq1BBKCqLlrjiiXkMrErJBXmdVwxqOVdC+44dhaJy5tQpXPG6g5qd5CJCyGM/BF/2xJhf5WtYyLNnWPDHArQa+Z1QVNJTU7FrxgKsWvOXUPQZPmSI8j5zK/0bwNwpMi0ly82bCm8fD4aFt88GfQOn4kXEX1kcWbIGtTu0gmMR+QEHzx0H0aRho9fObU6w3CYiPAI9e38tFJULly/h6Cl3NO3TXSgqqWxNd2X3wTfObRYvWw4zc3l99ne5DS/0Vaoir4nWrlmDEiVKoEkzOX/hzvMZ6Rno1EWOYRfOn4f3PS8M/H6QUFQeeN/Hll3b0YTFIkMSomPgvnoTOv7y+rnNrpkL4NCmLIyt5P5HHn6Axp06Il8x/bHnnNuyG0UqlUPxKvIa9OZhdyWWVGwiO70/vHgN6TFxGP7dYKGoeN64ibNnTmPEjz8KReVp4BOsWrkC02bpu9r6+/kpeXY2VHh7P1Dh7R1iWHjr77FeL3nhQ7G6aR8MPLNRKPps6TIc7ZdNhrWTg1BU9g+ZhrqDe6CARuHl5NSlKNawBkppPEl3deV25Wmwar3kp1e897oj2j8IjX7sKxSVwIueuL//JFr9PlooKtG+T+ExfRm6rJstFBX+BN2WriPQ94h24rqu9UD03Omq7JMhu/qORfOJQ5C3pBzYjo6Zh/IdWqBYA7mAeH7BOuR1cUaFTnIB7dbmA8o+1RkkX6B83C8h8MJNtJgsL0xD7z7CleXb0GHZJKGoJIRHYd/gKSg9Q7bO5tz5fjsGnN6g/7SjYGu3kWjrOl7zybUDw6aj1oCuKFhVvrt9avpyONetgtItGwpF5dqqHTAxN1cKeobcd/NQiouNR+svTrz2HMdF16zzkApvHx4TJkzAzJkzldcNGzWC++kzyuts+KJ19qyZOOZ+Uigqvj4+aNemNbwfPRaKSipbtDjY2iA+OWsBYkixQgVx5aanspA0pHH9epi/0BV16spPw/bs3g2du3Z9bcv9pYsXsf31xQJXV6Go8KRu44b12Llnr1BU+NMgg78b+EaW+3ltrPE0NEzzqY+/s9xvzhLl3NXkohRf1PE75vW7ygWG4ys3ID0lFW2GDxCKyjW3o7h77gKMOsrF+oSH4Yg+8giTdm4RikpUUAiW9R+Jice0Lfd/rt4C8++cFoo+U5p/iSWH9qBrDfmOctNGDTF7zlzUbyAnmb2/+grtOnaQnpbs0bWL8pQRhwpvHxf169fH5cuXldfjJ03ChEn6hSJezOJFrjFjxwlFZfWfK9k89sTSFSuEonLsyBEsXbIYbocOC0XF28sLvXp0h+fde0JR4QtTF+fCiIyNE4o+BR0d4MXiotZipk6N6krBqmo1+SmUzuy8/7Zff80C4qjhw1G6TGkMGSovFBfMm6ssvmezha0h/OmUBetXoc88daGVTcCte7i8ZAPOXLgoFBX+JHCNWtUx9ZQcFzmjqzZDbGKS8qShIcVdimLAynlwKCIvvv/sPwoLZ87RXGB3+aozbls+Q976LkJRyTwZjE4VP8W4CROFovLX6lXYcfIoOkySi4R80eq9/RCOH3cXisrDBw/QoWN7jNgrF9dSk5Ix6ZP2iGV5oRbO+Z0wau9aWNrr3zwaV78NkhNeKK+p8PbxYFh4G7ZhCVyq6xeY/ugxCF+OH4lileXr/sFxc9CvV+/Xzm2WLHKFv58/y5kWCkVl446tcF21HP0X6RdeOEm+QUo+8Sa5jT2LtbzN0lJen/1dbjNi5Ch89rm8JhrMrum169RGvwEDhaIya8Z0pKWmYfK0aUJR2bRxA06x/HTN+vVCUTl7+jRGT/gV367Kurn8MlFPn2H5wFGYcPT1c5tJzTqiyE+NYGov9z9g3hn0nTwRxatVEorK+tFTUOXTT1C9VXOhqByYvxxWLJY07ycXCc9t2YO04Ajs/EuuCRx0c8Pav9Zg9779QlG5c/s2+vf9Btc8bwklixvXr6NRPTW/psLb+4F+440gCIIgCIIgCIIgCIIg3gJUeCMIgiAIgiAIgiAIgiCItwAV3giCIAiCIAiCIAiCIAjiLUCFN4IgCIIgCIIgCIIgCIJ4C5C5wjvE0FyhSo8vkMtI/wf2b285iKo9tW3cudlBqc8bwswyt1BUHh+/gELVy8Mqn/xDidwgwLZwftgXlx11Qm7dh5GZKfJXkB1P+Y/uJ8fGw7m27EQTGxyGqMeBKNFUduJJfh6vfKehUyaHu+957z2Byt1kFyrO3R1HUKHTZzA2lX+49+GhM4pJhJbjp9/pq3AoXQx2rJ+GcIdOCzsbxdnVkDBvH2SmpqFgNfkHQWMCghHH+sm/05AXEdF45nlf08wgNTEJj4+dR/7m8mdygg/dQrmuLTTNFR4fPK+YYJhruKL5nLiAAlXLaZprcLML24L5YO8i2/GH3H4AI2Nj5K8k/2h7lE8gEqNjUaSOviV35EN/BN/wUl6TucKHx6hRo7BQ/ChvYWdnfNWzl/I6myeBgbh06aLiQGlITEwMdu3cgYHfyW5SGRkZWLhgPn76+Reh6MPdAvt8+y2srWRn5k0b1qP5p5+hUCH5h7nd9u9D2XLlFEt6Q055eMCazZfadWRThhs3ruM5298W7HMNeczO6Xv37mpa54eFhSo/wN6n77dCUUlMSsRfq1Zh6PARQtGH9/+HYcNgaio7X61ZvQodO3WCg4OjUFT4j6GXqlIJVgXltltnLsLa0R4FysqOr/6e96Bjx71ErapCUeHOfpFBz2BV0UkoKkmR8Yh9FIJqreUfO+c/Eu7N4k2Dbh1g9LLzNkOXqcOptVvRXMMxjHN+yx4079IRxR1lA42927ahcdOmKF5EdnY84LYfpVisKV9e3/WQGys8fpwVf8hc4eOiUqVK8PLKug41aNiQbfqGHefOnmHzzBT16stmHbdvebJ5HIaWn7cSioqfny9u3riBLl3lH8CPjIxg8WY/+vWXzUpSU1OwfOlSjBglO8lxFrsuxIBBg5DbQs7R1q/9C62/+AJOTnKOsmf3LlSpUlU5/w1xP3ECefPao0bNWkJRuXr1ChJfJKKphmHBgwf3cfPeHdT6rKlQVKLDwvHo8k18+ZW+kQknISEeOzdtwecajogct5Xr8N3I4TDKJd+337h6Deq1bQkrWzlHu3jgKOo3aIjCRWRzrGOHDyKFXRLsi8lxKubBM+SzdkDV2rJx1iOvBwgJDUdVDUfA8KfP8OTefbTvLMf35zHROLzPDU27y06p3Jn76Lqt+G64bGbBWbd8BZp26wiz3BZCyeLw2s1IZ7kkh8wVPh4MzRVqtP0MefLrm6Nd238UZRvUhm0+OXf3PXMFVSpWev3c5vo1PH8ey3Ib2TTu3gNvXL91E1U+k9dg6THxeHD+yhvlNn/Mn6e08ZhryN/lNrVq14aLSwmhqBw7egQFCxZElaqy6czFixcUw4NGjT8RigrP3Z4EBKJNW3m9/PRJIE6za0PddrKZw4u4eFxgsahBd9ls7u9yG252kL9RGZhYyLld6PkHKFmnOmw01uCPzl1DAZdiKFBSNo/xueoJUwtzFKsiuz0HeT1CWvwLfN5S7keAry8e3PNCFw1TjvDwMBw+dAh9v9U3zQsNCVFMKbIhc4X3Az3x9h4xs8qtt5mKgpqhnr3x0TJlF3uttlxscWTCJq9mm7ExTMzNNNuMTE1gzIKoVpuJmSmMTEy029jncUdWzbbc5mxfc2m2mVqyZCWXdhvfeBv/fzTb2Gfyz9Zq4/uSYx9ZH3hftNp43/kx0Grjn8ePnWYbO9b8mGu18THiBdVChUprbpyY1HDEpIRJW6Yug50A2p+bi/cxhzHmhTXjHPrPi5jGOfWf6cYaY8w/i/hwebnoa8zOHRu2UHp5465VWjrfeJJpxN6v1cY3/tlaOt+UNmvtNv593AlUq4076OXOnVuzzczMDOYWFpptFkzn7VptuVm85Z+r1cb3g88prTa+/6/qI8fGxlazjRexrKysNdv4vhSyd0DNIqWkzdHaFnaW1rBg+2W4mbD+8Xms1WZqbq4UACu4VJe24oVKwdzMHAHxftIW/OIp0jPTAfNc8ucKx2lJFxuPfammRniS8ULaUnSZSDTSafbf1MRUc4xNNG7CEB8HL8cpM3YuG54bZuz8NdfQ+cbnPj/3tdp4fMt57lvDmM1TrTZrNq85Wm18e1V84/HklfGNxSOtNh6/eF+02njfc4xvbC7Zs5ihFU/KOTkjFZmaczQkMxmmbF+13sc33sen6fL7+MbjW+WCxTXfl5uNVTj7bK33ZbLvq1O8KrrVaCNtBeyc4BsXhONBV6TNO8YfVixX0fq+MvkKIR06ze97lpGk5Jpa76vhXFLpo9b7+JbBPrNyIbmPxhqFSOLjw4zNVcNropERW0ewdYGhzjeef//buY0F+zy+7tH6PnMWZ940t3lV29/lNjzmarXxGP2q+JZTfOfHjBcAtdosLa2UeGM4R/nG45MJ67/Wsfm73MaI5TZlilTSzKd4P0KSnmnmUy/SXgAmGrkU20xYH3gOp9nGYlumsXYsimCxNJ1dHg37zrecrmGWGg90EO8eeuLtHWL4xFt/j/VKwSgbPhSrm/bBwDOydTBnS5fhaL9ssuYTT/uHTEPdwT1QoHIZoaicnLpUeWqLP0llyNWV22HGgk21Xu2EosKfsIv2D0KjH/sKRYU/YXV//0m0+n20UFSifZ/CY/oydFk3WygqqQmJ2NJ1BPoeWSUUfda1HoieO12VfTJkV9+xaD5xCPKWlO+YHh0zD+U7tECxBvJd0fML1iGvizMqdJLvDN3afEDZpzqD5Lu7Pu6XlCf3Wkz+QSgqoXcf4crybeiwbJJQVBLCo+A2ZCp67lokFH1WNemNysu7KRcxQ+6PO4BWC35BARf5yZYDw6aj1oCuKFhV487Y9OVwrltF8wm8a6t2sABujup95Ds89908lCcbG4/WvzPitec4LrpmnYf0xNuHx4QJEzBz5kzldcNGjeB++ozyOpvTHh6YPWsmjrmfFIqKr48P2rVpDe9Hj4WikpqaCgd2gY9PThGKPsUKFcSVm54oUEB+Gqpx/XqYv9AVderKd3d7du+Gzl27vrbl/tLFi9j++mKBq6tQVNz27cPGDeuxc89eoah43ryJwd8NfCPL/bw21ngaGqYssg15U8v9IYMGwbpUEbi0lZ9eOb5yA9JTUtFmuPyEzjW3o3h06QZ6zR4vFBWfa544sGgl7L/Xf9qVkxqZAN8/TuHnA+vhaKP/FMrfWe5Paf4lRm5dKd3157h+PQQjpkzA4Hby0yC9v/oK7Tp2QLfu+k/h9OjaRXnqjUNPvH1c1K9fH5cvX1Zej580CRMmTVZeZzNp/HhYscXEmLHjhKKy+s+VbB57YumKFUJR4U+zLl2yGG6HDgtFxdvLC716dIfn3XtCUYmPj4eLc2FExsYJRZ+Cjg7wYnFR6ymCOjWqY9Vfa1G1mvxkR2d23n/brz/atm8vFJVRw4ejdJnSGDJUfgJrwby5iGBxaPacOUJR4U+Z7GexbdO2bUJRuXzpEvr+8B1GbF4uFJX4iCgs7zkE/kHBQtHHyswUv984oRQMDJn3xddwd/eASwn5yZbmzZqgWt/OKF1H/hcEeybOQZ/2ndG7zzdCURny4w847H8e+b+oKBSVqHO+qK1zwdYNch/djx/HrzMmo//KuUJRCfMLxKZRk+HzyEcoKomJiSjklA+zrx0Tij4TG7fHPa/7KJBf/8nF/HntEReXdV7QE28fD4ZPvA3bsAQu1fX/ldAfPQbhy/EjUayyfN0/OG4O+vXq/dq5zZJFrvD382c5U9a/XHiZjTu2wnXVcvRfNEsoKkm+QdgxZe4b5Tb2LNbyNl5EM+RNc5vB7Jpeu05t9BswUCgqs2ZMR1pqGiZPmyYUFf7k1imWn65Zv14oKmdPn8aMaVNx3OOUUFT8/fzQrEVTjDm8RSgq/0luM69Hf+T+ohisSshP/AWuuohmHTrjk06dhKJyYP5yWNnboXk/+Sk7/oRduH8gOo8fJRSVe6fOw8vNHaePugtF5c7t2+jf9xtc87wllCxuXL+ORvXU/JqeeHs/0C0agiAIgiAIgiAIgiAIgngLUOGNIAiCIAiCIAiCIAiCIN4CVHgjCIIgCIIgCIIgCIIgiLcAFd4IgiAIgiAIgiAIgiAI4i1A5grvEENzhQYj+yjOmP8PG4oLf6xHQw0zA861P3egyldfwNxG/tHuO1sPofgntWFbWLZjf3jojGJIkK+c/IO3AeduwMTcFM515B/YDrn1AImRMSipYcrADRRC7zxAhU6fCUUlMSIGDw+fQfVvZKv2jJRUXGX9qD/sa6Hoc2nxJtT5rpumq6bn+n0o26YJLPPZC0XFe+8JFKhSTtN4wdf9Eiwd7VGwmmxKEHT1DtJT0lC8cU2hqEQ88FP6WfYL2ZI7LjgcAWevKeNhSEr8C2U8arN+aHFhwToU+qqGprlCyL47qNilJWwd5R/vvLv9sGKSYess/zD9o8Nnkad4YThVkE0ZAs/fUByOitSrKhSV0DsPkRAWhVKf6dvxh3jeh9+pK8prMlf48Bg9ejTmz5+vvC5RsiRG/vij8jqbRw8f4uiRIxg+cqRQVPiPeS9bugSTp04Vikp6egZGjxqJhYsXC0Wf8b/+ijHjxsHWNssd8GXmzZmDLl27obhLcaGorFm9GjVq1EB1thmyd/du2NrZadrqnz51CpEREeii8UPXd27dxpUrlzFw0CChqDx98hRbNm/CmLFjhaKSkJCAGazvv82Vf7Sb8xM7ZrN+nwNzjRg2Y9o0DBj4HQoUlOfwUnbMmrdogfIVZFv5rZu3wJzFPUcN8xzvc5eRyY57pWaysUrAHS+E+z9BnQ6thaISHvgUd0+dg+UnhYWikp6QgoiTD9FySF9Ym2c5tWaTqcvEnpkL0WWC/jmTzcGFKxU7fksb/fdxPLhVf9vW+KSKHG/XrlmDKlWromatWkLJYvWffyo/Fswhc4WPi6rsfLhz547yunWbNmj9hf719sB+N5ixefZ5q1ZCUblw7hyePn2KHj3lH632vueF02dOY8gPsnFSyLMQ/LVmNcZPnCgUleTkFEwY+yvm/fGHUPThP4Y+aeo0WFnJPz7+26xZ+Lp3HzgXcRaKysoVK9CgQQNUriLnYTu374BTfic0aSobq7ifOIGE+AR0/FL+0e4bN27gjuctfDugv1BU+I+yr9+2Cc2/lY9NcsILnP1rK2bMls2xOCOGDkWnscMVp0ZDTixdixEs/jk6yj8w/scfC1gOUh1OxYsKRcXzwHHUq1IddevVE4rK1l3bcC/SF7aVCwpFJeFxBIrDEf37yn28730f+44cQMOenYWiEhcZhSu7DmI6GytDuEHQrz//jI6/DheKPm7zl2HSpCnsGqYf33756Sd2fiQrr8lc4ePB0Fyh6Tfd4VhE/5p6cs1mVGvdAg6F5Ov+3f3H0aBO3TfMbSJZbiObMly5cR0e58+gYTd5DZbK1nQ3Dp54o9zmxxEjlDbupmrIm+Y2WzZvRvHixdGgoZy/HD18GBkZGfiinWz+d+XKFTy6/wC9+8qGLI/ZeuXIoUMYPko2JeAGEn8sXIDPf5Bjxn+S25xYsxGmlfKyPE09F7KJOu+Hsiy+ldYw1rnjfhbmlhYo26COUFQeX/NEfFQ0arRqIRSVZ4988IytwX8cNkIoKsFBQdi4fj1+Ha9vqvUkMFDJs7Mhc4X3AxXe3iGGhbeybZtKxZcHB06hXLtm4i99fE5cQLHGtWBqYS4UlYDzN5C/QinkzmsnFJXgG16wKeAI28L6Lkyc8Pu+MDY1gUOpYkJRiQkIRkrcCxSoIi/2eLEmJiAIRerKxRz+nuCbXijRVA4kmenprB8XUab1J0LR59GRs0oRiBeKDPE7fRWFa1SEua1ceHx65TbsizvDOr/s+Bp655HyHvvi8gIzyicQGWnpcCovF6zigsMQHxqJwjVlN62k6FiEefugeCN5AZnGkvPAc9dZP+QLCYePccnWDRQ7e0MCPa4hb3UX5DKXH0aN9gxA/vKlYZ1P7uOzm96wcnKAnbM8xryAyK2+HcrIBY3ngc+QHBvPxrisULKI8Q9C2L0s10oqvH14jGSLI1fh9Jm/QAG0bafvpvfsWTBu3byJNm3lhCcuLlZJiLr1+EooKpmZGVj311+aDlWczRs34MsuXZA7t7wwddu3F/XY4tPJST6HT7qfQIkSJeBSQp6nVy5fUly2KleRY5HXvbuK01z9BvJcDAzwV87rz1rKTluRkRE4d/YsOn0pL9r44mrXju34WsOBj7PurzWsrQ9MTEyFosLf92nLlsiTR755cPTwIVRiC29nZ/nmwXm2L/aODihRtrRQVO7duo3U9DTYl3URikp4wFPEhkWidF3Z7Tk2PApPvR6gVEM5hqUkJsKHXVMKNCyH9Mw0oWbBU4aQU96o2elzmJnICfh1toiu3OITJZk05O7J8yhRrRIcnOQbC14XrsDRuTDqVayqd110P3GcjVWA8poKbx8XFdhC7f79+8rr6jVqokZN/XP1+rWrbJ6ZoFp1edH64L63sshq1FjONYKePsG9e/fQqnUboajExETDw90dnbvKhZO0tFRs2bQJ33yr7wKezcb161hc7AFzc/nc37t7Fz5p2hQODnJR6vixoyhXrhyKFpOv0ZcuXIBtHjtUrFhJKCp3bt9S4lGdunLBys/PFwF+/miusWgPDwvDxUsX8Xk7+cZh4otEHN7vhoYd5WPDObVtD75ii91cRnL+snf7TlRt1gi5reUc7ZbHOTZ+NZC/oFxAu3DmrHJztICLnIcG3PVGbjbG5arI/fd/7IOA4EDkLSfndolR8UgPScBnreWbDnHPY3GajXHtNvKNY34T49zeA+jxTR+h6LNr81bUaf2plIef3e2m5JIcKrx9PBgW3io2awhbR/1ixh33c3CpURk2efMIRSXw6m2UK1X6DXObeJbb6N805zz288Hd+14o11Beg6Wz9Znv9dv/QW7zjRJzDXnT3Obc2TMs53NC2XKyG6rnzRssp8xEzVq1haLy+PEjPAsKRpNm8no55Nkz3GTv/UIjf42Pj8OBA26o1kYuZvHc5vKug6jfVX4f59W5zTkUrMjWZxpj7H/tDkwcLGCmUZSL9QlFHhsHFK2gvwbjhDz2R1J8Akqwc8eQ6OBQRPg/QdUmcm6bEBML78vX0L1rd71cKiIiQsmzs6HC2/uBCm/vEMPCW3+P9TAyVgssfChWN+2DgWc2CkWfLV2Go/2yybB2kgsv+4dMQ93BPVBA44mIk1OXKk9KldJ4cu3qyu0ws7ZEtV5yoPHe645o/yA00ngCL/CiJ+7vP4lWv48Wigp/Ssxj+jJ0WSffMU1NSMSWriPQ98gqoeizrvVA9NzpquyTIbv6jkXziUM0n2o7OmYeyndogWIN5AXm+QXrkNfFGRU6yQnorc0HlH2qM6i7UFR83C8h8MJNtJgs3xUPvfsIV5ZvQ4dlk4SiksAWtG5DpqLnrkVC0WdVk94YcHqDXkDMZmu3kSg9uiUybDKFouI77yTqf/81XGrLC+VT05fDuW4VlG4pB+Frq3bAxNwc1ft0EIrKfTcPRD4KQOPR+gsJrz3HcdE16zykwtuHx4QJEzBz5kzldcNGjeB++ozyOpvTHh6YPWsmjrmfFIqKr48P2rVpDe9HWYXZl+FPCzjY2iA+OUUo+hQrVBBXbnqiQAH5rmjj+vUwf6ErW0SqdufZ9OzejS2Eu7625f7SxYvY/vpigSgyvozbvn3YuGE9du5RE5FsPG/exODvBr6R5X5eG2s8DQ2DlZW8+HxTy/0hgwax5LMm+g/8Tigqs2fOQExCPFz6yDH8mttRPLp0A71m69/55Phc88SxZWvxw1o5TkUFhWBZ/5GoNqcLohL0+6ljifDdH3ZiwqU9yGslX4teZbnv+vUQtB89BC7V5EX0htFTUKlFY6wYORHGLz0J3qNrF+zfmzVGVHj7uKhfvz4uX76svB4/aRImTJqsvM5m0vjxsLK2wpix44SisvrPlWwee2LpihVCUTl25AiWLlkMt0OHhaLi7eWFXj26w/PuPaGoxMezeeZcGJGxcULRp6CjA7xYXNRazNSpUR2r/lqLqhpPPXTu2AHf9uuPtu31b4BwRg0fjtJlSmPI0GFCUVkwb67yBPLsl55iyGYnWwjvZ7Ft07ZtQlG5fOkSi5s/4cyFi0JRCQoKQo1a1TH1lBwXOaOrNkNsYpLm4ru4S1EMWDkPDkUKCUXlz/6jsHDmHM2Fcq/evWBe0QW1O8hPLp5dvhGVnZwxboL8BOJfq1dh/s7lsO4q/2uGeO9QFLidAY+T+tc2zsMHD9ChY3uM2PuXUFRSk5Ix6ZP2iGV5oRbO+Z0wau9aWNrr3+QeV7+N8rQghwpvHw+GhbdhG5bApbp+oeSPHoPw5fiRKFZZvu4fHDcH/Xr1fu3cZskiV+XJ1fkLFwpFZeOOrXBdtRz9F80SikqSbxB2TJn7RrmNPYu1vI0XAw1509xmMLum165TW/Nm7awZ05GWmobJ0+QnUzdt3IBTLD9ds369UFTOnj6NGdOm4rjHKaGo+Pv5oVmLphhzeItQVDIzMvBz9RaYf+e0UPR5ZW7TazA6/PwDimvkNutZbpNW2gwmleSiXMjuW6hcpg7afj9AKCrntuxBuH8gOo+Xn9y7d+o8Lu8+hAFL5HV28EMfbBk3E4/vPdTLpW5cv45G9dT8mgpv7wf5sRqCIAiCIAiCIAiCIAiCIP5jqPBGEARBEARBEARBEARBEG8BKrwRBEEQBEEQBEEQBEEQxFuACm8EQRAEQRAEQRAEQRAE8RYgc4V3iKG5QstZo5DrpR8+1LH/jv+6AJ//Jv+QJuf0rJWo90NPWNjJVsaXl21F2S8+gX0x2d3p9paDcKpQCgWryT9Ay11ETXJbaDqQPrl0CwlhkajQUcMV674vnl6+jZrffikUFe4EemfrQTQcJZsypCen4PTslfh0qrZVu/vkRWg6dhBMNJxbL/yxDlW+aqs4tBpyY+0eFKlXVdOd1HufO6zzO6JofflHjblTanpSsqbLasitBwj39kHVnm2FohITGIyHh86i3hDZ2ZG7hF5eugVNxw0Sij7Hfp2Plr/9iFzsP0PO/PYnCn1ZA5m5ZXOFkD23Ub5NM+QvXUooKne2HYZj2eIoVF2263587ByMTE1RsrnsfMbdYOOCw1HxS313L26e8cDNQ3lN5gofHr/88gvmCst4bvE+67ffldfZ3LlzGzu3b8f0mfKP84aEhGDq5ElY8adskJKeno7uXTpj9779QtGnb++v8ceixbC3l52vfv7pRwz4bhDKlpXdneb8NhsNGzdGw4aNhKKyds0a2Oe1R8dOciw6eMANIc9CMHCQPBcvX74EDxaTx42fIBQVX19fxZhhwULZlIG7pP7w/SBs3LJVKPrw/q/fvBkWGs6GPwz+Hr+OG48iRWSDmCmTJqJDx06oXkN2aOQ/BM/nYcvP5R8f37F9GxKSk5C/uYYd/ZUbCL7vg6Z9ZfOYkMd+uHHwBNqOko9NfGQMDrn+iRL9GiIuKVaoWfCUIXDZefSYPx7WFvK1aPPYmeg4Zhis8tgKRcVt3jLU/fIL5C8huxd6rNmCYlUrYmjHr2D0kvHM77NnKT8GzyFzhY+LGmwueHp6Kq+7f/UVenzVU3mdzaYNG2DOcoWu3eTz+9jRI4qxypChQ4WicuPGdRYbDmDylKlCUXny5Anm/v4bFi9dJhSVpKQkfNunN7bt3CUUfb7+qgeWr1oFG2t5XowcPgzDR45S3JkNmTl9muKurGUs8+fKFShcuLCmQ9/ePbsR+zwWffvJLqvnzp3F5YuX8POYMUJRefDgAYubq/H73HlCUeE/sD585DD0mi3HRc6aoWOxc+9eGBsZC0Xl23598fmw/rAxcHXkHHVdhe/69EPlKlWEojJ3/lyYFs2P0vVk46h7hz1Q3M4R3TVctLkb7N7zh2HRyFkoKklPY2Dvl4nZs/SvbRxuIDF9+lS0nzBSKCrpqWnY9MtU7NytbS7Rp1dPdJwwCuYGBmDrf5qCtORk5TWZK3w8GJortP3xexQoqe9OvO/3JWjQvQOcisvX/avrd6Nls+avndsccNuPsNAwljPJhkse585g/7FDaDlIdidNDYnCuS273yi36db5S6XN3Fxen71xbrOY5TZltHOb7du2IiM9Az2//looKqc8TuL2rdsY+eOPQlG5d/cutm3dghmzZOOB0NBQjB33K7pM/VkoKtw4as2wcRiw9Deh6PPK3GbuUtTr3BZOGrnNSZbbpBcygXEx2XAr+oIfihcuizptWgpFxev0RTwPC0fD7h2FohJ4xxsPLlzD54PlMY4KDsHpdduxevmfermUz+PHSp6dDZkrvB+o8PYOMSy8Fa5TWd/Zko1E0NU7ijulFiGe3nCqUBrG5qZCUQn38kGeogVhZiNP7KjHT5Db3haWjrKjSuyTEBiZGMOmkJNQVBLCopCWmAx7F7mYlxwTp7h3OpZ1EYoKf0+UzxMUqCI7rOpYEH3meR+Fa8vOL5zga/dQqHp55GL7ZEjonUdwKFUUphpWzpEP/RW3VwvWT0Ni/IOV91jnlx344p+FK/bxduzYGZIY+RxJrJ8OpYsKRSU1/gWes2PnVFEugmWkpCHc+zEKahTBOEFX2BjXYWMs193YGN+HY7niMDaTxzjyQQDM89vAyFJuS3waDQs7a9hpuEXGPg1VCry2heUxfsHGODUxiY2xfuKaEBqJ54HPlNdUePvwGD58OBazhIeTx95eWvBFswsyLz7VriMXcxJfJOLG9Wto3KSJUFS49fvJEyc03as43C21fsOGmokbL66UL18ednnkOHWbLb7zFyyo6YbKHer45xV3kWPRk4AAJCYmolwFeS6Gh4UhODhYMxmMi41T7Pr5vhrCnVsvnDuHZi1kO3qO+/HjaNa8BYw1YnRyVRkAAL3WSURBVNh59r7q1avD6qVEPZsb166hWHEXOOaTbyx43bsHOzs7OGsktX4+Pshgx714SfmmQ0jIM0RFRrG4KSeDiayPkYFBKFpFPjZpySkIvOuN4jUqKTeEXoanDH6Xb8Gxmgsb7wyhqsR4B8GpvAvs2WLZkIDbXsjvUhS5beXCRPCDx7BxyAuH/PpxKtDrAeKiopXXVHj7uChXrhwePnyovC5ZqpSyvcxjdl0yNjZGCY1zP+jJE2UhWaGSnGtERkQgMDAQNWvVEopKQnwCW9B5KoV+Q/iNhTOnTqHFZ/o3qrLxcHdH40+awFTj+n3xwgVUrlwZNrZyjuJ54wYKOxeBk8G5z7nv7a04JBctJs/hAD8/JR6VYcfJkNCQEISxGKflovo85jmLm/dRt77sdJ+cnIzLFy+ioUZ855xi8b1S43osd5X/wcyjqzdRvVZN5M4tux7eZPHNoWhhtmjVdwPlcBc+J8d8KFhIdkPli8VUXQacismxLzokFGkJiShTXr5ZExMdw65hPrArmV8oKunJqYgLiESjxvIN14yMDJw/fRoVG8k3KjneF6+iXsMGMDPTv4adZedFBjs/OFR4+3gwLLzx66mlwfUt4NY95C9ZHLlt5Ot++CM/OBcq/Nq5TSDLbZJY7l6uguwi+oxd9wOePoFzBXleZLL1Gb/p9sa5DWvjMdeQt5HbcAd9XaYOpcqUForKM5a78cKRViE/muULvj6PUVvjRkYSywevXL2CErXkuMiSGzy4cBXNcojvF86cQdGqFWFibiYUlb/Lbazy2sHKQc5towKDkaZLg3k++X3JkfEsGdOhqMbN6ISoGKUopzXGyeycDHnoizK1qgsli0R2bfP1vCP+osLb+4IKb+8Qw8Jbf4/1MDJ+6Yk3NhSrm/bBwDMbhaLPli7D0X7ZZKXAZMj+IdNQd3APFKgsF7tOTl2KYg1roNSncpJ1deV2mFlbolov+W6q9153RPsHodGP8pNr/Imo+/tPotXvo4WiEu37FB7Tl6HLOvluQypLkrZ0HYG+R+SnZTjrWg9Ez52uyj4ZsqvvWDSfOAR5S8oB+uiYeSjfoQWKNdAPNJzzC9Yhr4szKnSSn9y7tfmAsk91Bsl3zH3cLyHwwk20mPyDUFRC7z7CleXb0GHZJKGo8IKk25Cp6LlrkVD0WdWkNwac3sASV7nytrXbSLR1HQ+bgrJd9YFh02HfpjRMi8sXtid/XUahWhXRsLt8V/jaqh3sQmGO6n06CEXlvpsHIh8FoPFo/TvmXnuO46Jr1nlIhbcPjwkTJmDmzJnK64aNGsH99BnldTa8QDZ71kwccz8pFBWeDLVr0xrejx4LRYUnbg4s8YhPThGKPsUKFcSVm56aSWbj+vUwf6Gr5lMfPbt3Q+euXV/bcp8/tcafelngKt/dddu3Dxs3rMfOPfKTDZ43b2LwdwPfyHI/L0uun4aGKYtlQ97Ucn/IoEGoyRa0/QfKd7dnz5yBFHa8p0yfLhQVbrl/5NhRNBo/RCgqPtc8cWzZWvywVo5TUUEhWNZ/JCYe2y4UlWzL/U/Wf4+YxKyC2Mt4j9mPz+YNxmf15Lu0rl8PQfvRQ+CiYbm/YfQUVGrRGDVa6yf9a0dOxN2TZ5XXVHj7uKhfvz4uX76svB4/aRImTJqsvM5m0vjxbKFnhTFjxwlFZfWfK9k89sTSFSuEonLsyBHlKVK3Q4eFouLt5YVePbrD8+49oajEx8fDxbkwImPjhKJPQUcHeLG4qLWYqVOjOlb9tVazENa5Ywd8268/2rZvLxSVUcOHK0+EDBk6TCgqC+bNRQSLQ7PnzBGKys4d27GfxbZN27YJRYXf5Bgz+iecuXBRKCrPnj1Dwzq14R8ULBR9rMxM8fuNEzA2MRGKyrwvvoa7uwdcNJ7qa96sCar17YzSdeQbHXsmzkGf9p3Ru4/89MbosWPgy+JMy+/ltku7DsA4IBxr16wVigovEvQb8z0K/iAX0JJD4xC55gaC/UOEosJv1BRyyofZ144JRZ+Jjdvjntd9FMivX9DLn9deKfRyqPD28WBYeBu2YQlcqlcWf2XxR49B+HL8SBSrLF/3D46bg369er92brNkkSv8/fxZzrRQKCobd2yF66rl6L9I/hcLSb5B2DFl7hvlNvYs1vI2S0t5ffamuc1gdk2vzeJNvwEDhaIya8Z0pKWmYfK0aUJR4bnNKZafrlm/XigqZ0+fxoxpU3Hc45RQVPz9/NCsRVOMObxFKCrZuU1iWlYB3ZBiLPZ/v2kJ8uSX12euvQajw88/oLhGbrOe5TZVPv0E1Vs1F4rKgfnLEZAUAJtm8o2VyFOPYRFnjKFz5CeT7506j8u7D2HAEnmdzW9kbBk3Ez/v1o+LT+89wB9fqf/CgQpv7wf6jTeCIAiCIAiCIAiCIAiCeAtQ4Y0gCIIgCIIgCIIgCIIg3gJUeCMIgiAIgiAIgiAIgiCItwAV3giCIAiCIAiCIAiCIAjiLWA8hSFeE28Zf39/bNiwQfwFuHxSC8nP4xXnzOyNGxa4NKmtp2Vvj46cQ4Gq5ZCenCK1+XlcQZ5ihZDLKJfU9uSiJ8xtrWBmlVtqC77ppbh6WuWzl9rCvHzwIjJGcUs1bOOupZGPA5CvXAmpLTYoVHFn5e6khm0vImLw+Ng5xezBsI1vDw6eQpG6VRXDA8M2nxMX4VimuGL5bNjmf+4660NexW3GsO3p1buKcyt3djVsC7nzECnxL2BbyElqi3jor7i+cidVw7aYwGcIvf1AMbMwbIsPjYT/6auKc6lhG9/4GBf/pDYbe7nt0VE2xlXKIiMlVWrzO30Fxo65oUMG0uOT9ba4u89gbm2NPA5yP555eiMzNR1WTnmltnBvX8XZlJ87L+th93wQdjfLUMHBwQHDhsk/7Ez873L8+HFcuHBBec3Ht36DBogID///zfvePVy5fAl169XX0/nGf5z2gJsbWnz6mdQWFhqKv1avQodOnaQ2vq1fuxZNmzXHi4QEqW3n9m0oX7GiYjpi2HbogBsc8+WDjY2N1MadBDN1OhQsWEhqu3TpomIfX6ZMGant9q1buHvnDmrUqCm1PXr0ECfZ537SpInUFvT0KbZt2Yw2X7SV2vi2ZtWfSltMTIzUtmXzJtSqXRtpaWlS2769e1CsaDGYW1hIbcePHoUF0x0d80lt586eQXx8HIoXd5HauPvso8ePYONSGAnRMXpbqE8A/G/dRfGqlaS2qOBQxdCgbIPaUlt8VAwu7tiPfLVL4EV0rBSLoi/6w6lyCeQxzSO91/OoB/KXKKZcpwzbvE5fUBwPLayt9PR7py4gOjjrR9Br1qyJdu1kIyDiw4QbafAf++dwx+OibH68fH6fPnUKKakpcHYuoqfz7eqVKwh68lT5sW/Dtrt37+DmjRtsLtaR2rh5zLEjh9G0eXOpje/LxvXrFRMEwza+rV2zBp+2bKn8yL5h2/atW1G1ajXF+dmwjRu98PhlaWUltXGTAO6QnD9/fqnt4vnziIqKRsmSJaU2bhDz4P59xczBsI27JZ49c0Yx1jFse/IkELt27MDnrVtLbXz7c8UKVG7RGC9iYvXmKd9uuh1Do4aNFGdUw/ft3rUTlizP4qYMhu97eO4KCuV1hL19Xul9Jz1OIiI+FvYFnaT3cefllPAYVK5YSXqf1927OHneA+bF7KQYlRKRgMR7YWjzeRvpfdwNdt1ff6FS80bS9/Htyp5D+JRd+wyvYXzsubkQp2vXrqjIrmXEhw+/ls+apZoYlKxVDUZGRnrnzM0jHihQ2gXcTu1lnW+Pz7Jzv0CB185tuPMwdy0urZHbXL95AzdveaJIhbLS98U+eYYHl669UW6z+s8/8UXbdoiJjpba3jS3OXb0CHLnzg0HR0ep7RyLUQnx8ShWvLjUxnMbbpxVqXJlqe2+l5eS+9WrL+evAWwdvpftT+n6taRjk53bdPqys/Q+vvH8tXgttj5NSpbey3ObAiWKa+Y293huY89yGytLqe3R5Rt4nhANI1tTKU698I1CroR0FC9bXnrfswc+CH74GEUqymMcEfgUDy5cQ6na1fX08IAnuHNCNVIbM2aMcuyJdwu5mr5DDF1NlULZS86WfCCeBwTDvnjhLMGA509DYMuSD15EMiQuJAK52cQ2tZBtjhMiomFqaQFzNukNSWTJUy52kchtp2FlHPcCGSyIalkgpyay5CU+ATb5ZXvo9NQ0vGDfaVdYtnHnRbPnT0Nhz/quBS9o5SlSQNknQ2KDw7KKaxpW/fFhkTC3sYYZ66chL6Kew9jUFBa2sstgUmy8sk+W7NgZkvIiEWmsn9bsOw1JS+aFsVg2HrK7DS9kxoWEs34UFIo+MWyM87Axlj1NWR/ZsbEu6KjpGBbPxtjUNjeMzOW25Kh4mOQ2g5nGGKfEJrDzzEi7j/EvkJ6SCitHe6FkkRyXgCS2qOaQq+mHx9ChQ7F06VLldW5LSxRnic3LcKeuyIgIJeExhC8ungQGohQ7LwzhlxO+2CtfoYJQ9Hn08CFKsEWiicb5zQt6BQoW1EwEeEJoa2cHW1tboaiEhYbBxNREKSAaEs0SRL6/Wi6q3KHw+fPnKKJhY88XjnyRXULDnS8jI0NZnJfRsHjn8P7zNp58G8Lfx23zzc3NhaLCjynvg5YdfwjbFwt2XOzt9ecph48TP+75nJyEohLL+pfwIgF58sttyYlJiI2KQp5C8rHJSEtH9LNQ5CvmLBR9wnwDYFc0P1sUZApFJSE4CtYFWJxmMdeQuNBIWOfNAwtLORbHhobD3NpKKby9zHOm81jMIVfTjwt+7fFhc4bDC+/52PYy4WwxxOeZI1u0GcIL38lsgcRdAQ1JSEhANDv3ixaTneRSUlKUeFOyVCmhqPCiGY9hWs59HF7Q4nHR2FjO0fx8fVGocGGlgG7I0ydPkIfNbb74NiQ0JBRm5maa7nNRkZFIZ/GIF+UMiYuNRRyLcc7O8hxOYnM/LCwUxV1chKKSnp6uxGK+oNfivrc3ipYuyVYPcgbzzD8AhVh805r7z56wGO5gz+a+nKNEsRhuyWKCjZ0c36NZH3lubOcg9z/heSzS2Hjl04jvSewaxo+PLYtFhmSkpiMuIgYFi8q5No+lz/yfogjvowZBPn4oUsJFGuOAxz7K+cEhV9OPB0NXU3t2PTXLrT/Ho4KewdbRga3P5Ot+Alu75MmT5/VzGxa/Utn6TCu3ec7mfnRMNPIU1FiDsfVZbETUf1Vuw3M+Hv8M+bvchh97HlMNSWR6RA75axrLB/0DAuD4itwmx/yVrYMKFHXWXJ+FsvhmzWKU1hjzHIbnNYa5DSc+KhqZ7D9TGznvTY1Pgo4/GKOxBudr09SEJOV8MySd9TE2LAIORfSPTVpyyv/fxOSQq+n7gQpv7xDDwlt/j/UwMlYDGB+K1U37YOCZjULRZ0uX4Wi/bDKsneQgvH/INNQd3EN5AsuQk1OXKk+Ylfq0vlBUrq7cDjNrS1TrJT9F4L3XHdH+QWj0Y1+hqARe9FSe3Gr1+2ihqET7PoXH9GXosk62OeZPsm3pOgJ9j6wSij7rWg9Ez52uyj4ZsqvvWDSfOAR5S8oL5aNj5qF8hxYo1qC6UFTOL1iHvC7OqNBJPfbZ3Np8QNmnOoO6C0XFx/0SAi/cRIvJPwhFJfTuI1xZvg0dlk0SikpCeBTchkxFz12LhKLPqia9MeD0Bpa3yonr1m4j0dZ1PGw0CnoHhk1HrQFdUbBqOaGonJq+HLaVCyO9rHxBDN13Bza2jmj+w3dCUbnv5oHIRwFoPLqfULLw2nMcF12zzkMqvH14TJgwATNnzlRe86ce3E+rd8E4pz08MHvWTBxzPykUFZ5gtWvTGt6PHgtFhRe5HGxtEM8u8FoUY4vgKzc9NZPFxvXrYf5CV9SpW1coKj27d0Pnrl1f23J/6eJFbH99scDVVSgq/CmTjRvWY+eevUJR4U+LDP5u4BtZ7ue1scZTljBbWclJ1pta7g8ZNAg1a9VE/4HyHJ49cwZS2PGeMn26UFT+znJ/4uRJ6LFCvVufTVRQCJb1H4mJx7YLRSXbcn/+ndNC0WdK8y/RYfFo3H5+SygqPr+7o+53ndCubW+hqGwYPQWVWjRGjdYthJLF2pETlafvOFR4+7ioX78+Ll++rLweP2kSJkyarLzOZtL48WwxZ4UxY8cJRWX1nyvZPPbE0hUrhKJy7MgRLF2yGG6HDgtFxdvLC716dIfn3XtCUeHFehfnwoiMjROKPgXZ4tqLxUWtxUydGtWx6q+1yhNohnTu2AHf9uuvPElnyKjhw1G6TGkMGSo/db5g3lxEsDg0e84coajs3LEd+1ls27Rtm1BULl+6xOLmTzhz4aJQVPgNh4Z1asM/KFgo+liZmSI2MUnz5klxl6IYsHIeW/DJN1b/7D8KC2fOQZNmzYSi0qt3L5hXdEHtDq2EonJ2+UZUdnLGuAkThaLCn67ecfIoOkwaJRSVhxevwXv7IRw/7i4UFV4gbd32c+T7taFQVPi/Dngw2g3xbGGrhXN+J4zau1a6kTmufhskJ7xQXlPh7ePBsPA2bMMSuFSvLP7K4o8eg/Dl+JEoVlm+7h8cNwf9evV+7dxmySJX+Pv5s5xpoVBUNu7YCtdVy9F/kXxtT/INwo4pc98ot7FnsZa3WWoUz980txnMrum1WbzpN2CgUFRmzZiOtNQ0TJ42TSgqf5fbzJg2Fcc9TglFhd9UaNaiKcYc3iIUlezcJjEtXSj6lCjijHOXr6CwRrGvfv26+GT4tyherZJQVNaz3KbKp5+geqvmQlE5MH+58jRc8349haJybssePPa6BaM2cr4cezsYqdcj8PNffwpFJfihD7aMm4mfd68VShZP7z3AH18NEn9R4e19Ia/SCYIgCIIgCIIgCIIgCIL4j6HCG0EQBEEQBEEQBEEQBEG8BajwRhAEQRAEQRAEQRAEQRBvASq8EQRBEARBEARBEARBEMRbgApv75HUF0nSlpPON12mLsvJRKON/yhkWlKKdlt6uuJcqdXGXUszUtM02/h7uLudZltyiuLeqdWWlpSsOIVqtaUmsn7odNptbFPa2P+j2cY+k3+2VhvfF75PWm28Dzn2n/WdHwOtNv4efuy02vix5sdcs42NER8rrTa+vXqMWR/fcIwzUlhfkuSNH5vMnMYxhzFOZ59FfLi87KmTzl144+L0Nv6DwdzdzlDnG3cE5O5tWm1845+tpfONv4//QLlWG3fU4t+r1cYt6hMTEzXbuAshdyHVauM6N3zQauOfxz9Xq+0F6yPfH602vv+v6iNvi9fQ+cY/kx8/rTZ+vHPqI+9DUlKSZlsK6yM/Blpt/D1padr958c6g30n/0Fww427iPJYpNXGN95HLZ1vSuxnMUwrFvG29ORUzffxfUllMdxQ57GN+DjJdonkaJ3jr5r7/Nx/1dx/VXzLce6z7W/n/qviWw5z/1XxjffhVfEtx7n/qvgm5r5WG9///yS+p7DvNZzDfPu7+M4d97Tex10IeYzTeh8f43T2Xq33pbJc8e+uYVoxim9/18dkFh8Nv4+/hyBS2PrF8NzgubuWzjd+/v7buQ2f+zld25N5W07x7R/kNlo63/7bcpuc535WfNM8Nmz7u7n/qviewvZJ6zNzym34ls7WoGlsHabVxh2b+fpMK0ZxExh+Xmm9j59rmRlyH/n+Ee8fcjV9hxi6mppYmEvOlrywZGpgRZ1NGgtCJubyezjpbIIamZpq2jxza2EjY2NlM4QXndgHatoj8wUPPz2MNazh+YTnBR0TczOhqOh0bHGVkqZpq6xj/6UnpeTcR9Z/k9ysj+w/Q3hiZmJuynZXo48scBmZ5NxHfsyMNPrIAyLb4Zz7yDYTM7mPPABnss/l42EIP2Z8PEwtcu7j2xjjXEzP9ZJLbjZZC1fef/nY6Fj/eJHQsI/8uPBiHYdcTT88Bg8ejBXC7Y+fT4YuVTyJ4AkRt3k3JJOd3zyx03Lt5PDk62WXr5fhCRH/Lq3zmydm5mzOGGuc3zzJ5C56Wk56PDHj576ZxhzmCzo+V7Us7nlixts1+8gTM/adWu5dfH7zfuTUx7/rP/8+rTnME0kzNg+NNWJYMusjPy6mGn3k48Th7zUkjfWRz2ULjVikJIrsvfyYG8JjeAqLU2bKsZFTBJ7YmVvKx43DkztTdrx5rDeEXxeMzUxyiGFpisu3iYl+H3nyyZNIDrmaflyUKFEC/v7+ymt+fhue4/z85ZFE89xnczuDzWMLrbnPzn1e0Hntuc82Xjx71dzncTGn+MbnYU5zn8/tnOIbf09Oc5/Ho5ziG99ynPvsc3OKb3xf3zS+83jC47EhSlzIIb4pfdSY+xw+TvxwmprKY5yezsaYxQYzjf7zPvKihlb/M0V8M7WQP5OTynJUixziWzKLfRYa17Ak1vdsyNX048EwFzBlayLDdQgvupiY5ZC7s7XLq+b+m+Q2/LrP2/m+GMLzfb5e+K/JbdixMWZz/9/Obf4ufzXLYQ3Gc5tX9fFV+SuPb1pr0FR2PcnF1l9a/ed5Dw9wJqba61M+xpprN6Znpmcqa2JDssY4DeYGfeR5FM+nsiFX0/cDFd7eIYaFt/4e65VkIxs+FKub9sHAMxuFos+WLsPRftlkWDs5CEVl/5BpqDu4BwpULiMUlZNTl6JYwxoo9Wl9oahcXbkdZtaWqNarnVBUvPe6I9o/CI1+7CsUlcCLnri//yRa/T5aKCrRvk/hMX0ZuqybLRSV1IREbOk6An2PrBKKPutaD0TPna7KPhmyq+9YNJ84BHlLFhGKytEx81C+QwsUa1BdKCrnF6xDXhdnVOikHvtsbm0+oOxTnUHdhaLi434JgRduosXkH4SiEnr3Ea4s34YOyyYJRSUhPApuQ6ai565FQtFnVZPeGHB6g2bw3tptJNq6jodNwXxCUTkwbDpqDeiKglXLCUXl1PTlcK5bBaVbyvb411btQLKOXWgaOwpFJeqsD5KexKDT9EnsgqkGd689x3HRNes8pMLbh8eECRMwc+ZM5XXDRo3gfvqM8jqb0x4emD1rJo65nxSKiq+PD9q1aQ3vR4+FosKTHQdbG8SzZEqLYoUK4spNTxQoINujN65fD/MXuqJO3bpCUenZvRs6d+362pb7SxcvYvvriwWurkJRcdu3Dxs3rMfOPXuFouJ58yYGfzfwjSz389pY42lomObC9U0t94cMGoSatWqi/8DvhKIye+YMpLDjPWX6dKGovKnlfoC/Pz7/tAVmuu9BRHKCULPgNyO45f78O6eFos+U5l9i5NaVyJNfjmGuXw9B1b6tEJA7SCgqgasuwq5aYQwbPgvGL8WitSMn4u7Js8prKrx9XNSvXx+XL19WXo+fNAkTJk1WXmczafx4WFlbYczYcUJRWf3nSjaPPbFU3GB4mWNHjmDpksVwO3RYKCreXl7o1aM7PO/eE4oKf9rBxbkwImPjhKJPQUcHeLG4qLWYqVOjOlb9tRZVq1UTikrnjh3wbb/+aNu+vVBURg0fjtJlSmPI0GFCUVkwby4iWByaPWeOUFR27tiO/Sy2bdq2TSgqly9dYnHzJ5y5cFEoKs+ePUPDOrXhHxQsFH2szEwRyxanWoWCcqVK4sjxE3ApUUIoKs2bNUG1vp1Ruk4NoajsmTgHfdp3Ru8+3whFZfTYMfBNjEbL7+W2S7sOwDggHGvXrBWKivvx4/h1xmT0XzlXKCphfoHYNGoyfB75CEWFL6AL5HNAeddOQtHH66e9ePTQF4UKFBJKFvnz2itPvnCo8PbxYFioGrZhCVyqVxZ/ZfFHj0H4cvxIFKssX/cPjpuDfr16v3Zus2SRK/z9/FnOtFAoKht3bIXrquXov2iWUFSSfIOwY8rcN8pt7Fms5W1aRbs3zW0Gs2t6bRZv+g0YKBSVWTOmIy01DZOnTROKypvmNv5+fmjWoinGHN4iFJXs3CZRPHRgSIkizjh3+QoKFy4sFJUmDRvg93nzUY9dswz5ugdbmzeqgZItGghF5cD85bCyt0Pzfj2FonJuyx6E+wei8/hRQlG5d+o83LdsRZ6+FYWikvQ0Bk/XXcH0w3v1cqmn9x7gj68Gib+o8Pa+kEvTBEEQBEEQBEEQBEEQBEH8x1DhjSAIgiAIgiAIgiAIgiDeAlR4IwiCIAiCIAiCIAiCIIi3ABXeCIIgCIIgCIIgCIIgCOItQIU3giAIgiAIgiAIgiAIgngLkKvpO8TQ1dTE0kJytkx7kQRTK20b87TEZJjmNleshw1JT0qBsZkpcr3kkppNRnKqYmWsZUmckZqm7IORhpVxZlq6YllsrGVJnZ6hWB2bWMhW1vw9/Dt5/yTY2ZaW+Io+8v5zG3e5i0hn/Te2MNO0qk/nltQmJko/DclIYf1n78mxj2wK8GNnSCbrI+8n/05DdBmsj+zYmfDxMIR9XhobD1Ot/jP+doz5MTV6zTHmfTTOeYyVA6/xPt4PZOqkccxgxyVTeR+5mn6IDB48GCuE2x+3ODd04Exn531KSrKmMye3N3+RmAibHCzXubObra2t+Esf7grIHcC0HH25Oxi3hteyXFes2k1NNS3nk7lVO5vf5hqW89xlle+vluW8Yrmfg60+t6PnFvhatvI8XnBbfRsbG6How/tvw/qvEcKU9/Hv07Lc58eU90HLLZDvCz8uWrb6KcIe3txcjkVpaWlsLNM1bfXTWR9T2LHLcYz5eLA2HY8dBiQnsDZr+X2c5BesHyyGa40xt+o3NjNBpsZn8lisjKO5/lilJiUrbmMccjX9uChRogT8/f2V1/z8NjzHk9m5z88yrXOfz30+jzXPfTYneLvW3OfnPo83mnOfbfGviG/K3GdxQevc53M/N/s+Y425z7+Pz22tuc/jG48XmnOf9YHnW5rxjc39NDanLHk+ZQA/Lvxzteb+P4lvr4rv/DM14xuLJzx/MdKI72ksfzN7RXzn8cJEo/8ZrI88f8lpjPn5YZZbPjb8mKWyz7WxlvuYPcZGFvK+cDKT0zTHONvRlEOuph8Phq6m/HwzPMf5dc+UraPe5Nx/o9yGzQseG3I69/l3fuy5jbmVHPs5PLd5ZXxjx83otfPXJLY2Y2tQjf6n8bUb+zwTjTVoOusjHy9Tjf7z9Tdvz2Uqfx9fg2ampiv528vwPIrnU9mQq+n7gQpv7xDDwtvX+5exQKwGKT4UG9sNRp+Dsv09Z9c3Y9B6/hhYOcoT5fDoOajVrzOcKpQUisqZ31ejSL2qKNGktlBUbq7bqxSBKndtJRSVhwfPIOZJMOoNkW2On169g0eHz6LFlKFCUYkJCMbZOWvQYdkkoajwotPOvr+i505XoeizpesIdF33m2Zhav+Qafjkl/6wLy5bOZ+csgRl2nyCInWqCEXl8rItsC9aGGXbNhGKyt2dR5V9qtFXto73O3MNTy/fRpMxA4SiEu7ti+t/7Uabeb8IReVFZDSO/PQ7uqz/XSj6bGj7PXofWK6ZnO/+diw+/200rPM7CEXl6Ji5qN67I/JXKi0UlXNz/0KhWhVRslldoajc3LBPSXgrd5fH+PHh84jyewKL1gWVYJ1N1DkfhOy5rbymwtuHx/jx4zFrVpbVfN169bDv4CHldTbnz57FH/PnYfd+N6GocDv2Hl274MqNm0JR4ckgt1wPCgsXij6Vy5XFyTNn4ZQ/v1BUWn/2KWbM/g01a9USisqAb/uifceOaN+ho1BUpkyYgPwFC2DwD3IsWv3nSsVyf+ZvvwlF5cihQ9i+bSvWbdwkFJU7t2/jpxHDceL0GaGo8GSlUd06uO/jKxR9XJwLw+vhI1hqJH2N6tXF2vUbULpsWaGodO/SGd8PHoJmLVoIReWnkSNRrXo19P6mr1BU/pg3lyWoqfiVjakhO7ZvwznWh8XLlwtF5eL585g353fscTsgFJUngYHo3LEDLt9kY2yQIfBFezF2vJdeO4nnqUlCVfmtfW8MXrMQdvnkGLZi0Gi0+uFbFKlUXigqOyb/jvKN6+OhfSBbS2cKle3LX5cQd/eZ8poKbx8XdevWxdWrV5XXP/3yC0b/MkZ5nc2s6dPZPLPEyB9/EorKhnVr2Ty+g3l//CEUlZMnTmD1qj+xdcdOoag8vH8fA/v3w9mLl4SikpAQj6oVKsD3yVOh6FO2hAsus7hob28vFJUWTT6B65KlqFS5slBU+vTqiV5f98bnrVsLRWXcmDEoWbIE+n83SCgqSxcvQmREJCZPmyYUlX179+DwgYP486+/hKJynR3TyRMn4NCx40JRCQ0JwectmuO2932h6FMonyOehIRqLqLrsBi1c+8+FCteXCgqX7Zvj5GjR6Nho0ZCUfl+8CBYlC+GGm3U/DibC2u2obxjIYz8abRQVDZv2AC3cyfxxZgfhKLy+MpNPNh9FDv37BOKig/LZ3p/3RODtywTigovSsxo1QM+T58IRZ+q5cqj2M9NAUv9/t/9dZ9SlONQ4e3jwbDw9t3yOShWpYL4K4tl/Ueh3U+DUaRCGaGoHJ2+CF937f7auc2qlSsQGBDIcqbZQlHZvncXVqz/C71/nygUlST/Z9j326I3ym2KFy6E+499lBsIhrxpbvPjiBGoUbMGvu7zjVBUFsydo9w8GDNunFBU3jS3CQwIQLsObTFyxyqhqGRmZGLiJ+0REhklFH2qVayAIyfcUbBQIaGofPF5S0ydPgO16tQRisp3/fqhVdsv0KGjvM6cMWUKQoxSUeerDkJRubjrICIDn6D9T0OEouJ97jKuHziGXr/JYxzi44c90/9A/uF19HKppCcx8P3DQ/xFhbf3hVyaJt4Z5jZW0paTzjd+58OMJZlabfxOCn/CSqvN2NREeYpKs83MFCbmZpptJhZm7L2mmm2m/K6OibFmm5llbqWgqNlmbakUnLTa+Mbb+P+j1cY/k3+2ZhvbF75PWm28D7wvWm287/wYaLXxY8aPnWYbO9b8mGu18TFS7lJptPHt78c4hz6+4RjzOyn8jkluW1tp45/H7yQb5zaFUW6T/98076IQHwwvF335AipPnjx6G08kTdi8MdT5xu8G8rt6Wm1845+tpfON3w21tbPTbOP7we+0arXxu6H87qVWm7mFhXLXU6uN6/xuqVYb/zx+l1mrje8Hf4JWq82O7T/vh1Yb33j/7TR0vvHjxu8Ya7XxfeHHXauN94HfTdZqs2B95Hdatdr4e/ix02pTxjiHPvIx5n10sM8LB5aYGW68j1Z2PIbYSBuPYfxpOK02HsMs2Pda57GTNhNTFqNZ7Hw5DvENxlr314mPgZefntA6x7mW09zn535Oc5+f+znO/VfENzu7v49vPD5otSlzP4f4xvclx/jGr905zH3e95zmPv+8HOc+248c5/4/iG9aOt/4/OaxQ6vNhOUodux7teIJ309T1g8LG2tpU3IX1k+t91mzOMPzF6338VyRt2m9j+8Pf/pE633m7DNzGeWCk0M+zY0/sagzZ5uF/kYQHH4N07ruael8e+Xcf0V8e1Vuw2/68TWB1vflZuc35TZG2sfGNutfY2i9j2/8fa/KX3lc1Wrj+8n/hYhWLOLjyJ9M1NofM7am4zFMq43/qwJjE3ZcNXIpS7YffE1smEvlsqB13X8DdLUgCIIgCIIgCIIgCIIgiLcAFd4IgiAIgiAIgiAIgiAI4i1AhTeCIAiCIAiCIAiCIAiCeAuQucI7ZP78+Rg9Wv2BWC23UO5OqaVzlDbufJJL/s0b7lxpzB0tjeRaarZbnJYbZmY6a2Ofxx0xDdFlZCiGD1pOLNxphbcbmWo4P7H3cFdMZV81+Ns+5tTG+2jK9kWj/5nc3YX1gffTkDfuYwbrI+unlhsqmJ7BHU+1+sj7z/f1Tfr4N2PM/92+Zh9fOcYZiguRluNrdv+V31F6ORIo45sl8N8nyHYXIj4MmjRpgrNnzyqv+e9W8N/ZeBnu/MRdowx1Dj9f+PnAf3tDC+5SxX+3Qgvext/H56Mh/DP5b4Hw/TGEmzbw3xDhmyF8P/nn8d/YMIS7XvH95Z9rCDcJ4O5XWo5hvP/8O7X6yGdF8t/0Mac27lLGj2lO/ee/q6flesj3hR8XrT5yd1Yec3LqI9/4HDbkPx1j/vsjWskD/3Fy/tuZWn1M5/GNxVOtGJbO4xuLX5m52Ke+9MG69Eylf5yKFSvi3r17ymviw4f/5lC2WyQ/9w3P8b+b+/wc1zr3M5jOHeHeSnxjbfKZnzX3zdj3aTniKXOf9eHfjm9vOvf5vr6N+Paq+M6d3PlvYRmSlb8ZwTSH/vOxVPJCA3juxnOfV40xj1MSLNSksbZX9V/rN3B1aVnOy5wff/xRyfeJD5+IiAg4OTmJv1icYvm74fXtVdc97sxrYvzvz32eF2g5ZXIXYB77Pubchrsdc5dZLXj+8qr+v438lR93vrYzhMcvvr9a8Y0bQXCXUq0x1okxzmXK9uWlXIofSyWfEvj6+irO4cS7hQpv75C5c+fil19kF0yC+G+GX0yUxJj4YGjUqBEuXLgg/iKI/w3KlSuH+/e13RaJDw9uRpCQkCD+Ioj/DUaOHIk/NNx0iQ+P8PBw5NdwaSeI/3Z8fHxQsmRJ8RfxrpBLswRBEARBEARBEARBEARB/MfQE2/vEH6nft26deIvoF69euIVQfx3ERoaioCAAOW1g4MDPan5gXHw4EGcO3dOec3t1StUqKC8Joj/Nh4/foyoqCjldY0aNdC9e3flNfHhs3jxYgQFBSmvnZ2dlY0g/hu5fv268s//OF27dkWtWrWU18SHDf/XIBMnThR/Zf0cAn9SlyD+23jx4gXu3r0r/gImT54MS0tL8RfxrqDCG0EQBEEQBEEQBEEQBEG8BeifmhIEQRAEQRAEQRAEQRDEW4AKbwRBEARBEARBEARBEATxFqDCG0EQBEEQBEEQBEEQBEG8BajwRhAEQRAEQRAEQRAEQRBvASq8EQRBEARBEARBEARBEMRbgApvBEEQBEEQBEEQBEEQBPEWoMIbQRAEQRAEQRAEQRAEQbwFqPBGEARBEARBEARBEARBEG8BKrwRBEEQBEEQBEEQBEEQxFuACm8EQRAEQRAEQRAEQRAE8RagwhtBEARBEARBEARBEARBvAWo8EYQBEEQBEEQBEEQBEEQbwEqvBEEQRAEQRAEQRAEQRDEW4AKbwRBEARBEARBEARBEATxFqDCG0EQBEEQBEEQBEEQBEG8BajwRhAEQRAEQRAEQRAEQRBvASq8EQRBEARBEARBEARBEMRbgApvBEEQBEEQBEEQBEEQBPEWoMIb8T9PRkIIHnk9wrP4dKEQBEEQBEEQBEEQBEG8f3LpGOI1QfxPkRl9Aa7jlsHLshSK28TB65gbrlu2weQlv+PrCpbi/yIIgiAIgiAIgiAIgng/UOGN+B8lBvsHdse5Xrsxr6lNlpR6H3+0boBfg/rg6E1XNLPKkgmCIAiCIAiCIAiCIN4H9E9Nif9NUu/j/LlTWDFvJ6KEBLPy+LpHPRj5Hcb+G6lCJIj3T0bIeZy49lx5nZkQgEs7F+CXabvxNFORtMnwhccBT8S86v95BfEPT2LjoumYMHEmXDeegFcEmxMZATi0/Qyi9D4zFRFe7lg/+yfM3B+Kl5uS723Gz9/0x++nIvR0bZIRcmM/lo4fi7V3X/pn38n3sPnnb9D/91OIeMO+/FfwNvuRHIIb+5di/Ni1ePnQEf8Gybi3+Wd80/93nPqfPgHfD8/vHMUZ/wzx1z8gwx+n3K4ZxJi/ITMC9y+cxZkzZwy2szh36QbuPgxEaOw/uaan4sGWH/FV74nYH6i/z6nRD3Bq8zz8Mm4j7v+XzbH0mIc4tXE2Rs10Q/i/cYqmRuPBqc2Y98s4bNTrbM7HJye09+31P+e/mtQH2PLjV+g9cT/eRnf+9fElVJ7fwdEz/uKPHEiPwcNTGzF71Ey4KQOQAf9Tbrj2WkEqB1Kj4H1yK5bPn4GJY8di0oz5WLHtJO6EJivNsZfXY9st/YDzr8SizBd4cnUPFo+biE0P/s2TNhXRD05h87xfMG7jfbyLUJnj8XjdeSmNcxapD7bgx696Y+L+QDby//u81f7kcAyJfxH+xBtB/O+RovNz36jbdT1SlyEUnS5d5zevsc7UtIZu8u00oRHE+yRD9+zEVF2f/n/oLkWn6nz3T9X1qumoM84FnWnt6TqvdPG/aZKmC9jzs67boLU672Qh/RMyonRnZn2hK2GdV1el0zDdpKkTdEN7NtOVdnTSlSnvrLOr9KvuSkrW/5ruf1g3b3gnXeU8RjrAVNdwjg+bRdmk6M6OKKUzQS6dVccNujihapERdEI3b+AnOmezXDoYu+iGnlJ3OOXsCF0pE+hyWXXUbXjVh/yX83b6kaELOjFPN/ATZ50ZOyeMXYbqXjp0xL9BylndiFImOuSy0nX8Xz4B3zUZ0boriwfoeo5z0wW+1uU0TffkwFhdt2+X6m4mCOnvyAjT3Tq4Xvf7N9V0NkZgsSiXzrRAdd3nHTvp2rf5VNewWgmdg6WVrkCFxrpOQ+bo9nnFvHTdf4m067oJVUyVWNZorm9WLEsP1B3/Y5SuSzUHJe6alPlJd0HEv/dPnO7a2p90HSvY6oxYOm7aeL7OX7Nj/5R0XeDxP3SjulTTORizWGxSRvfTy53VOj458op9e63P+e8n7foEXRVTdt6ZNtLN9f03e/Nvjy+hkqGLvrJYN6DnOJ3bKwJU3LW1up86VtDZ8rhi2lg3XwxA2pMDurHdvtUt/cdByoC0Jzr3eX11dQuY6YzzlNY1+2q4buLMObrZE4fr+naopSuc21pXqEwpnZNFbl2H9fFZ7/mXYlG6r5tu6te1dU4mfI6X1Y2++O8EtPTA47o/RnXRVXMw1uWCia7MTxdYFvgW+Zvj8TrzMqdxZp+iuz6his6Uz79Gc3X/6vR+L7y9/uR8DIl/Eyq8vUtibuuOnPYTf/wT0nV+Hvt1VyNf5+RP0T27fVZ3+vTpf7id0V3zFxeF1yJFF3XfQ7dp7s+6sRu8WShQSYm6r/PYNFf389gNOu93Wf9KuKD7pbKFrmCntTr///ng+rqk6O5vHqXr8fUE3b6Aj67z/6Vk6J7tH6Jr+PlM3dWXpljarUm6aiyZ+PvCGydDF7zne93n32zU+fzDuRS19xuds7GprtLoc7qXZ3b8nb9031Sw1Bnn+0a3P0mICim6Cz+V0ZlIhTedLtl7i+7XAcN0Sy5Eay90XyYjRLf0UzOp8MY+RLfl1wG6YUsu6KL/l6/jb7EfGSFLdZ+a/W8X3uLDwnSaS5j4MF3YG65t3gR5P5J13lt+1Q0YtkR34X/6BHyXROvOTGqmazzssC70jQ5Zhi7syChdq27LdXf1Ys3f8Hydrr0lW0xqFHTSo711B+f31dXIa6TLZeKgqzVwve6udF6l6Xx3T9QNHPyb7miw/o7zuFudxd3/tPCWFBaqi/mXT6PkE4N1RY3/xcJM2i3dpOqmcuHtFccnJ7T37fU/57+aNF/d7okDdYN/O6p7G93518eX0EWfmaRr1niY7vA/CVDJJ3SDixpLxYSMsCO6Ua266Za/VpBixFzSzW3jrDPNZaor2vY33elnhslZhi765hrdgOp2OiOY6VouDxN6Fv9KLEq/r5tZh8/xf6/wlkWa7tak6jrTd1F4E+R4PF53XuYwzmm+u3UTBw7W/XY0+O/z2P8B3mp/cjiGxL8HFd7eCf/szowWr39XJkX35PJu3cqxn+uc+d0QQGdkX0HXomMnXadO2VsHXdvPm+pqFrfTmbALR6WxV/UKZ39HjndF3ued5fQnuj39K+lcWs7UnYv6CIPFB3YH+kMg/cES3efFmukWPNAfjfSHs3X1/nHhjROjOzKoiq7uxIvahQ09EnQ7etjrjIyL6Qa7yxWcNO95uqaOn+tWhAtBIU13Z0pNlmjJhbfXI063tp25XHgj/p64tbp25v+7hbeMkD26gV1m6O5I648Q3Z6BXXQzpIa3Q477QbwGGbonm7vrStQYq7v0QkhvRILu/M81dVV/OKL7x/cOk/bovnbgT9+a6Zq5PtFcVMTfXKRrX8RUlyuXsa5guxW6+/8wx0j3m6dr/B8udjOiT+h+bDf6X5+jKRd+0pUx+RcLM+l+unmNtQpvr8+/vm8fIXQM/10ynmzWdS9RQzf2nwaolAu6n8qYaBYTEs7/rKtZ9QfdkX8apNIDdJu6FWFrJyOdbePfdLdfEQsygrbouhe20H0y318vlv0bsUiXEaj7o6nZWyi8iX859A4Lb//K8eC8YpyJfwgdw7cO/cbbOyDm7FR0Hv0IXy6YjnZFTYT6zzAp0hYzFneDz7h+WHEv6zcDXo0ZitT9Et9Nm4sBVfh35YJNyylw27sHe/Zkb/tw4OgpXPfxxvY+xZGZlvYPfr9JxbjoZxi5YCvW/VAFer0xLorPRi7A1nU/QPnqd0WqL7YN+RZrCvyO04fGoVHet3RaJ4cj7LnWkUpGeNjz1zqG/xka32dSFd9O/hUDB0/HhJ7FYSxk4j2R8QjLh07Gg5Y/Y2DZ/3Q08uCzEV/BaPFgzLyUKLQcyIxDeMQLZGaGwfOqr/T7HCbl++H7zzMQ8ky/JVcu8YIgXpf0R1g1YDDW+6UJIZt0PFo1AIPX+8Gw5a2Q434Qr0Pmk00YMdoD1X8ciTr/kTm4FeoPHYACm4dgzKGof3h9zPW3sci6+jBs2jQMFUwzEXJwNL5bdP8f/c5Nrv80yGUEYPN3fbH4H+Vh7xnWVwrpxAdJ5hNsGjEaHtV/xMj/LEApWNUfigEFNmPImEP/6Hcpow9MxpjdT5FuXAbf/TYSVcxFgwZGhbth0tA6QFIi+FMQ2fzHseit8vcxOItUXFv2HXoPW/Mf/y7tf/fxIIh/F+MpDPGaeAtkPt2Cfp3Wo/KKLfi+nJlQX49cVqXQyOUahg84hKJdW6GU5T8JUpnw2uWKw/6ZyF2lG37uXEG/SMYxskHJfE9x7H4p9GhZ7DWLNTok3dyKJceDYN/gWwxpWeT/369LuomtS44jyL4Bvh3SEkXeZhUo4ZZS4PBqvRh//lAHeY0y8WzDJPyp+wQNCvyLBbjMGLj/2g8b7TqjZfGXj2QmYtx/Rb+Ndujcsrh8jP91cvo+I9iXb4Z2XzRCKRu6iL1vXpwcj96znqD1rPn4soT+WaGLOo+/lp1ESIHm+L5/DcSdXI9lKzfjqOczpNgVRUknS2nRZJTXCZEHpmPBRSf06FkH9jmd2rlMEX1uDbbdjEHwtStIqN4On5ayeclFJzdKlHeBrUMxOP//eZKJ8DOrsfJ0GAp/NhTfNsz70v+fgtDr+7HWIw6VqzjDVKhZxMP/wiFs37AOOzzu44VDKSR7uGL/YxvU6TMUbV6aJymh17F/rQfiKleB8/9/SCbifU9j67rLQO3KcAy7jn0bV2Hdnkt4ZlkalYtYa7j/JOCR+1asX7cJe057ITguF+yLFEIes1ec85lhuLp3D05c8cStW7dw644fUguUgV3gUWw7fAGeXFP0p8hVtDQK5NYh5tYB7Dx6CZ63vfDcriKKiwOu2Y/MePie3oqsbjgi7Po+bFy1DnsuPYNl6cooYq0xWPH+uHBoOzas2wGP+y/gUCoZHq778dimDvoMbQO9EMOOs8/JrVjz1wZs23cCVx5EwrRQSRTNk7UDmWFXsXcP0z2z+nHHLxUFytgh8Og2HL4g+sz1p7lQtHQB5NbF4NaBnTh6yRO3vZ7DrmLxnM8nvID/6Z3YsGkrtu06hPPeMbAqUR7O2X1KvI/NQ7pg6E5/pFs4opBdInzvhcK8dCFE7hiCLkN3wj/dAo6F7JDoew+h5qVRKl/2gctAhOcBbNm4CVvdLsInxgj5XIpCdCuLf3psc9yPUlC+LiUU1/evhUdcZVRRT0DBq4/v//Mm4/w/RwouTv8a4282wKQl36CShZANyIi4jUPbN2HTpl04ecMPCXlKonT+3NJ8zWXjjKTzv+H3/UCrfs1R+O9ygfQH2PvHDtxJNIJL6+HoU9dOs4BkXqQarG+tgdv9OAQ9TEfDwW1RMnvOpEfg7qFNOPysKKq6WP3/+3XPL2Hd4hzykuSnuLib9Wf7NuzY7wHPoFwoVK4E8manbMmPsH1YZwza9BippnlQOF8GntzzQ1rBsihsJb4h8zm8j27Fxk1blNgUmmyLIiWdkFujA//X3l0ARJW1fQD/TxAKCKJgYHcXdreu7drda661u7rGGqura6y6a7t2Y2DHa3dhgx0IKgoGKCA1M8977swAQwzMIFj7/L5v3sU7de+J58S9c+6H5x44uG09Vm84gKsvrZE7w12sW3seQTkb4ceeVeCQRDiTRPqdg9uKVbry+uAdZKr3CLbJDufoL6MgnF89H4eeZUTVXoPQ0PBgjaRPNJP3zdjnhPrg7LaVOBZcCmVcQnH7f5uxcuUmHL4VjqwlCsMpsW5w+BOc3roOa9ZtwaGr3ngdkQ7ZcjkjfTJVShPggZ3bY2PfDVEeMhbLgcBTG7H7xNWY2Hfd8w1si4r8VGjgf9Ed7kcuidh+B+8zFkNuB92XqF55Yt/6/fDLVRp5o/NUCPU5i20rjyG4VBm4hN7G/zavxMpNh3ErPCtKFHZCYodjVv5+kNJrNVasFeXmwGnceBqOjHnzi7zU7VdqHuO3IOLcFHQddxVVJyxAD2MB6sNzeBzchvWrN+DA1Zewzp0Bd9etxfmgnGj0Y09UMcwAmR1yhJ3Bn7oghbpJBSmND5YPGYytj6NgUXoQFkyqj6SHGaJNK1kZJbJnR3Zna9NikfBBKnOrV2DtRnccOH0DT8MzIq8USwy/i97hwtr5+J+vVMcHopb8IjYvXYLVO8/gYZAFssRvSyXJxTktQtD51ZifyNgurihc+qcvJh50QMsfDeJvApHwO+eGFas2Y+fhi3jwTgbV+2DYZI+NjUmlh7F6qWVyPqvwynMf1u/3Q67SeWH4MebX73A8Ob0V69asw5ZDV+H9OgLpsuWCc3LBSupne+zEdpEGuj7nDdx5nxHFcgTi1MbdOHFVX4/Fw/ONLYrmc4RC9F0vurvjyCXRV9PW+9zQVWVjxxMKn7PbsPJYMEqVcUHo7f9h88qV2HT4FsKzlkDhxIKvOXVFSLJsagLgsXN7bF9bH39yBJ7Cxt0ncFV/fNeve+KNbVHkc1SI/utFuLsfwaVruvQomdtB90XfMv2VbywtqH1oTets5NRmPfl/7BWb4rMWN3KgvH12m/azDWm9pXqWJFoVcui0lYyuYKAOo/fBKbm2V03efyV+ObLa+6/UuWw4GerXJ2ly/TLUYMQcWrx4sfaxaP5M6lWtLa14o39RqlCR99q25GKR8Cd0Ku+11NbFgvIOOU6f4hdin/r7WEq8oQ1tM5I8Q2taF6jfZCDmp6auQ2lWv5LkYONAGaxkJJo3klnmpBbzb1DCH1BE0OkRhUhpwo1DIi7/ThVtdD8zl1nloobj3Olekr9RjSLPyfF+aqr2o2P/DKVWZZy0i/5bNV4mjspAyFWa37og5ak7mtYdv06e591oQuuqVCCLwuCnpmryO/YPDW1Vhpykmy5YNaZl+g9R3dtJkzqVIQeFOG6HDrR0z2/UqGRJqlytFGWzFtusC9GPh+IthB/1kNZ3K0J5Gkymvddv0qlVA6icrXithQO5FCpOJUrVpvEnEqsVUeR3eASVFZ8LhQt1WPuYQqUYGu5Hx8dXpQzi+OROzemfq/4xdUod8ojWdsxBDrVn0E3x4sSPQ0X3dk6iTmUcSCETcbbDUtrzWyMqWbIyVSuVjazFNutCP1L8wwi5Op9aF8xDdUevo+PXPem82wRqXbUAZVEk/Kmp2v8YTW6Yjwo2m0Rbztyka0fX0PjvcpKFTQH6fu5F0havKD86PKKs+D7xfpcOtPZxqPZnLeF+x2l81QyiXMnJqfk/dNU/5ugo5NFa6pjDgWrPuJlIWdOLuE3LOxSkrNXG0EHvYAp9eYHmNs1Gli5taY1+Ec2oe/tp8e9tqaBSfHeu5jT+7/k0f5E73Qi8R/sX/05tCypFmuei5uP/pvnzF5H7Df2qg1GPyf3nVtRiwAxavWULrZzcjgrbyMmu9GDa+Uzae/PS1th+XHtwjP4Z2orKOFmKdLCixtEFUM+k9E1hPn+Vgt2pm7OcrOr8Q9psSCCEbq4ZSLUrtKLf1hyiy7cu07qeBchC6UiVxxxJpG+iojvTKpGFqHd995mwXEbYDuqWOemfmkZ7vaoF2YkyD2VBGn4qQoSs4zR/xPfkmtVK5LUFVZp2VxfL9Iz1S6IerKMeRTNTmcHudDcwjAJvbaTehS3JvsIEOqevHFL5WjK9ExUR75dnrkMj54nytXAdnfbT7aHKdx+N/74p9Zr8L7ltXU+zf6hEmRSWlKPJXLoc57DD6PbKrlQsZ2UavOygSL+rtH9eL6pdIpd2QWtTfor4/vQEqlakKc06508REW/pxro+VNy2KP1y3uCg1N70V7yfmiaXPqbum9HPUT2kPVO7U/lMSm1da/jXQZrTthwVK1+dKuazJ7lMTo61ZtK1eH1Cta87DSztQpWGu5GH10Vyn9BAxEIZKdI7U96iJahEmfa0+EHcPY2hDqSz4ytQeimG2zeiebeCtPsS9fYm/dsuJ4nxO1kUH0S7HgTGLKeifn+bFjZ3ooz159LtMBHbj8+nEd+7UlbRBsOiEk3TLw2heriHpnYvT5mkJVusGtJfB+dQ23LFqHz1ipTPXk4yuSPVmnkt3k/xzMlfNb09N5taFcpDtX5aTceu3aSz22ZTt1K2ZOFUiYZue6z77I8+Rv3Gb0IwuXdzJrlVHfon8QBFYbdXUtdiOany4GV08PIturp/HvWqXYJyZRBxxcjP51R3plElCwW59N2X5HIeav8V1Ez0OQAF5fjhYIr74EbHSOq3dG52KyqUpxb9tPoYXbt5lrbN7kalbC3IqdJQ2vbY4MUxPzUtRP1mjqLKmdOTvUN67TI/EHXNvuwQfVuqY0qc0zE+tosrjNy7OpIyR386ZDQh3tPpCdWoSNNZdM4/giLe3qB1fYqTbdFfKG64ip8exutlNJPyWfRjj88fQd+7ZiUrkS4WlaZR9MekqH6rfcl9YGlyqTSc3Dy86KL7BGog+rwyRXpyzluUSpQoQ+0XP9C/OCF14FkaXyG9iI8ifxrNo1tB2ppMb2/+S+1yir6ziKfFB+2iB4ExNZne315IzZ0yUv25tynM6PGo6OGeqdS9fCZSiu1WDf+ig3PaUrli5al6xXxkL5eR3LEWzYwXfM2qKyaVTTUFnh1PFaR1WuX21GjeLdId4lu6+W87yin6uLAoToN2PaDYQ3xPtxc2J6eM9WnutxWsjOKJtzQUfuYn0VHLTB23BOm3xBdGvmc304Jp42nEkKE0auoyOvzAWNhX04tlTcjWqjSNvxS38iQq2Ym3KLr67xI6IQKuOvAG7V6zilatEo/VW+icvjMZdvcQrZW2abe70dnnhoEvNSfeVPTez5uev483oRD+lnwePCCft4lEddVtmlPHQXunKGmCwfChLPyzGRN+yeVBGN3b/AOVlhpbuTM1HLdcpMca2n7Jn0LvbaYfSttqg6hzw3G0XKTTmu2X4kyyqgNv0f6Vf9GEn3+mCXPW0H6vNyLl4gl5Qmc2/EWrzorvFcHt1oGV9OeYX2jC37vptsGuhCX3fVEBdHP3Elp5zD/hdwihT87QxrkT6Ocfh9DwMdNo2V5PemOYpXoh4nUb/lpFut25RQdW/kljfplAf+++bcIaY4zC9lGf7ApSFh1FFxIph9ETb3Lb/NR6+gmS1uVVvX9AO0ZWEA0kSJbOlSZeTvjGN/9+JxpbC6o644FuoGNUFD3e8gOVkhpPbZ2QkU2BZjTe/Z6RSZZEJt5ECVKr1RSw7nvKKPYpzsSbOoB29clL1kWH0wnDyYbAfdQ3j+HEm3ip+Ax1wDr6PqPYF4OJN62Q7dRFDLJlFs5UafAGuqPdOTU9X9OanERHwa7pcoOF3dXks7QJOVgU0A6ydSLo6m9lyEKmoDz9dpLvS38KMtYBFPu8vk0mMfhzoNbrDHbi/W7q7aIgeca2tOGtfptWELl1LkG9duoOMKnjCNnehTKL/bVwrkSDN9zRpbH6Oa1p7SS+z46aLn8ZUx/VAbuoT15rKjr8hOiSxgrc15fyxJ94U92jRY0zk0Wh4XTKMONCLtPU6hlIrnCh9ht0kxPqgPXUJpNIS4fWFPfwepOLQk4Z226guIfnRp1L9CL94SXq/ZaO5ChXUuGfz8XE97C9fSib3IIq/nE7pgyqHs2i6qI8W5SbGHdtNdUjmlVdDP6lyeI4T4STx6RKlKf1aoPJnVA6PrQgKcWAxqXnLv2El3lpm+h+SPkm8n7d9xlFWxFv4s2M9NVuNmNfvlbhxwaLcmhsUKkm302dKU+W72ixwZ1eVA//oprpZCSzqk3zniRMgbCd3UV9FnV08LHkB6pmTLxFXRpDxUV+Q2ZNzVeJPpaU16LkbO+aTeS1qRNvIbRDGshLE4P7o/dOHw/lTtTVPfb2NGq/+VQ3sRugRF2n6dVzUIP5Butjqh7SnFpigCVLR5X+8BSfqPP20GAqbJ2Heu8yvBt7FN3+sxqlkwZSyU28iX7dsu9syb69m0Esf0+HBjegkScN2oxEJt6SSx+T9y3JzwmjA/1ykEL0URxL96SFHvq7z4aco1ElLcQANRcNOGyQeOJ41rVxIqVTV4pJavVLWt1K9O1E2tWecZ38Xr6hEMMdje/tNuqSVcQ+Uf7mGpQ/1Z3pVEUM2qV22HCQL91Bd0XLotRvv+4LpdhOgdupazZpsBlvgB92gPrlEG2aGISX7rmQPPR31Qg5N4pKWshIkWsAGR6OOfmr8l5FrbNZUL7+B0VrE0vls5k65xaD+fRl6NfT+h7XRx7jNyP8GA0WfQxFjh/oYGLB5O0hGlzYmvL03hXnJEDU7T+pmohRRtetCttJ3Z3kpMgzmI4l9rl6ERdGUVGl1KdKuh8W8uIB3b51i24ZPm7foWfvdd+deCxSkfeq1pTNIh/1PxinRJDP5s6UWyGj9GV+pegiETPxJktPLg3G0O5HUkQII78zc6mltAamNE74fo2+jTU9zokPTrWJN/WLZfSdrT21dzNoYN+LPGowkuKGq4TpkWS9NDmfpfZf+piuot8i6p/BxJuWWfVbjMHXtSEnpWF6qenl6lbkIPoF6WrPoOt+L+lNksFKqspdKKt4vVXtuRRblVV0Z3oV0b9XUtFR5+OOp/1XUMui/UhXlZM+nrAD/SiH6EfKHUtTz4Ue+psAhdC5USW1/eRcAw7HtsFm1RVzyuZb2tYlq4jfVlR77hOxx3qqOzS9ihXJlEVpVNxgRf4rWlLRfvvj3AzuW5bctZEsxUKwf+k63JeXRNWqdvptBlQPsb5nOZQbfBrZv/8J06b0R5nHf6Fp+TqYmOg6TnI41aiO4hovrFp2BKH6rSkWcQ1blx6EtByO3KEYalYgHPitL3r1+Rlrb+nWyLHO44rqhUOxR7t9JFbd+Mgf8icqGGf/6Iq+0/7G4Bol0X7ZbUREPMT2cT3Q8YexWLBuFcY2LoHyfdbinuHXK4pixLFAiEotTR7HeUTdnYWqiV3/H58peaDyxaOgvCiWQ7qOWoOosBCEhITgQ0QEfB8FIW+xHNqfe2qiwrTbQz5E6NebUePp/t/QrutseKhzoGSZrHjpNhLNy5VG83lXdPmnfoS9f/RAhdwFUKPLWGy6cAZzO9RHu99Wwt1tGaYOb4XqTWfheqT0YpXR74t6cQILRrZB+Zw5UbrFj1h6IVA7AxlDE4jzf7VG2drjcCVjbXTp1wnVM93Bgo7lUKTaMGz31n6B2J29+KNHBeQuUANdxm7ChTNz0aF+O/y20h1uy6ZieKvqaDrrOnSvZsaoH1/FzVdqyJ2zIavRy+9FEc7bEeN+roVs4jUKuwJoNXMLpjewB8KuY+Wy44i/klD6rFmRUabGPS+vZNbMUiJvu6U4e249fqqXG1IbGvpQ5G3biqjSdy1uJ7NMnI4ccrkc9rlzIXO8VkJ1cwEmrX2G4p36opphaHOoiirF4x6w9Bly+9zIFf9DJBaZkEmaaZSXRe+JnVFEu1yLHFkb1EMpJSHswW08jKnzgTi8+wTeITOyOEf/DsESJdu1Eq9V4/mdB4jK7Ax7Y+utyJ3QsmdLZJO/w7EtO/Eyei0Xuwbo2MwFsndHsW3vK1HD9d4ewK5H9dCjke4AkzoOi0yZYC/6hvKyvTGxcxHoDiMrGtQrJbquYXhw+6GovRIVbi6YhLXPiqNT32qIm3RVEC/p8OHIHPx5+B1KdOyJKoZL2di4YtjotsgGP7hPmY+LokLKnVqiZ8tskL87hi07X8Ych12DjmjmIsO7o9uw91XsAjZvD+zCo3o9oD+8RCmcC6BgznwoU9Q55qcm8gx2sJVr8PyJj/6YUiBwJ2YvvIUC1csg0scb3t7Swx9ZS5US6ajGyyP74RGhe6npaWuElG9ye+TOlTnBzyDNSV/JR+/LF08Nv6s38Fwt+hpZsyX8eVH4KcwavxVRzYagu8HvihT5e2PKpA5o2qkdamZJWD+U2bLDWeSrn+f12HqXCmR2trCV/iANQkNEUJPyWmzJmze2vCZPCaf8hZArbxmUECMWHTkyiHIu07yD75Pk16Z7t3s25l3OjRoVZPDVlmXx8AVKuObXlourB/+Hp1KnQHULi8Yvx+O87dCvcSaD8qhE/qoVEPP1SaFABLyOQMj5ndjtG13a7FCre2eUNCzDiUkqfczZtyTTWYnMThnF8woU6TwO/cs76D7LphzqV80Kufol7t81SNPQo3A/9BpwzIos0X02eRa0aFcPGWQR8PLyRsYsjrBJKm0yNkXvNnkgjzyPrZsfxKz3pyjYAe0qW0H9YAfcLuoDiqB5uQu7XjZH73ra0iMOR+yhbV7kjWlXDCgzw0n6Hb6iCDqP64/y+p9s2pSrr13KRP3yPu5GLwxmVv6G4/ScqdjzKheada4D0erHUORqiwkDK8Ey7AYWTlkLX+njP/IYvxVqv6u48Vz0rZyyIluC7FLh1qLxWP44L9r1a4xMsRkAZf6qqJBUBVNmQ3ZnkZ9+nrieRJCit2/xXtu5lsEmQ4YEP9PWEfHouSfO7Z6BLpVLoHjx4iIWtMbErRfhHRSnZx5X+GnMmboHr3I1Q+c6cUoEcrWdgIGVLBF2YyGmrPWNG5Pkzmj160Q0zycFAGtkqzYcG9YMQAGlBq/2LcG6+1Jp+fg4lxIUGIDXESE4v3M3YsNVLXTvXFLXfibBeL00J5+l9l/6mLxIrHqbVb/FqO2o+yG8hiOyxgYrZGnRDvUyyBAh+uXeGbPAMclgJVXl3miTR47I81ux+UFMTUbBDu1Q2UqNBzvcEFuVNXi5axdeNu8NXVVO+niUmZ20y4YoinTGuP7l9T9LtUG5+lWRVepb3b+rX8fQzLpiVtnMiKa92yCPPBLnt25G7CEWRId2lWGlfoAdbhcRe4gvsWvXSzTvXU/Xnv8HGCQ3S1URHjh6+g1kTgVRKJHBWuje3/HTuvuwKt8UTQo7wNqhGNqNEJ2nD1eweNH/EKJ/nSFFnmIo7EDagcml2DY2WRF3d2HG1KmYqn9MmTgKfZt1xN9e0ZFQCfuizVA3/sjPyhF5q3RGkzS8U4L68Sosft4JS+f/icFVPmDn+GHoP2gq7jaYIRqPxZg5+Q+smNEYb9f9gml7P3q6MQ6T8kBZCN/164Gq2UUTK7ND8eYDMGTIIHStnhNFvuuHHlWzi8ZXBrvizTFgyBAM6lpdDO5FWLsxC537X0Sdv//FhL7t0bbLT1i0YRyqK5/jwNjBurRX5EezcUsx5XvRIUUULq/dDKvRR+HpcRoXbx7AzyUUCDyzAEtPSZmtRCEj3+eSrSYGzVmBsfUdE+kIqPFkbR+0GXMTdZbswuwedVCmZFW0+WkV9ixvh/SX56P79xNxRiStIn8zjFs6Bd9Li1ZEXcbazVYYfdQTHqcv4uaBn1FCEYgzC5ZCuzvMKPXr1wgU/SuZdXokueyTtXXc9X8UedC2Q03YykQDeeWiwaSTjszWFtIV3CFv3iBMvy0ptsU7YfYRkX+bfkEdFwvRwL3DzZV90LDrCtyP99lGJVikWwVP913wUtujeCkxsNRv1VFoOwUJGVusN/HtclsbcZyi0xYViajofqomHB8+qMQYOwB+L6NbcqmTUByFpAUuNJpkO4629bujTV4F3h/biG1P9a8Wn/foyTsQBeHopugJOQ2ebt0AnwbdUC3OEjJGjiNBGknE0NRGWquPEBUZpZsIV3nCfZcX1PbFUSr+gigKaTBrKBJXDh6Fn1qObLlyxUtncSy1GkA6n6N6dBSHtGckbFG/exvkVbzHsY3bEHt4j/DkHYGCjmJT9ISc5im2bvBBg27VRDfduPS1puDCk3vY3Du/yFkVAq5sxbyVp/FKQwgLC4s7uW+G8LP/w8m3Mjw7+CfGjRsX8/j9qCUaduiE9nVzQhM9OWxq2iYj4eLN5qavkEr78uVSI+DVW+0xpNMeU1wRF7Zj7xMZipQtG6/cOKDmqE3Ys2oQyiZSoKQJMm0VDXiBePd0+SgUEqo7gSVLh8zOsYMB8xbqtkK1iafh/WAvhpUUpUDEyLv7F+PvvY9EaohyHhqaTJ5G4PyB43gtC8CJueMNyvNvWPWiBNp2EuW5RAbtYF11dzt2XIuEVVEx+I1/YlChSKRsJUKRD7Vq5Yf82WZ0r1gD/ZecR4AIh5YVe6JneVPONiaePinZN2PpnPhmGWxs0+nricGpu8gPCBP/1Lz2wwuDs0l2JUognxj7aURcT541avbsiGLKSHhs3hi70Hv4Yzx8Jv6hfozt649DF1LUuL9uE9616IEKcY7TSGyXtuv/ikNmA1up8aYoRB+OWWkYeQ37D/tAJcuOXPEX+BLRNn/j+uJ4RFt//hBOvJO2pcYxfv3UAa/wVhegtH2EOFR3sX3HNURaFUWZhBkARaIZqSf69ra6IJXgxlOGZHZ2+u8lfAgONhIb5HB2bY0+vy7CmO90a1RaVB6EOeN7oHqCvI4VeW0/DvuoIMueK+G62GKs0Lh+MSgpBOcPSScgDciskC5ORxKwqdYZraR1FyJv4qKHNJL52DgXiUtLfsQP/fqhX8xjCJZe+gBN0Bn8M9hwez/8IMYXEkW+WqiVX45nm7ujYo3+WHI+QHyfJSr27AnTwlUi9TIl+Sw+JLHN2s/X/xVHIvVbSoMPumAFv7jBCiV0wSrZPqiWdU307CjyMtIDmzd6ip6VTvjjh9BV5e1Yf1zfAVLfx7pN79CiR4W4a80ZO57Eg5g4HFvtWEPqU2sPx8w0NLdsWtfsiY7FlIj02IyNscEKjx8+E8erxuPt6xF7iOuw6V0L9PjWglUSkhoWso+Q9JkZMWB0yo9CufKKQp9DFHMdeYYMsJNp8M73SeJ31zHxrEx8pI5ERESE/hGuHTSFhUeJ4m9IKY39EiG2J7L/qUONR+5nkbFlQ9F1fw8f39dQvb0PTZM/MaZ21ph0kSmlH8EFwc8v2LTAZqIU5YFJ3mH37Hm4nLsGKsh89Vd0eMMXJeAqBtzSzScO/u+pPv3NPEOcGHkSZ6DNPYtm1hkglhj6EIowqRejzRfz2BcvjlwiEyn4Hd7FS2aZhQWk5SgoLBQhJmeBHYp3mInDHrvxS2VRzkiF57tGYdR6P/3z5grHLa8HYsCQHukNV6hNa3InVKpUEBYaXxzccT72asDw9wiOVCJfleradEuSdTV07yA6CB/OYvOWh9r6F3ntX6wK7YbBNdIh+OQmbJMuLxCdnY1uoWjRtUyCCZmPEn4LXg9E5yV9+jiL+yZOhWdPX4h9JG3cTpDd6QqgoHQVrjQR6aeLJNbVuqOD6Ox8OLsZWx5qjw7X/l2F0G6DUSNdME5u2qa9ekJ9fyPcQlugaxlTji4Ed3fPxJAeAzDXIyNadKwOJ3MLdRwavH3iIwZPVqg4eBU2btyY8LFmHBpl1L88zZifvt8+aQCmm1DVXm0QT8j9B/BTy6BQKs2La1Lckv6rkbrcqSf0/j3tQEVmUQLlyyVxa0FTfPDG4X9GoGefydgXWQM9m+RL2JYm6h2e+L6CRlESfVYkUpbFY/2ifigtEiDSyxP3VTJY26T/iLhiheoT12N2i1yQB1zAskG1UKJKPyz1eJt0HyEZqbNvKWBfCVXEwI8Cj8L9QKB+oygq794hWLRdlWrGG3AaoSzbDV0qWEHl5Yb1l6ShpQZ+bvNxsuIIdMsN0eZtwEFpRCgGu6vd06FD1yIm5q/pzEpD1VP4vpBqg+iTJ3KTXGX+QsgjLa4a/hJ+0syqtO0LOMbPTer7GO1bRXrB875oX61tkN7sQizGGNr3aKBKIkgp8+ZHLqXUeGvg8zC5K5xF3z6zrj8vS28Lu2SCpuqpL3RFIiLBrx2kz8pfKA+kJWbDX/ppJ9uTZFkcJQtbQkZReBdkcMFCiuOcCk/Pu2Pr1q0Gj2044x0p+rsPcHyb4Xbx2HVJ9zar6pi4fjZa5JIj4MIyDKpVAlX6LYXH24+IVh+Vzx/DHpWqlIAlBeKo+wHERCuN6KsHi552pZomTnQrUbZbF1SwUsHLbT10VdkPbvNPouKIbsiN59i14aB2AivSYzXc03VA1yKpXJPNTEOzy6ayLLp1qQArlRfc1l/STvZp/Nww/2RFjNAFK2zQBSt4rHZHug5dkdqH+CUzq//ETJfkmRnBqtpEnPZ+gL3DSopiq8G7u/ux+O+9eCQKrdS4hCZ2+sHEszLxWRdvhwlTpmCK9jEV02bOx4bDbhgqBmmflxrvMjVE5xrWYlDqgfPXI0ScHo7JraQrwKJp8PqmF55SZuTOI01QpZ4U5YEpIs7jwPHXkAWcwNzxsVd0jPttFV6UaItOndqjRIb3MWeYjJ1pTfQMcRISOwNt/lk0c84AscTIMthrJ1ZI9KjDzexfKLRXtYnPcHRC5nj5JX1eJMmgtM9o9C6U4efXYp2oR/EpsjXG9B3L0FkqBJpAHNtzXP+MucLw4YMapHmPt29Nj0EfzxIVRy/D5PpZ4LN8MIasuQK/V9JPtf/F3crjsGRsZRMGaEqU6doJ5S0jcMltE26rgnBg4R7kHTgev3arA7vwc3Bze4DwK2ux06Y9OhVM5Z5A2Ad8UBM0798i+aSTw8raStRFMbjySeRnndLEZzrpv7bIkEFfY5Vl0LVTeVhGXILbpttQBR3Awj15MXD8r+hWxw7h59zg9iAcV9buhE37Tkj28EKvY3F7V9T/Kwyd5i7D9AH1kS+xxsxMUVEiwIry4+MdII7uc0lB+n7zFLCz190BOSI8fvdagwjtFX1q+IoBpzlNAEkn/MR/ZRkc4ZhqVSoIRw+cxXsRD9NVbInmeVP+wR88V6BbxaoY490I05fPwU+tSsBebmKea1SiPEvH6IvHPtKIw7jID2EifhNCAwNNumLZKFtXDHX3wPGF/VA5C/DaYzkG1qqG/u7PU1yfUm3fzKUshZFLZ4iB+Tts/bkP5p16gld+57Bw1n5Ydfobc3vmNK3PpyiEzt1qwVb9ENvWncQH1U0sW/YSbUdNwqAOhSF/tR8b9rxC8JGVOJSvG9rnSs2epI5ZaSi3hrWVKGOa5/CJ+Q2eAWV62FiLvphcxB97fVn8Ao7xc1PY2esmsKS+lW5TLO3VkwQKDUSguYWYpIsSxH9lGeCYRJCSZ62DuqUtRbuhxsszx/XLwBgnj44jRq5EMiS3toauSPjE/izTgDK9DazF58htMyC6SBhnAVtba/G16eCkvxr4o+Ic0qPNmucIDApCUMzjJdZ1cIAiey/s8DfcHoTAh4v175PC1VC4exzHwn6VkQWv4bF8IGpV6w/35ymMVh+Tzx9FiVIjl2JGi1x4t/Vn9Jl3Ck9e+eHcwlnYb9UJf8/tiZwmVjlFoc7oVssW6ofbsO7kB6huLsOyl20xatIgdCgsx6v9G7DnVTCOrDyEfN3aI9WrsplpaH7ZVKBQ526oZavGw23rcPKDCjeXLcPLtqMwaVAHFJa/wv4Ne/Aq+AhWHsqHbu1zperY/kv3XzrWTyrJMzMxPsD78D8Y0bMPJu+LRI2eTbSX1xtn2lkZk1i7om3v2shlof/3Z2GJCr36aNfXibxxEucC5Chaq168CaJ3OH7UAxG2lVCr8kee1U6UuXlggndP4PtKA0XJPliRyBnwjRvXY1G/0iKMp71UPYvGTKLMlx+5pVsLBb3GazP7FuqgQLwjJfJWrYH4Y0kKeicGmnJkzZlTRILEyUIuYM6UzXiRyPfKszZD+3q6tWciEwysTWWHrFntIacQ3Lx806wB+EdzqIqfFv+OzjVLI4PXWkz/cy0eVV6AC4cnorajaU2Z1OHpUsMGqhtbsG73Giy9WQ9Dvs+C7K27oFHGKHhsWYNly/+H3J3amdyJMpldVmSV1rQLuYnLN5NLOQuUKlUESpka3h4XE66NpRad2/cEeYYyqBDzUwGps9MFNWxUuLFlHXavWYqb9Ybg+yzZ0bpLI2SM8sCWNcuw/H+50aldcgPaSFyc3hMj3MPR/LfRqGZi+ho9VxHzhByZc2SDjTwKl3dth3ciMUftsx2r9n/cpFzy50xSkr7fOhF3CuTWtgeBb97EuzpNDsfcueEoV+Hhnm24FP1TYAOagDM4cjnhchCawEAEkwzWOXIlevV/SoRf+wcz3P1ByrzoPu6HlJ8tV3lgWtdB2PiyDkb/3tjk/Ystzg7I4ZIBcpUndrvfSfQKmNBLq7D2Yjiss2YV6UeIvHkRl1MafjUvcObkLUTKnVBl4DKcvX0JK38oB/uIu1g9dl7MeoTmSpV9SyFb1yFYOLMH6rq64MWO2Zi64DQcRvwPHmt6oLDJVU+OnO16oLEj4emudXDfNh87XAaif6n0cO3WCWWVgTiyYSWWr/RAhe7NkUn/rtRkVhpalkLpohaQqQNw5eKDhOUmLAhBH6Qb9lZAhZilaj7/MX5uyrwFkFu6EjDwDd7EbzusRfsq2intzyvNLcSaQAQGS/dpyYFcSQUBRRH0HtJMu+6t6t4GLNqXemujWZYqjaIWMqgDruDig4SRJCwoCB9E37BghQoJ1t1NKAxBQWGgdOVRo0q6FMe5j6V5cQYnb0VC7lQFA5edxe1LK/FDOXtE3F2NsfMu6l9lpo/J549l64ohC2eiR11XuLzYgdlTF+C0wwj8z2MNepgerERVzol2PRrDkZ5i1zp3bJu/Ay4D+6NUeld061QWysAj2LByOVZ6VED35mlQk81Mw5SUTXnOdujR2BH0dBfWuW/D/B0uGNi/FNK7dkOnskoEHtmAlctXwqNCd6TFIX7JTOtNM7MleWZG8sETK7pVRNUx3mg0fTnm/NQKJcSgLMnzDyaelTGNJSoOHoZ6ya1w+Umo4XvyDB5SNlSqUTjuhFTg/7DrRDDsajVHQwf9ttSSkjwwgUYVBenagAjfx0jmJHiaS92zaMwU8szVUKWoEmqR5k8SG4kZpcbTc5fga10F/frGv4JLg1dPnyME9qhQ3RXGpqCV+fLC5uBU/LYndoH9WFEIDRUjM5kSJSpW0G9LhnTDEsP/ir2qXLca7MUA/IHbMhyI87NjUe61S1+ooY5z3OK9ug/R/zdW/H/rRH9XXKpH69Bn+EP03boBc2b9jfl/Tcawdq5xFoZNljwH2nVvAAfNXSwf8BciRWe0irQuVaZm6NIsKzTX5mHc8bLo0iKxnoCx40h8fxMcnGVl1K1mLwbpD+C27EDcn7KLhNMlnVo/CFMgb/vOqGUnmpCLO7A93gyV5sVlXPUB8nTogyYGN0iQ52iH7g0coLm7HAP+ikTXQVW063FlatYFzbJqcG3eOBwv2wWJHp4h1T0cOHAbEWI/lAYLfmiCg7U/cyZN7LHJLCwh+mQgaQkDw2OSWcBS9wTCDJ5IV60uqtgCoadmYNiyO3HaR83bs5j282FYu0bfDMHEtBWM7ocg3XTH8L8pS1/T9+VrZV+lGkpZqOHv80S/XlQs6+pNUc9ZDtX9pRg6/jACDNM4+DL++XU7gnJKlwnGFfnsKfzVFihdrToy6LcZp5GWyknShztr0K/jNHiE26PyuHWY2dhwCYXE8to49aOjOHpHxES5EhYxXSoNgvXrNxl+htxSX77Cw8QgQ79R1K6q9appbwRwZc5Q/HUl7uq8kY82YdiMJyhUxhrWleujhhjsqJ/twGK3uFenUWQkVNJnakTsTGq3Nf44ung9Lusn2OQZy6Dnoi0YV9UKav+n2p/eJiex9EnJvhlL57j/ihXvZXqi77dtIPqdaoaNW+djxtwF+HvaaPSqk0cbt8ySqTl6tsoOmf8ODB92GXWHddCut6ss0gVdqqVD8NHfMelhQ/SqZ6N/gyHjsT1xCWOBWWkoz4W2XRto29GbO7bGrtmmF37lEjyj0qNKz+4oZ9gh/qhj/AbYV0G1UhairIu+VYIAVRn1azhCrn6GHYvdEOeCKopEpC4DRBObSJ5GPsNTfzUsSldD9SSDlBxZO8/B3x1ywULzHJtGDoWbeZ08o+S52qJrA6l/cBM7tsau/aUTjiuXPBGVvgp6di+X/En7kLM4e02F7O2GoHMuUSbNiHOpSeN/FIvXX9afoJUjY5meWLRlHKpaiTbm6TPt1qQlUi9Tks/izbqPiV9v4/4rVsL6LVH7bsPAfqfQbONWzJ8xFwv+nobRveogj9nBSqrKPdEquwz+O4Zj2OW6GNYhm0ghJYp06YJq6YJx9PdJeNiwFxIPV0aOx+jhxHvCzDRMWdnMhOY9WyG7zB87hg/D5brD0EEXrNClSzWkCz6K3yc9RMNe9fCNRiujzBmyMDMkeWZGFFuPaV0xaONL1Bn9OxqbevrB1LMyX513OHPWE2q7iqhZ3nBKQYNXe7fgyDt71G/fDNIN096d2479T1JjNiuFeWAssBk8IXfIAZcMYoDiuRvudxJrlENxadVaXPyokzVGdySO1D2LxkyiLIZ235eB8q0nriaS5tEL6dO713hlUAakRn3iEm/Um7EYQ4vGL4+RuH7jLjSZG6B1vZiZgAQU2fIht9VjrOrbCZMOP41zRdq7S/Ow8NB7KPJ1x28DS+i3SjR4907XAYu/yK4qMBDvRaOsCQ5CkLbayeHcdhSGlE0PzdN1GNB+ArZc8kXwB394rByPfy9HiRe/xIk1C7H+2H3tZ4gPQaDuQxCk+xAd8e/QD2I7qRClim351a/eIEjaHCEGuPpt0pWpeyaNxKbTOzF9+E8YP3kaZs75B4uWrcKGncdx0y+RS3ASJfa/RTc0cwbeW9TGoB7SjQMkdmjUrSVyyqOQrVl3NEzs9kpGjkMTHArdYUQh9jDUePUmSKQsISJMv29yZ7QdNQRl02vwdN0AtJ+wBZd8g/HB3wMrx/8LXdKdwJqF63Hs/gco8vTDnN/rI3PEGfw9eQf8oj9bDL4P/rkEV/MPwPzJdePeCUp8R4tuzeCM97CoPQg98uvLkV0jdGuZE/KobGjWvWHyd4+SO8DJUboiwwdbps3E/itXcGz9VAxb4iHKFCH00Q1cvnkSFx5J65jmhIud6Nx7n8D+G0EI9HTDygPPxWc4IaeLnejceePE/hsICvSE28oDkGfviF/6FoMV+WP/0Fqo3vEX/PnPfMye+AMaVxuEB21+RXv93TFNTlvB6H6IWB8Y+F68Xgw0RLyLzjlz09ecfflaKQq0Rbuq6RHmeQWehsFDkrElxo2pC0dZKK7Na4ayFVui7y+TMPnXvmhcuR+uNRqB1gnuahqJW9du4UO6SmjZPLe+rhmnefUMfiFSBCIEvTFYt0wdgqdX9mLxLy3hWqU33N6WQPd/DmLvhKqi5hpSI/DNO21+BL97F5PXEmndMGlajMJCYpaRkDk4IZO1DJo3ezBzkjsuXT+D7XN/wbQD/iCZBi/uXMEtj9O45i/2xDYncmZWiH08iwOnXyHYex+WbvKEQ7vRGFQ6nejrncC4+pXRauhUzFswD1NHtEWVJv8i108job1Y37E1Rg2rBDsKwK4R32PYqlN4GPgBQfd2Y9qsPdqrLtW392DB8q04r70NauI0DzZhwU7/2LSRpYdNOgUcazVC1egBoLTukO5gERJnzQwj6WP2vhlLZzVC3odq9y3uEhkqvNG+XgzTPnwQ79KLOIQpw1fi1MG/8fNPYzFx6p/46++FWLpyLbbsPy/2wXg6JGSLer3aI788FBHFe2NI9J1xFLnRoWs92KvVKNreyA0H1IF4Iy2qSsGiLTT4TlHu3odqjybuEhsq0a/XLsIq3fRHfzRmpSEhZ8/ZmNEsG+jmEvy2/H5sW/3hJhb+uQ3htadi/pD467R9xDF+CxQF0LZdVaQP88SVBAHKEa1HDUMlO0LArhH4ftgqnHoYiA9B97B72izs0WUA9ixYjq3nn+rfoxN56xpufUiHSi2bI3dyQUqeC51WHcXaH0ojve8m9KrTEhN33EWwVBwMaN5cxtHL0pXbctjY2cXJx8RikXQVVM/ZM9AsG+Hmkt+w/H7s8X24uRB/bgtH7anzMSTm8l4FtL8UpRC8CjBse4JxYdYf2Jd5IJbNbCFSxcw4J/b4nS54ICwkuZsuJEeDB5sWYKf2c3Vk6W2QTuGIWo2q6rcYSQ9JovXS/HxWi3G47mNEXDQMKebUb0Tg0JThWHnqIP7++SeMnTgVf/71NxYuXYm1W/bjvNgHc6IVbOuhV/v8kIdGoHjvITE38lLk7oCu9eyhVhdF+/g3VdAzdjzqkPfQHY7+Jgp6qje614vgqz9pZGYaml02dWzr9UL7/HKERhRH7yHRN/NSIHeHrqhnr4a6aPv/1E0VYhBLG6q79GcVS5LZtaa1gfpt0cRz0ytbkBgpULcdofqNRFFev5OrBcii/O/kpdJvNBS8idray8iy+ix6lNjzhtS+NK+2pahiMrLv4Eax32LMe1rTIh3J5A7UfvN7/TYhypMmu0r7mo367A3Tb5SoyfuvGmQBJRX66SxF6LdK1N5/UQ1xHMpCP9FZwyeMCdtPfV0UZF1vPvmq9dskan9a2TwDKZy70PYg6d/P6d/O3WmNv+GLUsisPHhNSxtZJZIG4pmljcgKcsrWZy/FPKN+SataOpBcbM9Y50+6HKzfrhVBDzf2oe8nnKdw7b+jyGNcSZGOFlR1xgOKzdYIOjOyECnF9hp/eYvU1kn0+7Si6OpvpbWfU/GPO7GfI8rBv83EvsgsqMyEq+JVhsLo8IDcpLSpSbPv6N8R5UHjSop0sahKMx4YFLKIMzSykFJsr0F/eadC+n/j1C83Uvus6ajG7IcGeaonyvGhqe2pgksGylSkIXUdNJQGdm1OtWq2pl+33Y2Xr3rhx2hIPisq8tMZfbkxIuoqjXfNR7U7daSG5YpSuXptqc/gIdSnTVXKlT495a77E219EPsJ6pdnafXvfaiSk1wbKyxy1qdhs9zo6qsHdHjxZOrhKpVj0TezzE/NRs+jPXd071X57KLR9XJROrmMIJORzCIr1Z18gP5uZksOhepSj9/+pcP33tCjw4tpcg9XcpCL/pvMkvI3G03z9tyh0CeHaV7/qpRZu92GirYZTyvPvKDAq+tpdJM8JJ2zgDwzVe0/j474SCmoIu8tg6h8ZiVJF51ITZfhQ5a+ALVZ7BknDhkXRseHFiPX8R5xXx9xgUaXrUiTbsStJdJ3J34cXnTv8DzqXzWzLo1silKb8SvpzItAurp+NDXJI+K/2C7PXJX6zztC2sMQn+WzazTVy5VO1EnxHpF2Flnr0uQDf1MzWwcqVLcH/fbvYboXFF3HgunG6kFUK1cmylWlPf045hfq07QKVeswjY48T1CydMKO09BirjTeI25qRFwYTWUrTqIEh2dE8JnfqaazlN4yUtjkoto/rifPF7upT06xTaagzDV+o6PaWBxMJ34tQ3bS8cjTUd42S+m2vogFn/iVythJZURO6fK2oaXRT0Q8ILehNcjFSjwn5aF43rZgMxrrfk9fvlX0xOy0TbgfnrcP0+LJPcjVQVe+LfM3o9Hz9pC+GAumpG9K9uXr9XZPH8ptWYLGeiRSUNRv6OycDlQyo74einxLn68Jjd/5MPG4FXWDJrpaUdbOW0QrmoSoO7RtyjDqUN6ZpF/pa+u0woaccuSiHC7ZKauzM7kUdKV67QbQhGVH6FGcNlVH5X2Elk7tS1Uy6/Ja4VKHfpy5iTxevaDza6fSD9WzkUIfVyr1mUIrTj4T7wqlizPqUXYLXRm1zuJK3eadoRc3plEVG2mbNeVvt5RuarsIYXTh98r6GGBBWepMpjP6vl3UExEP6+eh9FI81KaLJWWv2o8WnX8d03Zrqf3o0MSmVMBWoU0/qR7Zl+pH6zcNo8K22cm15RCasfk8PUs0MYWoazShek7KX6w6dRkzl1auX01//diQKjedQAefS9+kJv/za2nqD9Upm0LaFzllrtSHpqw4ST4PjaTPG/0emrhvPneNfE7AEzo6fwjVyqrQbrfM+x39/M8h8g5/RPv+7EHl9HXQIm8TGr3qvP47n9GukVUpi5T+UrrFechImak8Dd35PG4aJiXKi/6oUpD67InX6X67jboWakpL43QwJaJdObKUpvatom+LFORS50eaucmDAp4cpflDalFWhbTdkvJ+9zP9c8ibwh/toz97lIspB3mbjKZVIp+1zM3fsDvk9nMjKuiYjcq27E+jfx1M7WtVpIZD15FnImVcy+xj/Ma83UN9cltSibEe8fqzEjX5HZpITQvY6uq6aF8V9qWo3/pNNKywLWV3bUlDZmym83EqWBTdmOhKVlk705Ykg1R84eRzfAENblKasqe3INscZalO87bUuUsHal3flfJmdaESdbrQr0uP05PorxNjGuOxSCfsjhv93KggOWYrSy37j6ZfB7enWhUb0tB1nqK1MqSmlydmUdeqecjeIR/Vav8DDR3Sm1rXq04N+synswGG5cC0OHfd+zytnfoDVc+mK7/yzJWoz5QVdPJZYo1aGLl3dSRljv50KKY9jSvq2gSqnjM/FavehcbMXUnrV/9FPzasTE0nHCRduDKWHj5G66UuXJmYzz536cjSqdS3ir7tVrhQnR9n0iaPN6TyNbd+q+nZrpFUNYuFru2L95ApM1H5oTt1x2WiKK8/qErBPpSwKnelQk2Xxh0PS1TeRo4ngHyPzqchtbKSQtpumZe++/kfOuQdTo/2/Uk9yun78RZ5qcnoVXT+tTbxza4rppfNaFHk9UcVKthnD8U9xLe0rWsharrUV+zFfw9PvKUZFT2cU5tslAVo2Kl4w0H1S1re1E5UXjk5VPmFtl+8Rqe3zaHhnatQDqXUkelEa25colNXX+rfoBNxYRQVtUhPNWbdFZ+ejIjTNEKaKBGVzaLGbHqc7Bui6OZkVzHglVH6Un1p5alr5HF0LU3o3p6alnfUTtyU6L+Bzjx4E/P66xPKkgUUlLP/oTiTAVHXJ1BZC5Aip/GAbCjq8jgqZWFBrpNuxm1Io27SJFcLStfkX22n/f3JX6nt6BMUonv245iVB+G0v6+LCGhKKjL4EAW8f0x7l2yk6+LYwvf3JRcRuJVFBtOhgPf0eO8S2iieCDk3lsqmkxo0BTkUb0k/TplL8+dOoeFtylEh0WE/K00kaoXT8R/zic+2oApTbhnkayjt6pFFBMu42419n/Q5Rwfl0e5j0VEX4kwoRN1dSi2yK0nu3JQW34t9JvTGbKqXOQvVn3sjNv/Cj9OP+UTH2aICTbllUGhCd1GPLKLjHH87M0JFj5Y1IxfXCXTd6ERHKPk/uE7nT58hj7svEx+4aqnp9ZbOlKNgX9qjbTCTEkaPrnnFdE6Cn1ylEwd20s6D5+n2i5BUbuRUFPj4Kp05dZ68/KS9F/vp+9yESf6UUNOLw5Oo18+b6Prty3T6yF5yd9tAa1evoH8XzaXfh7Wi4vl70E4Tv1z9xpeeJegpqOmNjw8ZnHZIO6pAenz1DJ0670W6pHtNvs+T2Hn1e/L1PE+nz16mBwHJBVVxHL7PEnaE1G/Ix8e8o1O996EbHl70wqBwRry8RRev+1BwnMIURi+8LtIFL78E5TjshRddvKA/znii3j6iq2fP0dWHryksVQqn8f1Iklnp+41T+5FblzxUcPBR43U51I9uXThHHvf8k8y3kKODqZBLa1rl/SW3GSJOPvMkjxu+BmVaTUGPL9OlOwFx+jZSOxtw5xKdv2742mgqCvK5QefPXqI7fsEGbXlC6mBfunnuNJ299oS0c+zBfvTsjSkz4lEUGiK14SoK8btDHmfO0w2foLj9po+U8n1LAXUAnZjWiwYvv0R3r5+jY/t30JaN62j1yuW0ZP4MGt+nFuVxHU+Xzfj6kGe+FGfOQSuK/J48i5eXacfsNAx9QbcvnaHTIk4+T1iwEvgSjvHzUZOfWxfKU3AwHTUWoNTB5HvznIjn1+iJLgPI79mbxOtJyFEaXMiFWq/yTrLOJin0OXmdP04Hdm4n9z1H6PS1xxT4kVUm9MVtunTmtGjLnicSa+IKf/OYPLXlx5N83xs7CnPiXCqJCiVduAohvzsedOb8DfIJSsVYYk4+fzQ1BZyYRr0GL6dLd6/TuWP7aceWjbRu9UpavmQ+zRjfh2rlcaXx5gQrMZp95hsgPjmeKD968uwT1eQUpKE5ZVMEK/JNGKzEIT6hT3WIXxqeeEtLSZyZCb04g+pll2bOZSS3zkKu3ebRmRc3aFoVG+026/ztaKnuNKueqWdlQshjzTga0LQI2Ukz9tpZ8cxUru0QmrDWI8lJK/XbkzSlvovuahPpCoTC39OME750oH8ecshfkzr9NIs2XPAjtb+RsyK+fsmezUmM/9LGZG1RhH5JcHlcBN34qy5lK92L/vprJHXqMZsupOKo2Jw8CLvwO1WOPmObpQ5Njj7VHXaBfq8cfTYhC9WZfEY/sx9FT3aNpvp50muvbNHmg2V2qtpvkf5sg6DyNf8McSLf99rYmf7oM9mCKWcqzD8DxJIkBrDb+1Sm7/99nPIOnSToKA13daXhh98kbKD/I0LO/EYVcrVO4mrXEHLr3Ys2fJJZM8a+beo3R+jnavVo6rWP6BmHXqAJVUpSz63P/rNxiyUllC78XpVcGi5MeGVHNNU9mtX1JzoRv2vI/tvUb+jIz9Wo3tRrHzlhJMrghCpUsudWesZBiiUhVIwBq7o0pIXGgxXdm9WVfuJgxZIhk/4HLI1o8GJLd1Qd74AV1xegbrwbGWhCnuP23TewL1ICOW3lum3vvHHtfgRylSoCJ8PlzkKPYUi57vAbcwZbe+ZJdq2UlAtHwL1b8FFlR7Gi0t3nNAj2fw25k7P4W/+S1Bbijeve1ihaMlsii8ar8fb+ZdwJzopSZXPrbliRiszJg4hXd3HzUQSyligZ81qtiFe4e/MRIrKWQMmctnEXTlS/g++tO3gW4YC8RQsim20q5FxS35eMDy/v4NajN9A45EPxotlheBgsDUTcxr/9xuNJz6WYUtfJrLzSCvfCkj4jcbX5EizqmC/5RXW/SSFwa58DnQ9VwcIbezEgkUVYQr2W4Oc1Tpg0o412LUjG2MeR1pz8cchh1Jy3EB3zmRl5Iu5hTf8hOFrjbyzrU8z8hfLZt+/DdnTO0R67Ss7A1aM/o3CCIqZBwLFJGHvuOywYr7tJDGMx1L7Y9uMQHK45DwtT1DeKwL01/THkaA38vawPinEBY0Z9wPbOOdB+V0nMuHoUPycMVtAEHMOksefw3YLxuht2MWYET7ylNc1bHB3dAtMdFmDfuDJG70aYtA+4OLE++vmOxIEVbeHCA0vGvh7hd7F58lz4NpqBUbXNuDWv6g7WjVmO4DbjMKCyo/mTdt8MFa7/UR01f7uEyOxV0b5rC1Qq5IJM6QmhAd64dfE87lg3w5R5g1De+H0nGGNmUj//H2ZMOYr8o6ajQz4TTxqp72Pz+KUIaDoaQ6o7/4fjFkuSyhMz61THmLNhcHJtjS6tq6NozsywU0Tg7bP7uHbeA68KDcKcP1oj73/zjBNLjvo5/jdjCo7mH4WZHfLpN5pCjfubx2NpQFOMHlIdzhykWJJU8JxZB9XHnEWYkytad2mN6kVzIrOdAhFvn+H+tfPweFUIg+b8gdYcrFgyeOLtU/ioMzN8Voaxb4F0UyFz+3cpec83SfMKF1ZMw5/L9+HSfV+8jrRHrsJFULREZXzXvT961M/3n7slOWNfKo5bzBSawCtYN306lu2+gDu+AQhLlw0FpLhephba9OuHtmWd0vDXHew/jYMUM4cmEFfWTcf0Zbtx4Y4vAsLSIVuBwihStAxqtemHfm3LwomDFTMBT7x9Kik6M8NnZRhjjDHGGGOMMca+Vjzx9qXjszKMMcYYY4wxxhhjXyWe0vnScQ4xxhhjjDHGGGOMfZV4WocxxhhjjDHGGGOMsTTAE2+MMcYYY4wxxhhjjKUBnnhjjDHGGGOMMcYYYywN8MQbY4wxxhhjjDHGGGNpgCfeGGOMMcYYY4wxxhhLAzzxxhhjjDHGGGOMMcZYGuCJN8YYY4wxxhhjjDHG0gBPvDHGGGOMMcYYY4wxlgZ44o0xxhhjjDHGGGOMsTTAE2+MMcYYY4wxxhhjjKUBnnhjjDHGGGOMMcYYYywN8MQbY4wxxhhjjDHGGGNpgCfeGGOMMcYYY4wxxhhLAzzxxhhjjDHGGGOMMcZYGuCJN8YYY4wxxhhjjDHG0gBPvDHGGGOMMcYYY4wxlgZ44o0xxhhjjDHGGGOMsTTAE2+MMcYYY4wxxhhjjKUBnnhjjDHGGGOMMcYYYywN8MQbY4wxxhhjjDHGGGNpgCfeGGOMMcYYY4wxxhhLAzzxxhhjjDHGGGOMMcZYGuCJN8YYY4wxxhhjjDHG0gBPvDHGGGOMMcYYY4wxlgZ44o0xxhhjjDHGGGOMsTTAE2+MMcYYY4wxxhhjjKUBnnhjjDHGGGOMMcYYYywN8MQbY4wxxhhjjDHGGGNpgCfeGGOMMcYYY4wxxhhLAzzxxhhjjDHGGGOMMcZYGlBMEvR//7doAnHdfS32+dihcMHMsNRv/rZp8MH/Li5f88aHdJngaKOETP9Mmot4g8e3b+Km5134BgQjXG6LjHaW+plfNfxu3kKoUxbYfrId+gp8xWX0w9ML2OsRjPz5nKDQb/vU1IF3cHzXLuw7cg63XmjgnDcHMij1T5pJHXQfp/ffQGTBvMgU/3SFOgj3T+/HjciCyJvgyU8ryf3US810+bZoEHjdHWv3+cCucEFk/m80CizNRCLA8zCOP7FDgRy2H9/WfniKC3s9EJw/H5w+V1D9IkXize2T2Lf3IA6fuADPxwFQZ8wNF/v/QlD7hmOWOhB3ju/Crn1HcO7WC2ic8yLHf7yh0gReh/vaffCxK4yC3ED9d/wnx6v/XdxH/8bRVyrs0jIa2rUhlc6VhZydnU17ZKtI489FaN8ffqAfuShAMotSNM4jSrvt2xVGd7eMou8KZyRLmYykbJfJLMmpbEeaeeIlqfWvSn0R9PzMv/RT6wqUK4OSFOkyUe7CpahkAWdKr7Qkh3wVqEnPn2nCqA5UJkd72hyqfxvT+urKaPAN2jShLzWvkIvsFDKyaraSgvRPfVrhdGtVL6rVcDDNXzWfhlR1JDnkZFduDJ0M0b/EBOqAc7RyQn/6vmYRcrKSkcyuXWwZVQfQuZUTqP/3NamIk5WoT3bU7jMV4CT3M47USZdvVvgB6ueiIMgsqNQ4D/rWWwWWNsJubaMpg9tSzcKZRHtrQSXGfkxZCqYbmyZQ3+aiDbVTkMyqGa38PEH1ixTxcDv90rAiNfhxHrnt3UErxjQiFwsRA9MVoG4bnpBK/7pv1jcas8JvraJetRrS4PmraP6QquQoB8ntytGY/3RDFU4H+rmQAjKyKDWOvvlhC4vx3xqvJi7RMX+WnFSqQRcaPGM/PUu7gewnxH30/4KvduJNR01PFjciexkIUFK+vu7kHfCaXr+OfgTQS78ndOfSAfp3eA1ytshNg46Ea98Zde0PqmwnJ4VTM1r2+FvunkXQrYXNKLtlRipQpSG1aF6fKhZyImttmolAblOGRh0P1L82FYV40dr+rpRRIToJzpWp/8Kj9PB9bGSMCnpMp1YMp9rZLUgm9gM8oEjgqyujqlB643uV/mmWWTQW+GwTb2Fnx1Apm9w08HCY9t/qFzuoT0ELkmduSxsCzGidI97T6wA/8pheh+xEfYk7oRVB70V88fOYTnXsZGLg8/km3pLez1ipli7fqqhr9EdlO5IrnKjZssff/qCdpQl16Fvye7CHhhS3EG3sx068qSj0jS9d/acZZZZzO2lIHbCXBhS2p3JjL1DsmCSUrv1Vn5zkcnLs6k66SPcN+xZjVthZGlPKhnIPPKzLP/UL2tGnIFnIM1PbDQHal/w3RdG1PyqTnVxBTs2W0Tc9bGFx/HfGq8kxHPPLyaH5cnr+DXVduY/+3/CVT7yJgHRpDBW3kCqhBZX/3ct4x0PtQ/MbFKR+B3QTb5LwAB96Fvhtnz1Q3ZtLdXNUpTFH/Aw6/2H0cPsQchWBHJCRdaU/yCs1kyH8Ni1unp0UMhlZ5G5LK+7Epnl8EY83UrcCliSzrEcL/DiwxPdFl9Gw67R2/XnSXUMaTXQOfytNFp9t4i2Q3DpmIrlFVZrxIDYaqIN86dGLlA3DIs79QkWURia0Is7RL0WUn3fiTS/J/UyDdElWouUjWhhdX7uezif+ZBpL4rvDA8jnWeA3c+WIucKur6X1RjIlqedYfKG04Xsbkpk78WakzkRd+41KS/0cnnjTi6JLY0uShUVlmn43fq/vPd07to8uPP+GanFSsfQbi1mBbh0pk9yCqs54ENufVweR76MXqTyRmlQb9Dnbp6RibTgF+Dyjb3zYYlSSbVCS/Y2v339hvGoKwzF/yXGXv6G+2mfoo7PP4vMuSJQarC1hpf8zSXIXNO3SEvntYldasXLKBReHb/mH0ypcW7sd1r+uw5R62RB7pNbI//1crP61AqxlhIhrh3D4uUb/3McKx/nJnTBirx80yvzos2QZehcxnkOWeTth4ZJ+KKAIx4cPIpayOL7YMqoJxNEx3THusD/ilxyZ7DOGlYhrOHUhSOyTAkplbF2X2+dEvqzW+n+ZR65QGF+nTi6e+0LWW0pyP9MgXZKURPnQrkt0dAy6jzsM/9QKOyZL5rutnJDLxcEgVv53aAKPYkz3cTicSMIk9RxLnFxu5qpuSdUZmYzvhGVIdR279tyFSuGEbNnjRz07FKrTBJWyfyO1OMlYKnxTMSsC105dQJA4UIXSYA1iuT1y5ssqeq6pJal24HO2T8nFWis45XLBNz1sMSLJdEmujnwDvv3xqokMxvxWVtafbp3ytPap++jss/kP9eUUyNtjFkZX+w8tS6l5jstva+CXnvkSGZArUaRFExQXcZzoPQKlnk4qUHuvxKTFnggnGdLX+BGjG2TUP2OcXe2h6FtJg1CeePtKqPFkww/oucBL5LN+05dC9RzPeXIgoU+aLkmXD/WTDfih5wJ4fYbC8zm/+4umfoINP/TEAq9w6VRyXEk9x1LJFxxTv0Rht3HrkQqwsILVF3LiI23818qFCs+fp/3kSVLtwGdtIzjWJi7JdOHYyb4BPHb5z5BJl73p//4qqTwnoZLrZFyNskD536/hwm/FE0wyqR8tw4hNxTF7fDWDu8FEwv/aPmzedBzKdrMxuEL8CTkN3l7fhhUbD8Pj9nOonIugdLnKqNuwHioWyhQz4x58zQ2Ld91CsFoko8wapTqORrtiSiD0CjbM3Y17ERptQyFTFkXbcZ1RyuCERaT/FexeswZeBcdhQqMg7JgxDasuvEeB7tMxs0sR/b5G4vnJtVi+8yxu3HmG8AwFUKVVHwzqWN7oXQtNpXn6D+oXGIYTFs2xwnc3ejnqnxDUPrsxedxq+Bbtj2ljGiG7Sd+lgteUyig38QqiYI36Cx7jf4OymTC7q8bTg5twq3gnNM5pkHvqN7jmvgob9p/HnWdBUNlkRaHyDdGhVydUd4mXX5pQ+FzYgy1bTiNd17kYUj4Ct3etwLq9p3H9mQz56g/Er8PrQfp4TeBN7Ph3BdzP3Ia/OgvKd/wZY7qVgb3+o3Q+wOfMdqzd8Ailpk5Ao3eHsWzhehz1egOrvK6o0awLejcrAhv9q6OpXl6E26otOOP9DiGv/RFsUwA1OwzEgGaFkF7/Gh1R/q7sxpo1Xig4Tnx+0A7MmLYKF94XQPfpM9GliHR8xsuoOvAuju/YjG0PimLcHx2Q8d4O/DNvPU49USNrqQboOWIAaie4EkDQvMX1bSuw8bAHbj9XwblIaZSrXBcN61VEoUymXDsahMtLBqHrT5tx7wNgU6YjhjbLD4U8M6r1HSLyj3BjYkVUEHVR3mwl/Pd0wuuDS7Fw/VF4vohAhoL10Gf0MDTJm8h3RT7HybXLsfPsDZHf4chQoApa9RmEjuUzJVuGNP7HsWTRMbz4cBNu83bjAXKj8aCuKJ9Bpj1bXrFNbXw4uBe3gtWiPspgXaojRrcrBiVCcWXDXOy+FwGNrqKiaNtx6GxQUVWXxqBMtT9xO107bHq5BR0MM1J1CWPKVMOft9Oh3aaX2BLnSeNUz09h1bLtuPryAyIjCBmL10D5bFlQpmNjFIl3UjPy+UmsXb4TZ2/cwbPwDChQpRX6DOqI8vECQGL7mWy69BiB5vlMHbmq8PKiG1ZtOQPvdyF47R8MmwI10WHgADQrFH3cSZePyv7/YlDXn7BZ9yQ6Dm2G/Ao5MlfriyGNc8bEbtOOWY3Au8exY/M2PCg6Dn90yIh7O/7BvPWn8ESdFaUa9MSIAbURXQ2CLi9J9rsj/a9h3+ZNOK5sh9mDKyS8e5g5MUkdiLvHd2DztgcoOu4PdMh4Dzv+mYf1p55AnbUUGvQcgQG1sydyUiRxH3zOYPvaDXhUaqpoL97h8LKFWH/UC2+s8sK1RjN06d0MRRIGJFx0W4UtZ7zxLuQ1/INtUKBmBwwc0AyxWXYZS0SZ+GnzPRH1bEQZHIpm+RWQZ66Gvl0zY9+PRp4b0lgbT7VMrbuR/riyew3WeBXEuAmNELRjBqatuoD3Bbpj+swuKGJpXp4mz5Qyq5PimCr6Cq+uuGHZyl04//AdrFxKon6vQcjwd0l02x6B4mPP4dof5ZO4Iim5mKqA6sZEVKzwO67Jm2Gl/x50en0QS6X2yPMFIjIURL0+ozGsSd5Erv5Prf5DOLwPi3zbex437r2EzCkfSlRvh9496iBPgpPxary55o5VG/bjvPjOIJUNshYqj4YdeqFTdZd4dcrM/BYD8H3/iHbS5xLWLzwIH0UJtB3ZCoUNskUTFYaQd2/w4m1BDF47FrXiJ4qJbWDK+3amtO0fH0uj+0rJxSz1m2twX7UB+8+LWBqkgk3WQijfsAN6daqOhCErpXXAOJO+X+OP40sW4diLD7jpNg+7HwC5G4tjL59BtNZy2FfsgRHNEzuBHJcp/a+k2oGumffhx8/UPiUZh6NjrYif1/ZtxqbjSrSbPRgJhi3mtE/m7l8yPkv7NKQy/P9Nvo6YHgeTr7spqiOq5zi1ahm2X32JD5ERoIzFUaN8NmQR+9s4focvUWkwFkiCSXU2+BrcFu9KUZ/atLFv4kwZ8yfnk8REE9sZ8/ro5rStJqRzqo+bdUwds3xMOfiqaX9w+hWLujmRyiW5xpuKHs9vQEX7HyLtSmPqADq1cCi1LpeFrKQFGhUu1Hd//DXIIujuyg6U36EE/bDlDgW+96EzC9pTXgtpEXUZWdhl0t5RJWf3LdpXB1+bQtXSi+fkGanzdoPfYke9pvOTqpOttOB5+ta0Xrvukpr8T/xNA5uXIWcr6Q6jllRz5lFa2rogOdgotTcaUBYbTRekhQrCPGlVn9pUu8d02njgFJ0+sIJG1sxCCpkl5W69lLyML51mkoiTQym/UkZ2jRaTb5zl1SLo5ND8JMIkQVmMRl80cdUE9XNaUM9ad7MEZXH61dT3JULlu5t+rpqFnCsPp/UXn1BQ4GM6s2kitchrRYoMJan3mtv69T7U9OzQXzSoUX5Kp83PHNRn7R6a3Lo8la7ahNq2rU+FHeQi32ypwmQPenFyGrWqUJEatu9G3b6vTC7SXSAV2aj9Bj/93V3f0pn5fal+IQdSSp9nWZsmrhpJFbM4Us5CeSmz9Hrp+OT2VH7UEXptkG5vT0yg6k7pqOSQffRMOnTVCzoyshylU2SiunM9dWsRqP3pxN8DqXkZZ135s6xJM48updYFHchG5IV0k5Biow7QUWNlVPWQdv3ekyo7K7T7YVFpEu1b04fK5y9G1erVouLO0s0qZJS+7Dg6l2A9sru0skN+cijxA225E0jvfc7QgvZ5yUIqnzILsssk3SkoJ3XfksRaZSofOu22hiY2yaq9u1aGWr/QqnXraN2G3XRVu/hnFF2fUFa3xlvTubRrXHXKmaMU1fmuAZXNbqXdN8uCA+lAvPt5hHmuoj61a1OP6RvpwKnTdGDFSKqZRRyjZW5qvdRLV3eToA68Sfs2iP1Y0le3FpKyIHWcvZbWSfu23p0uvhD7FnyNplRLL/ZBThk7bzdYLyaKXp+fRNVtpfqdnlrrKmqMqIu/UnFja6dFXaRfi5u3xpvq4UpqnUsc1xIvCpY2hD8m94GlycahA7nF+Ygw8lzVh2rX7kHTNx6gU6cP0IqRNSmLQqRh7ta0NF4ASGw/TUoXk7ylExOqk1O6kjRk3zPtOiqqF0doZLl0pMhUl+Z66lfaSLJ8RJLPaTdaM7EJZZXu0JWhFv2ySjy3bgPtvhqgr3+mHbPq4S76vWdlchbbpdhfadI+WtOnPOUvVo3q1SpOztpYnZ7KjjtHuqRQJfHdL+nlqYU0tHU5yqKNyQpy6bs/QZkzPSap6OGu36lnZWcRq0WaW1SiSfvWUJ/y+alYtXpUq7izrs6lL0vjElTShN6emU996xciB218sKTaE1fRyIpZyDFnIcqbWbqjrvgOUabty4+iI3EDEk2o7kTpSg6hfbqARC+OjKRy6RSUqe5cis2y0+S2ZiI1ySrdHTED1fpllbZ8bNh9lV54G38ueq1fU+qu2v8E/T2wOZVxlmIAyLLmTDq6tDUVdLDRxVnRzvyybZuZeZocU8vsR8RUCqRzfzainFmr0NCVJ+nBm2Dyv7mNxjcqSS6ZpPbchDXeko2pom5fn0BltWu8NaW5u8ZR9Zw5qFSd76hB2ezaNkJmWZAGJgyqqdJ/UAecotnty1GZVpNo06k75P/+JZ2ZVIMyyOTkUOFXOvrGoMypfGn3z1Upi3NlGr7+Ij0JCqTHZzbRxBZ5yUqRgUr2XkO39YHX/DosqF/QObcVtPT31pRHxDpYlKN+C/+lf//9l5YtW0qL/5lBIxvm0pYpeeZutMOgO6ZlZhtoVt/OlLZ99AVRDlMjlkZRQLIxS0W+u3+mqlmcqfLw9XTxSRAFPj5Dmya2oLxWCspQsjetic2Mj6gDxpjx/epAurlvg4gtS6hvaemmJEoq2HE2rZWOd916cr/4Qt8+GGdS/yvJduAFeX+29km8J4k4/PLlKVo4tDWVy6KLnwqXvhR/2GJ6+5Sy/TPmc7ZPAZHJx06T4qApdfeXbbQtJXVE1K2VrXOJ71pCXroOHz12H0ilbRyoQ9wOX0JJjVc/d52VmNWnNmPsm4Tkx/xJ+UQx0Yx2xuQ+usltqynpPIp270vNcXM0U+Jj6pSDr9k3NPGmpDwtJ9A/8+fTfP3jn3mz6PcRbaiUg5JyRE+8iUxXi5KiejyXaqcTmZ7IxJvq7hyqbSen9E3+pdh7KAXTvr45tcHdps5MuubjS89e62tbxCkaVkAMvuN3zoSIcz/rFjyPmXgTeyB2QP3+MA3ML94jOkw5yraj8Qf8KPz5EZrevSm1n3aSgkTnbP/AQuTccAE9NIgsap8l1NheCmYZqP78R2YGHUNRdPHX4mShzEs/HIi/WrOanm/uLgKRSIPCA2iXqXdTCT9OP+YTjaOoOLCsQ/+k9P7OYR70e2U7UuboTu6GDbUQfn06VbcTld6yMA3c/zq20ofF3lbfqeowcrsbon9CTQGbO1AW6Xb0DrmoeN1f6EDMZEMU3Z1ZnaxlMrKq+Vecu0S9PzKYCkgde5kN5WvxOx3w1uWrKugqLRSNqDaAKvPRgIPvtdtJdYumVrQkmdyZeu6OLQPqJ3OplqXoKOX7kY5ri5lU/tT0/vBAyi99vgh4ZduNpwN+4fT8yHTq3rQ9TTv5NpkyKvJnQT1tQyy3y0m1h7rRPX3Zinq8mL6TAqbYj+47otNAoqK7c2qTnTw9NfnX4M5gwfuob04p3Wyozsxr5OP7jKKLtXERdHJYAVKKxtap+06DxlYSO/EmdyxMrScfpRf6dFX5rqRWmaVgnoFarn6t2yh5u58GFnKmhgseGpRnNfksaay9e5EsQ32a/8jEku6/mBqK9IZFRfrjdvz3RNAp/X7H7SQIEefoZ+1NEtJ64i2cjg8RDbBTD9pluAMhJ2hYqe9prUGWvd0/kAo5N6QFcQMALWlsr23wM9SfT4bJkuR+JpkuyVPdmkoVLWUkd+5JscVbTU/m1iJLEcPy/XjcYNCXVPkQz54cpq1bcqfutDPek2Yds3aiXxqIyMkuZ20a6nZPP0iIoseLvyMHqc47dyfDamDsu6U6KSocza2dTnxeIoPYFMQk9fMFVE/qWMjtKGftoeQWW0lp8XcO2tvEO3ffYXBHxiS8P0KDpTZGan/ytaDfD3jr0lUVRFcXtqZc2oGSkvINOEi6iKSiW1MrkqVMfEfP3bF5oH5Cc2tZipiSj37UBSSdiJP6NsyJusfPlKSeM7XuSm2e+j0dHqg7oaPIUZbajT9AfuHP6cj07tS0/TQ6KTVDKchTY8wrsymJqeI417ShbBZZqd36uB1Q9esd1FOKq6ZMvGklXWdiJt7kjlS49WQ6GhtUaWUr6S7Som60XE2xUTWV+g8RN+mvOpnJoc5fdMuwI/x6NbXMIH2ONdWe660/9jDy+L0y2SlzUHd3g7ZZEn6dple3E4MOSyo8cH/sCasU5ndMv8+qBa2J91z4wR8oh0K8L4thvktS0Aaa1bczpW0PSrVYmlzMCvP4nSrbib5vd/fY9NYKp+vTq5Od6PdYFh5I+2MzIwV1wDjzv1/iT4sbivgk6k3FP24nXz6jmdz/0kmqDfqc7ZPRWCvFT5Eaj+fW1g6UE0y8paTPnIqx9rO2T0nGTlPjoGl1V7zT7DoSfnwI5bVwoh5xO3x0Ylgp+t6ww5coab+kap6aYwHjzK+z5vWppTROfuybtI+ZePs0MTGFY60k++jmta0mp3Mqj5tNjY+pUQ6+Zmb92ODLpsH7Rxdw/NgxHNM/pL+Pn7iAh+9E3sYQwx1x1IpsBZHfQabfZkiNB+5uOBsiQ0aXHMig3wrYol6XVsgtymjY9et45JwTLpmir4VWQGkkJeUKZYLLYOViB+Q2hVE4p/QmGdLVGIwxjbPBKns9/LpmL9zG1ITt7aWYstoPFTu0R36DD5Dn+A6Ny1mKIhyMU1t2wEetf8Jcb/di0foHcOkyG5Mbxr9YVI7sHdbgrv8rvPRajBZOJhYTeo/3Ifq0lqVD+vQpKV4aPF03EXMufUCOFj3QJN6lqValh2Bsx5yQR97Hyt8WwFOlf0KZBVkyi9eKIl2p3xS0Lxx9TbscTg0bwNVCBk2IJRpMmorGWaM/U4m8Nasir8jTqFvXcSNKv1mwyZ8P2aTioSyDAXPGorH+9zQK+7IYtG4tBhUUw0fVE2xeugtvpCdIxF+R1+IFcMgQu8/yzI4QA1BoXvjiqfbzpfInh03hwtBlfzrUGDwGjbNZIXu9X7FmrxvG1MyYTBmVwzGLM9JJf2Vtiymz2sdclq/M3RrNy4v90ATitpePKM166gdwdzuLEFlGuOSILdWwrYcurXKL0BeG69cfwTmnC2KK9UdSug7HkvF1kVVffhU526JNjXSi7H7AHc97iNRuVeP20ilY7VcRHdrnN6grcuT4rjHKWYoWL/gUtuwwOJaPoDBeUaGMX1HTRDi8n/hBFXQFpy+H6LcJNlXQuXV+qCP0/1bfxtIpq+FXsQPaxw0A+K5xOYhxG4JPbcGOFAcA80hNha54OyC2eMuR2dFeRDANXvg+hUH1SRlzj1nuiCzO2lqArG2nYFb76J8TKZG7dXPoqsFteJmQRlKdFBUOBfM7iOOJL2UxSe6YBbrdy4q2U2ahfWwlRevm0k8PNQi87WVaDLfJj3y6gIQyA+ZgbOM8uoXGRbwpO2gd1g4qKJ5R4cnmpdilC0giFIoyLWqUvUMGkUJ68sxw1AUk+OoC0kcwo+5KbZ7cBoULi3QSr5Clq4HBYxojm1V21Pt1Dfa6jUFNqRlKxTw1r8ymIKaG/A9Tf9uJABHXBraNu6SCPFN91CtvlUhZ+khKVwxfMh51Y4Mq2rapAWlM9uGOJ+7pgqqoSqnRf5DK/Tj8cdoK34/8AcUMf/eRqSWGDa+N/LnKoUop0V6JTZqn6zBxziV8yNECPZrE+4mxVWkMGdtRtHmRuL/yNyyIrSSplt8xrCxhof1DdPW1/9VLURtoTt/OlLbdPtViaZIxS/MU6ybOwaUPOdCiR5N4P6ezQukhY9FR7GTk/ZX4bYGniBySFNQBY1L0/R/B5P7XR/iM7ZPUIRSlBtkK5kfCLmEK+8ypuX9fZPtkThw0re5KaWVuHQn3fgI/VRCunL6M2B6fDap0bo38MR0+Y6T9kqp5Ko4FjElhnTWnTy2lcXJj3/ij0VTzqWJiGoy1zG1bTU7n1Bw3mxEfP2s5+ALEyb+vmwL52s/BVnd3uEc/du3Hsat3sH940YS/FZbJxf8nFsjU8H/5WrTjGoQEvYvTIbByrYjS0ummsPd4n1y8TJYoeNqvlyNbHn0jFUONJ/v24kp4FC5Or4uSJUvGPko3xcIHGeDomBEZ/B/hXop6LKE4N3MS9mQZgdXzvkdMfYrH0t4RdiKumExmC9v0+jTVBCMoyIQGOz5NAA64n8A7jQJ5ixTWd6AN2aJWywbIIip9xM092HknOgFk+vSU/oonnQPsRb5JaR3/DpSKDBkg3ehWE/IWbw3zVCY67dJbZJawto73iTbV0LNDcRF+NAi+eg7Xpfcpi2P0fk9c9zqPWbX0pU3zDveOX8ZTjYhr6hC8DzZYOFMEHu2nyrMhT8JFcnSMllFBbNftnyhHui06cjs42IsOhfgzPOyDdFpIR+2Pl69FZ0cTgqB3cUo1XCuW1g7cwt6/x0cXawMyKytYxdk5S2TO7CD2VwwSg4N1+6Z+gn17ryA86iKm1zUo5+JRuulCPMjgCMeMGeD/6N7Hd86/CDaiDheGUnULc1vVRt/F5xGgrSaWqDhpJnrq11lUP9mHvVfCEXVxOuoapEnJkqXRdOEDZHB0RMYM/niUsgBgNmXx0djveR1e52chtnjfw/HLT0UtIKhD3sOweKdESo5ZLtVT8V+Z1Ds1ILcTdd5SWwsQZvJNW6QYoq+XhlIck8Rn6SqptvMcSw47B3vRERF/hofBtN2T6rvusyyt49/JywbVenbQ3ihHE3wV53QBCcVH74fndS+cn1VL3/5p8O7ecVzWBSSEvA8WWz5CCupu9J0+5dnyJLI2mE5q5anZZdbMmBp8YC3cn2mQvnRllLfSb4whF4OOuPufKmQipsYNqrDMnBkOYhN9CEawLqimTv9BDH53bz6CQGVpVK1qq98YzQF1Jh/DwydnMa2u1EXWIOCAO06800CRtwgKJ6wksK3VEg2yKEARN7Fn5x391tTL72R9qjYwmbY9dWNp4jFLE3AA7ifeQaPIiyKJZwZaNsgiBoERuLlnJ2JDlnl1wJgUf39Kmdv/SoHP3z5JnxPbz42R4vYpNfdPKjfaT/py2qeUxMFk6q6WmXXERpSPwkoVbs1thdp9F+O8rsMHy4qTMDO6w5ccqY4nyHi9r67Oiv3UHkpiY9+088liYqq3MyltW01J59QbN5sfHz9POfgSxI223yQ7VOvcSgQ+/T+TpUSe/LkgXRkdcuk4zoTqN0vkFrAQBVCRqzAKS1PgaSYKnp5isKLIha6rroi/PeM87j8NwOs3b/Dq3iJ8l6DDn7zAY79h6L4yWLT9D9Ry0G9MDcrsyJ5FX6TIH35+KZh4U93DrQeR2iCma8gTsi5VUreYstobDx6YEv31gTMx0Q2taKTVJu+uEkXKlYK9OFTNm1d4pX+f3CEfShXKBNlbT7jPGoaevcZgo68CNtovEIFY+6q0l+ixKvMgfy4LyCgEl46fQdxibQGF+L9chQtrz+ykJYU+ylP0PV2iRJkWgViRqytWXYlbzj097+NpwGu8EWl8b9F3otn6FihRbuQcDC9nB3pzBSsG10LJqn2x8Ky/KIGxosTx31OJPOm6ClfipIl43H+KgNdv8ObVPSxKSQCIL/IilgwdiIED4z0G/YJVN2IbSYd8pVAokwxvPd0xa1hP9BqzEb4KG139ic7Pj5C6xyzqvP6vj5YWMcloQEoZZZFyKKULSHgVG5CQr1QhZJK9haf7LAzr2QtjNvpCoQtIH59ln7zumpunqVdmE2ZXJG6cvyoGu3JkyJwp4Ym9T0mhb8PE8eiOKJX6D5FXcdlT9KqtM8A+2V6xCvduPUCkrpIknk/WpVBSV0ng/eCBbluSUrEOS76QNvBTxFLVvVt4oMsMI6HGGqVKFhZHLIWsB0jtkJUW35+ctO5//afap9TcP+GztE9pPI5KTGLJryw3EnOGl4MdvcGVFYNRq2RV9F14Fv4mjzdS7kuvs5/SJ4uJqd7OpEXbagpj6SQkMm7+pGOWr9x/YOJNCnyjse73GiZ2/uXI2WUEuua3hObpVsxedgvh+meCz53A5Q9Z0OSXgaiUpj3tKLwLCgGpA/Dc7+MvtzYUeXcZ+o1/jkFbl6JDbqmipiJFXlStkEMbuKSrIS6dfxZnMsEkFIYw7T3BCW9fBSR6xkueyQkZLUS1Jw00mo87J5ZScseM2ok3WXobxPyiVv0Cx2Z0QPmqw3Ax30AsWLMIk3uUhaOx4PUpyXOiy4iuyG+pwdOts7HsVkypxrkTl/EhSxP8MrDSpx9ARr1DUAhBHfAcqVzUv1hyx3r48/BhzO9RBhnlKgRcWoEf65RG7VF78TS6EXsXhBBSI+C5n0k/O/ooqvs4uGwJliyJ91i6Escex/Y+1C+OYUaH8qg67CLyDVyANYsmo0dZx8Q7AinwSY/ZHF9DTJI7IqMuIMEmNiDhxbEZ6FC+KoZdzIeBC9Zg0eQeKJtaAekrqLtpV2Y18Pd/Jf6XEBWpG/R+OVKp/6B6i7fSMh1hgXhjOHpIFCEsLFybDvT2FQISryRwyigGJOJVn6eOfDltYFrHUgoLgy5kvcWrxDMDmZwyQheypJil35xKPsv3p3H/i9unj/A52qc0HEeZRRx7vT8P4/D8HiiTUQ5VwCWs+LEOStcehb3RHb4vwOeOGWntkx1fqrczX0HbKnyx8fELFB0Bv21yW2RyNP1CRnmm5lhwZCcmNrLDqdENUbvTcIz5uRtajvdBm3VHsaGv4Xo2aUEBG1uxvxSK6xeuGr8kVfo55zvTA7faZwsGDTiI2ktWoXcRK/3W1GSFym2bI590dSFF4drenfA2t11RuMBF+9tXFby9bsc5WxBDdB7E/wPKHMib5/Nca0AfdEFckbcQCkmX/qp9sblXDTT5zRO1l+3CjDZFEP/HOZ+XaFSaL8CRnRPRyO4URjesjU7Dx+Dnbi0x3qcN1h3dgL6Gv8v/VBQ20BX167hw1fjF15rgIJhR1L948owVMWj1RXgdnYfeFZ2hVPnjzOxOaP/nde3adwobW1iLRjT0+gUYTxYNgoPemT+5HV/6Ttj4KghBQfEfT7C0uS5uqn03o1eNJvjNszaW7ZqBNkVSv3R/0mM2x9cQk+iDbvClyItCuoAE3829UKPJb/CsvQy7ZrRBqmfZF15307rMWllJbagGQU8ewf/z9HWNSKX+g9IOdulFVz7qJs6fM1iPMlEKuLhk1XYoVd5euJ14JYFGV0mQI28e3aZP6stoAz9JLHVx0S0hovKGV+KZIeKVyA/xX2WOvEjtkPXJv/8T9L+4ffoIn6N9SqNxVIrIM6LioNW46HUU83pXhLNSBf8zs9Gp/Z+4rl+X83P73DEjrWgCzmHn8aef8PhSu535GtpWsZdfanz8Akl5+XWTpoHTgBzhCHduiUUnjmPtmG7oOPBvHLy4HzM7FEuiQacEl0dr1KoUFDIrFCtWQFQhFR5tno/tL6QKFV8kvP4ZgdmXP+j/nTTNi70Y0Xs9Cs1ciyGlEq7oqHl5BLvPBuv/lXLW1Qfjx9q6dbxCzy7C7MOB+meSpnn7EPelqXxlYdStkUccOyH4/BGcSiTIqH198VxFUOauh0YlzVmELrVoEHD/IV5pLFCsQSMUEDE08sLfmLjpEVQuddGikp3+dUIq/Gwk9YjqHh4O55aLcOL4Wozp1hED/z6Ii/tnokOxlPV6Yn4ymlJWxVCsgMhD1SNsnr8diRd1L/wzYjZMLOomSbDfGjVUn6Q1+AD3aTNxRXshmSWy1xqKFeeuYfcIV9ghBFfctuGmeM6qWDHokmUz5m9/oe0MxBfp9Q9GzL4sPvFjKZHezh729vEednZIr61ekbjw90RseqSCS90WMKd4J1k+xHOGz37SY4733Un6CmKSJuA+Hr7SwKJYAzTSBST8PXETHqlcULdFJVG2oiV33AnbsFjxnvtMddc0KS+zprFA0aL5oZQBUVcP438vEzv4lPnomJpa/QeLMihbXAmZxh+7Fq3Fo0Tio+btYUycsAUBGiUK162BPKI4UPB5HEm8ksD3uQqkzI16jUrqN35qKW0DE9aLlPXt0iiWxqMsXBc1dJmB80dOJTIZo4av73OoSInc9RohtUPWp/7+FPe/xPNGXxHvuU/bJicVh+Ph9ilG3DqS+uOolPjgPg0zdR0+WGavhaErzuHa7hFwFQcdcsUN26QO3xfgY+vs5+tTJ+UDLvz1E9b7pP/EMSk1x1pfR9v6aePj1+2rn3jTiMKtvXxUiIoy4ycfpBFxQbxa+q8m7rs0L3ZgQJM/IBv0F/pULYRCpVxROr+j8UtD5XawtRU9cE0oHt55bNAZU+HJxSt4Lm3QRCEy0esvpYYk/l4rUKhlC5S2lEH90h0/954Hj3f6p7RC4bWiF3qfqoC+tQ06GUZo3hzH+J6L4DhpDUZVTFjpVQFnMWvQCvhkM5iQC7qG9b+PxfSttwzuxGMCRSEMXPgnmmRVQKZ6jBV9+2D53ehLbRMX4rUKvb/ri7X3pIBiiaoDB6OGvRwa/91YvcM/XgXW4NmRo/BSO6DO8CGoZnDhnvEGOfoJSnj5cFKtuFYi71E/gfvOS1BnboJh/cqKsChy5O5d+Ij2UxP0HE/f614mUT3xwXPt+zUQ/fSExPcb3YUkyqj2ffo/41Or9Tsc54M1eLFjAJr8IcOgv/qgaqFCKOVaGvkdU3JaRw4b2/Tay5pDAwNjfoodTXfmRVCrEwRflXQ8gnQpt5YoLy1blIalTI2X7j+j9zwPxC3qXljRqzdOVegLE4q6SC+1vv5JjX78FJLDztZW7LcGoQ/v4LFBp0D15CKu6CoqouJVVOnnZMbSWjrAZItQHISQq3uw32ABZiiyo/Gk0WiaUYRjuXTvMilZWqJFaUvI1C/h/nNvzIsbAESyrECv3qdQoW/tmE5rUvuZdLokJxR37/qIaKZB0POniC3eIr75PJeSQPoC8a9oSZcPuY0tpHuwUGggAg2eTMkxGx+MiuPVFzHDlxj7bh2prqu1qShdrh/7tpTGpCTqdkzdSKJsGRFTd2Ko8cR9Jy6pM6PJsH4oqwtIuKsLSHgeNyDBRxeQRJYZlEG5je7GOBSKwPgJY+y5j6i7Ur4ZO25z8zRx5pZZIYl9ShhTFcjTshUqWYtSHnIEc6YdxVvDbJHWMnorfTohMiw8XnlJTNJ1RgRV/WfEpkEMMbrR7pXUTmg3pFL/QZEHbTuJuiYTaXhkLDr9sgc+BldnaF6dxvTus6H5rhmcReiyrDoQg2vYQ67xx+7VOxJcBah5dgRHvdRwqDMcQwwa7hTlt0iP6E0Jn9PX3Zj0iJaCNvBj+nZSeUpwaKkbS8WXJB6zLKti4OAasJdr4L97NXYkzAwcOeoFtUMdDB9SLXYZFmmf9X/Gl3i/woiUfr84lug1g9TR5doE5va/kmoHPmf7lGQcFqTYr+sSirId876P6TObuX8m+OTtk9E68hFxUBy00eOWntP/GV9idYRCrmLPfsObgymQvfEkjG4q3Q1a/J8pFz+l6ljAiBTV2ZT1qXWkNDZhv+KLEPFW/6f0buOfoMHLg2MwaFk61KiT8RPGxJSNtZLqo6e0bdVJOp2NPxX9hNS26P+MlsibUhIfdZLYv9Bb2DZ9LKasv4ag+PvwNRMH/BVTk//qVuQgXV4FOWVqs5781fqnkqH2/5ea2MgIMltqvvK1fqtERY9mVydLmZxsXMpSnaatqX2XHtTnh0E0dORo+u2P+bTuoBe9UelfrhVOJ4cXJKWI/HIHV+ozZzO5b1pME7rXpUY/dKEKFmL/5Jmp5siltOuqv+4tUTdoYjkLsd9KKjj8pPiE+N7SoaFFSerXAzKyyuZKzXsMoMH9u1Nz1+zkUOwH2vHchIMNOk9/1M5ECov0ZG9vn/CRwYYsFXJybL3WIO2i6NKYEmQhvltm6UqTb0bpt5tOVDLqUtiGZGLfFZlcqdfsPeT1xvBzVBT04Bgt/6UJFS/WlH4/+lLkZrQoerCqHeW2lJFF/u60xSf2fSofN+qax4YKdN1Ajw3zIPwwDcylEGllSQ0WGX6W8Ppf+s5a5LXckTq4Bek36kSc/4WKSKcKLarTrEexH6h+ModqWkr5loHK/7SfnsfsQhBd+LMuOVvnpy4bvcVR6EScGk4FlVJ5sqA8LSbTOvcttHRyH2rRoj6VspcTFNmo5exdtHXJVu3ro25MpHJSuVAWpOEnE+a+xHgZFeV+SUOyEvmjyDWQDhu+XXWP/qwilSsF5RpwOLZcqR7R7OqWJJPbkEvZOtS0dXvq0qMP/TBoKI0c/Rv9MX8dHfR6E3M8yQkQ9c5eKu+OdWnq8Vt0fd8MGjbjpHgmnA71z0miL0EWrr+TV5yiE0Armtlqy4SdKG9v9Vvp7SEaWtRabBfpIbOibK7NqceAwdS/e3Nyze5AxX7YQaYUdUnExdFUTMpPRW4adCRhuoaf1OeT3IFc+8yhze6baPGE7lS30Q/UpYKUbnLKXHMkLd11Vf8OopBdPSmrFGMs69PCF/F2JGQX9cwq8leUu/oLX8Qtd4kKoTUt0lOODhvJ1yCx1T7zqW56W6o6/aYo/TpvDw2lolK5Fekis8pGrs170IDB/al7c1fK7lCMftjxPM73JbWfyaVL0iLolD6+ySzyUIvJ68h9y1Ka3KcFtahfikR/nxTZWtLsXVtpydZr2ncYLx/aJ6mVva4+1p16nG5d30czhs2gkyFmHrPan5Y0tBLlRpT1gQZlXVDd+5OqSPVLkYsGGFaQJL5b+rx/m+hilm3zlWRY41ISk9T+S6ihlfgusQ8D41ZSuvdnFbIQx6jINSBu/TVG/YTm1LTUls8M5X+i/bEBiYIu/El1na0pf5eN5B0bkGh4QaX2WCzytKDJ69xpy9LJ1KdFC6pfyp7kIs2ytZxNu7Yuoa3XIsQbAmh1K3vxetEW1J1Kx29dp30zhtEMbcIk8ZxZdTeKbkwspz1uZcHhlGjYS0meJsrcMpuCmErBdGacK9lK3yHPRBX7zqbNx2/QnetHaNnQ5lQiq4U2/ZU56tGgCQvosGGFT0RSdSb8UH/KqRDHbuFKv8cNqhSwopluH+xa09rYoJo6/YfwGzS7jqMoL1L+yil91uJUo0Un6vx9HSqaKTs1nHuDwvQvlUQ9WEXtcot2xiI/dd/iExPLRCUht655yKZAV9oQt5KkKL/Djwyk3Nr0qEozHsRN1+AtHclR5K8s3Xe0zLBDmKI20Py+XdJteyrH0qRiVtQDWtUut+jLWlD+7lsoNmSpyMetK+WxKUBdNzw2ON6U1IEkmP39QsRFGl1Mqf2e3IOOmPY9grn9ryTbgc/ZPiUZh0X+/NuEbKSyY9uc4nQJU9JnTrVYK3zW9impOmJeHEy+X25+HQlZ04LS5+hAG+N2+Gh+3fRkW3U6mTK8StWxQFJSUGfN7lMnO/ZNippermlNGaV+rlRG2iyn24ERsXVOFUZB/t50/ehGmjmgDuUSdTXOOORTxMQUjrWS66Ob3baaks6pPG42Kz4mu38qujujqrbuypRF6JdzUhz4Nny1E29hHstpZO9mVDKTQgRjqRKKzFE4UokmPWnYvGPGJ+BU3nR40WQaVD+PtjJJwdg6f2P6cco6uvhW96aoR1vox6pZReXUfW6Ch6i02RrNpWsGPU7165P0x3e5YwK83K4QtZp2gl6+XEwNbTNRsQY9aez87XTBN5ieHZlHw74vpQ8eorGwLUzNh06mhYdiJ3K0orxp19jvqICdwTFaZqVKvefQsWcmRGvVQ1reMhspjB1H9EPhQn32BOvfJBEDw7/rajuB8kzNaNmT+CHCRKGPaP/MPlSncCZtWsos7MmlUCkqV64kFcrpTFkK1qBO4zeR53v96+OIoCf7p1D7ss5km7kY1e86mIb0bE5VylSjbjOP0fOYXVKR95FFNL5zGf0ErMjPAk1oxJ9b6Pr7MPLaPp1+bJg3Jq/TFWhGI2ftoFthb+j8qt+oR0Un/aDCgnI3GErT1l2kN6IYxEy8WZSmTkO+oxLFalLrLh2pSYV8lKN4K5qw11vsoQH1C9ozsjw5KqSgI4K9QyFqPMqN7gT70bo2zto8kFnmoCYzdtORecPo+1IZdd8rGiXbws1p6OSFdCi6V5JUGX39jE4sGkGN8kgdJvGcaOxKtRtFC489o4jHooPYpyo5a/dB5J1DaeowbgNd1/ZNoujRlh+palYRuLXfm/Ahs8hGjeZeizOQMur9CRrrKnWQxHtl6Slfy1l0zvsCrR7Tgco4SBNRUn3MQlV7T6QNV99T1N2dNG1wfcojTURIz1nnpYZDl9PFQN3HRXnvorHfFSA7/b5Lx2yZtRL1nnOMTCnq6oDztHb6z9S+TNx0/XHibFp/PiA22Ktf08k/vqPc0Y2D3I4KtZpGJ16+pMUNbSlTsQbUc+x82n7Bl9RvLtCa3wdT4wLpdWkmlZF6g2jy0mPkG/mGLqz5nQY3LkDp9XlkkVsMsCcvpWNJDrBDaE1bF8pXqCCVadKfJsxdRsvn/0ZdqrhSswn7yCduACDvXWPpuwJ2sXVYZklZK/WmOSK/o5Mlqf188sLEdEmG+sUeGlneUbcf4vMdCjWmUW53KNhvHbVxluKTyK8cTWjWBX0DnVj50MdX8SSdGOuqjS9SuqXP15JmnXur3xcTj9nvBC0a0SimPMkdSlG7UQtFXIygx6LT3aeqrs5Jx+tQugON23BdpLwkse9+RY8OL6LJgwzLZ35q/OMUWncxer8kpsYkNfmdWEQjGkXXX7EPpdrRqIWiLEc8FgOGPlRVm2biOVF/S3cYRxt0ldS4mIGNBZXuNIS+K1GMarbuQh2bVKB8OYpTqwl7yTtuQKIXe0ZSeUfd98gsHKhQ41HkdieY/Na10cUIka45msyi2CwbS67SIFV6ffp81HLWOYrOsqSeM6Xuqp8doXnDvqdSGXWfAbktFW4+lCYvPBQzGEt5nibO5DJ77m4KY6r2S+joH62pqIM0iNQdu9y2KHVffY1Wt8lAdrmqULuRc2n75RfJDzASrTNv6NLqMdShjIN+u4KyVO1NEzdcpfdRd2nntMFUP3q/ZdaUt+FQWh4bVD+u/6CnDrxIi3pWoCz6fIFMtKO564u0vE2GvYZoEU/205T2ZcnZNjMVq9+VBg/pSc2rlKFq3WbSsdhKkrL8Ful9esUE6lZOH8+06dGHJq33oMCoe7Rn9i/0fXE7/XOWlLPOQJq+657+G1PWBprct3vyIPm2XUidWBpJ3qbErIgntH9KeyrrbEuZi9WnroOHUM/mVahMtW4089jz2P6m2i/ldSApJn9/AJ1fO51+bl8mbr/4x4k0e/15CogNwokztf8164L+DUm1QZ+zfUo81r56dJgWTR4Up67nb/wjTRH91Zhm1eT26eP2L1GfuX1KvI7onzQlDqqfJV93U1hHQta0JZd8hahgmSbUf8JcWrZ8Pv3WpQq5NptA++J2+BJKk7FAMkyts9FM7lM/MX3smwhpzD+ix3dULGNsPib/UFLhn8/GHauleUw0r50xeewimNa2qk1I57QZN5sWH03ZP4manq9uTZnFa+T2dWjOneRKyNdDJv2POHBmQPPyKKYMXw/HoaNRg57jmf8rBL4LRVhEBCLD3uPVk+s4uPU48sy9D7cO9vp3SSLw5pEX7r2xRcHSheFkJTapXuHpKzvkzKZbpDwlNKHPcfvmQwQqs6JQsQLIYmPKtckfKxiPz1/GG5dKqJAr4Zpw5lHh7cOruHHvKV68CYdVpuxwyVsUZYplRfKpokKgtxfu+AQBGfOgWIk8cPgEh6/xmYs6hUbiFOrgn8eH0Ru3cO1+ICyyFEZJsd+Jp4ga73w8cUfkd5Ey+eEgXVIviXgBT48HiMzlCtdcNvqNn5oGL49OwfD1jhg6ugbo+TP4vwrEu9AwREREIuz9Kzy5fhBbj+fB3PtuiFOsjYl4hbvX7yLIoQjKFXYy/lNsk2kQ+vw2bj4MhDJrIRQrkAVpVdQj3jyC1703sC1YGoV1FRWvnr6CXc5sJpTJjxMe+gGWNqIEhb7E/dsP4K/KiIIliyK7rZGD1YTi+e2beBioRNZCxVAgi43256ifnPodfDzv4JVdEZTJ76D9ibUk4oUnPB5EIperK+IU7yTLRwRe3b2Ou0EOKFJOxMr4hSdNjzmZ707WZ4hJGh/MrVMII08Bdf55jMO9gVvX7iPQIgsKlyyGrEZCtPqdDzzviHJdpAzyxwYkvPD0wIPIXHB1zYW4WXYX1+8GwaFIOVEv4uVYEs99yrprFnPLbEqFv8Ct6/fxSpUBeUqWQh57GV75PIVlztwQA3jTpXpMlapS6vQfIt88xI3bL0CiDSxVwBnWyRyXKtAbXnd8EISMyFOsBPJ8ioY7SR/TBqZy3y5VY6kJVIHw9roDXcgqhhJ5HD5tG/JJvt/c/ldS7cDnbJ+k7E4q1ibnv9k+JVdHPs84SggPxQdLGzFmCMXL+7fxwF+FjAVLomh228/TjzOVmXX2c/apUyTNYlIajLXi+fLa1nhSLT5+gM+lS3jpVB6V8qZsHfIvEU+8xaN58z/8VK8Xbv9wDvsH5TFaWN6t74jugX9h148u+i3sWxJ34u0IfnQxZ/T0pdHgzf9+Qr1et/HDuf0YlMdoqcb6jt0R+NeOr/x4GfvGxBvYHBHtDtdQxkzFbSBjaYbbJ8YEbmdY8jjH41DBc/5YLPJSIE8+Z+MztJq3uHBVicq1sug3MPYFU3li/thF8FLkQT5no6VaFOsLuKqsjFpZOCwwxhj7RnAbyBhjLC1xO8NMwLkehwZhYWEgzXOsG9Yd03dcw4sPsbfS0IT749bR1ZjQtQvWFxiFYaWiL41m3xpSRUGl/fV5JCIivvKLQjVholwTNM/XYVj36dhx7QVii7UG4f63cHT1BHTtsh4FRg0DF2vGvjCkQpQuICEyIkK7MAZjzETcBjKWdrh9YozbGWYSnniLwxIVRy3GxMa5gQfbMfb7cnCxs4adYxZkcXKATYYCaDblHJwHr8bqQaWMrPPFvn4huHfgJO5J93ZW38HRvXcR8jXfytiyIkYtnghdsR6L78u5wM7aDo5ZssDJwQYZCjTDlHPOGLx6NQaV4lLN2Jcm5N4BnNQFJNw5uhd3v+qAxNgnxm0gY2mG2yfGBG5nmAl4jbdEheP5pQM4cOYWvP0CQY55ULhoMRQvUw5l8maMWQiXfYPUPtg/dwH+5xsOTXTNkMmgTJcJlbuNQ4cSX3Huhz/HpQMHcOaWN/wCCY55CqNoseIoU64M8mbkUs3Yl0cNn/1zseB/vgiPDUiQKdMhU+VuGNehBLdHjJmK20DGUhG3T4wlwO0MSwJPvDHGGGOMMcYYY4wxlgb4p6aMMcYYY4wxxhhjjKUBnnhjjDHGGGOMMcYYYywN8MQbY4wxxhhjjDHGGGNpgCfeGGOMMcYYY4wxxhhLAzzxxhhjjDHGGGOMMcZYGuCJN8YYY4wxxhhjjDHG0gBPvDHGGGOMMcYYY4wxlgZ44o0xxhhjjDHGGGOMsTTAE2+MMcYYY4wxxhhjjKUBnnhjjDHGGGOMMcYYYywN8MQbY4wxxhhjjDHGGGNpgCfeGGOMMcYYY4wxxhhLAzzxxhhjjDHGGGOMMcZYGuCJN8YYY4wxxhhjjDHG0gBPvDHGGGOMMcYYY4wxlgZ44o0xxhhjjDHGGGOMsTTAE2+MMcYYY4wxxhhjjKUBnnhjjDHGGGOMMcYYYywN8MQbY4wxxhhjjDHGGGNpgCfeGGOMMcYYY4wxxhhLAzzxxhhjjDHGGGOMMcZYGuCJN8YYY4wxxhhjjDHG0gBPvDHGGGOMMcYYY4wxlgZ44o0xxhhjjDHGGGOMsTTAE2+MMcYYY4wxxhhjjKUBnnhjjDHGGGOMMcYYYywN8MQbY4wxxhhjjDHGGGNpgCfeGGOMMcYYY4wxxhhLAzzxxhhjjDHGGGOMMcZYGuCJN8YYY4wxxhhjjDHG0gBPvDHGGGOMMcYYY4wxlgZ44o0xxhhjjDHGGGOMsTTAE2+MMcYYY4wxxhhjjKUBnnhjjDHGGGOMMcYYYywN8MQbY4wxxhhjjDHGGGNpgCfeGGOMMcYYY4wxxhhLAzzxxhhjjDHGGGOMMcZYqgP+D6vB1e76+fZGAAAAAElFTkSuQmCC)"
      ],
      "metadata": {
        "id": "rqBM_OsICf0g"
      }
    },
    {
      "cell_type": "markdown",
      "source": [
        "So in the the case of sliding window attention we can see that fr each time it is convering the 2n+1 blocks in case of sliding window attention so it will conver n x w blocks so it will scale linearly with n"
      ],
      "metadata": {
        "id": "j4UPGMO0CiKr"
      }
    },
    {
      "cell_type": "markdown",
      "source": [
        "So for the transformer they proposed the for initial layers use sliding window attention and for the later use global attention"
      ],
      "metadata": {
        "id": "N4lDNyCjDm6x"
      }
    },
    {
      "cell_type": "markdown",
      "source": [
        "## Helper Functions"
      ],
      "metadata": {
        "id": "xu6mdEvZlyoo"
      }
    },
    {
      "cell_type": "markdown",
      "source": [
        "These are some basic functions to do some basic operations"
      ],
      "metadata": {
        "id": "M0ldANzwl3vr"
      }
    },
    {
      "cell_type": "code",
      "source": [
        "def exists(val):\n",
        "    return val is not None\n",
        "\n",
        "def default(value, d):\n",
        "    return d if not exists(value) else value\n",
        "\n",
        "def to(t):\n",
        "    return {'device': t.device, 'dtype': t.dtype}\n",
        "\n",
        "def max_neg_value(tensor):\n",
        "    return -torch.finfo(tensor.dtype).max"
      ],
      "metadata": {
        "id": "IwxKlq3ol1Ej"
      },
      "execution_count": null,
      "outputs": []
    },
    {
      "cell_type": "code",
      "source": [
        "def pad_to_multiple(tensor, multiple, dim=-1, value=0):\n",
        "    '''Function for padding over tensor for how many times which is multiple here\n",
        "    if the seqlen is not a muliple of multiple so we need to pad the remaining for which we caluclate the remainder and then pad the remainder\n",
        "    Params:\n",
        "    tensor:The tensor that needs to be pad\n",
        "    multiple:The multiple upto which padding is happenining\n",
        "    dim: the dimension accross for padding\n",
        "    value:what should the padded values'''\n",
        "    seqlen = tensor.shape[dim]\n",
        "    m = seqlen / multiple\n",
        "    if m.is_integer():\n",
        "        return False, tensor\n",
        "    remainder = math.ceil(m) * multiple - seqlen#calculating the remaninder after the multiple padding has happened\n",
        "    pad_offset = (0,) * (-1 - dim) * 2\n",
        "    return True, F.pad(tensor, (*pad_offset, 0, remainder), value = value)"
      ],
      "metadata": {
        "id": "Xu9AfY21mskd"
      },
      "execution_count": null,
      "outputs": []
    },
    {
      "cell_type": "code",
      "source": [
        "def look_around(x, backward = 1, forward = 0, pad_value = -1, dim = 2):\n",
        "    '''This is a function for padding our x with the sliding window attention mechanism first getting the shapes and dimensions\n",
        "    then padding the x from backward to forward which is of range of window 2n+1\n",
        "    now we iteratively pad with different combination of windows by loop over the forward+backward+1\n",
        "    and finally concatenating all the different tensors that are formed resulting in our final attention'''\n",
        "    t = x.shape[1]\n",
        "    dims = (len(x.shape) - dim) * (0, 0)\n",
        "    padded_x = F.pad(x, (*dims, backward, forward), value = pad_value)\n",
        "    tensors = [padded_x[:, ind:(ind + t), ...] for ind in range(forward + backward + 1)]\n",
        "    return torch.cat(tensors, dim = dim)"
      ],
      "metadata": {
        "id": "Xl6JJRS4npvg"
      },
      "execution_count": null,
      "outputs": []
    },
    {
      "cell_type": "markdown",
      "source": [
        "## Appyling in attention block"
      ],
      "metadata": {
        "id": "2BGFD9FAOAmT"
      }
    },
    {
      "cell_type": "code",
      "source": [
        "class Attention_rope_slide(nn.Module):\n",
        "    def __init__(self, d_model=768, n_head=12,window_size=3, n_ctx=1024, d_head=64, bias=True, scale=False,look_forward=1,look_backward=1):\n",
        "        '''An implementation of a sliding window attention, as proposed in Longformer I am also combing the rotationaol embeddings with it for\n",
        "        checking out the results\n",
        "        Params:\n",
        "        d_model:The dimension that needs to be feed into our model\n",
        "        n_head:The number of heads for attention\n",
        "        n_ctx:a parameters for buffer registry for bias\n",
        "        d_head:the dimension head output\n",
        "        bias:A bool for including or not including bias\n",
        "        scale: Whether to scale the attention scores by the square root of the dimension of the queries(use sqrt(dk) or not) \"\n",
        "        '''\n",
        "        super().__init__()\n",
        "        self.n_head  = n_head\n",
        "        self.d_model = d_model\n",
        "        self.c_attn  = Conv1D(d_model, d_model*3)\n",
        "        self.proj_out = nn.Linear(n_head * d_head, d_model)\n",
        "        self.scale   = scale\n",
        "        self.softmax = nn.Softmax(dim=-1)\n",
        "        self.register_buffer(\"bias\", torch.tril(torch.ones(n_ctx, n_ctx)).view(1, 1, n_ctx, n_ctx))\n",
        "        self.dropout = nn.Dropout(0.1)\n",
        "        self.c_proj  = Conv1D(d_model, d_model)\n",
        "        self.rotary_emb = RotaryEmbedding(dim = 32)#intializing the rotatory embedding with dimension 32\n",
        "        self.window_size = window_size\n",
        "        # Properties specific to this attention mechanism\n",
        "        self.supports_attention_mask = True\n",
        "        self.supports_key_padding_mask = False\n",
        "\n",
        "        self.attention_mask: Optional[torch.Tensor] = None#attention mask to store the values of the slided attention window\n",
        "        self.requires_same_k_q_dimensions = True\n",
        "\n",
        "        self.look_backward=look_backward\n",
        "        self.look_forward=look_forward\n",
        "\n",
        "        self.causal=False\n",
        "        self.force_sparsity=False\n",
        "        self.shared_qk=False\n",
        "\n",
        "        self.attn_mask=None\n",
        "        self.TOKEN_SELF_ATTN_VALUE = -5e4\n",
        "\n",
        "    def _get_local_mask(self, shape: torch.Size) -> AttentionMask:\n",
        "      self.window_size = min(self.window_size * 2 + 1, shape[1]) if self.causal else min(self.window_size, shape[1])\n",
        "      mask = local_1d_pattern(shape[1], window_size)\n",
        "\n",
        "      if self.causal:\n",
        "          mask &= causal_1d_pattern(shape[1])\n",
        "\n",
        "      mask = sparsify(mask) if self.force_sparsity else maybe_sparsify(mask)\n",
        "\n",
        "      # Convert mask to tensor and set its dtype to float32\n",
        "      mask_tensor = mask.to(torch.float32)\n",
        "\n",
        "      return AttentionMask(mask_tensor)\n",
        "\n",
        "    def split_heads(self, x):\n",
        "        \"\"\"\n",
        "        spliting inyo given number of heads and then returning\n",
        "        return shape [`batch`, `head`, `sequence`, `features`]\n",
        "        \"\"\"\n",
        "        new_shape = x.size()[:-1] + (self.n_head, x.size(-1)//self.n_head)\n",
        "        x = x.view(*new_shape)\n",
        "        return x.permute(0, 2, 1, 3)\n",
        "\n",
        "    def _attn(self, q, k, v, attn_mask=None):\n",
        "        \"\"\"The main attention function\n",
        "        That claculates the attention using our dot product formula\"\"\"\n",
        "        scores  = torch.matmul(q, k.transpose(-2, -1))# dot multiplication between q and k transpose\n",
        "        if self.scale: scores = scores/math.sqrt(v.size(-1))# scaling it by dividing by sqrt(dk)\n",
        "        nd, ns  = scores.size(-2), scores.size(-1)\n",
        "        if attn_mask is not None: scores = scores + attn_mask# adding scores with attention mask values\n",
        "        scores  = self.softmax(scores)# adding softmax values\n",
        "        scores  = self.dropout(scores) #dropout of 0.1 as mentioned\n",
        "        outputs = torch.matmul(scores, v) # now the final matrix multiplication between score and V\n",
        "        return outputs\n",
        "\n",
        "    def merge_heads(self, x):\n",
        "        # merging the attention heads into one\n",
        "        x = x.permute(0, 2, 1, 3).contiguous()\n",
        "        new_shape = x.size()[:-2] + (x.size(-2)*x.size(-1),)\n",
        "        return x.view(*new_shape)\n",
        "\n",
        "\n",
        "    def forward(self, x,mask = None,input_mask = None,attn_bias = None,window_size = None):\n",
        "        '''The feed forward function that calculates the attention, split the heads, make attention, merge heads and project out the output\n",
        "        Applies convolutional attention to the input tensor.\n",
        "Splits the query, key, and value tensors into heads.\n",
        "Applies rotary embeddings to the query and key.\n",
        "Dynamically sets the window size if provided.\n",
        "Asserts that the sequence length is divisible by the window size.\n",
        "Applies the sliding window attention mechanism.\n",
        "Computes attention, applies masks, and performs aggregation.\n",
        "Returns the final output tensor.'''\n",
        "        mask = default(mask, input_mask)\n",
        "\n",
        "        x        = self.c_attn(x) #new `x` shape - `[1,3,2304]`\n",
        "        q, k, v  = x.split(self.d_model, dim=2)\n",
        "\n",
        "        q, k, v  = self.split_heads(q), self.split_heads(k), self.split_heads(v)\n",
        "        #applying the rotatory embeddings over query and key\n",
        "        q = self.rotary_emb.rotate_queries_or_keys(q)\n",
        "        k = self.rotary_emb.rotate_queries_or_keys(k)\n",
        "        shape, pad_value, window_size, causal, look_backward, look_forward, shared_qk = q.shape, -1, default(window_size, self.window_size), self.causal, self.look_backward, self.look_forward, self.shared_qk\n",
        "        (q, packed_shape), (k, _), (v, _) = map(lambda t: pack([t], '* n d'), (q, k, v))\n",
        "        b, n, dim_head, device, dtype = *q.shape, q.device, q.dtype\n",
        "\n",
        "        scale = default(self.scale, dim_head ** -0.5)\n",
        "\n",
        "        if window_size is not None:\n",
        "          self.window_size = window_size  # Set the window size dynamically\n",
        "\n",
        "        assert (n % window_size) == 0, f'sequence length {n} must be divisible by window size {window_size} for local attention'\n",
        "\n",
        "        windows = n // window_size\n",
        "\n",
        "\n",
        "        seq = torch.arange(n, device = device)\n",
        "        b_t = rearrange(seq, '(w n) -> 1 w n', w = windows, n = window_size)\n",
        "\n",
        "        bq, bk, bv = map(lambda t: rearrange(t, 'b (w n) d -> b w n d', w = windows), (q, k, v))\n",
        "\n",
        "        bq = bq * scale\n",
        "\n",
        "        look_around_kwargs = dict(\n",
        "            backward =  look_backward,\n",
        "            forward =  look_forward,\n",
        "            pad_value = pad_value\n",
        "        )\n",
        "\n",
        "        bk = look_around(bk, **look_around_kwargs)\n",
        "        bv = look_around(bv, **look_around_kwargs)\n",
        "\n",
        "        bq_t = b_t\n",
        "        bq_k = look_around(b_t, **look_around_kwargs)\n",
        "\n",
        "        bq_t = rearrange(bq_t, '... i -> ... i 1')\n",
        "        bq_k = rearrange(bq_k, '... j -> ... 1 j')\n",
        "\n",
        "        pad_mask = bq_k == pad_value\n",
        "\n",
        "        sim = einsum('b h i e, b h j e -> b h i j', bq, bk)\n",
        "\n",
        "        if exists(attn_bias):\n",
        "            heads = attn_bias.shape[0]\n",
        "            assert (b % heads) == 0\n",
        "\n",
        "            attn_bias = repeat(attn_bias, 'h i j -> (b h) 1 i j', b = b // heads)\n",
        "            sim = sim + attn_bias\n",
        "\n",
        "        mask_value = max_neg_value(sim)\n",
        "\n",
        "        if shared_qk:\n",
        "            self_mask = bq_t == bq_k\n",
        "            sim = sim.masked_fill(self_mask, self.TOKEN_SELF_ATTN_VALUE)\n",
        "            del self_mask\n",
        "\n",
        "\n",
        "        sim = sim.masked_fill(pad_mask, mask_value)\n",
        "\n",
        "        # take care of key padding mask passed in\n",
        "\n",
        "        if exists(mask):\n",
        "            batch = mask.shape[0]\n",
        "            assert (b % batch) == 0\n",
        "\n",
        "            h = b // mask.shape[0]\n",
        "\n",
        "\n",
        "\n",
        "            mask = rearrange(mask, '... (w n) -> (...) w n', w = windows, n = window_size)\n",
        "            mask = look_around(mask, **{**look_around_kwargs, 'pad_value': False})\n",
        "            mask = rearrange(mask, '... j -> ... 1 j')\n",
        "            mask = repeat(mask, 'b ... -> (b h) ...', h = h)\n",
        "            sim = sim.masked_fill(~mask, mask_value)\n",
        "            del mask\n",
        "\n",
        "        # attention\n",
        "\n",
        "        attn = sim.softmax(dim = -1)\n",
        "        attn = self.dropout(attn)\n",
        "\n",
        "        # aggregation\n",
        "\n",
        "        out = einsum('b h i j, b h j e -> b h i e', attn, bv)\n",
        "        out = rearrange(out, 'b w n d -> b (w n) d')\n",
        "\n",
        "        # out = self.proj_out(out)\n",
        "        out, *_ = unpack(out, packed_shape, '* n d')\n",
        "        out=rearrange(out, 'b n s d -> b s (n d)')\n",
        "        return out"
      ],
      "metadata": {
        "id": "C-zEfALeFg1V"
      },
      "execution_count": null,
      "outputs": []
    },
    {
      "cell_type": "code",
      "source": [
        "a=Attention_rope_slide(d_model=768, n_head=12, d_head=64, n_ctx=1024, bias=True, scale=False)"
      ],
      "metadata": {
        "id": "EOI2k2GO6RD3"
      },
      "execution_count": null,
      "outputs": []
    },
    {
      "cell_type": "code",
      "source": [
        "d_model = 768\n",
        "\n",
        "# Create a dummy variable\n",
        "dummy_out = torch.randn(36, 63, d_model)"
      ],
      "metadata": {
        "id": "Wmdyp7P56S6I"
      },
      "execution_count": null,
      "outputs": []
    },
    {
      "cell_type": "code",
      "source": [
        "out=a(dummy_out)"
      ],
      "metadata": {
        "id": "D1rqZhIx6VF2"
      },
      "execution_count": null,
      "outputs": []
    },
    {
      "cell_type": "code",
      "source": [
        "x=torch.randn(36, 63, 64)\n",
        "y=torch.randn(36, 63, 64)"
      ],
      "metadata": {
        "id": "vwKu6i7eBNsu"
      },
      "execution_count": null,
      "outputs": []
    },
    {
      "cell_type": "code",
      "source": [
        "out.shape"
      ],
      "metadata": {
        "colab": {
          "base_uri": "https://localhost:8080/"
        },
        "id": "FdZVLr996cpV",
        "outputId": "c47f487c-8759-4987-f89e-5f06fa8a9db8"
      },
      "execution_count": null,
      "outputs": [
        {
          "output_type": "execute_result",
          "data": {
            "text/plain": [
              "torch.Size([36, 63, 768])"
            ]
          },
          "metadata": {},
          "execution_count": 107
        }
      ]
    },
    {
      "cell_type": "code",
      "source": [
        "class TransformerBlock_rope_slide(nn.Module):\n",
        "    def __init__(self, d_model=768, n_head=12, dropout=0.1,window_size=2):\n",
        "        self.window_size=window_size\n",
        "        super().__init__()\n",
        "        self.attn        = Attention_rope_slide(d_model=768,window_size=window_size, n_head=12, d_head=64, n_ctx=1024, bias=True, scale=False)\n",
        "        self.feedforward = FeedForward(dropout=0.1, d_model=768, nx=768*4)\n",
        "        self.ln_1        = LayerNorm(d_model)\n",
        "        self.ln_2        = LayerNorm(d_model)\n",
        "\n",
        "    def forward(self, x):\n",
        "        x = x + self.attn(self.ln_1(x),window_size=window_size)\n",
        "        x = x + self.feedforward(self.ln_2(x))\n",
        "        return x"
      ],
      "metadata": {
        "id": "l1GznGuDJQgy"
      },
      "execution_count": null,
      "outputs": []
    },
    {
      "cell_type": "code",
      "source": [
        "class GPT2_rope_slide(nn.Module):\n",
        "    def __init__(self, nlayers=12, n_ctx=1024, d_model=768, vcb_sz=50257):\n",
        "        super(GPT2_rope_slide, self).__init__()\n",
        "        self.nlayers = nlayers\n",
        "        block        = TransformerBlock_rope_slide(window_size=window_size,d_model=768, n_head=12, dropout=0.1)\n",
        "        self.h       = _get_clones(block, 12)\n",
        "        self.wte     = nn.Embedding(vcb_sz, d_model)\n",
        "        self.wpe     = nn.Embedding(n_ctx, d_model)\n",
        "        self.drop    = nn.Dropout(0.1)\n",
        "        self.ln_f    = LayerNorm(d_model)\n",
        "        self.out     = nn.Linear(d_model, vcb_sz, bias=False)\n",
        "        self.loss_fn = nn.CrossEntropyLoss()\n",
        "        self.init_weights()\n",
        "\n",
        "    def set_window_size(self, window_size):\n",
        "        self.window_size = window_size\n",
        "\n",
        "    def init_weights(self):\n",
        "        '''Initialization of weights'''\n",
        "        self.out.weight = self.wte.weight\n",
        "        self.apply(self._init_weights)\n",
        "\n",
        "    def _init_weights(self, module):\n",
        "        '''If the Linear, Embedding and Conv1D then nomrally initializing with mean and S.D'''\n",
        "        if isinstance(module, (nn.Linear, nn.Embedding, Conv1D)):\n",
        "            module.weight.data.normal_(mean=0.0, std=0.02)\n",
        "            if isinstance(module, (nn.Linear, Conv1D)) and module.bias is not None:\n",
        "                '''Data Bias zero'''\n",
        "                module.bias.data.zero_()\n",
        "        elif isinstance(module, nn.LayerNorm):\n",
        "            module.bias.data.zero_()\n",
        "            module.weight.data.fill_(1.0)\n",
        "\n",
        "    def forward(self, src, labels=None, pos_ids=None):\n",
        "        '''Adding the positional embedding, dropping, then adding inputs, logits and outputs which are being used for loss function and then adding outputs and loss'''\n",
        "        if pos_ids is None: pos_ids = torch.arange(0, src.size(-1)).unsqueeze(0)\n",
        "        inp = self.drop((self.wte(src)+self.wpe(pos_ids)))\n",
        "        for i in range(self.nlayers): inp = self.h[i](inp)\n",
        "        inp     = self.ln_f(inp)\n",
        "        logits  = self.out(inp)\n",
        "        outputs = (logits,) + (inp,)\n",
        "\n",
        "        if labels is not None:\n",
        "            shift_logits = logits[..., :-1, :].contiguous()\n",
        "            shift_labels = labels[..., 1:].contiguous()\n",
        "            loss = self.loss_fn(shift_logits.view(-1, shift_logits.size(-1)), shift_labels.view(-1))\n",
        "            outputs = (loss,) + outputs\n",
        "            return outputs\n",
        "        return logits"
      ],
      "metadata": {
        "id": "BOrpq5RNNayT"
      },
      "execution_count": null,
      "outputs": []
    },
    {
      "cell_type": "markdown",
      "source": [
        "## Generating text and checking model stats"
      ],
      "metadata": {
        "id": "FVA5F4ViOTSE"
      }
    },
    {
      "cell_type": "code",
      "source": [
        "model = GPT2_rope_slide()\n",
        "# load pretrained_weights from hugging face\n",
        "\n",
        "model_dict = model.state_dict() #currently with random initialization\n",
        "state_dict = torch.load(\"/content/drive/MyDrive/gpt2-pytorch_model.bin\") #pretrained weights"
      ],
      "metadata": {
        "id": "h_SSeOzRN8j-"
      },
      "execution_count": null,
      "outputs": []
    },
    {
      "cell_type": "code",
      "source": [
        "old_keys = []\n",
        "new_keys = []\n",
        "for key in state_dict.keys():\n",
        "    if \"mlp\" in key: #The hugging face state dict references the feedforward network as mlp, need to replace to `feedforward` be able to reuse these weights\n",
        "        new_key = key.replace(\"mlp\", \"feedforward\")\n",
        "        new_keys.append(new_key)\n",
        "        old_keys.append(key)\n",
        "\n",
        "for old_key, new_key in zip(old_keys, new_keys):\n",
        "    state_dict[new_key]=state_dict.pop(old_key)\n",
        "\n",
        "pretrained_dict = {k: v for k, v in state_dict.items() if k in model_dict}\n",
        "\n",
        "model_dict.update(pretrained_dict)\n",
        "model.load_state_dict(model_dict)\n",
        "model.eval() #model in inference mode as it's now initialized with pretrained weights"
      ],
      "metadata": {
        "id": "wQt7LVveOcnq",
        "colab": {
          "base_uri": "https://localhost:8080/"
        },
        "outputId": "229ed298-da58-453a-f8cc-7a496f697220"
      },
      "execution_count": null,
      "outputs": [
        {
          "output_type": "execute_result",
          "data": {
            "text/plain": [
              "GPT2_rope_slide_group(\n",
              "  (h): ModuleList(\n",
              "    (0-11): 12 x TransformerBlock_rope_slide_group(\n",
              "      (attn): Attention_rope_slide_group(\n",
              "        (query_proj): Linear(in_features=1536, out_features=256, bias=True)\n",
              "        (c_attn): Conv1D()\n",
              "        (proj_out): Linear(in_features=256, out_features=768, bias=True)\n",
              "        (softmax): Softmax(dim=-1)\n",
              "        (dropout): Dropout(p=0.1, inplace=False)\n",
              "        (c_proj): Conv1D()\n",
              "        (rotary_emb): RotaryEmbedding()\n",
              "      )\n",
              "      (feedforward): FeedForward(\n",
              "        (c_fc): Conv1D()\n",
              "        (c_proj): Conv1D()\n",
              "        (dropout): Dropout(p=0.1, inplace=False)\n",
              "      )\n",
              "      (ln_1): LayerNorm((768,), eps=1e-05, elementwise_affine=True)\n",
              "      (ln_2): LayerNorm((768,), eps=1e-05, elementwise_affine=True)\n",
              "    )\n",
              "  )\n",
              "  (wte): Embedding(50257, 768)\n",
              "  (wpe): Embedding(1024, 768)\n",
              "  (drop): Dropout(p=0.1, inplace=False)\n",
              "  (ln_f): LayerNorm((768,), eps=1e-05, elementwise_affine=True)\n",
              "  (out): Linear(in_features=768, out_features=50257, bias=False)\n",
              "  (loss_fn): CrossEntropyLoss()\n",
              ")"
            ]
          },
          "metadata": {},
          "execution_count": 33
        }
      ]
    },
    {
      "cell_type": "code",
      "source": [
        "total_params = sum(p.numel() for p in model.parameters())\n",
        "\n",
        "# Calculate size in bytes and megabytes\n",
        "size_bytes = total_params * 4  # Assuming float32 parameters, where each parameter is 4 bytes\n",
        "size_mb = size_bytes / (1024 ** 2)\n",
        "\n",
        "print(f\"Total size of the GPT-2 with rotatory embeddings and sliding window attention is: {size_bytes} bytes or {size_mb:.2f} MB\")"
      ],
      "metadata": {
        "id": "7iKzROJwOnUt",
        "colab": {
          "base_uri": "https://localhost:8080/"
        },
        "outputId": "3f8fd77c-8d3d-4131-9c12-3a1dcf0ee507"
      },
      "execution_count": null,
      "outputs": [
        {
          "output_type": "stream",
          "name": "stdout",
          "text": [
            "Total size of the GPT-2 with rotatory embeddings and sliding window attention is: 526120704 bytes or 501.75 MB\n"
          ]
        }
      ]
    },
    {
      "cell_type": "code",
      "source": [
        "tokenizer = GPT2Tokenizer.from_pretrained(\"gpt2\")\n",
        "context = torch.tensor([tokenizer.encode(\"The planet earth is a\")])\n",
        "\n",
        "def generate_dynamic(context, window_size, ntok=20):\n",
        "    start_time = time.time()\n",
        "    for _ in range(ntok):\n",
        "        model.set_window_size(window_size)  # Set the window size dynamically\n",
        "        out = model(context)\n",
        "        logits = out[:, -1, :]\n",
        "        indices_to_remove = logits < torch.topk(logits, 10)[0][..., -1, None]\n",
        "        logits[indices_to_remove] = np.NINF\n",
        "        next_tok = torch.multinomial(F.softmax(logits, dim=-1), num_samples=1).squeeze(1)\n",
        "        context = torch.cat([context, next_tok.unsqueeze(-1)], dim=-1)\n",
        "\n",
        "        # Dynamically adjust the length of the input sequence based on the window_size\n",
        "        input_length = context.size(-1)\n",
        "        padding_size = window_size - (input_length % window_size)\n",
        "        if padding_size != window_size:\n",
        "            pad_token_id = tokenizer.pad_token_id if tokenizer.pad_token_id is not None else 0\n",
        "            padding_tokens = torch.zeros((context.size(0), padding_size), dtype=torch.long, device=context.device) + pad_token_id\n",
        "            context = torch.cat([context, padding_tokens], dim=-1)\n",
        "\n",
        "    end_time = time.time()\n",
        "    inference_time = end_time - start_time\n",
        "    return context, inference_time\n",
        "\n",
        "# Usage\n",
        "window_size = 5  # Adjust this as needed\n",
        "out, inference_time = generate_dynamic(context, ntok=20, window_size=window_size)\n",
        "decoded_output = tokenizer.decode(out[0])\n",
        "\n",
        "print(f\"Inference Time: {inference_time:.4f} seconds\")\n",
        "print(f\"Generated Output: {decoded_output}\")\n"
      ],
      "metadata": {
        "id": "HSRhWrPOPhb1",
        "colab": {
          "base_uri": "https://localhost:8080/"
        },
        "outputId": "63b5664b-40d0-4d8e-c9d8-f6b8a8f1f0c2"
      },
      "execution_count": null,
      "outputs": [
        {
          "output_type": "stream",
          "name": "stdout",
          "text": [
            "Inference Time: 8.6908 seconds\n",
            "Generated Output: The planet earth is a.!!!!.!!!!\n",
            "!!!!,!!!!,!!!!.!!!!\n",
            "!!!! the!!!!\n",
            "!!!! the!!!! The!!!!.!!!!.!!!!,!!!!\n",
            "!!!!\n",
            "!!!! to!!!! the!!!!\n",
            "!!!! of!!!!\n"
          ]
        }
      ]
    },
    {
      "cell_type": "markdown",
      "source": [
        "There is a significant increase in model size due to sliding window attention of around 25 mb due to additional funcionalties we are adding"
      ],
      "metadata": {
        "id": "21cAwOHgPWFU"
      }
    },
    {
      "cell_type": "markdown",
      "source": [
        "The output length is bigger than previous cases showing the usage but due to not a bigger chunk this window attention couldn't attend all the text with its limited window so thats why we are seeing this weird error, in case of training with it and a bigger chunk of text we can get some good results, also the time is being higher due to higher output length"
      ],
      "metadata": {
        "id": "MxIp2OhGS37s"
      }
    },
    {
      "cell_type": "markdown",
      "source": [
        "# Grouped Query Attention\n",
        "![image.png](data:image/png;base64,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)"
      ],
      "metadata": {
        "id": "IhFppM57YUnX"
      }
    },
    {
      "cell_type": "markdown",
      "source": [
        "This is grouped query attention which is generatlization of both multihead and ulti query attention with some part of multi head and some part of multi query as you can see in  the above picture<br>\n",
        " GQA is a generalization of MQA that employs an intermediate number of key-value heads. This enables a trade-off between speed and performance"
      ],
      "metadata": {
        "id": "lJgYCAHhchxj"
      }
    },
    {
      "cell_type": "markdown",
      "source": [
        "## Applying in our attention block"
      ],
      "metadata": {
        "id": "TUBrychL34Hj"
      }
    },
    {
      "cell_type": "code",
      "source": [
        "class Attention_rope_slide_group(nn.Module):\n",
        "    def __init__(self, d_model=768, n_head=4, n_query_per_head=2, window_size=3, n_ctx=1024, d_head=64, bias=True, scale=False, look_forward=1, look_backward=1):\n",
        "        '''\n",
        "        An implementation of a grouped query attention, as proposed in Longformer.\n",
        "        It combines rotational embeddings and sliding window attention for result comparison.\n",
        "\n",
        "        Params:\n",
        "        d_model: The dimension to be fed into our model\n",
        "        n_head: The number of heads for attention\n",
        "        n_query_per_head: The number of queries given each head\n",
        "        n_ctx: A parameter for buffer registry for bias\n",
        "        d_head: The dimension of head output\n",
        "        bias: A bool for including or not including bias\n",
        "        scale: Whether to scale the attention scores by the square root of the dimension of the queries(use sqrt(dk) or not)\n",
        "        look_forward: Number of positions to look forward in sliding window attention\n",
        "        look_backward: Number of positions to look backward in sliding window attention\n",
        "        '''\n",
        "        super().__init__()\n",
        "        # Initialization of the model parameters\n",
        "        self.n_head = n_head\n",
        "        self.n_query_per_head = n_query_per_head\n",
        "        self.d_model = d_model\n",
        "        self.query_proj = nn.Linear(d_model, n_head * d_head)\n",
        "        self.c_attn = Conv1D(d_model, d_model * 3)\n",
        "        self.proj_out = nn.Linear(n_head * d_head, d_model)\n",
        "        self.scale = scale\n",
        "        self.softmax = nn.Softmax(dim=-1)\n",
        "        self.register_buffer(\"bias\", torch.tril(torch.ones(n_ctx, n_ctx)).view(1, 1, n_ctx, n_ctx))\n",
        "        self.dropout = nn.Dropout(0.1)\n",
        "        self.c_proj = Conv1D(d_model, d_model)\n",
        "        self.rotary_emb = RotaryEmbedding(dim=32)  # initializing the rotatory embedding with dimension 32\n",
        "        self.window_size = window_size\n",
        "\n",
        "        # Properties specific to this attention mechanism\n",
        "        self.supports_attention_mask = True\n",
        "        self.supports_key_padding_mask = False\n",
        "        self.attention_mask: Optional[torch.Tensor] = None  # attention mask to store the values of the slided attention window\n",
        "        self.requires_same_k_q_dimensions = True\n",
        "        self.look_backward = look_backward\n",
        "        self.look_forward = look_forward\n",
        "        self.causal = False\n",
        "        self.force_sparsity = False\n",
        "        self.shared_qk = False\n",
        "        self.attn_mask = None\n",
        "        self.TOKEN_SELF_ATTN_VALUE = -5e4\n",
        "\n",
        "    def _get_local_mask(self, shape: torch.Size) -> AttentionMask:\n",
        "        # Function to get the local mask for attention\n",
        "        self.window_size = min(self.window_size * 2 + 1, shape[1]) if self.causal else min(self.window_size, shape[1])\n",
        "        mask = local_1d_pattern(shape[1], window_size)\n",
        "\n",
        "        if self.causal:\n",
        "            mask &= causal_1d_pattern(shape[1])\n",
        "\n",
        "        mask = sparsify(mask) if self.force_sparsity else maybe_sparsify(mask)\n",
        "\n",
        "        # Convert mask to tensor and set its dtype to float32\n",
        "        mask_tensor = mask.to(torch.float32)\n",
        "\n",
        "        return AttentionMask(mask_tensor)\n",
        "\n",
        "    def split_heads(self, x):\n",
        "        \"\"\"\n",
        "        Splitting into a given number of heads and then returning\n",
        "        return shape [batch, head, sequence, features]\n",
        "        \"\"\"\n",
        "        new_shape = x.size()[:-1] + (self.n_head, x.size(-1) // self.n_head)\n",
        "        x = x.view(*new_shape)\n",
        "        return x.permute(0, 2, 1, 3)\n",
        "\n",
        "    def split_heads_query(self, x):\n",
        "        \"\"\"\n",
        "        Split the last dimension of x into heads and reshape.\n",
        "        Returns shape [batch, n_head * n_query_per_head, sequence, features].\n",
        "        \"\"\"\n",
        "        # Get the original shape of x\n",
        "        original_shape = x.size()\n",
        "\n",
        "        # Calculate the required size for the last dimension\n",
        "        new_dim_size = self.n_head * self.n_query_per_head\n",
        "\n",
        "        # Ensure the size is divisible, if not, trim or pad\n",
        "        if original_shape[-1] % new_dim_size != 0:\n",
        "            diff = new_dim_size - (original_shape[-1] % new_dim_size)\n",
        "            x = F.pad(x, (0, diff), \"constant\", 0)\n",
        "\n",
        "        # Split the last dimension into n_head * n_query_per_head\n",
        "        x = x.view(original_shape[0], original_shape[1], new_dim_size, -1)\n",
        "\n",
        "        # Transpose to have the shape [batch, n_head * n_query_per_head, sequence, features]\n",
        "        x = x.permute(0, 2, 1, 3)\n",
        "\n",
        "        return x\n",
        "\n",
        "    def _attn(self, q, k, v, attn_mask=None):\n",
        "        \"\"\"The main attention function\n",
        "        That calculates the attention using our dot product formula\"\"\"\n",
        "        scores = torch.matmul(q, k.transpose(-2, -1))  # dot multiplication between q and k transpose\n",
        "        if self.scale:\n",
        "            scores = scores / math.sqrt(v.size(-1))  # scaling it by dividing by sqrt(dk)\n",
        "        nd, ns = scores.size(-2), scores.size(-1)\n",
        "        if attn_mask is not None:\n",
        "            scores = scores + attn_mask  # adding scores with attention mask values\n",
        "        scores = self.softmax(scores)  # adding softmax values\n",
        "        scores = self.dropout(scores)  # dropout of 0.1 as mentioned\n",
        "        outputs = torch.matmul(scores, v)  # now the final matrix multiplication between score and V\n",
        "        return outputs\n",
        "\n",
        "    def merge_heads(self, x):\n",
        "        # merging the attention heads into one\n",
        "        x = x.permute(0, 2, 1, 3).contiguous()\n",
        "        new_shape = x.size()[:-2] + (x.size(-2) * x.size(-1),)\n",
        "        return x.view(*new_shape)\n",
        "\n",
        "    def merge_heads_query(self, x, original_shape):\n",
        "        \"\"\"\n",
        "        Merge the heads back to the original shape.\n",
        "        Assumes the input shape is [batch, (n_head // 2) * n_query_per_head, sequence, features].\n",
        "        Returns the shape [batch, n_head * n_query_per_head, sequence, features].\n",
        "        \"\"\"\n",
        "        # Reverse the doubling of features dimension\n",
        "        x = x.reshape(original_shape[0], -1, original_shape[2], original_shape[3] // self.n_query_per_head)\n",
        "\n",
        "        # Transpose back to the shape [batch, (n_head // 2) * n_query_per_head, sequence, features]\n",
        "        x = x.permute(0, 2, 1, 3)\n",
        "\n",
        "        # Merge the last dimension into n_head * n_query_per_head\n",
        "        x = x.reshape(original_shape[0], original_shape[1], -1, original_shape[3])\n",
        "\n",
        "        return x\n",
        "\n",
        "    def forward(self, x, mask=None, input_mask=None, attn_bias=None, window_size=None):\n",
        "        '''The feed forward function that calculates the attention, split the heads, make attention, merge heads and project out the output\n",
        "        Applies convolutional attention to the input tensor.\n",
        "        Splits the query, key, and value tensors into heads.\n",
        "        Applies rotary embeddings to the query and key.\n",
        "        Dynamically sets the window size if provided.\n",
        "        Asserts that the sequence length is divisible by the window size.\n",
        "        Applies the sliding window attention mechanism.\n",
        "        Computes attention, applies masks, and performs aggregation.\n",
        "        Returns the final output tensor.'''\n",
        "        mask = default(mask, input_mask)\n",
        "\n",
        "        x = self.c_attn(x)  # new `x` shape - `[1,3,2304]`\n",
        "        q, k, v = x.split(self.d_model, dim=2)\n",
        "\n",
        "        q, k, v = self.split_heads_query(q), self.split_heads(k), self.split_heads(v)\n",
        "        q = self.merge_heads_query(q, k.shape)  # re-merging these queries to do the same dimension to keys for projecting\n",
        "\n",
        "        # applying the rotatory embeddings over query and key\n",
        "        q = self.rotary_emb.rotate_queries_or_keys(q)\n",
        "        k = self.rotary_emb.rotate_queries_or_keys(k)\n",
        "        shape, pad_value, window_size, causal, look_backward, look_forward, shared_qk = q.shape, -1, default(\n",
        "            window_size, self.window_size), self.causal, self.look_backward, self.look_forward, self.shared_qk\n",
        "        (q, packed_shape), (k, _), (v, _) = map(lambda t: pack([t], '* n d'), (q, k, v))\n",
        "        b, n, dim_head, device, dtype = *q.shape, q.device, q.dtype\n",
        "\n",
        "        scale = default(self.scale, dim_head ** -0.5)\n",
        "\n",
        "        if window_size is not None:\n",
        "            self.window_size = window_size  # Set the window size dynamically\n",
        "\n",
        "        assert (n % window_size) == 0, f'sequence length {n} must be divisible by window size {window_size} for local attention'\n",
        "\n",
        "        windows = n // window_size\n",
        "\n",
        "        seq = torch.arange(n, device=device)\n",
        "        b_t = rearrange(seq, '(w n) -> 1 w n', w=windows, n=window_size)\n",
        "\n",
        "        bq, bk, bv = map(lambda t: rearrange(t, 'b (w n) d -> b w n d', w=windows), (q, k, v))  # getting the windowed value of q, k, and v\n",
        "\n",
        "        bq = bq * scale  # applying the value of scale to query\n",
        "\n",
        "        look_around_kwargs = dict(\n",
        "            backward=look_backward,\n",
        "            forward=look_forward,\n",
        "            pad_value=pad_value\n",
        "        )\n",
        "\n",
        "        bk = look_around(bk, **look_around_kwargs)\n",
        "        bv = look_around(bv, **look_around_kwargs)\n",
        "\n",
        "        bq_t = b_t\n",
        "        bq_k = look_around(b_t, **look_around_kwargs)\n",
        "\n",
        "        bq_t = rearrange(bq_t, '... i -> ... i 1')\n",
        "        bq_k = rearrange(bq_k, '... j -> ... 1 j')\n",
        "\n",
        "        pad_mask = bq_k == pad_value\n",
        "\n",
        "        sim = einsum('b h i e, b h j e -> b h i j', bq, bk)\n",
        "\n",
        "        if exists(attn_bias):\n",
        "            heads = attn_bias.shape[0]\n",
        "            assert (b % heads) == 0\n",
        "\n",
        "            attn_bias = repeat(attn_bias, 'h i j -> (b h) 1 i j', b=b // heads)\n",
        "            sim = sim + attn_bias\n",
        "\n",
        "        mask_value = max_neg_value(sim)\n",
        "\n",
        "        if shared_qk:\n",
        "            self_mask = bq_t == bq_k\n",
        "            sim = sim.masked_fill(self_mask, self.TOKEN_SELF_ATTN_VALUE)\n",
        "            del self_mask\n",
        "\n",
        "        sim = sim.masked_fill(pad_mask, mask_value)\n",
        "\n",
        "        # take care of key padding mask passed in\n",
        "\n",
        "        if exists(mask):\n",
        "            batch = mask.shape[0]\n",
        "            assert (b % batch) == 0\n",
        "\n",
        "            h = b // mask.shape[0]\n",
        "\n",
        "            mask = rearrange(mask, '... (w n) -> (...) w n', w=windows, n=window_size)\n",
        "            mask = look_around(mask, **{**look_around_kwargs, 'pad_value': False})\n",
        "            mask = rearrange(mask, '... j -> ... 1 j')\n",
        "            mask = repeat(mask, 'b ... -> (b h) ...', h=h)\n",
        "            sim = sim.masked_fill(~mask, mask_value)\n",
        "            del mask\n",
        "\n",
        "        # attention\n",
        "\n",
        "        attn = sim.softmax(dim=-1)\n",
        "        attn = self.dropout(attn)\n",
        "\n",
        "        # aggregation\n",
        "\n",
        "        out = einsum('b h i j, b h j e -> b h i e', attn, bv)\n",
        "        out = rearrange(out, 'b w n d -> b (w n) d')\n",
        "\n",
        "        out = self.proj_out(out)\n",
        "        out, *_ = unpack(out, packed_shape, '* n d')\n",
        "        out = rearrange(out, 'b n s d -> b s (n d)')\n",
        "        return out"
      ],
      "metadata": {
        "id": "d9HlAi2rPNMq"
      },
      "execution_count": null,
      "outputs": []
    },
    {
      "cell_type": "code",
      "source": [
        "class TransformerBlock_rope_slide_group(nn.Module):\n",
        "    def __init__(self, d_model=768, n_head=4,n_query_per_head=2, dropout=0.1,window_size=2):\n",
        "        self.window_size=window_size\n",
        "        super().__init__()\n",
        "        self.attn        = Attention_rope_slide_group(d_model=768,window_size=window_size, n_head=n_head,n_query_per_head=n_query_per_head, d_head=64, n_ctx=1024, bias=True, scale=False)\n",
        "        self.feedforward = FeedForward(dropout=0.1, d_model=768, nx=768*4)\n",
        "        self.ln_1        = LayerNorm(d_model)\n",
        "        self.ln_2        = LayerNorm(d_model)\n",
        "\n",
        "    def forward(self, x):\n",
        "        x = x + self.attn(self.ln_1(x),window_size=self.window_size)\n",
        "        x = x + self.feedforward(self.ln_2(x))\n",
        "        return x"
      ],
      "metadata": {
        "id": "SCfuSJzO30YI"
      },
      "execution_count": null,
      "outputs": []
    },
    {
      "cell_type": "code",
      "source": [
        "class GPT2_rope_slide_group(nn.Module):\n",
        "    def __init__(self, nlayers=12, n_ctx=1024, d_model=768, vcb_sz=50257):\n",
        "        super(GPT2_rope_slide_group, self).__init__()\n",
        "        self.nlayers = nlayers\n",
        "        self.window_size=5\n",
        "        self.n_head=4\n",
        "        self.n_query_per_head=2\n",
        "        block        = TransformerBlock_rope_slide_group(window_size=self.window_size,n_head=self.n_head,n_query_per_head=self.n_query_per_head,d_model=768, dropout=0.1)\n",
        "        self.h       = _get_clones(block, 12)\n",
        "        self.wte     = nn.Embedding(vcb_sz, d_model)\n",
        "        self.wpe     = nn.Embedding(n_ctx, d_model)\n",
        "        self.drop    = nn.Dropout(0.1)\n",
        "        self.ln_f    = LayerNorm(d_model)\n",
        "        self.out     = nn.Linear(d_model, vcb_sz, bias=False)\n",
        "        self.loss_fn = nn.CrossEntropyLoss()\n",
        "        self.init_weights()\n",
        "\n",
        "    def set_window_size(self, window_size):\n",
        "        '''Function for dynamically setting the window size which is later used while inferencing'''\n",
        "        self.window_size = window_size\n",
        "\n",
        "    def set_heads(self,n_head,n_query_per_head):\n",
        "        '''A function for setting the heads variable for heads and number of per queries per head'''\n",
        "        self.n_head=n_head\n",
        "        self.n_query_per_head=n_query_per_head\n",
        "\n",
        "    def init_weights(self):\n",
        "        '''Initialization of weights'''\n",
        "        self.out.weight = self.wte.weight\n",
        "        self.apply(self._init_weights)\n",
        "\n",
        "    def _init_weights(self, module):\n",
        "        '''If the Linear, Embedding and Conv1D then nomrally initializing with mean and S.D'''\n",
        "        if isinstance(module, (nn.Linear, nn.Embedding, Conv1D)):\n",
        "            module.weight.data.normal_(mean=0.0, std=0.02)\n",
        "            if isinstance(module, (nn.Linear, Conv1D)) and module.bias is not None:\n",
        "                '''Data Bias zero'''\n",
        "                module.bias.data.zero_()\n",
        "        elif isinstance(module, nn.LayerNorm):\n",
        "            module.bias.data.zero_()\n",
        "            module.weight.data.fill_(1.0)\n",
        "\n",
        "    def forward(self, src, labels=None, pos_ids=None):\n",
        "        '''Adding the positional embedding, dropping, then adding inputs, logits and outputs which are being used for loss function and then adding outputs and loss'''\n",
        "        if pos_ids is None:\n",
        "            pos_ids = torch.arange(0, src.size(-1)).unsqueeze(0)\n",
        "        pos_ids = pos_ids.to(src.device)  # Ensure pos_ids is on the same device as src\n",
        "        inp = self.drop((self.wte(src) + self.wpe(pos_ids)))\n",
        "        for i in range(self.nlayers):\n",
        "            inp = self.h[i](inp)\n",
        "        inp = self.ln_f(inp)\n",
        "        logits = self.out(inp)\n",
        "        outputs = (logits,) + (inp,)\n",
        "\n",
        "        if labels is not None:\n",
        "            shift_logits = logits[..., :-1, :].contiguous()\n",
        "            shift_labels = labels[..., 1:].contiguous()\n",
        "            loss = self.loss_fn(shift_logits.view(-1, shift_logits.size(-1)), shift_labels.view(-1))\n",
        "            outputs = (loss,) + outputs\n",
        "            return loss.mean()\n",
        "        return logits\n"
      ],
      "metadata": {
        "id": "ayAtujls4Mck"
      },
      "execution_count": null,
      "outputs": []
    },
    {
      "cell_type": "markdown",
      "source": [
        "## Generating text and Checking model stats"
      ],
      "metadata": {
        "id": "92hJQEHv49kk"
      }
    },
    {
      "cell_type": "code",
      "source": [
        "model = GPT2_rope_slide_group()\n",
        "# load pretrained_weights from hugging face\n",
        "\n",
        "model_dict = model.state_dict() #currently with random initialization\n",
        "state_dict = torch.load(\"/content/drive/MyDrive/gpt2-pytorch_model.bin\") #pretrained weights"
      ],
      "metadata": {
        "id": "VbIFPFY_49Dm"
      },
      "execution_count": null,
      "outputs": []
    },
    {
      "cell_type": "code",
      "source": [
        "old_keys = []\n",
        "new_keys = []\n",
        "for key in state_dict.keys():\n",
        "    if \"mlp\" in key: #The hugging face state dict references the feedforward network as mlp, need to replace to `feedforward` be able to reuse these weights\n",
        "        new_key = key.replace(\"mlp\", \"feedforward\")\n",
        "        new_keys.append(new_key)\n",
        "        old_keys.append(key)\n",
        "\n",
        "for old_key, new_key in zip(old_keys, new_keys):\n",
        "    state_dict[new_key]=state_dict.pop(old_key)\n",
        "\n",
        "pretrained_dict = {k: v for k, v in state_dict.items() if k in model_dict}\n",
        "\n",
        "model_dict.update(pretrained_dict)\n",
        "model.load_state_dict(model_dict)\n",
        "model.eval() #model in inference mode as it's now initialized with pretrained weights"
      ],
      "metadata": {
        "id": "X2a3jz_i5OZv",
        "colab": {
          "base_uri": "https://localhost:8080/"
        },
        "outputId": "52c2205e-19c0-4996-abc4-dba8e390385b"
      },
      "execution_count": null,
      "outputs": [
        {
          "output_type": "execute_result",
          "data": {
            "text/plain": [
              "GPT2_rope_slide_group(\n",
              "  (h): ModuleList(\n",
              "    (0-11): 12 x TransformerBlock_rope_slide_group(\n",
              "      (attn): Attention_rope_slide_group(\n",
              "        (query_proj): Linear(in_features=768, out_features=256, bias=True)\n",
              "        (c_attn): Conv1D()\n",
              "        (proj_out): Linear(in_features=256, out_features=768, bias=True)\n",
              "        (softmax): Softmax(dim=-1)\n",
              "        (dropout): Dropout(p=0.1, inplace=False)\n",
              "        (c_proj): Conv1D()\n",
              "        (rotary_emb): RotaryEmbedding()\n",
              "      )\n",
              "      (feedforward): FeedForward(\n",
              "        (c_fc): Conv1D()\n",
              "        (c_proj): Conv1D()\n",
              "        (dropout): Dropout(p=0.1, inplace=False)\n",
              "      )\n",
              "      (ln_1): LayerNorm((768,), eps=1e-05, elementwise_affine=True)\n",
              "      (ln_2): LayerNorm((768,), eps=1e-05, elementwise_affine=True)\n",
              "    )\n",
              "  )\n",
              "  (wte): Embedding(50257, 768)\n",
              "  (wpe): Embedding(1024, 768)\n",
              "  (drop): Dropout(p=0.1, inplace=False)\n",
              "  (ln_f): LayerNorm((768,), eps=1e-05, elementwise_affine=True)\n",
              "  (out): Linear(in_features=768, out_features=50257, bias=False)\n",
              "  (loss_fn): CrossEntropyLoss()\n",
              ")"
            ]
          },
          "metadata": {},
          "execution_count": 30
        }
      ]
    },
    {
      "cell_type": "code",
      "source": [
        "total_params = sum(p.numel() for p in model.parameters())\n",
        "\n",
        "# Calculate size in bytes and megabytes\n",
        "size_bytes = total_params * 4  # Assuming float32 parameters, where each parameter is 4 bytes\n",
        "size_mb = size_bytes / (1024 ** 2)\n",
        "\n",
        "print(f\"Total size of the GPT-2 with rotatory embeddings, sliding window attention and grouped query attention is: {size_bytes} bytes or {size_mb:.2f} MB\")"
      ],
      "metadata": {
        "colab": {
          "base_uri": "https://localhost:8080/"
        },
        "id": "xo7kPzL1CKR4",
        "outputId": "18bd1299-2717-44c1-d8f6-3c2438184a89"
      },
      "execution_count": null,
      "outputs": [
        {
          "output_type": "stream",
          "name": "stdout",
          "text": [
            "Total size of the GPT-2 with rotatory embeddings, sliding window attention and grouped query attention is: 516683520 bytes or 492.75 MB\n"
          ]
        }
      ]
    },
    {
      "cell_type": "code",
      "source": [
        "tokenizer = GPT2Tokenizer.from_pretrained(\"gpt2\")\n",
        "context = torch.tensor([tokenizer.encode(\"The planet earth is a\")])\n",
        "\n",
        "def generate_dynamic(context, window_size,n_head=4,n_query_per_head=2, ntok=20):\n",
        "    start_time = time.time()\n",
        "    for _ in range(ntok):\n",
        "        model.set_window_size(window_size)  # Set the window size dynamically\n",
        "        model.set_heads(n_head,n_query_per_head)\n",
        "        out = model(context)\n",
        "        logits = out[:, -1, :]\n",
        "        indices_to_remove = logits < torch.topk(logits, 10)[0][..., -1, None]\n",
        "        logits[indices_to_remove] = np.NINF\n",
        "        next_tok = torch.multinomial(F.softmax(logits, dim=-1), num_samples=1).squeeze(1)\n",
        "        context = torch.cat([context, next_tok.unsqueeze(-1)], dim=-1)\n",
        "\n",
        "        # Dynamically adjust the length of the input sequence based on the window_size\n",
        "        input_length = context.size(-1)\n",
        "        padding_size = window_size - (input_length % window_size)\n",
        "        if padding_size != window_size:\n",
        "            pad_token_id = tokenizer.pad_token_id if tokenizer.pad_token_id is not None else 0\n",
        "            padding_tokens = torch.zeros((context.size(0), padding_size), dtype=torch.long, device=context.device) + pad_token_id\n",
        "            context = torch.cat([context, padding_tokens], dim=-1)\n",
        "\n",
        "    end_time = time.time()\n",
        "    inference_time = end_time - start_time\n",
        "    return context, inference_time\n",
        "\n",
        "# Usage\n",
        "window_size = 5  # Adjust this as needed\n",
        "out, inference_time = generate_dynamic(context, ntok=20, window_size=window_size)\n",
        "decoded_output = tokenizer.decode(out[0])\n",
        "\n",
        "print(f\"Inference Time: {inference_time:.4f} seconds\")\n",
        "print(f\"Generated Output: {decoded_output}\")"
      ],
      "metadata": {
        "colab": {
          "base_uri": "https://localhost:8080/",
          "height": 301,
          "referenced_widgets": [
            "0e695676330d4bbc9428a687b60ccea7",
            "914c750f6464447e8d6402c015b4f16f",
            "c07a1602a53d494883ecf3a65b6bef8c",
            "980503e556fa4b10a8599692a7584f0d",
            "ef896a13e55b4084aaa3e60d88fa7551",
            "e0d48ecbffbc44d88bd740d9e5afbbd8",
            "8f9d7c4d7ded42c5886226ea25bc6788",
            "dbe72b847e1b4c1aa9c76e604600e575",
            "1f6f6f4ac31b4c3985a42858b07c6017",
            "9eabbab596c1485dafd0abf435f7f7fb",
            "648c00c5adeb456c8be5fe5328af0e94",
            "810684e4b2bd4c17beeea8cbcf0bcb9b",
            "e9125cb4349a4511903648e9fcc36bec",
            "c2e91bbfb0c8452c9250b70177b93cca",
            "9e648c025ad3473299acace85695f6ef",
            "e5ee114e07484a3681878cb30eaf0397",
            "db740faf976440acb74e8fba8b029811",
            "90953e940adf4e07af87bd60a1cf9a7c",
            "a06764d04abe4754ac3d87b99ce44b3e",
            "a6e231199bf845a899bb56fe6047cc1e",
            "af0dcdb7641c40c6b98b03e2ec6f2520",
            "e10ebd05fcba4b6481cd9d8f12241188",
            "261ce5859f6d467f86c2662467d24e94",
            "78b045dac8044123bd70a96f907c337d",
            "0d68efff0f7c4ff2a2b037ac78dad051",
            "1f3e886efee445ffa236d0cc1e496c8a",
            "2c13ab99da5d492496fb44f5e2be3cb7",
            "94a875b068e546f689b087e9360d87c3",
            "5306de79279c400fb742778a0b822c58",
            "218b2b9cb9af410eb3a127b18b5808f3",
            "928d65c579e94d82bc0d3f651e3fbcb8",
            "cdbbf0d161d14538b7bf8cd8fc4fa292",
            "540a1b89260640efa1322f0825e127a9",
            "710c5a1d88314a4ab188a326850a7305",
            "554d74aba39a4b68bed83d9bc10d8380",
            "1c368cf45a0545948b7fed40183e11c4",
            "a460b70e0704459c8db31ae6ef70418c",
            "ae83d13d34a44152a71aba04ed430dcb",
            "185bce18979d4bcb9c5173d58f898313",
            "13118531a65c4f72beaa3c4e686ad1d6",
            "f45e4a3b21f7414e924a69855997b259",
            "5e2d9aeda0ec479abbf5001f2583f0ef",
            "b0377f5487354af7b84f37a447c67fa3",
            "a09d721adc904bc2b02bc57590c12063"
          ]
        },
        "id": "vf-t4oGiCP3u",
        "outputId": "ae0dee25-6e32-40a0-ba81-1cf3d910ec53"
      },
      "execution_count": null,
      "outputs": [
        {
          "output_type": "display_data",
          "data": {
            "text/plain": [
              "vocab.json:   0%|          | 0.00/1.04M [00:00<?, ?B/s]"
            ],
            "application/vnd.jupyter.widget-view+json": {
              "version_major": 2,
              "version_minor": 0,
              "model_id": "0e695676330d4bbc9428a687b60ccea7"
            }
          },
          "metadata": {}
        },
        {
          "output_type": "display_data",
          "data": {
            "text/plain": [
              "merges.txt:   0%|          | 0.00/456k [00:00<?, ?B/s]"
            ],
            "application/vnd.jupyter.widget-view+json": {
              "version_major": 2,
              "version_minor": 0,
              "model_id": "810684e4b2bd4c17beeea8cbcf0bcb9b"
            }
          },
          "metadata": {}
        },
        {
          "output_type": "display_data",
          "data": {
            "text/plain": [
              "tokenizer.json:   0%|          | 0.00/1.36M [00:00<?, ?B/s]"
            ],
            "application/vnd.jupyter.widget-view+json": {
              "version_major": 2,
              "version_minor": 0,
              "model_id": "261ce5859f6d467f86c2662467d24e94"
            }
          },
          "metadata": {}
        },
        {
          "output_type": "display_data",
          "data": {
            "text/plain": [
              "config.json:   0%|          | 0.00/665 [00:00<?, ?B/s]"
            ],
            "application/vnd.jupyter.widget-view+json": {
              "version_major": 2,
              "version_minor": 0,
              "model_id": "710c5a1d88314a4ab188a326850a7305"
            }
          },
          "metadata": {}
        },
        {
          "output_type": "stream",
          "name": "stdout",
          "text": [
            "Inference Time: 6.3245 seconds\n",
            "Generated Output: The planet earth is a\n",
            "!!!! the!!!! the!!!! the!!!!,!!!!\n",
            "!!!! the!!!!\n",
            "!!!!\n",
            "!!!! The!!!!\n",
            "!!!!.!!!!,!!!! and!!!!\n",
            "!!!! the!!!!\n",
            "!!!! the!!!!.!!!! the!!!!\n"
          ]
        }
      ]
    },
    {
      "cell_type": "markdown",
      "source": [
        "Wwe can see that there is a significant decrease in size due to less layers as before we were making all the multi head computations but now we have done lesser so there was around 10 MB size decrease<br>\n",
        "Also, the time was reducted around 1.5 seconds after appyling this grouped query attention, there would be bigger difference in times would be seen if we are doing it for longer chunks"
      ],
      "metadata": {
        "id": "oEZqXnZdhs8_"
      }
    },
    {
      "cell_type": "markdown",
      "source": [
        "# Single GPU Training Loop\n",
        "This is a code for training our GPT-2 on a single GPU\n",
        "For these purpose I would be using shakshepher.txt to demnostartate the training process, how it is happening"
      ],
      "metadata": {
        "id": "giatDRC5nUBw"
      }
    },
    {
      "cell_type": "markdown",
      "source": [
        "## Training Functions"
      ],
      "metadata": {
        "id": "HS5fxHCswL9E"
      }
    },
    {
      "cell_type": "code",
      "source": [
        "class TrainerConfig:\n",
        "    '''Class for seeting the Training for training configurations'''\n",
        "    # optimization parameters\n",
        "    max_epochs = 10\n",
        "    batch_size = 8\n",
        "    learning_rate = 3e-4\n",
        "    betas = (0.9, 0.95)\n",
        "    grad_norm_clip = 1.0\n",
        "    weight_decay = 0.1  # only applied on matmul weights\n",
        "    # learning rate decay params: linear warmup followed by cosine decay to 10% of original\n",
        "    lr_decay = False\n",
        "    warmup_tokens = 375e6  # these two numbers come from the GPT-3 paper, but may not be good defaults elsewhere\n",
        "    final_tokens = 260e9  # (at what we reach 10% of original LR)\n",
        "    # checkpoint settings\n",
        "    ckpt_path = None\n",
        "    num_workers = 0  # for DataLoader\n",
        "\n",
        "    def __init__(self, **kwargs):\n",
        "        for k, v in kwargs.items():\n",
        "            setattr(self, k, v)"
      ],
      "metadata": {
        "id": "hrkhKRS7Ckuk"
      },
      "execution_count": null,
      "outputs": []
    },
    {
      "cell_type": "code",
      "source": [
        "class Trainer:\n",
        "    def __init__(self, model, train_dataset, test_dataset, config):\n",
        "        self.model = model\n",
        "        self.train_dataset = train_dataset\n",
        "        self.test_dataset = test_dataset\n",
        "        self.config = config\n",
        "\n",
        "        # take over whatever gpus are on the system\n",
        "        self.device = \"cpu\"\n",
        "        if torch.cuda.is_available():\n",
        "            self.device = torch.cuda.current_device()\n",
        "            self.model = torch.nn.DataParallel(self.model).to(self.device)\n",
        "\n",
        "    def save_checkpoint(self):\n",
        "        # DataParallel wrappers keep raw model object in .module attribute\n",
        "        raw_model = self.model.module if hasattr(self.model, \"module\") else self.model\n",
        "        logger.info(f\"saving {self.config.ckpt_path}\")\n",
        "        torch.save(raw_model.state_dict(), self.config.ckpt_path)\n",
        "\n",
        "    def train(self):\n",
        "        model, config = self.model, self.config#getting the model and training configurations\n",
        "        raw_model = model.module if hasattr(self.model, \"module\") else model\n",
        "        self.optimizer = torch.optim.Adam(self.model.parameters(), lr=config.learning_rate)\n",
        "\n",
        "        def run_epoch(split):\n",
        "            is_train = split == \"train\"\n",
        "            model.train(is_train)\n",
        "            data = self.train_dataset if is_train else self.test_dataset\n",
        "            loader = DataLoader(\n",
        "                data,\n",
        "                shuffle=True,\n",
        "                pin_memory=True,\n",
        "                batch_size=config.batch_size,\n",
        "                num_workers=config.num_workers,\n",
        "            )\n",
        "\n",
        "            losses = []\n",
        "            pbar = (\n",
        "                tqdm(enumerate(loader), total=len(loader))\n",
        "                if is_train\n",
        "                else enumerate(loader)\n",
        "            )\n",
        "            for it, (x, y) in pbar:\n",
        "\n",
        "                # place data on the correct device\n",
        "                x = x.to(self.device)\n",
        "                y = y.to(self.device)\n",
        "\n",
        "                # forward the model\n",
        "                with torch.set_grad_enabled(is_train):\n",
        "                    loss = model(x, y)  # The forward method returns the mean of the loss directly\n",
        "                    logits = model(x)\n",
        "                    losses.append(loss.item())\n",
        "\n",
        "                if is_train:\n",
        "\n",
        "                    # backprop and update the parameters\n",
        "                    model.zero_grad()\n",
        "                    loss.backward(retain_graph=True)\n",
        "                    torch.nn.utils.clip_grad_norm_(\n",
        "                        model.parameters(), config.grad_norm_clip\n",
        "                    )\n",
        "                    self.optimizer.step()\n",
        "\n",
        "                    # decay the learning rate based on our progress\n",
        "                    if config.lr_decay:\n",
        "                        self.tokens += (\n",
        "                            y >= 0\n",
        "                        ).sum()  # number of tokens processed this step (i.e. label is not -100)\n",
        "                        if self.tokens < config.warmup_tokens:\n",
        "                            # linear warmup\n",
        "                            lr_mult = float(self.tokens) / float(\n",
        "                                max(1, config.warmup_tokens)\n",
        "                            )\n",
        "                        else:\n",
        "                            # cosine learning rate decay\n",
        "                            progress = float(\n",
        "                                self.tokens - config.warmup_tokens\n",
        "                            ) / float(\n",
        "                                max(1, config.final_tokens - config.warmup_tokens)\n",
        "                            )\n",
        "                            lr_mult = max(\n",
        "                                0.1, 0.5 * (1.0 + math.cos(math.pi * progress))\n",
        "                            )\n",
        "                        lr = config.learning_rate * lr_mult\n",
        "                        for param_group in self.optimizer.param_groups:\n",
        "                            param_group[\"lr\"] = lr\n",
        "                    else:\n",
        "                        lr = config.learning_rate\n",
        "\n",
        "                    # repeat progress\n",
        "                    pbar.set_description(\n",
        "                        f\"epoch {epoch+1} iter {it}: train loss {loss.item():.5f}, lr {lr:e}\"\n",
        "                    )\n",
        "\n",
        "            if not is_train:\n",
        "                test_loss = float(np.mean(losses))\n",
        "                logger.info(f\"test loss: {test_loss}\")\n",
        "                return test_loss\n",
        "\n",
        "        best_loss = float(\"inf\")\n",
        "        self.tokens = 0  # counter used for learning rate decay\n",
        "        for epoch in range(config.max_epochs):\n",
        "\n",
        "            run_epoch(\"train\")\n",
        "            if self.test_dataset is not None:\n",
        "                test_loss = run_epoch(\"test\")\n",
        "\n",
        "            # supports early stopping based on the test loss, or just save always is no test set is provided\n",
        "            good_model = self.test_dataset is None or test_loss < best_loss\n",
        "            if self.config.ckpt_path is not None and good_model:\n",
        "                best_loss = test_loss if self.test_dataset is not None else float(\"inf\")\n",
        "                self.save_checkpoint()"
      ],
      "metadata": {
        "id": "j-VNRAO_wgUS"
      },
      "execution_count": null,
      "outputs": []
    },
    {
      "cell_type": "markdown",
      "source": [
        "## Dataset\n",
        "Here we will be loading our dataset and making a dataloader for batch wise training"
      ],
      "metadata": {
        "id": "oNJmahDew0_3"
      }
    },
    {
      "cell_type": "code",
      "source": [
        "class CharDataset(Dataset):\n",
        "\n",
        "    def __init__(self, data, block_size):\n",
        "        chars = sorted(list(set(data)))\n",
        "        data_size, vocab_size = len(data), len(chars)\n",
        "        print(f\"data has {data_size:d} characters, {vocab_size:d} unique.\")\n",
        "\n",
        "        self.stoi = { ch: i for i, ch in enumerate(chars) }\n",
        "        self.itos = { i: ch for i, ch in enumerate(chars) }\n",
        "        self.block_size = block_size\n",
        "        self.vocab_size = vocab_size\n",
        "        self.data = data\n",
        "\n",
        "    def __len__(self):\n",
        "        return len(self.data) - self.block_size\n",
        "\n",
        "    def __getitem__(self, idx):\n",
        "        # grab a chunk of (block_size + 1) characters from the data\n",
        "        chunk = self.data[idx:idx+self.block_size+1]\n",
        "        # encode every character to an integer\n",
        "        dix = [self.stoi[s] for s in chunk]\n",
        "        x = torch.tensor(dix[:-1], dtype=torch.long)\n",
        "        y = torch.tensor(dix[1:], dtype=torch.long)\n",
        "        return x, y"
      ],
      "metadata": {
        "id": "QAo6UYqiw6K-"
      },
      "execution_count": null,
      "outputs": []
    },
    {
      "cell_type": "code",
      "source": [
        "block_size=25"
      ],
      "metadata": {
        "id": "eYTuxmoXyEyO"
      },
      "execution_count": null,
      "outputs": []
    },
    {
      "cell_type": "code",
      "source": [
        "text = open('/content/drive/MyDrive/shakespeare.txt', 'r').read()\n",
        "train_dataset = CharDataset(text, block_size = 25) # 25 is for context storing"
      ],
      "metadata": {
        "colab": {
          "base_uri": "https://localhost:8080/"
        },
        "id": "HT9QQ4SnxGXJ",
        "outputId": "1a416781-723e-4710-e2e9-5c9c1b4c1084"
      },
      "execution_count": null,
      "outputs": [
        {
          "output_type": "stream",
          "name": "stdout",
          "text": [
            "data has 94275 characters, 61 unique.\n"
          ]
        }
      ]
    },
    {
      "cell_type": "markdown",
      "source": [
        "## Training with Modified architecture"
      ],
      "metadata": {
        "id": "okDLThHUxr8b"
      }
    },
    {
      "cell_type": "code",
      "source": [
        "trainable_model = GPT2_rope_slide_group()#initialsing our model for training\n",
        "trainable_model=trainable_model.to(device)"
      ],
      "metadata": {
        "id": "mE3kq6YExsp-"
      },
      "execution_count": null,
      "outputs": []
    },
    {
      "cell_type": "code",
      "source": [
        "tconf = TrainerConfig(\n",
        "    max_epochs=1,\n",
        "    batch_size=8,\n",
        "    learning_rate=6e-4,\n",
        "    lr_decay=True,\n",
        "    warmup_tokens=512,\n",
        "    final_tokens=2*len(train_dataset)*block_size,\n",
        "    num_workers=4,\n",
        ")\n",
        "trainer = Trainer(trainable_model, train_dataset, None, tconf)\n",
        "trainer.train()"
      ],
      "metadata": {
        "colab": {
          "base_uri": "https://localhost:8080/"
        },
        "id": "LGhvLnylxy5T",
        "outputId": "29c2d6c0-60bc-45ae-9580-a0e6ff9e5e15"
      },
      "execution_count": null,
      "outputs": [
        {
          "output_type": "stream",
          "name": "stderr",
          "text": [
            "epoch 1 iter 11781: train loss 0.34745, lr 3.000512e-04: 100%|██████████| 11782/11782 [31:10<00:00,  6.30it/s]\n"
          ]
        }
      ]
    },
    {
      "cell_type": "markdown",
      "source": [
        "## Training with original GPT-2 archiecture"
      ],
      "metadata": {
        "id": "rwkd8JvpF0mm"
      }
    },
    {
      "cell_type": "code",
      "source": [
        "trainable_model = GPT2()#initialsing our model for training\n",
        "trainable_model=trainable_model.to(device)"
      ],
      "metadata": {
        "id": "_XsSylf1F5Qw"
      },
      "execution_count": null,
      "outputs": []
    },
    {
      "cell_type": "code",
      "source": [
        "tconf = TrainerConfig(\n",
        "    max_epochs=1,\n",
        "    batch_size=8,\n",
        "    learning_rate=6e-4,\n",
        "    lr_decay=True,\n",
        "    warmup_tokens=512,\n",
        "    final_tokens=2*len(train_dataset)*block_size,\n",
        "    num_workers=4,\n",
        ")\n",
        "trainer = Trainer(trainable_model, train_dataset, None, tconf)\n",
        "trainer.train()"
      ],
      "metadata": {
        "colab": {
          "base_uri": "https://localhost:8080/"
        },
        "id": "AIBcQVOsF-0A",
        "outputId": "b2594da1-6233-49a2-ad94-77604a0f1ed4"
      },
      "execution_count": null,
      "outputs": [
        {
          "output_type": "stream",
          "name": "stderr",
          "text": [
            "/usr/local/lib/python3.10/dist-packages/torch/utils/data/dataloader.py:557: UserWarning: This DataLoader will create 4 worker processes in total. Our suggested max number of worker in current system is 2, which is smaller than what this DataLoader is going to create. Please be aware that excessive worker creation might get DataLoader running slow or even freeze, lower the worker number to avoid potential slowness/freeze if necessary.\n",
            "  warnings.warn(_create_warning_msg(\n",
            "epoch 1 iter 11781: train loss 0.21490, lr 3.000512e-04: 100%|██████████| 11782/11782 [24:48<00:00,  7.91it/s]\n"
          ]
        }
      ]
    },
    {
      "cell_type": "markdown",
      "source": [
        "## Inferencing our Modified Model"
      ],
      "metadata": {
        "id": "8vFtQ67k8ij8"
      }
    },
    {
      "cell_type": "code",
      "source": [
        "def top_k_logits(logits, k):\n",
        "    v, ix = torch.topk(logits, k)\n",
        "    out = logits.clone()\n",
        "    out[out < v[:, [-1]]] = -float(\"inf\")\n",
        "    return out"
      ],
      "metadata": {
        "id": "liPZRf-P8X1H"
      },
      "execution_count": null,
      "outputs": []
    },
    {
      "cell_type": "code",
      "source": [
        "def sample(model, x, steps, temperature=1.0, sample=False, top_k=None):\n",
        "    \"\"\"\n",
        "    take a conditioning sequence of indices in x (of shape (b, t)) and predict the next token in\n",
        "    the sequence, feeding the predictions back into the model each time. Clearly the sampling\n",
        "    has quadratic complexity unlike an RNN that is only linear, and has a finite context window\n",
        "    of block_size, unlike an RNN that has an infinite context window.\n",
        "    \"\"\"\n",
        "    block_size = 25\n",
        "    model.eval()\n",
        "    for k in range(steps):\n",
        "        x_cond = (\n",
        "            x if x.size(1) <= block_size else x[:, -block_size:]\n",
        "        )  # crop context if needed\n",
        "        logits = model(x_cond)\n",
        "        # pluck the logits at the final step and scale by temperature\n",
        "        logits = logits[:, -1, :] / temperature\n",
        "        # optionally crop probabilities to only the top k options\n",
        "        if top_k is not None:\n",
        "            logits = top_k_logits(logits, top_k)\n",
        "        # apply softmax to convert to probabilites\n",
        "        probs = F.softmax(logits, dim=-1)\n",
        "        # sample from the distribution or take the most likely\n",
        "        if sample:\n",
        "            ix = torch.multinomial(probs, num_samples=1)\n",
        "        else:\n",
        "            _, ix = torch.topk(probs, k=1, dim=-1)\n",
        "        # append to the sequence and continue\n",
        "        x = torch.cat((x, ix), dim=1)\n",
        "\n",
        "    return x"
      ],
      "metadata": {
        "id": "0pNFwPTFyJaw"
      },
      "execution_count": null,
      "outputs": []
    },
    {
      "cell_type": "code",
      "source": [
        "context = \"When are you going to change the diaper?\"\n",
        "\n",
        "# Check if each character in the context is in the vocabulary\n",
        "try:\n",
        "    indices = [train_dataset.stoi[s] for s in context]\n",
        "except KeyError as e:\n",
        "    print(f\"Error: Character '{str(e)}' not found in the vocabulary.\")\n",
        "    # Handle the error or skip this context\n",
        "\n",
        "# Convert the indices to a torch tensor\n",
        "x = torch.tensor(indices, dtype=torch.long)[None, ...].to(trainer.device)\n",
        "\n",
        "# Rest of your code...\n",
        "y = sample(trainable_model, x, 2000, temperature=1.0, sample=True, top_k=10)[0]\n",
        "completion = ''.join([train_dataset.itos[int(i)] for i in y])\n",
        "print(completion)"
      ],
      "metadata": {
        "colab": {
          "base_uri": "https://localhost:8080/"
        },
        "id": "QsyLs1qy7-pT",
        "outputId": "422000c3-7aa6-45b1-c726-384d9430b049"
      },
      "execution_count": null,
      "outputs": [
        {
          "output_type": "stream",
          "name": "stdout",
          "text": [
            "When are you going to change the diaper?m e\n",
            "ifns a etba eitleesl nse r:a r\n",
            "i fnti n Tm etseslsaesil gi tesi esm sepetde. \n",
            "T e hsepahd ot'ruestns hc eec tahte lso,l htel u tu hsasi hdtle it eps rpae hpteu,rs o rs aeulm,nto ers rsls e epi e fahde\n",
            "rsidte\n",
            "et eslfaesl sepa rsld laefie.hr\n",
            "rms\n",
            "oemsnedemce ae,n hr piplstpe otwrdetd.ue\n",
            "hser. r e\n",
            "o rs rs eiesr. \n",
            "r\n",
            "h eteu rde nslso slw etsls rsalsiesr:ie\n",
            "os\n",
            "e rs i sm esla oto fusls olwlsilsl,l\n",
            "oes rs fi eslnsrsiga,rig\n",
            "aiu smn eca oc o etlsoi,m otlys plites rs oahdiemg e h ahnslefatoeuys e wt hmnxesifxnuuler o i raesl\n",
            "r: e\n",
            "alts e lp eats ei r i rmeaecre ieusl,nl hde ptesr:e\n",
            "o rsueu,s r rsntuesl altog e,a e\n",
            "wt h at'rsa iuit rsne t'i rs h i rptrsnse\n",
            "adcnes e\n",
            "u ltepi,es h epafiemtse hsyte hsmte eprdts.o\n",
            "e\n",
            "hu s fi esl oes r hsl ilpiens,t\n",
            "ie smsep rsa ersatr ot rsoi,n h rpipia,ie slaeiyns hpatip tt eseprsi,m e\n",
            "apn'ts pesrsesdtde ot er fxmtsoeslsesae.r\n",
            "u e rts e. Nrsepet.ut\n",
            "hsrdt udsa reslne.ie\n",
            "asie rtpe\n",
            "hsaer,wae\n",
            "i nsc uetos o fslslwsls igvsetefxiettrs i hslseslsoes fvseysnsl tes hvlsaesatnes tde,t\n",
            "hu t'rs tauts r,o i ots s,a  raui etelrsnle ysl.\n",
            "al s\n",
            "olse\n",
            "ils e t edi si sl olvsnsalnsese,ihs ntt hn epta ot'rwlsoes r.u\n",
            "hsi sbrnpiese ae,wi rpa rnpa iipersisr pasr.id\n",
            "hdte\n",
            "hru peseehate prsuy,h r aerae r\n",
            "wsilmcdte ifx iit apisl i,s\n",
            "l efa rtb nsadeslsae otosuesns esde:a \n",
            "o h ehtese soeuts nsl.ae\n",
            "r rmsiesfiersnee usi,r ries oteus r:op\n",
            "r\n",
            "a rt. ohu i r.ae\n",
            "o r rdpie:t\n",
            "hs paets aeu retsi ntsl.e\n",
            "o hutosr; o i tus tlwsecesoes r:m\n",
            "auets edc ie ttwl otpuesil.s\n",
            "ae e\n",
            "rc i:n a r: ope\n",
            "op\n",
            "htruesietl ts e hsepiese psese re aprdbe etsls rsi esnsae r eu rtnsl iesls\n",
            "hsa al i ntwslses uetosr.o\n",
            " rt h i oe rsnslsm e:al iep rsi lsade?l.\n",
            "e\n",
            "r e fi rsl rslsigte,ae\n",
            "lyt p radip.a.\n",
            " \n",
            "u pni esc eslnfesr idte ie:h i sae o r rdts rwtl,ilpns ippmase'tts ht utsl'tlgi'a,s s esc lnxepe xtsesi xese ssise\n",
            "atvse ueu sr resad. T i tepxi ot prsi,m ota rits eo sm ahdi epsr:at\n",
            "a n oaeut'rsi ntsl,ys oefrsudt' nsr.he at. h hte ohsc otesiuesr:ie\n",
            "atlsytnl ltmsalsle ntsal sl ese smlets aepny rsl tptse\n",
            "hnsapcte,ac e\n",
            "o lte. \n"
          ]
        }
      ]
    },
    {
      "cell_type": "markdown",
      "source": [
        "Our model has been trained and giving some random outputs due to less number of epochs it was trained on and given a small context window"
      ],
      "metadata": {
        "id": "dnrr592NE32J"
      }
    },
    {
      "cell_type": "markdown",
      "source": [
        "## Inferencing the original model"
      ],
      "metadata": {
        "id": "PKDEtObfMP9h"
      }
    },
    {
      "cell_type": "code",
      "source": [
        "def top_k_logits(logits, k):\n",
        "    v, ix = torch.topk(logits, k)\n",
        "    out = logits.clone()\n",
        "    out[out < v[:, [-1]]] = -float(\"inf\")\n",
        "    return out"
      ],
      "metadata": {
        "id": "9-O2Eo3UMSL4"
      },
      "execution_count": null,
      "outputs": []
    },
    {
      "cell_type": "code",
      "source": [
        "def sample(model, x, steps, temperature=1.0, sample=False, top_k=None):\n",
        "    \"\"\"\n",
        "    take a conditioning sequence of indices in x (of shape (b, t)) and predict the next token in\n",
        "    the sequence, feeding the predictions back into the model each time. Clearly the sampling\n",
        "    has quadratic complexity unlike an RNN that is only linear, and has a finite context window\n",
        "    of block_size, unlike an RNN that has an infinite context window.\n",
        "    \"\"\"\n",
        "    block_size = 25\n",
        "    model.eval()\n",
        "    for k in range(steps):\n",
        "        x_cond = (\n",
        "            x if x.size(1) <= block_size else x[:, -block_size:]\n",
        "        )  # crop context if needed\n",
        "        logits = model(x_cond)\n",
        "        # pluck the logits at the final step and scale by temperature\n",
        "        logits = logits[:, -1, :] / temperature\n",
        "        # optionally crop probabilities to only the top k options\n",
        "        if top_k is not None:\n",
        "            logits = top_k_logits(logits, top_k)\n",
        "        # apply softmax to convert to probabilites\n",
        "        probs = F.softmax(logits, dim=-1)\n",
        "        # sample from the distribution or take the most likely\n",
        "        if sample:\n",
        "            ix = torch.multinomial(probs, num_samples=1)\n",
        "        else:\n",
        "            _, ix = torch.topk(probs, k=1, dim=-1)\n",
        "        # append to the sequence and continue\n",
        "        x = torch.cat((x, ix), dim=1)\n",
        "\n",
        "    return x"
      ],
      "metadata": {
        "id": "VcPHprTQMUrb"
      },
      "execution_count": null,
      "outputs": []
    },
    {
      "cell_type": "code",
      "source": [
        "context = \"When are you going to change the diaper?\"\n",
        "\n",
        "# Check if each character in the context is in the vocabulary\n",
        "try:\n",
        "    indices = [train_dataset.stoi[s] for s in context]\n",
        "except KeyError as e:\n",
        "    print(f\"Error: Character '{str(e)}' not found in the vocabulary.\")\n",
        "    # Handle the error or skip this context\n",
        "\n",
        "# Convert the indices to a torch tensor\n",
        "x = torch.tensor(indices, dtype=torch.long)[None, ...].to(trainer.device)\n",
        "\n",
        "# Rest of your code...\n",
        "y = sample(trainable_model, x, 2000, temperature=1.0, sample=True, top_k=10)[0]\n",
        "completion = ''.join([train_dataset.itos[int(i)] for i in y])\n",
        "print(completion)"
      ],
      "metadata": {
        "colab": {
          "base_uri": "https://localhost:8080/"
        },
        "id": "7AHPdXSZMa_E",
        "outputId": "20cabccb-3087-49c4-9e07-a7457c202a09"
      },
      "execution_count": null,
      "outputs": [
        {
          "output_type": "stream",
          "name": "stdout",
          "text": [
            "When are you going to change the diaper?dge the dddperrrrrrrrrrrrrrrrrrrrrrrrrrrrrrrrrrrrrrrrrrrrrrrrrrrrrrrrrrrrrrrrrrrrrrrrrrrrrrrrrrrrrrrrrrrrrrrrrrrrrrrrrrrrrrrrrrrrrrrrrrrrrrrrrrrrrrrrrrrrrrrrrrrrrrrrrrrrrrrrrrrrrrrrrrrrrrrrrrrrrrrrrrrrrrrrrrrrrrrrrrrrrrrrrrrrrrrrrrrrrrrrrrrrrrrrrrrrrrrrrrrrrrrrrrrrrrrrrrrrrrrrrrrrrrrrrrrrrrrrrrrrrrrrrrrrrrrrrrrrrrrrrrrrrrrrrrrrrrrrrrrrrrrrrrrrrrrrrrrrrrrrrrrrrrrrrrrrrrrrrrrrrrrrrrrrrrrrrrrrrrrrrrrrrrrrrrrrrrrrrrrrrrrrrrrrrrrrrrrrrrrrrrrrrrrrrrrrrrrrrrrrrrrrrrrrrrrrrrrrrrrrrrrrrrrrrrrrrrrrrrrrrrrrrrrrrrrrrrrrrrrrrrrrrrrrrrrrrrrrrrrrrrrrrrrrrrrrrrrrrrrrrrrrrrrrrrrrrrrrrrrrrrrrrrrrrrrrrrrrrrrrrrrrrrrrrrrrrrrrrrrrrrrrrrrrrrrrrrrrrrrrrrrrrrrrrrrrrrrrrrrrrrrrrrrrrrrrrrrrrrrrrrrrrrrrrrrrrrrrrrrrrrrrrrrrrrrrrrrrrrrrrrrrrrrrrrrrrrrrrrrrrrrrrrrrrrrrrrrrrrrrrrrrrrrrrrrrrrrrrrrrrrrrrrrrrrrrrrrrrrrrrrrrrrrrrrrrrrrrrrrrrrrrrrrrrrrrrrrrrrrrrrrrrrrrrrrrrrrrrrrrrrrrrrrrrrrrrrrrrrrrrrrrrrrrrrrrrrrrrrrrrrrrrrrrrrrrrrrrrrrrrrrrrrrrrrrrrrrrrrrrrrrrrrrrrrrrrrrrrrrrrrrrrrrrrrrrrrrrrrrrrrrrrrrrrrrrrrrrrrrrrrrrrrrrrrrrrrrrrrrrrrrrrrrrrrrrrrrrrrrrrrrrrrrrrrrrrrrrrrrrrrrrrrrrrrrrrrrrrrrrrrrrrrrrrrrrrrrrrrrrrrrrrrrrrrrrrrrrrrrrrrrrrrrrrrrrrrrrrrrrrrrrrrrrrrrrrrrrrrrrrrrrrrrrrrrrrrrrrrrrrrrrrrrrrrrrrrrrrrrrrrrrrrrrrrrrrrrrrrrrrrrrrrrrrrrrrrrrrrrrrrrrrrrrrrrrrrrrrrrrrrrrrrrrrrrrrrrrrrrrrrrrrrrrrrrrrrrrrrrrrrrrrrrrrrrrrrrrrrrrrrrrrrrrrrrrrrrrrrrrrrrrrrrrrrrrrrrrrrrrrrrrrrrrrrrrrrrrrrrrrrrrrrrrrrrrrrrrrrrrrrrrrrrrrrrrrrrrrrrrrrrrrrrrrrrrrrrrrrrrrrrrrrrrrrrrrrrrrrrrrrrrrrrrrrrrrrrrrrrrrrrrrrrrrrrrrrrrrrrrrrrrrrrrrrrrrrrrrrrrrrrrrrrrrrrrrrrrrrrrrrrrrrrrrrrrrrrrrrrrrrrrrrrrrrrrrrrrrrrrrrrrrrrrrrrrrrrrrrrrrrrrrrrrrrrrrrrrrrrrrrrrrrrrrrrrrrrrrrrrrrrrrrrrrrrrrrrrrrrrrrrrrrrrrrrrrrrrrrrrrrrrrrrrrrrrrrrrrrrrrrrrrrrrrrrrrrrrrrrrrrrrrrrrrrrrrrrrrrrrrrrrrrrrrrrrrrrrrrrrrrrrrrrrrrrrrrrrrrrrrrrrrrrrrrrrrrrrrrrrrrrrrrrrrrrrrrrrrrrrrrrrrrrrrrrrrrrrrrrrrrrrrrrrrrrrrrrrrrrrrrrrrrrrrrrrrrrrrrrrrrrrrrrrrrrrrrrrrrrrrrrrrrrrrrrrrrrrrrrrrrrrrrrrrrrrrrrrrrrrrrrrrrrrrrrrrrrrrrrrrrrrrrrrrrrrrrrrrrrrrrrrrrrrrrrrrrrrrrrrrrr\n"
          ]
        }
      ]
    },
    {
      "cell_type": "markdown",
      "source": [
        "So we can see that our new model has performed much better than the oirignal GPT-2 by introducing diversity as in my original implementation has sliding window context so that model got easily all the context even in a small context window of 25 but in original there was context there so it just completed with its limited vocablury, also the rotation embeddings helped in more of positionals retention and grouped query attention ensure the faster inference as you can see we had a far more big and diverse just inferenced in 1 minute and original one took 30 seconds just to repeat the words, showing if the above are properly implemented and trained would yield better results"
      ],
      "metadata": {
        "id": "Kxmlpel1Mn0c"
      }
    },
    {
      "cell_type": "markdown",
      "source": [
        "# Data Distributed Training"
      ],
      "metadata": {
        "id": "oKxFdTx4FDrC"
      }
    },
    {
      "cell_type": "code",
      "source": [
        "def setup(rank, world_size):\n",
        "    os.environ['MASTER_ADDR'] = 'localhost'\n",
        "    os.environ['MASTER_PORT'] = '12355'\n",
        "\n",
        "    # initialize the process group\n",
        "    dist.init_process_group(\"gloo\", rank=rank, world_size=world_size)"
      ],
      "metadata": {
        "id": "PxFTCocX8MQ6"
      },
      "execution_count": null,
      "outputs": []
    },
    {
      "cell_type": "code",
      "source": [
        "def cleanup():\n",
        "    dist.destroy_process_group()"
      ],
      "metadata": {
        "id": "KSzpRgnDnmYQ"
      },
      "execution_count": null,
      "outputs": []
    },
    {
      "cell_type": "code",
      "source": [
        "class Trainer_DDP:\n",
        "    def __init__(self, model, train_dataset, test_dataset, config,rank,world_size):\n",
        "        self.model = model\n",
        "        self.train_dataset = train_dataset\n",
        "        self.test_dataset = test_dataset\n",
        "        self.config = config\n",
        "        self.rank=rank\n",
        "        self.world_size=world_size\n",
        "\n",
        "        # take over whatever gpus are on the system\n",
        "        self.device = \"cpu\"\n",
        "        if torch.cuda.is_available():\n",
        "            self.device = torch.cuda.current_device()\n",
        "            self.model = torch.nn.DataParallel(self.model).to(self.device)\n",
        "\n",
        "    def save_checkpoint(self):\n",
        "        # DataParallel wrappers keep raw model object in .module attribute\n",
        "        raw_model = self.model.module if hasattr(self.model, \"module\") else self.model\n",
        "        logger.info(f\"saving {self.config.ckpt_path}\")\n",
        "        torch.save(raw_model.state_dict(), self.config.ckpt_path)\n",
        "\n",
        "    def train(self):\n",
        "        model, config = self.model, self.config#getting the model and training configurations\n",
        "        setup(self.rank, self.world_size)\n",
        "        model = model().to(self.rank)#moving the model to device\n",
        "        model = DDP(model, device_ids=[self.rank], output_device=self.rank, find_unused_parameters=True)#wrapping the model with DDP\n",
        "        raw_model = model.module if hasattr(self.model, \"module\") else model\n",
        "        self.optimizer = torch.optim.Adam(self.model.parameters(), lr=config.learning_rate)\n",
        "\n",
        "        def run_epoch(self,split):\n",
        "            print(\"running\")\n",
        "            is_train = split == \"train\"\n",
        "            model.train(is_train)\n",
        "            train_sampler=DistributedSampler(train_dataset, num_replicas=world_size, rank=self.rank, shuffle=False, drop_last=False)#making a distributed sampler for data parallel\n",
        "            data = self.train_dataset if is_train else self.test_dataset\n",
        "\n",
        "            self.loader = DataLoader(\n",
        "                data,\n",
        "                shuffle=True,\n",
        "                pin_memory=True,\n",
        "                batch_size=config.batch_size,\n",
        "                num_workers=config.num_workers,\n",
        "                sampler=train_sampler # adding this as sampler fr distributed data\n",
        "            )\n",
        "\n",
        "            losses = []\n",
        "            pbar = (\n",
        "                tqdm(enumerate(self.loader), total=len(self.loader))\n",
        "                if is_train\n",
        "                else enumerate(self.loader)\n",
        "            )\n",
        "            for it, (x, y) in pbar:\n",
        "\n",
        "                # place data on the correct device\n",
        "                x = x.to(self.device)\n",
        "                y = y.to(self.device)\n",
        "\n",
        "                # forward the model\n",
        "                with torch.set_grad_enabled(is_train):\n",
        "                    loss = model(x, y)  # The forward method returns the mean of the loss directly\n",
        "                    logits = model(x)\n",
        "                    losses.append(loss.item())\n",
        "\n",
        "                if is_train:\n",
        "\n",
        "                    # backprop and update the parameters\n",
        "                    model.zero_grad()\n",
        "                    loss.backward(retain_graph=True)\n",
        "                    torch.nn.utils.clip_grad_norm_(\n",
        "                        model.parameters(), config.grad_norm_clip\n",
        "                    )\n",
        "                    self.optimizer.step()\n",
        "\n",
        "                    # decay the learning rate based on our progress\n",
        "                    if config.lr_decay:\n",
        "                        self.tokens += (\n",
        "                            y >= 0\n",
        "                        ).sum()  # number of tokens processed this step (i.e. label is not -100)\n",
        "                        if self.tokens < config.warmup_tokens:\n",
        "                            # linear warmup\n",
        "                            lr_mult = float(self.tokens) / float(\n",
        "                                max(1, config.warmup_tokens)\n",
        "                            )\n",
        "                        else:\n",
        "                            # cosine learning rate decay\n",
        "                            progress = float(\n",
        "                                self.tokens - config.warmup_tokens\n",
        "                            ) / float(\n",
        "                                max(1, config.final_tokens - config.warmup_tokens)\n",
        "                            )\n",
        "                            lr_mult = max(\n",
        "                                0.1, 0.5 * (1.0 + math.cos(math.pi * progress))\n",
        "                            )\n",
        "                        lr = config.learning_rate * lr_mult\n",
        "                        for param_group in self.optimizer.param_groups:\n",
        "                            param_group[\"lr\"] = lr\n",
        "                    else:\n",
        "                        lr = config.learning_rate\n",
        "\n",
        "                    # repeat progress\n",
        "                    pbar.set_description(\n",
        "                        f\"epoch {epoch+1} iter {it}: train loss {loss.item():.5f}, lr {lr:e}\"\n",
        "                    )\n",
        "                    cleanup()#cleaning up all the the done files on all GPUs\n",
        "\n",
        "            if not is_train:\n",
        "                test_loss = float(np.mean(losses))\n",
        "                logger.info(f\"test loss: {test_loss}\")\n",
        "                return test_loss\n",
        "\n",
        "        best_loss = float(\"inf\")\n",
        "        self.tokens = 0  # counter used for learning rate decay\n",
        "        for epoch in range(config.max_epochs):\n",
        "            # if we are using DistributedSampler, we have to tell it which epoch this is\n",
        "            self.loader.sampler.set_epoch(epoch)\n",
        "            run_epoch(\"train\")\n",
        "            if self.test_dataset is not None:\n",
        "                test_loss = run_epoch(\"test\")\n",
        "\n",
        "            # supports early stopping based on the test loss, or just save always is no test set is provided\n",
        "            good_model = self.test_dataset is None or test_loss < best_loss\n",
        "            if self.config.ckpt_path is not None and good_model:\n",
        "                best_loss = test_loss if self.test_dataset is not None else float(\"inf\")\n",
        "                self.save_checkpoint()"
      ],
      "metadata": {
        "id": "tPY1Q-7GcBAj"
      },
      "execution_count": null,
      "outputs": []
    },
    {
      "cell_type": "code",
      "source": [
        "def init_process(rank,model,train_dataset,test_dataset,config, world_size):\n",
        "    torch.cuda.set_device(rank)\n",
        "    setup(rank, world_size)\n",
        "\n",
        "    # create model, datasets, etc.\n",
        "    trainer = Trainer_DDP(model, train_dataset, test_dataset, config, rank, world_size)\n",
        "    trainer.train()"
      ],
      "metadata": {
        "id": "cftxF5c2pa2t"
      },
      "execution_count": null,
      "outputs": []
    },
    {
      "cell_type": "markdown",
      "source": [
        "## Training our Model"
      ],
      "metadata": {
        "id": "CmLNhNKYoAW_"
      }
    },
    {
      "cell_type": "code",
      "source": [
        "trainable_model = GPT2_rope_slide_group()#initialsing our model for training"
      ],
      "metadata": {
        "id": "oS3NYO8GoBzt"
      },
      "execution_count": null,
      "outputs": []
    },
    {
      "cell_type": "code",
      "source": [
        "tconf = TrainerConfig(\n",
        "    max_epochs=1,\n",
        "    batch_size=8,\n",
        "    learning_rate=6e-4,\n",
        "    lr_decay=True,\n",
        "    warmup_tokens=512,\n",
        "    final_tokens=2*len(train_dataset)*block_size,\n",
        "    num_workers=4,\n",
        ")"
      ],
      "metadata": {
        "id": "QB9oOtN4qoyM"
      },
      "execution_count": null,
      "outputs": []
    },
    {
      "cell_type": "code",
      "source": [
        "# suppose we have 2 gpus\n",
        "world_size = 2\n",
        "mp.spawn(\n",
        "    init_process,\n",
        "    args=(trainable_model,train_dataset,None,tconf,world_size),\n",
        "    nprocs=world_size,\n",
        "    join=True\n",
        ")"
      ],
      "metadata": {
        "id": "KS6pkC5zoIQQ"
      },
      "execution_count": null,
      "outputs": []
    },
    {
      "cell_type": "markdown",
      "source": [
        "Execution not possible due to single GPU avaliability on google colab"
      ],
      "metadata": {
        "id": "DakibehO_Vdh"
      }
    },
    {
      "cell_type": "markdown",
      "source": [
        "# FSDP\n",
        "FSDP stands for Fully Sharded Data Parallel, it differs from DDP in that case the model needs to be fit on a single GPU and then there were copies being made and data was shared, while FSDP provides both model sharding and data parallelism so it helps in more optimzed model training Usually, model layers are wrapped with FSDP in a nested way, so that only layers in a single FSDP instance need to gather the full parameters to a single device during forward or backward computations\n"
      ],
      "metadata": {
        "id": "YxS4Iafgt2hZ"
      }
    },
    {
      "cell_type": "markdown",
      "source": [
        "## Training Our Model"
      ],
      "metadata": {
        "id": "IRV5Nk-WynM9"
      }
    },
    {
      "cell_type": "code",
      "source": [
        "class Trainer_FSDP:\n",
        "    def __init__(self, model, train_dataset, test_dataset, config, rank, world_size):\n",
        "        self.model = model\n",
        "        self.train_dataset = train_dataset\n",
        "        self.test_dataset = test_dataset\n",
        "        self.config = config\n",
        "        self.rank = rank\n",
        "        self.world_size = world_size\n",
        "\n",
        "        # Use available GPUs if present\n",
        "        self.device = \"cpu\"\n",
        "        if torch.cuda.is_available():\n",
        "            self.device = torch.cuda.current_device()\n",
        "            self.model = torch.nn.DataParallel(self.model).to(self.device)\n",
        "\n",
        "    def save_checkpoint(self):\n",
        "        # DataParallel wrappers keep raw model object in .module attribute\n",
        "        raw_model = self.model.module if hasattr(self.model, \"module\") else self.model\n",
        "        logger.info(f\"saving {self.config.ckpt_path}\")\n",
        "        torch.save(raw_model.state_dict(), self.config.ckpt_path)\n",
        "\n",
        "    def setup_ddp(self):\n",
        "        # Distributed Data Parallel setup\n",
        "        setup(self.rank, self.world_size)\n",
        "        self.model = self.model().to(self.rank)\n",
        "        self.model = DDP(self.model, device_ids=[self.rank], output_device=self.rank, find_unused_parameters=True)\n",
        "\n",
        "    def initialize_optimizer(self):\n",
        "        # Initialize optimizer\n",
        "        self.optimizer = torch.optim.Adam(self.model.parameters(), lr=self.config.learning_rate)\n",
        "\n",
        "    def run_epoch(self, split):\n",
        "        print(\"running\")\n",
        "        is_train = split == \"train\"\n",
        "        model.train(is_train)\n",
        "        train_sampler = DistributedSampler(train_dataset, num_replicas=world_size, rank=self.rank, shuffle=False, drop_last=False)\n",
        "        data = self.train_dataset if is_train else self.test_dataset\n",
        "\n",
        "        self.loader = DataLoader(\n",
        "            data,\n",
        "            shuffle=True,\n",
        "            pin_memory=True,\n",
        "            batch_size=self.config.batch_size,\n",
        "            num_workers=self.config.num_workers,\n",
        "            sampler=train_sampler\n",
        "        )\n",
        "        # Set up auto wrap policy for our model\n",
        "        my_auto_wrap_policy = functools.partial(\n",
        "            size_based_auto_wrap_policy, min_num_params=100\n",
        "        )\n",
        "        torch.cuda.set_device(rank)\n",
        "\n",
        "        # Starting and ending for our cuda event denoting when to allocate and free the memory\n",
        "        init_start_event = torch.cuda.Event(enable_timing=True)\n",
        "        init_end_event = torch.cuda.Event(enable_timing=True)\n",
        "\n",
        "        # Setting up FSDP on our model\n",
        "        model = FSDP(self.model)\n",
        "\n",
        "        losses = []\n",
        "        pbar = tqdm(enumerate(self.loader), total=len(self.loader)) if is_train else enumerate(self.loader)\n",
        "        for it, (x, y) in pbar:\n",
        "            # Place data on the correct device\n",
        "            x = x.to(self.device)\n",
        "            y = y.to(self.device)\n",
        "\n",
        "            # Forward the model\n",
        "            with torch.set_grad_enabled(is_train):\n",
        "                loss = model(x, y)\n",
        "                logits = model(x)\n",
        "                losses.append(loss.item())\n",
        "\n",
        "            if is_train:\n",
        "                # Backprop and update the parameters\n",
        "                model.zero_grad()\n",
        "                loss.backward(retain_graph=True)\n",
        "                torch.nn.utils.clip_grad_norm_(model.parameters(), self.config.grad_norm_clip)\n",
        "                self.optimizer.step()\n",
        "\n",
        "                # Decay the learning rate based on our progress\n",
        "                if self.config.lr_decay:\n",
        "                    self.tokens += (y >= 0).sum()\n",
        "                    if self.tokens < self.config.warmup_tokens:\n",
        "                        lr_mult = float(self.tokens) / float(max(1, self.config.warmup_tokens))\n",
        "                    else:\n",
        "                        progress = float(self.tokens - self.config.warmup_tokens) / float(\n",
        "                            max(1, self.config.final_tokens - self.config.warmup_tokens)\n",
        "                        )\n",
        "                        lr_mult = max(0.1, 0.5 * (1.0 + math.cos(math.pi * progress)))\n",
        "                    lr = self.config.learning_rate * lr_mult\n",
        "                    for param_group in self.optimizer.param_groups:\n",
        "                        param_group[\"lr\"] = lr\n",
        "                else:\n",
        "                    lr = self.config.learning_rate\n",
        "\n",
        "                pbar.set_description(f\"epoch {epoch+1} iter {it}: train loss {loss.item():.5f}, lr {lr:e}\")\n",
        "                cleanup()\n",
        "\n",
        "        if not is_train:\n",
        "            test_loss = float(np.mean(losses))\n",
        "            logger.info(f\"test loss: {test_loss}\")\n",
        "            return test_loss\n",
        "\n",
        "    def train(self):\n",
        "        self.setup_ddp()\n",
        "        self.initialize_optimizer()\n",
        "        best_loss = float(\"inf\")\n",
        "        self.tokens = 0  # Counter used for learning rate decay\n",
        "        for epoch in range(self.config.max_epochs):\n",
        "            # If we are using DistributedSampler, we have to tell it which epoch this is\n",
        "            self.loader.sampler.set_epoch(epoch)\n",
        "            self.run_epoch(\"train\")\n",
        "            if self.test_dataset is not None:\n",
        "                test_loss = self.run_epoch(\"test\")\n",
        "\n",
        "            # Supports early stopping based on the test loss, or just save always if no test set is provided\n",
        "            good_model = self.test_dataset is None or test_loss < best_loss\n",
        "            if self.config.ckpt_path is not None and good_model:\n",
        "                best_loss = test_loss if self.test_dataset is not None else float(\"inf\")\n",
        "                self.save_checkpoint()\n"
      ],
      "metadata": {
        "id": "kMHn5bz24KfQ"
      },
      "execution_count": null,
      "outputs": []
    },
    {
      "cell_type": "code",
      "source": [],
      "metadata": {
        "id": "PmORTS51-_4o"
      },
      "execution_count": null,
      "outputs": []
    },
    {
      "cell_type": "code",
      "source": [
        "trainable_model = GPT2_rope_slide_group()#initialsing our model for training"
      ],
      "metadata": {
        "id": "QmZ_kStUy3bp"
      },
      "execution_count": null,
      "outputs": []
    },
    {
      "cell_type": "code",
      "source": [
        "tconf = TrainerConfig(\n",
        "    max_epochs=1,\n",
        "    batch_size=8,\n",
        "    learning_rate=6e-4,\n",
        "    lr_decay=True,\n",
        "    warmup_tokens=512,\n",
        "    final_tokens=2*len(train_dataset)*block_size,\n",
        "    num_workers=4,\n",
        ")"
      ],
      "metadata": {
        "id": "Fst9HXyXxqYl"
      },
      "execution_count": null,
      "outputs": []
    },
    {
      "cell_type": "code",
      "source": [
        "# suppose we have 2 gpus\n",
        "world_size = 2\n",
        "mp.spawn(\n",
        "    init_process,\n",
        "    args=(trainable_model,train_dataset,None,tconf,world_size),\n",
        "    nprocs=world_size,\n",
        "    join=True\n",
        ")"
      ],
      "metadata": {
        "id": "x5djYks2xtFg"
      },
      "execution_count": null,
      "outputs": []
    },
    {
      "cell_type": "markdown",
      "source": [
        "Thanks for reading"
      ],
      "metadata": {
        "id": "ZyFHpu6vmxHb"
      }
    },
    {
      "cell_type": "code",
      "source": [],
      "metadata": {
        "id": "dMVfUwO4m18s"
      },
      "execution_count": null,
      "outputs": []
    }
  ]
}